{
 "cells": [
  {
   "cell_type": "markdown",
   "metadata": {},
   "source": [
    "# データサイエンス100本ノック（構造化データ加工編） - R"
   ]
  },
  {
   "cell_type": "markdown",
   "metadata": {
    "tags": []
   },
   "source": [
    "## はじめに\n",
    "- 初めに以下のセルを実行してください\n",
    "- 必要なライブラリのインポートとデータベース（PostgreSQL）からのデータ読み込みを行います\n",
    "- 利用が想定されるライブラリは以下セルでインポートしています\n",
    "- その他利用したいライブラリがあればinstall.packages()で適宜インストールしてください\n",
    "- 名前、住所等はダミーデータであり、実在するものではありません"
   ]
  },
  {
   "cell_type": "code",
   "execution_count": 2,
   "metadata": {},
   "outputs": [
    {
     "name": "stderr",
     "output_type": "stream",
     "text": [
      "Loading required package: RPostgreSQL\n",
      "\n",
      "Loading required package: DBI\n",
      "\n",
      "Loading required package: tidyr\n",
      "\n",
      "Loading required package: dplyr\n",
      "\n",
      "\n",
      "Attaching package: ‘dplyr’\n",
      "\n",
      "\n",
      "The following objects are masked from ‘package:stats’:\n",
      "\n",
      "    filter, lag\n",
      "\n",
      "\n",
      "The following objects are masked from ‘package:base’:\n",
      "\n",
      "    intersect, setdiff, setequal, union\n",
      "\n",
      "\n",
      "Loading required package: stringr\n",
      "\n",
      "Loading required package: caret\n",
      "\n",
      "Loading required package: ggplot2\n",
      "\n",
      "Loading required package: lattice\n",
      "\n",
      "Loading required package: lubridate\n",
      "\n",
      "\n",
      "Attaching package: ‘lubridate’\n",
      "\n",
      "\n",
      "The following objects are masked from ‘package:base’:\n",
      "\n",
      "    date, intersect, setdiff, union\n",
      "\n",
      "\n",
      "Loading required package: rsample\n",
      "\n",
      "Loading required package: recipes\n",
      "\n",
      "\n",
      "Attaching package: ‘recipes’\n",
      "\n",
      "\n",
      "The following object is masked from ‘package:stringr’:\n",
      "\n",
      "    fixed\n",
      "\n",
      "\n",
      "The following object is masked from ‘package:stats’:\n",
      "\n",
      "    step\n",
      "\n",
      "\n",
      "Loading required package: themis\n",
      "\n"
     ]
    }
   ],
   "source": [
    "require(\"RPostgreSQL\")\n",
    "require(\"tidyr\")\n",
    "require(\"dplyr\")\n",
    "require(\"stringr\")\n",
    "require(\"caret\")\n",
    "require(\"lubridate\")\n",
    "require(\"rsample\")\n",
    "require(\"recipes\")\n",
    "require(\"themis\")\n",
    "\n",
    "host <- \"db\"\n",
    "port <- Sys.getenv()[\"PG_PORT\"]\n",
    "dbname <- Sys.getenv()[\"PG_DATABASE\"]\n",
    "user <- Sys.getenv()[\"PG_USER\"]\n",
    "password <- Sys.getenv()[\"PG_PASSWORD\"]\n",
    "\n",
    "con <- dbConnect(PostgreSQL(), host=host, port=port, dbname=dbname, user=user, password=password)\n",
    "df_customer <- dbGetQuery(con,\"SELECT * FROM customer\")\n",
    "df_category <- dbGetQuery(con,\"SELECT * FROM category\")\n",
    "df_product <- dbGetQuery(con,\"SELECT * FROM product\")\n",
    "df_receipt <- dbGetQuery(con,\"SELECT * FROM receipt\")\n",
    "df_store <- dbGetQuery(con,\"SELECT * FROM store\")\n",
    "df_geocode <- dbGetQuery(con,\"SELECT * FROM geocode\")"
   ]
  },
  {
   "cell_type": "markdown",
   "metadata": {},
   "source": [
    "# 演習問題"
   ]
  },
  {
   "cell_type": "markdown",
   "metadata": {},
   "source": [
    "---\n",
    "> R-001: レシート明細データ（df_receipt）から全項目の先頭10件を表示し、どのようなデータを保有しているか目視で確認せよ。"
   ]
  },
  {
   "cell_type": "code",
   "execution_count": 3,
   "metadata": {},
   "outputs": [
    {
     "data": {
      "text/html": [
       "<table class=\"dataframe\">\n",
       "<caption>A data.frame: 10 × 9</caption>\n",
       "<thead>\n",
       "\t<tr><th></th><th scope=col>sales_ymd</th><th scope=col>sales_epoch</th><th scope=col>store_cd</th><th scope=col>receipt_no</th><th scope=col>receipt_sub_no</th><th scope=col>customer_id</th><th scope=col>product_cd</th><th scope=col>quantity</th><th scope=col>amount</th></tr>\n",
       "\t<tr><th></th><th scope=col>&lt;int&gt;</th><th scope=col>&lt;int&gt;</th><th scope=col>&lt;chr&gt;</th><th scope=col>&lt;int&gt;</th><th scope=col>&lt;int&gt;</th><th scope=col>&lt;chr&gt;</th><th scope=col>&lt;chr&gt;</th><th scope=col>&lt;int&gt;</th><th scope=col>&lt;int&gt;</th></tr>\n",
       "</thead>\n",
       "<tbody>\n",
       "\t<tr><th scope=row>1</th><td>20181103</td><td>1541203200</td><td>S14006</td><td> 112</td><td>1</td><td>CS006214000001</td><td>P070305012</td><td>1</td><td>158</td></tr>\n",
       "\t<tr><th scope=row>2</th><td>20181118</td><td>1542499200</td><td>S13008</td><td>1132</td><td>2</td><td>CS008415000097</td><td>P070701017</td><td>1</td><td> 81</td></tr>\n",
       "\t<tr><th scope=row>3</th><td>20170712</td><td>1499817600</td><td>S14028</td><td>1102</td><td>1</td><td>CS028414000014</td><td>P060101005</td><td>1</td><td>170</td></tr>\n",
       "\t<tr><th scope=row>4</th><td>20190205</td><td>1549324800</td><td>S14042</td><td>1132</td><td>1</td><td>ZZ000000000000</td><td>P050301001</td><td>1</td><td> 25</td></tr>\n",
       "\t<tr><th scope=row>5</th><td>20180821</td><td>1534809600</td><td>S14025</td><td>1102</td><td>2</td><td>CS025415000050</td><td>P060102007</td><td>1</td><td> 90</td></tr>\n",
       "\t<tr><th scope=row>6</th><td>20190605</td><td>1559692800</td><td>S13003</td><td>1112</td><td>1</td><td>CS003515000195</td><td>P050102002</td><td>1</td><td>138</td></tr>\n",
       "\t<tr><th scope=row>7</th><td>20181205</td><td>1543968000</td><td>S14024</td><td>1102</td><td>2</td><td>CS024514000042</td><td>P080101005</td><td>1</td><td> 30</td></tr>\n",
       "\t<tr><th scope=row>8</th><td>20190922</td><td>1569110400</td><td>S14040</td><td>1102</td><td>1</td><td>CS040415000178</td><td>P070501004</td><td>1</td><td>128</td></tr>\n",
       "\t<tr><th scope=row>9</th><td>20170504</td><td>1493856000</td><td>S13020</td><td>1112</td><td>2</td><td>ZZ000000000000</td><td>P071302010</td><td>1</td><td>770</td></tr>\n",
       "\t<tr><th scope=row>10</th><td>20191010</td><td>1570665600</td><td>S14027</td><td>1102</td><td>1</td><td>CS027514000015</td><td>P071101003</td><td>1</td><td>680</td></tr>\n",
       "</tbody>\n",
       "</table>\n"
      ],
      "text/latex": [
       "A data.frame: 10 × 9\n",
       "\\begin{tabular}{r|lllllllll}\n",
       "  & sales\\_ymd & sales\\_epoch & store\\_cd & receipt\\_no & receipt\\_sub\\_no & customer\\_id & product\\_cd & quantity & amount\\\\\n",
       "  & <int> & <int> & <chr> & <int> & <int> & <chr> & <chr> & <int> & <int>\\\\\n",
       "\\hline\n",
       "\t1 & 20181103 & 1541203200 & S14006 &  112 & 1 & CS006214000001 & P070305012 & 1 & 158\\\\\n",
       "\t2 & 20181118 & 1542499200 & S13008 & 1132 & 2 & CS008415000097 & P070701017 & 1 &  81\\\\\n",
       "\t3 & 20170712 & 1499817600 & S14028 & 1102 & 1 & CS028414000014 & P060101005 & 1 & 170\\\\\n",
       "\t4 & 20190205 & 1549324800 & S14042 & 1132 & 1 & ZZ000000000000 & P050301001 & 1 &  25\\\\\n",
       "\t5 & 20180821 & 1534809600 & S14025 & 1102 & 2 & CS025415000050 & P060102007 & 1 &  90\\\\\n",
       "\t6 & 20190605 & 1559692800 & S13003 & 1112 & 1 & CS003515000195 & P050102002 & 1 & 138\\\\\n",
       "\t7 & 20181205 & 1543968000 & S14024 & 1102 & 2 & CS024514000042 & P080101005 & 1 &  30\\\\\n",
       "\t8 & 20190922 & 1569110400 & S14040 & 1102 & 1 & CS040415000178 & P070501004 & 1 & 128\\\\\n",
       "\t9 & 20170504 & 1493856000 & S13020 & 1112 & 2 & ZZ000000000000 & P071302010 & 1 & 770\\\\\n",
       "\t10 & 20191010 & 1570665600 & S14027 & 1102 & 1 & CS027514000015 & P071101003 & 1 & 680\\\\\n",
       "\\end{tabular}\n"
      ],
      "text/markdown": [
       "\n",
       "A data.frame: 10 × 9\n",
       "\n",
       "| <!--/--> | sales_ymd &lt;int&gt; | sales_epoch &lt;int&gt; | store_cd &lt;chr&gt; | receipt_no &lt;int&gt; | receipt_sub_no &lt;int&gt; | customer_id &lt;chr&gt; | product_cd &lt;chr&gt; | quantity &lt;int&gt; | amount &lt;int&gt; |\n",
       "|---|---|---|---|---|---|---|---|---|---|\n",
       "| 1 | 20181103 | 1541203200 | S14006 |  112 | 1 | CS006214000001 | P070305012 | 1 | 158 |\n",
       "| 2 | 20181118 | 1542499200 | S13008 | 1132 | 2 | CS008415000097 | P070701017 | 1 |  81 |\n",
       "| 3 | 20170712 | 1499817600 | S14028 | 1102 | 1 | CS028414000014 | P060101005 | 1 | 170 |\n",
       "| 4 | 20190205 | 1549324800 | S14042 | 1132 | 1 | ZZ000000000000 | P050301001 | 1 |  25 |\n",
       "| 5 | 20180821 | 1534809600 | S14025 | 1102 | 2 | CS025415000050 | P060102007 | 1 |  90 |\n",
       "| 6 | 20190605 | 1559692800 | S13003 | 1112 | 1 | CS003515000195 | P050102002 | 1 | 138 |\n",
       "| 7 | 20181205 | 1543968000 | S14024 | 1102 | 2 | CS024514000042 | P080101005 | 1 |  30 |\n",
       "| 8 | 20190922 | 1569110400 | S14040 | 1102 | 1 | CS040415000178 | P070501004 | 1 | 128 |\n",
       "| 9 | 20170504 | 1493856000 | S13020 | 1112 | 2 | ZZ000000000000 | P071302010 | 1 | 770 |\n",
       "| 10 | 20191010 | 1570665600 | S14027 | 1102 | 1 | CS027514000015 | P071101003 | 1 | 680 |\n",
       "\n"
      ],
      "text/plain": [
       "   sales_ymd sales_epoch store_cd receipt_no receipt_sub_no customer_id   \n",
       "1  20181103  1541203200  S14006    112       1              CS006214000001\n",
       "2  20181118  1542499200  S13008   1132       2              CS008415000097\n",
       "3  20170712  1499817600  S14028   1102       1              CS028414000014\n",
       "4  20190205  1549324800  S14042   1132       1              ZZ000000000000\n",
       "5  20180821  1534809600  S14025   1102       2              CS025415000050\n",
       "6  20190605  1559692800  S13003   1112       1              CS003515000195\n",
       "7  20181205  1543968000  S14024   1102       2              CS024514000042\n",
       "8  20190922  1569110400  S14040   1102       1              CS040415000178\n",
       "9  20170504  1493856000  S13020   1112       2              ZZ000000000000\n",
       "10 20191010  1570665600  S14027   1102       1              CS027514000015\n",
       "   product_cd quantity amount\n",
       "1  P070305012 1        158   \n",
       "2  P070701017 1         81   \n",
       "3  P060101005 1        170   \n",
       "4  P050301001 1         25   \n",
       "5  P060102007 1         90   \n",
       "6  P050102002 1        138   \n",
       "7  P080101005 1         30   \n",
       "8  P070501004 1        128   \n",
       "9  P071302010 1        770   \n",
       "10 P071101003 1        680   "
      ]
     },
     "metadata": {},
     "output_type": "display_data"
    }
   ],
   "source": [
    "df_receipt %>% head(10)"
   ]
  },
  {
   "cell_type": "markdown",
   "metadata": {},
   "source": [
    "---\n",
    "> R-002: レシート明細データ（df_receipt）から売上年月日（sales_ymd）、顧客ID（customer_id）、商品コード（product_cd）、売上金額（amount）の順に列を指定し、10件表示せよ。"
   ]
  },
  {
   "cell_type": "code",
   "execution_count": 4,
   "metadata": {},
   "outputs": [
    {
     "data": {
      "text/html": [
       "<table class=\"dataframe\">\n",
       "<caption>A data.frame: 10 × 4</caption>\n",
       "<thead>\n",
       "\t<tr><th></th><th scope=col>sales_ymd</th><th scope=col>customer_id</th><th scope=col>product_cd</th><th scope=col>amount</th></tr>\n",
       "\t<tr><th></th><th scope=col>&lt;int&gt;</th><th scope=col>&lt;chr&gt;</th><th scope=col>&lt;chr&gt;</th><th scope=col>&lt;int&gt;</th></tr>\n",
       "</thead>\n",
       "<tbody>\n",
       "\t<tr><th scope=row>1</th><td>20181103</td><td>CS006214000001</td><td>P070305012</td><td>158</td></tr>\n",
       "\t<tr><th scope=row>2</th><td>20181118</td><td>CS008415000097</td><td>P070701017</td><td> 81</td></tr>\n",
       "\t<tr><th scope=row>3</th><td>20170712</td><td>CS028414000014</td><td>P060101005</td><td>170</td></tr>\n",
       "\t<tr><th scope=row>4</th><td>20190205</td><td>ZZ000000000000</td><td>P050301001</td><td> 25</td></tr>\n",
       "\t<tr><th scope=row>5</th><td>20180821</td><td>CS025415000050</td><td>P060102007</td><td> 90</td></tr>\n",
       "\t<tr><th scope=row>6</th><td>20190605</td><td>CS003515000195</td><td>P050102002</td><td>138</td></tr>\n",
       "\t<tr><th scope=row>7</th><td>20181205</td><td>CS024514000042</td><td>P080101005</td><td> 30</td></tr>\n",
       "\t<tr><th scope=row>8</th><td>20190922</td><td>CS040415000178</td><td>P070501004</td><td>128</td></tr>\n",
       "\t<tr><th scope=row>9</th><td>20170504</td><td>ZZ000000000000</td><td>P071302010</td><td>770</td></tr>\n",
       "\t<tr><th scope=row>10</th><td>20191010</td><td>CS027514000015</td><td>P071101003</td><td>680</td></tr>\n",
       "</tbody>\n",
       "</table>\n"
      ],
      "text/latex": [
       "A data.frame: 10 × 4\n",
       "\\begin{tabular}{r|llll}\n",
       "  & sales\\_ymd & customer\\_id & product\\_cd & amount\\\\\n",
       "  & <int> & <chr> & <chr> & <int>\\\\\n",
       "\\hline\n",
       "\t1 & 20181103 & CS006214000001 & P070305012 & 158\\\\\n",
       "\t2 & 20181118 & CS008415000097 & P070701017 &  81\\\\\n",
       "\t3 & 20170712 & CS028414000014 & P060101005 & 170\\\\\n",
       "\t4 & 20190205 & ZZ000000000000 & P050301001 &  25\\\\\n",
       "\t5 & 20180821 & CS025415000050 & P060102007 &  90\\\\\n",
       "\t6 & 20190605 & CS003515000195 & P050102002 & 138\\\\\n",
       "\t7 & 20181205 & CS024514000042 & P080101005 &  30\\\\\n",
       "\t8 & 20190922 & CS040415000178 & P070501004 & 128\\\\\n",
       "\t9 & 20170504 & ZZ000000000000 & P071302010 & 770\\\\\n",
       "\t10 & 20191010 & CS027514000015 & P071101003 & 680\\\\\n",
       "\\end{tabular}\n"
      ],
      "text/markdown": [
       "\n",
       "A data.frame: 10 × 4\n",
       "\n",
       "| <!--/--> | sales_ymd &lt;int&gt; | customer_id &lt;chr&gt; | product_cd &lt;chr&gt; | amount &lt;int&gt; |\n",
       "|---|---|---|---|---|\n",
       "| 1 | 20181103 | CS006214000001 | P070305012 | 158 |\n",
       "| 2 | 20181118 | CS008415000097 | P070701017 |  81 |\n",
       "| 3 | 20170712 | CS028414000014 | P060101005 | 170 |\n",
       "| 4 | 20190205 | ZZ000000000000 | P050301001 |  25 |\n",
       "| 5 | 20180821 | CS025415000050 | P060102007 |  90 |\n",
       "| 6 | 20190605 | CS003515000195 | P050102002 | 138 |\n",
       "| 7 | 20181205 | CS024514000042 | P080101005 |  30 |\n",
       "| 8 | 20190922 | CS040415000178 | P070501004 | 128 |\n",
       "| 9 | 20170504 | ZZ000000000000 | P071302010 | 770 |\n",
       "| 10 | 20191010 | CS027514000015 | P071101003 | 680 |\n",
       "\n"
      ],
      "text/plain": [
       "   sales_ymd customer_id    product_cd amount\n",
       "1  20181103  CS006214000001 P070305012 158   \n",
       "2  20181118  CS008415000097 P070701017  81   \n",
       "3  20170712  CS028414000014 P060101005 170   \n",
       "4  20190205  ZZ000000000000 P050301001  25   \n",
       "5  20180821  CS025415000050 P060102007  90   \n",
       "6  20190605  CS003515000195 P050102002 138   \n",
       "7  20181205  CS024514000042 P080101005  30   \n",
       "8  20190922  CS040415000178 P070501004 128   \n",
       "9  20170504  ZZ000000000000 P071302010 770   \n",
       "10 20191010  CS027514000015 P071101003 680   "
      ]
     },
     "metadata": {},
     "output_type": "display_data"
    }
   ],
   "source": [
    "df_receipt %>% select(sales_ymd, customer_id, product_cd, amount) %>% head(10)"
   ]
  },
  {
   "cell_type": "markdown",
   "metadata": {},
   "source": [
    "---\n",
    "> R-003: レシート明細データ（df_receipt）から売上年月日（sales_ymd）、顧客ID（customer_id）、商品コード（product_cd）、売上金額（amount）の順に列を指定し、10件表示せよ。ただし、sales_ymdをsales_dateに項目名を変更しながら抽出すること。"
   ]
  },
  {
   "cell_type": "code",
   "execution_count": 5,
   "metadata": {},
   "outputs": [
    {
     "data": {
      "text/html": [
       "<table class=\"dataframe\">\n",
       "<caption>A data.frame: 10 × 4</caption>\n",
       "<thead>\n",
       "\t<tr><th></th><th scope=col>sales_date</th><th scope=col>customer_id</th><th scope=col>product_cd</th><th scope=col>amount</th></tr>\n",
       "\t<tr><th></th><th scope=col>&lt;int&gt;</th><th scope=col>&lt;chr&gt;</th><th scope=col>&lt;chr&gt;</th><th scope=col>&lt;int&gt;</th></tr>\n",
       "</thead>\n",
       "<tbody>\n",
       "\t<tr><th scope=row>1</th><td>20181103</td><td>CS006214000001</td><td>P070305012</td><td>158</td></tr>\n",
       "\t<tr><th scope=row>2</th><td>20181118</td><td>CS008415000097</td><td>P070701017</td><td> 81</td></tr>\n",
       "\t<tr><th scope=row>3</th><td>20170712</td><td>CS028414000014</td><td>P060101005</td><td>170</td></tr>\n",
       "\t<tr><th scope=row>4</th><td>20190205</td><td>ZZ000000000000</td><td>P050301001</td><td> 25</td></tr>\n",
       "\t<tr><th scope=row>5</th><td>20180821</td><td>CS025415000050</td><td>P060102007</td><td> 90</td></tr>\n",
       "\t<tr><th scope=row>6</th><td>20190605</td><td>CS003515000195</td><td>P050102002</td><td>138</td></tr>\n",
       "\t<tr><th scope=row>7</th><td>20181205</td><td>CS024514000042</td><td>P080101005</td><td> 30</td></tr>\n",
       "\t<tr><th scope=row>8</th><td>20190922</td><td>CS040415000178</td><td>P070501004</td><td>128</td></tr>\n",
       "\t<tr><th scope=row>9</th><td>20170504</td><td>ZZ000000000000</td><td>P071302010</td><td>770</td></tr>\n",
       "\t<tr><th scope=row>10</th><td>20191010</td><td>CS027514000015</td><td>P071101003</td><td>680</td></tr>\n",
       "</tbody>\n",
       "</table>\n"
      ],
      "text/latex": [
       "A data.frame: 10 × 4\n",
       "\\begin{tabular}{r|llll}\n",
       "  & sales\\_date & customer\\_id & product\\_cd & amount\\\\\n",
       "  & <int> & <chr> & <chr> & <int>\\\\\n",
       "\\hline\n",
       "\t1 & 20181103 & CS006214000001 & P070305012 & 158\\\\\n",
       "\t2 & 20181118 & CS008415000097 & P070701017 &  81\\\\\n",
       "\t3 & 20170712 & CS028414000014 & P060101005 & 170\\\\\n",
       "\t4 & 20190205 & ZZ000000000000 & P050301001 &  25\\\\\n",
       "\t5 & 20180821 & CS025415000050 & P060102007 &  90\\\\\n",
       "\t6 & 20190605 & CS003515000195 & P050102002 & 138\\\\\n",
       "\t7 & 20181205 & CS024514000042 & P080101005 &  30\\\\\n",
       "\t8 & 20190922 & CS040415000178 & P070501004 & 128\\\\\n",
       "\t9 & 20170504 & ZZ000000000000 & P071302010 & 770\\\\\n",
       "\t10 & 20191010 & CS027514000015 & P071101003 & 680\\\\\n",
       "\\end{tabular}\n"
      ],
      "text/markdown": [
       "\n",
       "A data.frame: 10 × 4\n",
       "\n",
       "| <!--/--> | sales_date &lt;int&gt; | customer_id &lt;chr&gt; | product_cd &lt;chr&gt; | amount &lt;int&gt; |\n",
       "|---|---|---|---|---|\n",
       "| 1 | 20181103 | CS006214000001 | P070305012 | 158 |\n",
       "| 2 | 20181118 | CS008415000097 | P070701017 |  81 |\n",
       "| 3 | 20170712 | CS028414000014 | P060101005 | 170 |\n",
       "| 4 | 20190205 | ZZ000000000000 | P050301001 |  25 |\n",
       "| 5 | 20180821 | CS025415000050 | P060102007 |  90 |\n",
       "| 6 | 20190605 | CS003515000195 | P050102002 | 138 |\n",
       "| 7 | 20181205 | CS024514000042 | P080101005 |  30 |\n",
       "| 8 | 20190922 | CS040415000178 | P070501004 | 128 |\n",
       "| 9 | 20170504 | ZZ000000000000 | P071302010 | 770 |\n",
       "| 10 | 20191010 | CS027514000015 | P071101003 | 680 |\n",
       "\n"
      ],
      "text/plain": [
       "   sales_date customer_id    product_cd amount\n",
       "1  20181103   CS006214000001 P070305012 158   \n",
       "2  20181118   CS008415000097 P070701017  81   \n",
       "3  20170712   CS028414000014 P060101005 170   \n",
       "4  20190205   ZZ000000000000 P050301001  25   \n",
       "5  20180821   CS025415000050 P060102007  90   \n",
       "6  20190605   CS003515000195 P050102002 138   \n",
       "7  20181205   CS024514000042 P080101005  30   \n",
       "8  20190922   CS040415000178 P070501004 128   \n",
       "9  20170504   ZZ000000000000 P071302010 770   \n",
       "10 20191010   CS027514000015 P071101003 680   "
      ]
     },
     "metadata": {},
     "output_type": "display_data"
    }
   ],
   "source": [
    "df_receipt %>% select(sales_ymd, customer_id, product_cd, amount) %>% head(10) %>% rename(\"sales_date\" = sales_ymd)"
   ]
  },
  {
   "cell_type": "markdown",
   "metadata": {},
   "source": [
    "---\n",
    "> R-004: レシート明細データ（df_receipt）から売上日（sales_ymd）、顧客ID（customer_id）、商品コード（product_cd）、売上金額（amount）の順に列を指定し、以下の条件を満たすデータを抽出せよ。\n",
    "> - 顧客ID（customer_id）が\"CS018205000001\""
   ]
  },
  {
   "cell_type": "code",
   "execution_count": 6,
   "metadata": {},
   "outputs": [
    {
     "data": {
      "text/html": [
       "<table class=\"dataframe\">\n",
       "<caption>A data.frame: 12 × 4</caption>\n",
       "<thead>\n",
       "\t<tr><th scope=col>sales_ymd</th><th scope=col>customer_id</th><th scope=col>product_cd</th><th scope=col>amount</th></tr>\n",
       "\t<tr><th scope=col>&lt;int&gt;</th><th scope=col>&lt;chr&gt;</th><th scope=col>&lt;chr&gt;</th><th scope=col>&lt;int&gt;</th></tr>\n",
       "</thead>\n",
       "<tbody>\n",
       "\t<tr><td>20180911</td><td>CS018205000001</td><td>P071401012</td><td>2200</td></tr>\n",
       "\t<tr><td>20180414</td><td>CS018205000001</td><td>P060104007</td><td> 600</td></tr>\n",
       "\t<tr><td>20170614</td><td>CS018205000001</td><td>P050206001</td><td> 990</td></tr>\n",
       "\t<tr><td>20170614</td><td>CS018205000001</td><td>P060702015</td><td> 108</td></tr>\n",
       "\t<tr><td>20190216</td><td>CS018205000001</td><td>P071005024</td><td> 102</td></tr>\n",
       "\t<tr><td>20180414</td><td>CS018205000001</td><td>P071101002</td><td> 278</td></tr>\n",
       "\t<tr><td>20190226</td><td>CS018205000001</td><td>P070902035</td><td> 168</td></tr>\n",
       "\t<tr><td>20190924</td><td>CS018205000001</td><td>P060805001</td><td> 495</td></tr>\n",
       "\t<tr><td>20190226</td><td>CS018205000001</td><td>P071401020</td><td>2200</td></tr>\n",
       "\t<tr><td>20180911</td><td>CS018205000001</td><td>P071401005</td><td>1100</td></tr>\n",
       "\t<tr><td>20190216</td><td>CS018205000001</td><td>P040101002</td><td> 218</td></tr>\n",
       "\t<tr><td>20190924</td><td>CS018205000001</td><td>P091503001</td><td> 280</td></tr>\n",
       "</tbody>\n",
       "</table>\n"
      ],
      "text/latex": [
       "A data.frame: 12 × 4\n",
       "\\begin{tabular}{llll}\n",
       " sales\\_ymd & customer\\_id & product\\_cd & amount\\\\\n",
       " <int> & <chr> & <chr> & <int>\\\\\n",
       "\\hline\n",
       "\t 20180911 & CS018205000001 & P071401012 & 2200\\\\\n",
       "\t 20180414 & CS018205000001 & P060104007 &  600\\\\\n",
       "\t 20170614 & CS018205000001 & P050206001 &  990\\\\\n",
       "\t 20170614 & CS018205000001 & P060702015 &  108\\\\\n",
       "\t 20190216 & CS018205000001 & P071005024 &  102\\\\\n",
       "\t 20180414 & CS018205000001 & P071101002 &  278\\\\\n",
       "\t 20190226 & CS018205000001 & P070902035 &  168\\\\\n",
       "\t 20190924 & CS018205000001 & P060805001 &  495\\\\\n",
       "\t 20190226 & CS018205000001 & P071401020 & 2200\\\\\n",
       "\t 20180911 & CS018205000001 & P071401005 & 1100\\\\\n",
       "\t 20190216 & CS018205000001 & P040101002 &  218\\\\\n",
       "\t 20190924 & CS018205000001 & P091503001 &  280\\\\\n",
       "\\end{tabular}\n"
      ],
      "text/markdown": [
       "\n",
       "A data.frame: 12 × 4\n",
       "\n",
       "| sales_ymd &lt;int&gt; | customer_id &lt;chr&gt; | product_cd &lt;chr&gt; | amount &lt;int&gt; |\n",
       "|---|---|---|---|\n",
       "| 20180911 | CS018205000001 | P071401012 | 2200 |\n",
       "| 20180414 | CS018205000001 | P060104007 |  600 |\n",
       "| 20170614 | CS018205000001 | P050206001 |  990 |\n",
       "| 20170614 | CS018205000001 | P060702015 |  108 |\n",
       "| 20190216 | CS018205000001 | P071005024 |  102 |\n",
       "| 20180414 | CS018205000001 | P071101002 |  278 |\n",
       "| 20190226 | CS018205000001 | P070902035 |  168 |\n",
       "| 20190924 | CS018205000001 | P060805001 |  495 |\n",
       "| 20190226 | CS018205000001 | P071401020 | 2200 |\n",
       "| 20180911 | CS018205000001 | P071401005 | 1100 |\n",
       "| 20190216 | CS018205000001 | P040101002 |  218 |\n",
       "| 20190924 | CS018205000001 | P091503001 |  280 |\n",
       "\n"
      ],
      "text/plain": [
       "   sales_ymd customer_id    product_cd amount\n",
       "1  20180911  CS018205000001 P071401012 2200  \n",
       "2  20180414  CS018205000001 P060104007  600  \n",
       "3  20170614  CS018205000001 P050206001  990  \n",
       "4  20170614  CS018205000001 P060702015  108  \n",
       "5  20190216  CS018205000001 P071005024  102  \n",
       "6  20180414  CS018205000001 P071101002  278  \n",
       "7  20190226  CS018205000001 P070902035  168  \n",
       "8  20190924  CS018205000001 P060805001  495  \n",
       "9  20190226  CS018205000001 P071401020 2200  \n",
       "10 20180911  CS018205000001 P071401005 1100  \n",
       "11 20190216  CS018205000001 P040101002  218  \n",
       "12 20190924  CS018205000001 P091503001  280  "
      ]
     },
     "metadata": {},
     "output_type": "display_data"
    }
   ],
   "source": [
    "df_receipt %>% select(sales_ymd, customer_id, product_cd, amount) %>% filter(customer_id == \"CS018205000001\")"
   ]
  },
  {
   "cell_type": "markdown",
   "metadata": {},
   "source": [
    "---\n",
    "> R-005: レシート明細データ（df_receipt）から売上日（sales_ymd）、顧客ID（customer_id）、商品コード（product_cd）、売上金額（amount）の順に列を指定し、以下の全ての条件を満たすデータを抽出せよ。\n",
    "> - 顧客ID（customer_id）が\"CS018205000001\"\n",
    "> - 売上金額（amount）が1,000以上"
   ]
  },
  {
   "cell_type": "code",
   "execution_count": 7,
   "metadata": {},
   "outputs": [
    {
     "data": {
      "text/html": [
       "<table class=\"dataframe\">\n",
       "<caption>A data.frame: 3 × 4</caption>\n",
       "<thead>\n",
       "\t<tr><th scope=col>sales_ymd</th><th scope=col>customer_id</th><th scope=col>product_cd</th><th scope=col>amount</th></tr>\n",
       "\t<tr><th scope=col>&lt;int&gt;</th><th scope=col>&lt;chr&gt;</th><th scope=col>&lt;chr&gt;</th><th scope=col>&lt;int&gt;</th></tr>\n",
       "</thead>\n",
       "<tbody>\n",
       "\t<tr><td>20180911</td><td>CS018205000001</td><td>P071401012</td><td>2200</td></tr>\n",
       "\t<tr><td>20190226</td><td>CS018205000001</td><td>P071401020</td><td>2200</td></tr>\n",
       "\t<tr><td>20180911</td><td>CS018205000001</td><td>P071401005</td><td>1100</td></tr>\n",
       "</tbody>\n",
       "</table>\n"
      ],
      "text/latex": [
       "A data.frame: 3 × 4\n",
       "\\begin{tabular}{llll}\n",
       " sales\\_ymd & customer\\_id & product\\_cd & amount\\\\\n",
       " <int> & <chr> & <chr> & <int>\\\\\n",
       "\\hline\n",
       "\t 20180911 & CS018205000001 & P071401012 & 2200\\\\\n",
       "\t 20190226 & CS018205000001 & P071401020 & 2200\\\\\n",
       "\t 20180911 & CS018205000001 & P071401005 & 1100\\\\\n",
       "\\end{tabular}\n"
      ],
      "text/markdown": [
       "\n",
       "A data.frame: 3 × 4\n",
       "\n",
       "| sales_ymd &lt;int&gt; | customer_id &lt;chr&gt; | product_cd &lt;chr&gt; | amount &lt;int&gt; |\n",
       "|---|---|---|---|\n",
       "| 20180911 | CS018205000001 | P071401012 | 2200 |\n",
       "| 20190226 | CS018205000001 | P071401020 | 2200 |\n",
       "| 20180911 | CS018205000001 | P071401005 | 1100 |\n",
       "\n"
      ],
      "text/plain": [
       "  sales_ymd customer_id    product_cd amount\n",
       "1 20180911  CS018205000001 P071401012 2200  \n",
       "2 20190226  CS018205000001 P071401020 2200  \n",
       "3 20180911  CS018205000001 P071401005 1100  "
      ]
     },
     "metadata": {},
     "output_type": "display_data"
    }
   ],
   "source": [
    "df_receipt %>% select(sales_ymd, customer_id, product_cd, amount) %>% filter(customer_id == \"CS018205000001\" & amount >= 1000) "
   ]
  },
  {
   "cell_type": "markdown",
   "metadata": {},
   "source": [
    "---\n",
    "> R-006: レシート明細データ（df_receipt）から売上日（sales_ymd）、顧客ID（customer_id）、商品コード（product_cd）、売上数量（quantity）、売上金額（amount）の順に列を指定し、以下の全ての条件を満たすデータを抽出せよ。\n",
    "> - 顧客ID（customer_id）が\"CS018205000001\"\n",
    "> - 売上金額（amount）が1,000以上または売上数量（quantity）が5以上"
   ]
  },
  {
   "cell_type": "code",
   "execution_count": 8,
   "metadata": {},
   "outputs": [
    {
     "data": {
      "text/html": [
       "<table class=\"dataframe\">\n",
       "<caption>A data.frame: 5 × 5</caption>\n",
       "<thead>\n",
       "\t<tr><th scope=col>sales_ymd</th><th scope=col>customer_id</th><th scope=col>product_cd</th><th scope=col>quantity</th><th scope=col>amount</th></tr>\n",
       "\t<tr><th scope=col>&lt;int&gt;</th><th scope=col>&lt;chr&gt;</th><th scope=col>&lt;chr&gt;</th><th scope=col>&lt;int&gt;</th><th scope=col>&lt;int&gt;</th></tr>\n",
       "</thead>\n",
       "<tbody>\n",
       "\t<tr><td>20180911</td><td>CS018205000001</td><td>P071401012</td><td>1</td><td>2200</td></tr>\n",
       "\t<tr><td>20180414</td><td>CS018205000001</td><td>P060104007</td><td>6</td><td> 600</td></tr>\n",
       "\t<tr><td>20170614</td><td>CS018205000001</td><td>P050206001</td><td>5</td><td> 990</td></tr>\n",
       "\t<tr><td>20190226</td><td>CS018205000001</td><td>P071401020</td><td>1</td><td>2200</td></tr>\n",
       "\t<tr><td>20180911</td><td>CS018205000001</td><td>P071401005</td><td>1</td><td>1100</td></tr>\n",
       "</tbody>\n",
       "</table>\n"
      ],
      "text/latex": [
       "A data.frame: 5 × 5\n",
       "\\begin{tabular}{lllll}\n",
       " sales\\_ymd & customer\\_id & product\\_cd & quantity & amount\\\\\n",
       " <int> & <chr> & <chr> & <int> & <int>\\\\\n",
       "\\hline\n",
       "\t 20180911 & CS018205000001 & P071401012 & 1 & 2200\\\\\n",
       "\t 20180414 & CS018205000001 & P060104007 & 6 &  600\\\\\n",
       "\t 20170614 & CS018205000001 & P050206001 & 5 &  990\\\\\n",
       "\t 20190226 & CS018205000001 & P071401020 & 1 & 2200\\\\\n",
       "\t 20180911 & CS018205000001 & P071401005 & 1 & 1100\\\\\n",
       "\\end{tabular}\n"
      ],
      "text/markdown": [
       "\n",
       "A data.frame: 5 × 5\n",
       "\n",
       "| sales_ymd &lt;int&gt; | customer_id &lt;chr&gt; | product_cd &lt;chr&gt; | quantity &lt;int&gt; | amount &lt;int&gt; |\n",
       "|---|---|---|---|---|\n",
       "| 20180911 | CS018205000001 | P071401012 | 1 | 2200 |\n",
       "| 20180414 | CS018205000001 | P060104007 | 6 |  600 |\n",
       "| 20170614 | CS018205000001 | P050206001 | 5 |  990 |\n",
       "| 20190226 | CS018205000001 | P071401020 | 1 | 2200 |\n",
       "| 20180911 | CS018205000001 | P071401005 | 1 | 1100 |\n",
       "\n"
      ],
      "text/plain": [
       "  sales_ymd customer_id    product_cd quantity amount\n",
       "1 20180911  CS018205000001 P071401012 1        2200  \n",
       "2 20180414  CS018205000001 P060104007 6         600  \n",
       "3 20170614  CS018205000001 P050206001 5         990  \n",
       "4 20190226  CS018205000001 P071401020 1        2200  \n",
       "5 20180911  CS018205000001 P071401005 1        1100  "
      ]
     },
     "metadata": {},
     "output_type": "display_data"
    }
   ],
   "source": [
    "df_receipt %>% select(sales_ymd, customer_id, product_cd, quantity, amount) %>% filter(customer_id == \"CS018205000001\" & (amount >= 1000 | quantity >= 5))"
   ]
  },
  {
   "cell_type": "markdown",
   "metadata": {},
   "source": [
    "---\n",
    "> R-007: レシート明細データ（df_receipt）から売上日（sales_ymd）、顧客ID（customer_id）、商品コード（product_cd）、売上金額（amount）の順に列を指定し、以下の全ての条件を満たすデータを抽出せよ。\n",
    "> - 顧客ID（customer_id）が\"CS018205000001\"\n",
    "> - 売上金額（amount）が1,000以上2,000以下"
   ]
  },
  {
   "cell_type": "code",
   "execution_count": 9,
   "metadata": {},
   "outputs": [
    {
     "data": {
      "text/html": [
       "<table class=\"dataframe\">\n",
       "<caption>A data.frame: 1 × 4</caption>\n",
       "<thead>\n",
       "\t<tr><th scope=col>sales_ymd</th><th scope=col>customer_id</th><th scope=col>product_cd</th><th scope=col>amount</th></tr>\n",
       "\t<tr><th scope=col>&lt;int&gt;</th><th scope=col>&lt;chr&gt;</th><th scope=col>&lt;chr&gt;</th><th scope=col>&lt;int&gt;</th></tr>\n",
       "</thead>\n",
       "<tbody>\n",
       "\t<tr><td>20180911</td><td>CS018205000001</td><td>P071401005</td><td>1100</td></tr>\n",
       "</tbody>\n",
       "</table>\n"
      ],
      "text/latex": [
       "A data.frame: 1 × 4\n",
       "\\begin{tabular}{llll}\n",
       " sales\\_ymd & customer\\_id & product\\_cd & amount\\\\\n",
       " <int> & <chr> & <chr> & <int>\\\\\n",
       "\\hline\n",
       "\t 20180911 & CS018205000001 & P071401005 & 1100\\\\\n",
       "\\end{tabular}\n"
      ],
      "text/markdown": [
       "\n",
       "A data.frame: 1 × 4\n",
       "\n",
       "| sales_ymd &lt;int&gt; | customer_id &lt;chr&gt; | product_cd &lt;chr&gt; | amount &lt;int&gt; |\n",
       "|---|---|---|---|\n",
       "| 20180911 | CS018205000001 | P071401005 | 1100 |\n",
       "\n"
      ],
      "text/plain": [
       "  sales_ymd customer_id    product_cd amount\n",
       "1 20180911  CS018205000001 P071401005 1100  "
      ]
     },
     "metadata": {},
     "output_type": "display_data"
    }
   ],
   "source": [
    "df_receipt %>% select(sales_ymd, customer_id, product_cd, amount) %>% filter(customer_id == \"CS018205000001\" & 1000 <= amount & amount <= 2000) "
   ]
  },
  {
   "cell_type": "markdown",
   "metadata": {},
   "source": [
    "---\n",
    "> R-008: レシート明細データ（df_receipt）から売上日（sales_ymd）、顧客ID（customer_id）、商品コード（product_cd）、売上金額（amount）の順に列を指定し、以下の全ての条件を満たすデータを抽出せよ。\n",
    "> - 顧客ID（customer_id）が\"CS018205000001\"\n",
    "> - 商品コード（product_cd）が\"P071401019\"以外"
   ]
  },
  {
   "cell_type": "code",
   "execution_count": 10,
   "metadata": {},
   "outputs": [
    {
     "data": {
      "text/html": [
       "<table class=\"dataframe\">\n",
       "<caption>A data.frame: 12 × 4</caption>\n",
       "<thead>\n",
       "\t<tr><th scope=col>sales_ymd</th><th scope=col>customer_id</th><th scope=col>product_cd</th><th scope=col>amount</th></tr>\n",
       "\t<tr><th scope=col>&lt;int&gt;</th><th scope=col>&lt;chr&gt;</th><th scope=col>&lt;chr&gt;</th><th scope=col>&lt;int&gt;</th></tr>\n",
       "</thead>\n",
       "<tbody>\n",
       "\t<tr><td>20180911</td><td>CS018205000001</td><td>P071401012</td><td>2200</td></tr>\n",
       "\t<tr><td>20180414</td><td>CS018205000001</td><td>P060104007</td><td> 600</td></tr>\n",
       "\t<tr><td>20170614</td><td>CS018205000001</td><td>P050206001</td><td> 990</td></tr>\n",
       "\t<tr><td>20170614</td><td>CS018205000001</td><td>P060702015</td><td> 108</td></tr>\n",
       "\t<tr><td>20190216</td><td>CS018205000001</td><td>P071005024</td><td> 102</td></tr>\n",
       "\t<tr><td>20180414</td><td>CS018205000001</td><td>P071101002</td><td> 278</td></tr>\n",
       "\t<tr><td>20190226</td><td>CS018205000001</td><td>P070902035</td><td> 168</td></tr>\n",
       "\t<tr><td>20190924</td><td>CS018205000001</td><td>P060805001</td><td> 495</td></tr>\n",
       "\t<tr><td>20190226</td><td>CS018205000001</td><td>P071401020</td><td>2200</td></tr>\n",
       "\t<tr><td>20180911</td><td>CS018205000001</td><td>P071401005</td><td>1100</td></tr>\n",
       "\t<tr><td>20190216</td><td>CS018205000001</td><td>P040101002</td><td> 218</td></tr>\n",
       "\t<tr><td>20190924</td><td>CS018205000001</td><td>P091503001</td><td> 280</td></tr>\n",
       "</tbody>\n",
       "</table>\n"
      ],
      "text/latex": [
       "A data.frame: 12 × 4\n",
       "\\begin{tabular}{llll}\n",
       " sales\\_ymd & customer\\_id & product\\_cd & amount\\\\\n",
       " <int> & <chr> & <chr> & <int>\\\\\n",
       "\\hline\n",
       "\t 20180911 & CS018205000001 & P071401012 & 2200\\\\\n",
       "\t 20180414 & CS018205000001 & P060104007 &  600\\\\\n",
       "\t 20170614 & CS018205000001 & P050206001 &  990\\\\\n",
       "\t 20170614 & CS018205000001 & P060702015 &  108\\\\\n",
       "\t 20190216 & CS018205000001 & P071005024 &  102\\\\\n",
       "\t 20180414 & CS018205000001 & P071101002 &  278\\\\\n",
       "\t 20190226 & CS018205000001 & P070902035 &  168\\\\\n",
       "\t 20190924 & CS018205000001 & P060805001 &  495\\\\\n",
       "\t 20190226 & CS018205000001 & P071401020 & 2200\\\\\n",
       "\t 20180911 & CS018205000001 & P071401005 & 1100\\\\\n",
       "\t 20190216 & CS018205000001 & P040101002 &  218\\\\\n",
       "\t 20190924 & CS018205000001 & P091503001 &  280\\\\\n",
       "\\end{tabular}\n"
      ],
      "text/markdown": [
       "\n",
       "A data.frame: 12 × 4\n",
       "\n",
       "| sales_ymd &lt;int&gt; | customer_id &lt;chr&gt; | product_cd &lt;chr&gt; | amount &lt;int&gt; |\n",
       "|---|---|---|---|\n",
       "| 20180911 | CS018205000001 | P071401012 | 2200 |\n",
       "| 20180414 | CS018205000001 | P060104007 |  600 |\n",
       "| 20170614 | CS018205000001 | P050206001 |  990 |\n",
       "| 20170614 | CS018205000001 | P060702015 |  108 |\n",
       "| 20190216 | CS018205000001 | P071005024 |  102 |\n",
       "| 20180414 | CS018205000001 | P071101002 |  278 |\n",
       "| 20190226 | CS018205000001 | P070902035 |  168 |\n",
       "| 20190924 | CS018205000001 | P060805001 |  495 |\n",
       "| 20190226 | CS018205000001 | P071401020 | 2200 |\n",
       "| 20180911 | CS018205000001 | P071401005 | 1100 |\n",
       "| 20190216 | CS018205000001 | P040101002 |  218 |\n",
       "| 20190924 | CS018205000001 | P091503001 |  280 |\n",
       "\n"
      ],
      "text/plain": [
       "   sales_ymd customer_id    product_cd amount\n",
       "1  20180911  CS018205000001 P071401012 2200  \n",
       "2  20180414  CS018205000001 P060104007  600  \n",
       "3  20170614  CS018205000001 P050206001  990  \n",
       "4  20170614  CS018205000001 P060702015  108  \n",
       "5  20190216  CS018205000001 P071005024  102  \n",
       "6  20180414  CS018205000001 P071101002  278  \n",
       "7  20190226  CS018205000001 P070902035  168  \n",
       "8  20190924  CS018205000001 P060805001  495  \n",
       "9  20190226  CS018205000001 P071401020 2200  \n",
       "10 20180911  CS018205000001 P071401005 1100  \n",
       "11 20190216  CS018205000001 P040101002  218  \n",
       "12 20190924  CS018205000001 P091503001  280  "
      ]
     },
     "metadata": {},
     "output_type": "display_data"
    }
   ],
   "source": [
    "df_receipt %>% select(sales_ymd, customer_id, product_cd, amount) %>% filter(customer_id == \"CS018205000001\" & product_cd != \"P071401019\") "
   ]
  },
  {
   "cell_type": "markdown",
   "metadata": {},
   "source": [
    "---\n",
    "> R-009: 以下の処理において、出力結果を変えずにORをANDに書き換えよ。\n",
    "\n",
    "`df_store %>% filter(!(prefecture_cd == \"13\" | floor_area > 900))`"
   ]
  },
  {
   "cell_type": "code",
   "execution_count": 11,
   "metadata": {},
   "outputs": [
    {
     "data": {
      "text/html": [
       "<table class=\"dataframe\">\n",
       "<caption>A data.frame: 3 × 10</caption>\n",
       "<thead>\n",
       "\t<tr><th scope=col>store_cd</th><th scope=col>store_name</th><th scope=col>prefecture_cd</th><th scope=col>prefecture</th><th scope=col>address</th><th scope=col>address_kana</th><th scope=col>tel_no</th><th scope=col>longitude</th><th scope=col>latitude</th><th scope=col>floor_area</th></tr>\n",
       "\t<tr><th scope=col>&lt;chr&gt;</th><th scope=col>&lt;chr&gt;</th><th scope=col>&lt;chr&gt;</th><th scope=col>&lt;chr&gt;</th><th scope=col>&lt;chr&gt;</th><th scope=col>&lt;chr&gt;</th><th scope=col>&lt;chr&gt;</th><th scope=col>&lt;dbl&gt;</th><th scope=col>&lt;dbl&gt;</th><th scope=col>&lt;dbl&gt;</th></tr>\n",
       "</thead>\n",
       "<tbody>\n",
       "\t<tr><td>S14046</td><td>北山田店  </td><td>14</td><td>神奈川県</td><td>神奈川県横浜市都筑区北山田一丁目  </td><td>カナガワケンヨコハマシツヅキクキタヤマタイッチョウメ        </td><td>045-123-4049</td><td>139.5916</td><td>35.56189</td><td>831</td></tr>\n",
       "\t<tr><td>S14011</td><td>日吉本町店</td><td>14</td><td>神奈川県</td><td>神奈川県横浜市港北区日吉本町四丁目</td><td>カナガワケンヨコハマシコウホククヒヨシホンチョウヨンチョウメ</td><td>045-123-4033</td><td>139.6316</td><td>35.54655</td><td>890</td></tr>\n",
       "\t<tr><td>S12013</td><td>習志野店  </td><td>12</td><td>千葉県  </td><td>千葉県習志野市芝園一丁目          </td><td>チバケンナラシノシシバゾノイッチョウメ                      </td><td>047-123-4002</td><td>140.0220</td><td>35.66122</td><td>808</td></tr>\n",
       "</tbody>\n",
       "</table>\n"
      ],
      "text/latex": [
       "A data.frame: 3 × 10\n",
       "\\begin{tabular}{llllllllll}\n",
       " store\\_cd & store\\_name & prefecture\\_cd & prefecture & address & address\\_kana & tel\\_no & longitude & latitude & floor\\_area\\\\\n",
       " <chr> & <chr> & <chr> & <chr> & <chr> & <chr> & <chr> & <dbl> & <dbl> & <dbl>\\\\\n",
       "\\hline\n",
       "\t S14046 & 北山田店   & 14 & 神奈川県 & 神奈川県横浜市都筑区北山田一丁目   & カナガワケンヨコハマシツヅキクキタヤマタイッチョウメ         & 045-123-4049 & 139.5916 & 35.56189 & 831\\\\\n",
       "\t S14011 & 日吉本町店 & 14 & 神奈川県 & 神奈川県横浜市港北区日吉本町四丁目 & カナガワケンヨコハマシコウホククヒヨシホンチョウヨンチョウメ & 045-123-4033 & 139.6316 & 35.54655 & 890\\\\\n",
       "\t S12013 & 習志野店   & 12 & 千葉県   & 千葉県習志野市芝園一丁目           & チバケンナラシノシシバゾノイッチョウメ                       & 047-123-4002 & 140.0220 & 35.66122 & 808\\\\\n",
       "\\end{tabular}\n"
      ],
      "text/markdown": [
       "\n",
       "A data.frame: 3 × 10\n",
       "\n",
       "| store_cd &lt;chr&gt; | store_name &lt;chr&gt; | prefecture_cd &lt;chr&gt; | prefecture &lt;chr&gt; | address &lt;chr&gt; | address_kana &lt;chr&gt; | tel_no &lt;chr&gt; | longitude &lt;dbl&gt; | latitude &lt;dbl&gt; | floor_area &lt;dbl&gt; |\n",
       "|---|---|---|---|---|---|---|---|---|---|\n",
       "| S14046 | 北山田店   | 14 | 神奈川県 | 神奈川県横浜市都筑区北山田一丁目   | カナガワケンヨコハマシツヅキクキタヤマタイッチョウメ         | 045-123-4049 | 139.5916 | 35.56189 | 831 |\n",
       "| S14011 | 日吉本町店 | 14 | 神奈川県 | 神奈川県横浜市港北区日吉本町四丁目 | カナガワケンヨコハマシコウホククヒヨシホンチョウヨンチョウメ | 045-123-4033 | 139.6316 | 35.54655 | 890 |\n",
       "| S12013 | 習志野店   | 12 | 千葉県   | 千葉県習志野市芝園一丁目           | チバケンナラシノシシバゾノイッチョウメ                       | 047-123-4002 | 140.0220 | 35.66122 | 808 |\n",
       "\n"
      ],
      "text/plain": [
       "  store_cd store_name prefecture_cd prefecture\n",
       "1 S14046   北山田店   14            神奈川県  \n",
       "2 S14011   日吉本町店 14            神奈川県  \n",
       "3 S12013   習志野店   12            千葉県    \n",
       "  address                           \n",
       "1 神奈川県横浜市都筑区北山田一丁目  \n",
       "2 神奈川県横浜市港北区日吉本町四丁目\n",
       "3 千葉県習志野市芝園一丁目          \n",
       "  address_kana                                                 tel_no      \n",
       "1 カナガワケンヨコハマシツヅキクキタヤマタイッチョウメ         045-123-4049\n",
       "2 カナガワケンヨコハマシコウホククヒヨシホンチョウヨンチョウメ 045-123-4033\n",
       "3 チバケンナラシノシシバゾノイッチョウメ                       047-123-4002\n",
       "  longitude latitude floor_area\n",
       "1 139.5916  35.56189 831       \n",
       "2 139.6316  35.54655 890       \n",
       "3 140.0220  35.66122 808       "
      ]
     },
     "metadata": {},
     "output_type": "display_data"
    }
   ],
   "source": [
    "df_store %>% filter(prefecture_cd != \"13\" & floor_area <= 900)"
   ]
  },
  {
   "cell_type": "markdown",
   "metadata": {},
   "source": [
    "---\n",
    "> R-010: 店舗データ（df_store）から、店舗コード（store_cd）が\"S14\"で始まるものだけ全項目抽出し、10件表示せよ。"
   ]
  },
  {
   "cell_type": "code",
   "execution_count": 12,
   "metadata": {},
   "outputs": [
    {
     "data": {
      "text/html": [
       "<table class=\"dataframe\">\n",
       "<caption>A data.frame: 10 × 10</caption>\n",
       "<thead>\n",
       "\t<tr><th></th><th scope=col>store_cd</th><th scope=col>store_name</th><th scope=col>prefecture_cd</th><th scope=col>prefecture</th><th scope=col>address</th><th scope=col>address_kana</th><th scope=col>tel_no</th><th scope=col>longitude</th><th scope=col>latitude</th><th scope=col>floor_area</th></tr>\n",
       "\t<tr><th></th><th scope=col>&lt;chr&gt;</th><th scope=col>&lt;chr&gt;</th><th scope=col>&lt;chr&gt;</th><th scope=col>&lt;chr&gt;</th><th scope=col>&lt;chr&gt;</th><th scope=col>&lt;chr&gt;</th><th scope=col>&lt;chr&gt;</th><th scope=col>&lt;dbl&gt;</th><th scope=col>&lt;dbl&gt;</th><th scope=col>&lt;dbl&gt;</th></tr>\n",
       "</thead>\n",
       "<tbody>\n",
       "\t<tr><th scope=row>1</th><td>S14010</td><td>菊名店      </td><td>14</td><td>神奈川県</td><td>神奈川県横浜市港北区菊名一丁目        </td><td>カナガワケンヨコハマシコウホククキクナイッチョウメ          </td><td>045-123-4032</td><td>139.6326</td><td>35.50049</td><td>1732</td></tr>\n",
       "\t<tr><th scope=row>2</th><td>S14033</td><td>阿久和店    </td><td>14</td><td>神奈川県</td><td>神奈川県横浜市瀬谷区阿久和西一丁目    </td><td>カナガワケンヨコハマシセヤクアクワニシイッチョウメ          </td><td>045-123-4043</td><td>139.4961</td><td>35.45918</td><td>1495</td></tr>\n",
       "\t<tr><th scope=row>3</th><td>S14036</td><td>相模原中央店</td><td>14</td><td>神奈川県</td><td>神奈川県相模原市中央二丁目            </td><td>カナガワケンサガミハラシチュウオウニチョウメ                </td><td>042-123-4045</td><td>139.3716</td><td>35.57327</td><td>1679</td></tr>\n",
       "\t<tr><th scope=row>4</th><td>S14040</td><td>長津田店    </td><td>14</td><td>神奈川県</td><td>神奈川県横浜市緑区長津田みなみ台五丁目</td><td>カナガワケンヨコハマシミドリクナガツタミナミダイゴチョウメ  </td><td>045-123-4046</td><td>139.4994</td><td>35.52398</td><td>1548</td></tr>\n",
       "\t<tr><th scope=row>5</th><td>S14050</td><td>阿久和西店  </td><td>14</td><td>神奈川県</td><td>神奈川県横浜市瀬谷区阿久和西一丁目    </td><td>カナガワケンヨコハマシセヤクアクワニシイッチョウメ          </td><td>045-123-4053</td><td>139.4961</td><td>35.45918</td><td>1830</td></tr>\n",
       "\t<tr><th scope=row>6</th><td>S14028</td><td>二ツ橋店    </td><td>14</td><td>神奈川県</td><td>神奈川県横浜市瀬谷区二ツ橋町          </td><td>カナガワケンヨコハマシセヤクフタツバシチョウ                </td><td>045-123-4042</td><td>139.4963</td><td>35.46304</td><td>1574</td></tr>\n",
       "\t<tr><th scope=row>7</th><td>S14012</td><td>本牧和田店  </td><td>14</td><td>神奈川県</td><td>神奈川県横浜市中区本牧和田            </td><td>カナガワケンヨコハマシナカクホンモクワダ                    </td><td>045-123-4034</td><td>139.6582</td><td>35.42156</td><td>1341</td></tr>\n",
       "\t<tr><th scope=row>8</th><td>S14046</td><td>北山田店    </td><td>14</td><td>神奈川県</td><td>神奈川県横浜市都筑区北山田一丁目      </td><td>カナガワケンヨコハマシツヅキクキタヤマタイッチョウメ        </td><td>045-123-4049</td><td>139.5916</td><td>35.56189</td><td> 831</td></tr>\n",
       "\t<tr><th scope=row>9</th><td>S14022</td><td>逗子店      </td><td>14</td><td>神奈川県</td><td>神奈川県逗子市逗子一丁目              </td><td>カナガワケンズシシズシイッチョウメ                          </td><td>046-123-4036</td><td>139.5789</td><td>35.29642</td><td>1838</td></tr>\n",
       "\t<tr><th scope=row>10</th><td>S14011</td><td>日吉本町店  </td><td>14</td><td>神奈川県</td><td>神奈川県横浜市港北区日吉本町四丁目    </td><td>カナガワケンヨコハマシコウホククヒヨシホンチョウヨンチョウメ</td><td>045-123-4033</td><td>139.6316</td><td>35.54655</td><td> 890</td></tr>\n",
       "</tbody>\n",
       "</table>\n"
      ],
      "text/latex": [
       "A data.frame: 10 × 10\n",
       "\\begin{tabular}{r|llllllllll}\n",
       "  & store\\_cd & store\\_name & prefecture\\_cd & prefecture & address & address\\_kana & tel\\_no & longitude & latitude & floor\\_area\\\\\n",
       "  & <chr> & <chr> & <chr> & <chr> & <chr> & <chr> & <chr> & <dbl> & <dbl> & <dbl>\\\\\n",
       "\\hline\n",
       "\t1 & S14010 & 菊名店       & 14 & 神奈川県 & 神奈川県横浜市港北区菊名一丁目         & カナガワケンヨコハマシコウホククキクナイッチョウメ           & 045-123-4032 & 139.6326 & 35.50049 & 1732\\\\\n",
       "\t2 & S14033 & 阿久和店     & 14 & 神奈川県 & 神奈川県横浜市瀬谷区阿久和西一丁目     & カナガワケンヨコハマシセヤクアクワニシイッチョウメ           & 045-123-4043 & 139.4961 & 35.45918 & 1495\\\\\n",
       "\t3 & S14036 & 相模原中央店 & 14 & 神奈川県 & 神奈川県相模原市中央二丁目             & カナガワケンサガミハラシチュウオウニチョウメ                 & 042-123-4045 & 139.3716 & 35.57327 & 1679\\\\\n",
       "\t4 & S14040 & 長津田店     & 14 & 神奈川県 & 神奈川県横浜市緑区長津田みなみ台五丁目 & カナガワケンヨコハマシミドリクナガツタミナミダイゴチョウメ   & 045-123-4046 & 139.4994 & 35.52398 & 1548\\\\\n",
       "\t5 & S14050 & 阿久和西店   & 14 & 神奈川県 & 神奈川県横浜市瀬谷区阿久和西一丁目     & カナガワケンヨコハマシセヤクアクワニシイッチョウメ           & 045-123-4053 & 139.4961 & 35.45918 & 1830\\\\\n",
       "\t6 & S14028 & 二ツ橋店     & 14 & 神奈川県 & 神奈川県横浜市瀬谷区二ツ橋町           & カナガワケンヨコハマシセヤクフタツバシチョウ                 & 045-123-4042 & 139.4963 & 35.46304 & 1574\\\\\n",
       "\t7 & S14012 & 本牧和田店   & 14 & 神奈川県 & 神奈川県横浜市中区本牧和田             & カナガワケンヨコハマシナカクホンモクワダ                     & 045-123-4034 & 139.6582 & 35.42156 & 1341\\\\\n",
       "\t8 & S14046 & 北山田店     & 14 & 神奈川県 & 神奈川県横浜市都筑区北山田一丁目       & カナガワケンヨコハマシツヅキクキタヤマタイッチョウメ         & 045-123-4049 & 139.5916 & 35.56189 &  831\\\\\n",
       "\t9 & S14022 & 逗子店       & 14 & 神奈川県 & 神奈川県逗子市逗子一丁目               & カナガワケンズシシズシイッチョウメ                           & 046-123-4036 & 139.5789 & 35.29642 & 1838\\\\\n",
       "\t10 & S14011 & 日吉本町店   & 14 & 神奈川県 & 神奈川県横浜市港北区日吉本町四丁目     & カナガワケンヨコハマシコウホククヒヨシホンチョウヨンチョウメ & 045-123-4033 & 139.6316 & 35.54655 &  890\\\\\n",
       "\\end{tabular}\n"
      ],
      "text/markdown": [
       "\n",
       "A data.frame: 10 × 10\n",
       "\n",
       "| <!--/--> | store_cd &lt;chr&gt; | store_name &lt;chr&gt; | prefecture_cd &lt;chr&gt; | prefecture &lt;chr&gt; | address &lt;chr&gt; | address_kana &lt;chr&gt; | tel_no &lt;chr&gt; | longitude &lt;dbl&gt; | latitude &lt;dbl&gt; | floor_area &lt;dbl&gt; |\n",
       "|---|---|---|---|---|---|---|---|---|---|---|\n",
       "| 1 | S14010 | 菊名店       | 14 | 神奈川県 | 神奈川県横浜市港北区菊名一丁目         | カナガワケンヨコハマシコウホククキクナイッチョウメ           | 045-123-4032 | 139.6326 | 35.50049 | 1732 |\n",
       "| 2 | S14033 | 阿久和店     | 14 | 神奈川県 | 神奈川県横浜市瀬谷区阿久和西一丁目     | カナガワケンヨコハマシセヤクアクワニシイッチョウメ           | 045-123-4043 | 139.4961 | 35.45918 | 1495 |\n",
       "| 3 | S14036 | 相模原中央店 | 14 | 神奈川県 | 神奈川県相模原市中央二丁目             | カナガワケンサガミハラシチュウオウニチョウメ                 | 042-123-4045 | 139.3716 | 35.57327 | 1679 |\n",
       "| 4 | S14040 | 長津田店     | 14 | 神奈川県 | 神奈川県横浜市緑区長津田みなみ台五丁目 | カナガワケンヨコハマシミドリクナガツタミナミダイゴチョウメ   | 045-123-4046 | 139.4994 | 35.52398 | 1548 |\n",
       "| 5 | S14050 | 阿久和西店   | 14 | 神奈川県 | 神奈川県横浜市瀬谷区阿久和西一丁目     | カナガワケンヨコハマシセヤクアクワニシイッチョウメ           | 045-123-4053 | 139.4961 | 35.45918 | 1830 |\n",
       "| 6 | S14028 | 二ツ橋店     | 14 | 神奈川県 | 神奈川県横浜市瀬谷区二ツ橋町           | カナガワケンヨコハマシセヤクフタツバシチョウ                 | 045-123-4042 | 139.4963 | 35.46304 | 1574 |\n",
       "| 7 | S14012 | 本牧和田店   | 14 | 神奈川県 | 神奈川県横浜市中区本牧和田             | カナガワケンヨコハマシナカクホンモクワダ                     | 045-123-4034 | 139.6582 | 35.42156 | 1341 |\n",
       "| 8 | S14046 | 北山田店     | 14 | 神奈川県 | 神奈川県横浜市都筑区北山田一丁目       | カナガワケンヨコハマシツヅキクキタヤマタイッチョウメ         | 045-123-4049 | 139.5916 | 35.56189 |  831 |\n",
       "| 9 | S14022 | 逗子店       | 14 | 神奈川県 | 神奈川県逗子市逗子一丁目               | カナガワケンズシシズシイッチョウメ                           | 046-123-4036 | 139.5789 | 35.29642 | 1838 |\n",
       "| 10 | S14011 | 日吉本町店   | 14 | 神奈川県 | 神奈川県横浜市港北区日吉本町四丁目     | カナガワケンヨコハマシコウホククヒヨシホンチョウヨンチョウメ | 045-123-4033 | 139.6316 | 35.54655 |  890 |\n",
       "\n"
      ],
      "text/plain": [
       "   store_cd store_name   prefecture_cd prefecture\n",
       "1  S14010   菊名店       14            神奈川県  \n",
       "2  S14033   阿久和店     14            神奈川県  \n",
       "3  S14036   相模原中央店 14            神奈川県  \n",
       "4  S14040   長津田店     14            神奈川県  \n",
       "5  S14050   阿久和西店   14            神奈川県  \n",
       "6  S14028   二ツ橋店     14            神奈川県  \n",
       "7  S14012   本牧和田店   14            神奈川県  \n",
       "8  S14046   北山田店     14            神奈川県  \n",
       "9  S14022   逗子店       14            神奈川県  \n",
       "10 S14011   日吉本町店   14            神奈川県  \n",
       "   address                               \n",
       "1  神奈川県横浜市港北区菊名一丁目        \n",
       "2  神奈川県横浜市瀬谷区阿久和西一丁目    \n",
       "3  神奈川県相模原市中央二丁目            \n",
       "4  神奈川県横浜市緑区長津田みなみ台五丁目\n",
       "5  神奈川県横浜市瀬谷区阿久和西一丁目    \n",
       "6  神奈川県横浜市瀬谷区二ツ橋町          \n",
       "7  神奈川県横浜市中区本牧和田            \n",
       "8  神奈川県横浜市都筑区北山田一丁目      \n",
       "9  神奈川県逗子市逗子一丁目              \n",
       "10 神奈川県横浜市港北区日吉本町四丁目    \n",
       "   address_kana                                                 tel_no      \n",
       "1  カナガワケンヨコハマシコウホククキクナイッチョウメ           045-123-4032\n",
       "2  カナガワケンヨコハマシセヤクアクワニシイッチョウメ           045-123-4043\n",
       "3  カナガワケンサガミハラシチュウオウニチョウメ                 042-123-4045\n",
       "4  カナガワケンヨコハマシミドリクナガツタミナミダイゴチョウメ   045-123-4046\n",
       "5  カナガワケンヨコハマシセヤクアクワニシイッチョウメ           045-123-4053\n",
       "6  カナガワケンヨコハマシセヤクフタツバシチョウ                 045-123-4042\n",
       "7  カナガワケンヨコハマシナカクホンモクワダ                     045-123-4034\n",
       "8  カナガワケンヨコハマシツヅキクキタヤマタイッチョウメ         045-123-4049\n",
       "9  カナガワケンズシシズシイッチョウメ                           046-123-4036\n",
       "10 カナガワケンヨコハマシコウホククヒヨシホンチョウヨンチョウメ 045-123-4033\n",
       "   longitude latitude floor_area\n",
       "1  139.6326  35.50049 1732      \n",
       "2  139.4961  35.45918 1495      \n",
       "3  139.3716  35.57327 1679      \n",
       "4  139.4994  35.52398 1548      \n",
       "5  139.4961  35.45918 1830      \n",
       "6  139.4963  35.46304 1574      \n",
       "7  139.6582  35.42156 1341      \n",
       "8  139.5916  35.56189  831      \n",
       "9  139.5789  35.29642 1838      \n",
       "10 139.6316  35.54655  890      "
      ]
     },
     "metadata": {},
     "output_type": "display_data"
    }
   ],
   "source": [
    "df_store %>% filter(str_detect(store_cd, \"^S14\")) %>% head(10)"
   ]
  },
  {
   "cell_type": "markdown",
   "metadata": {},
   "source": [
    "---\n",
    "> R-011: 顧客データ（df_customer）から顧客ID（customer_id）の末尾が1のものだけ全項目抽出し、10件表示せよ。"
   ]
  },
  {
   "cell_type": "code",
   "execution_count": 13,
   "metadata": {},
   "outputs": [
    {
     "data": {
      "text/html": [
       "<table class=\"dataframe\">\n",
       "<caption>A data.frame: 10 × 11</caption>\n",
       "<thead>\n",
       "\t<tr><th></th><th scope=col>customer_id</th><th scope=col>customer_name</th><th scope=col>gender_cd</th><th scope=col>gender</th><th scope=col>birth_day</th><th scope=col>age</th><th scope=col>postal_cd</th><th scope=col>address</th><th scope=col>application_store_cd</th><th scope=col>application_date</th><th scope=col>status_cd</th></tr>\n",
       "\t<tr><th></th><th scope=col>&lt;chr&gt;</th><th scope=col>&lt;chr&gt;</th><th scope=col>&lt;chr&gt;</th><th scope=col>&lt;chr&gt;</th><th scope=col>&lt;date&gt;</th><th scope=col>&lt;int&gt;</th><th scope=col>&lt;chr&gt;</th><th scope=col>&lt;chr&gt;</th><th scope=col>&lt;chr&gt;</th><th scope=col>&lt;chr&gt;</th><th scope=col>&lt;chr&gt;</th></tr>\n",
       "</thead>\n",
       "<tbody>\n",
       "\t<tr><th scope=row>1</th><td>CS037613000071</td><td>六角 雅彦  </td><td>9</td><td>不明</td><td>1952-04-01</td><td>66</td><td>136-0076</td><td>東京都江東区南砂**********          </td><td>S13037</td><td>20150414</td><td>0-00000000-0</td></tr>\n",
       "\t<tr><th scope=row>2</th><td>CS028811000001</td><td>堀井 かおり</td><td>1</td><td>女性</td><td>1933-03-27</td><td>86</td><td>245-0016</td><td>神奈川県横浜市泉区和泉町**********  </td><td>S14028</td><td>20160115</td><td>0-00000000-0</td></tr>\n",
       "\t<tr><th scope=row>3</th><td>CS040412000191</td><td>川井 郁恵  </td><td>1</td><td>女性</td><td>1977-01-05</td><td>42</td><td>226-0021</td><td>神奈川県横浜市緑区北八朔町**********</td><td>S14040</td><td>20151101</td><td>1-20091025-4</td></tr>\n",
       "\t<tr><th scope=row>4</th><td>CS028314000011</td><td>小菅 あおい</td><td>1</td><td>女性</td><td>1983-11-26</td><td>35</td><td>246-0038</td><td>神奈川県横浜市瀬谷区宮沢**********  </td><td>S14028</td><td>20151123</td><td>1-20080426-5</td></tr>\n",
       "\t<tr><th scope=row>5</th><td>CS039212000051</td><td>藤島 恵梨香</td><td>1</td><td>女性</td><td>1997-02-03</td><td>22</td><td>166-0001</td><td>東京都杉並区阿佐谷北**********      </td><td>S13039</td><td>20171121</td><td>1-20100215-4</td></tr>\n",
       "\t<tr><th scope=row>6</th><td>CS015412000111</td><td>松居 奈月  </td><td>1</td><td>女性</td><td>1972-10-04</td><td>46</td><td>136-0071</td><td>東京都江東区亀戸**********          </td><td>S13015</td><td>20150629</td><td>0-00000000-0</td></tr>\n",
       "\t<tr><th scope=row>7</th><td>CS004702000041</td><td>野島 洋    </td><td>0</td><td>男性</td><td>1943-08-24</td><td>75</td><td>176-0022</td><td>東京都練馬区向山**********          </td><td>S13004</td><td>20170218</td><td>0-00000000-0</td></tr>\n",
       "\t<tr><th scope=row>8</th><td>CS041515000001</td><td>栗田 千夏  </td><td>1</td><td>女性</td><td>1967-01-02</td><td>52</td><td>206-0001</td><td>東京都多摩市和田**********          </td><td>S13041</td><td>20160422</td><td>E-20100803-F</td></tr>\n",
       "\t<tr><th scope=row>9</th><td>CS029313000221</td><td>北条 ひかり</td><td>1</td><td>女性</td><td>1987-06-19</td><td>31</td><td>279-0011</td><td>千葉県浦安市美浜**********          </td><td>S12029</td><td>20180810</td><td>0-00000000-0</td></tr>\n",
       "\t<tr><th scope=row>10</th><td>CS034312000071</td><td>望月 奈央  </td><td>1</td><td>女性</td><td>1980-09-20</td><td>38</td><td>213-0026</td><td>神奈川県川崎市高津区久末**********  </td><td>S14034</td><td>20160106</td><td>0-00000000-0</td></tr>\n",
       "</tbody>\n",
       "</table>\n"
      ],
      "text/latex": [
       "A data.frame: 10 × 11\n",
       "\\begin{tabular}{r|lllllllllll}\n",
       "  & customer\\_id & customer\\_name & gender\\_cd & gender & birth\\_day & age & postal\\_cd & address & application\\_store\\_cd & application\\_date & status\\_cd\\\\\n",
       "  & <chr> & <chr> & <chr> & <chr> & <date> & <int> & <chr> & <chr> & <chr> & <chr> & <chr>\\\\\n",
       "\\hline\n",
       "\t1 & CS037613000071 & 六角 雅彦   & 9 & 不明 & 1952-04-01 & 66 & 136-0076 & 東京都江東区南砂**********           & S13037 & 20150414 & 0-00000000-0\\\\\n",
       "\t2 & CS028811000001 & 堀井 かおり & 1 & 女性 & 1933-03-27 & 86 & 245-0016 & 神奈川県横浜市泉区和泉町**********   & S14028 & 20160115 & 0-00000000-0\\\\\n",
       "\t3 & CS040412000191 & 川井 郁恵   & 1 & 女性 & 1977-01-05 & 42 & 226-0021 & 神奈川県横浜市緑区北八朔町********** & S14040 & 20151101 & 1-20091025-4\\\\\n",
       "\t4 & CS028314000011 & 小菅 あおい & 1 & 女性 & 1983-11-26 & 35 & 246-0038 & 神奈川県横浜市瀬谷区宮沢**********   & S14028 & 20151123 & 1-20080426-5\\\\\n",
       "\t5 & CS039212000051 & 藤島 恵梨香 & 1 & 女性 & 1997-02-03 & 22 & 166-0001 & 東京都杉並区阿佐谷北**********       & S13039 & 20171121 & 1-20100215-4\\\\\n",
       "\t6 & CS015412000111 & 松居 奈月   & 1 & 女性 & 1972-10-04 & 46 & 136-0071 & 東京都江東区亀戸**********           & S13015 & 20150629 & 0-00000000-0\\\\\n",
       "\t7 & CS004702000041 & 野島 洋     & 0 & 男性 & 1943-08-24 & 75 & 176-0022 & 東京都練馬区向山**********           & S13004 & 20170218 & 0-00000000-0\\\\\n",
       "\t8 & CS041515000001 & 栗田 千夏   & 1 & 女性 & 1967-01-02 & 52 & 206-0001 & 東京都多摩市和田**********           & S13041 & 20160422 & E-20100803-F\\\\\n",
       "\t9 & CS029313000221 & 北条 ひかり & 1 & 女性 & 1987-06-19 & 31 & 279-0011 & 千葉県浦安市美浜**********           & S12029 & 20180810 & 0-00000000-0\\\\\n",
       "\t10 & CS034312000071 & 望月 奈央   & 1 & 女性 & 1980-09-20 & 38 & 213-0026 & 神奈川県川崎市高津区久末**********   & S14034 & 20160106 & 0-00000000-0\\\\\n",
       "\\end{tabular}\n"
      ],
      "text/markdown": [
       "\n",
       "A data.frame: 10 × 11\n",
       "\n",
       "| <!--/--> | customer_id &lt;chr&gt; | customer_name &lt;chr&gt; | gender_cd &lt;chr&gt; | gender &lt;chr&gt; | birth_day &lt;date&gt; | age &lt;int&gt; | postal_cd &lt;chr&gt; | address &lt;chr&gt; | application_store_cd &lt;chr&gt; | application_date &lt;chr&gt; | status_cd &lt;chr&gt; |\n",
       "|---|---|---|---|---|---|---|---|---|---|---|---|\n",
       "| 1 | CS037613000071 | 六角 雅彦   | 9 | 不明 | 1952-04-01 | 66 | 136-0076 | 東京都江東区南砂**********           | S13037 | 20150414 | 0-00000000-0 |\n",
       "| 2 | CS028811000001 | 堀井 かおり | 1 | 女性 | 1933-03-27 | 86 | 245-0016 | 神奈川県横浜市泉区和泉町**********   | S14028 | 20160115 | 0-00000000-0 |\n",
       "| 3 | CS040412000191 | 川井 郁恵   | 1 | 女性 | 1977-01-05 | 42 | 226-0021 | 神奈川県横浜市緑区北八朔町********** | S14040 | 20151101 | 1-20091025-4 |\n",
       "| 4 | CS028314000011 | 小菅 あおい | 1 | 女性 | 1983-11-26 | 35 | 246-0038 | 神奈川県横浜市瀬谷区宮沢**********   | S14028 | 20151123 | 1-20080426-5 |\n",
       "| 5 | CS039212000051 | 藤島 恵梨香 | 1 | 女性 | 1997-02-03 | 22 | 166-0001 | 東京都杉並区阿佐谷北**********       | S13039 | 20171121 | 1-20100215-4 |\n",
       "| 6 | CS015412000111 | 松居 奈月   | 1 | 女性 | 1972-10-04 | 46 | 136-0071 | 東京都江東区亀戸**********           | S13015 | 20150629 | 0-00000000-0 |\n",
       "| 7 | CS004702000041 | 野島 洋     | 0 | 男性 | 1943-08-24 | 75 | 176-0022 | 東京都練馬区向山**********           | S13004 | 20170218 | 0-00000000-0 |\n",
       "| 8 | CS041515000001 | 栗田 千夏   | 1 | 女性 | 1967-01-02 | 52 | 206-0001 | 東京都多摩市和田**********           | S13041 | 20160422 | E-20100803-F |\n",
       "| 9 | CS029313000221 | 北条 ひかり | 1 | 女性 | 1987-06-19 | 31 | 279-0011 | 千葉県浦安市美浜**********           | S12029 | 20180810 | 0-00000000-0 |\n",
       "| 10 | CS034312000071 | 望月 奈央   | 1 | 女性 | 1980-09-20 | 38 | 213-0026 | 神奈川県川崎市高津区久末**********   | S14034 | 20160106 | 0-00000000-0 |\n",
       "\n"
      ],
      "text/plain": [
       "   customer_id    customer_name gender_cd gender birth_day  age postal_cd\n",
       "1  CS037613000071 六角 雅彦     9         不明   1952-04-01 66  136-0076 \n",
       "2  CS028811000001 堀井 かおり   1         女性   1933-03-27 86  245-0016 \n",
       "3  CS040412000191 川井 郁恵     1         女性   1977-01-05 42  226-0021 \n",
       "4  CS028314000011 小菅 あおい   1         女性   1983-11-26 35  246-0038 \n",
       "5  CS039212000051 藤島 恵梨香   1         女性   1997-02-03 22  166-0001 \n",
       "6  CS015412000111 松居 奈月     1         女性   1972-10-04 46  136-0071 \n",
       "7  CS004702000041 野島 洋       0         男性   1943-08-24 75  176-0022 \n",
       "8  CS041515000001 栗田 千夏     1         女性   1967-01-02 52  206-0001 \n",
       "9  CS029313000221 北条 ひかり   1         女性   1987-06-19 31  279-0011 \n",
       "10 CS034312000071 望月 奈央     1         女性   1980-09-20 38  213-0026 \n",
       "   address                              application_store_cd application_date\n",
       "1  東京都江東区南砂**********           S13037               20150414        \n",
       "2  神奈川県横浜市泉区和泉町**********   S14028               20160115        \n",
       "3  神奈川県横浜市緑区北八朔町********** S14040               20151101        \n",
       "4  神奈川県横浜市瀬谷区宮沢**********   S14028               20151123        \n",
       "5  東京都杉並区阿佐谷北**********       S13039               20171121        \n",
       "6  東京都江東区亀戸**********           S13015               20150629        \n",
       "7  東京都練馬区向山**********           S13004               20170218        \n",
       "8  東京都多摩市和田**********           S13041               20160422        \n",
       "9  千葉県浦安市美浜**********           S12029               20180810        \n",
       "10 神奈川県川崎市高津区久末**********   S14034               20160106        \n",
       "   status_cd   \n",
       "1  0-00000000-0\n",
       "2  0-00000000-0\n",
       "3  1-20091025-4\n",
       "4  1-20080426-5\n",
       "5  1-20100215-4\n",
       "6  0-00000000-0\n",
       "7  0-00000000-0\n",
       "8  E-20100803-F\n",
       "9  0-00000000-0\n",
       "10 0-00000000-0"
      ]
     },
     "metadata": {},
     "output_type": "display_data"
    }
   ],
   "source": [
    "df_customer %>% filter(str_detect(customer_id, \"1$\")) %>% head(10)"
   ]
  },
  {
   "cell_type": "markdown",
   "metadata": {},
   "source": [
    "---\n",
    "> R-012: 店舗データ（df_store）から、住所 (address) に\"横浜市\"が含まれるものだけ全項目表示せよ。"
   ]
  },
  {
   "cell_type": "code",
   "execution_count": 14,
   "metadata": {},
   "outputs": [
    {
     "data": {
      "text/html": [
       "<table class=\"dataframe\">\n",
       "<caption>A data.frame: 11 × 10</caption>\n",
       "<thead>\n",
       "\t<tr><th scope=col>store_cd</th><th scope=col>store_name</th><th scope=col>prefecture_cd</th><th scope=col>prefecture</th><th scope=col>address</th><th scope=col>address_kana</th><th scope=col>tel_no</th><th scope=col>longitude</th><th scope=col>latitude</th><th scope=col>floor_area</th></tr>\n",
       "\t<tr><th scope=col>&lt;chr&gt;</th><th scope=col>&lt;chr&gt;</th><th scope=col>&lt;chr&gt;</th><th scope=col>&lt;chr&gt;</th><th scope=col>&lt;chr&gt;</th><th scope=col>&lt;chr&gt;</th><th scope=col>&lt;chr&gt;</th><th scope=col>&lt;dbl&gt;</th><th scope=col>&lt;dbl&gt;</th><th scope=col>&lt;dbl&gt;</th></tr>\n",
       "</thead>\n",
       "<tbody>\n",
       "\t<tr><td>S14010</td><td>菊名店    </td><td>14</td><td>神奈川県</td><td>神奈川県横浜市港北区菊名一丁目        </td><td>カナガワケンヨコハマシコウホククキクナイッチョウメ          </td><td>045-123-4032</td><td>139.6326</td><td>35.50049</td><td>1732</td></tr>\n",
       "\t<tr><td>S14033</td><td>阿久和店  </td><td>14</td><td>神奈川県</td><td>神奈川県横浜市瀬谷区阿久和西一丁目    </td><td>カナガワケンヨコハマシセヤクアクワニシイッチョウメ          </td><td>045-123-4043</td><td>139.4961</td><td>35.45918</td><td>1495</td></tr>\n",
       "\t<tr><td>S14040</td><td>長津田店  </td><td>14</td><td>神奈川県</td><td>神奈川県横浜市緑区長津田みなみ台五丁目</td><td>カナガワケンヨコハマシミドリクナガツタミナミダイゴチョウメ  </td><td>045-123-4046</td><td>139.4994</td><td>35.52398</td><td>1548</td></tr>\n",
       "\t<tr><td>S14050</td><td>阿久和西店</td><td>14</td><td>神奈川県</td><td>神奈川県横浜市瀬谷区阿久和西一丁目    </td><td>カナガワケンヨコハマシセヤクアクワニシイッチョウメ          </td><td>045-123-4053</td><td>139.4961</td><td>35.45918</td><td>1830</td></tr>\n",
       "\t<tr><td>S14028</td><td>二ツ橋店  </td><td>14</td><td>神奈川県</td><td>神奈川県横浜市瀬谷区二ツ橋町          </td><td>カナガワケンヨコハマシセヤクフタツバシチョウ                </td><td>045-123-4042</td><td>139.4963</td><td>35.46304</td><td>1574</td></tr>\n",
       "\t<tr><td>S14012</td><td>本牧和田店</td><td>14</td><td>神奈川県</td><td>神奈川県横浜市中区本牧和田            </td><td>カナガワケンヨコハマシナカクホンモクワダ                    </td><td>045-123-4034</td><td>139.6582</td><td>35.42156</td><td>1341</td></tr>\n",
       "\t<tr><td>S14046</td><td>北山田店  </td><td>14</td><td>神奈川県</td><td>神奈川県横浜市都筑区北山田一丁目      </td><td>カナガワケンヨコハマシツヅキクキタヤマタイッチョウメ        </td><td>045-123-4049</td><td>139.5916</td><td>35.56189</td><td> 831</td></tr>\n",
       "\t<tr><td>S14011</td><td>日吉本町店</td><td>14</td><td>神奈川県</td><td>神奈川県横浜市港北区日吉本町四丁目    </td><td>カナガワケンヨコハマシコウホククヒヨシホンチョウヨンチョウメ</td><td>045-123-4033</td><td>139.6316</td><td>35.54655</td><td> 890</td></tr>\n",
       "\t<tr><td>S14048</td><td>中川中央店</td><td>14</td><td>神奈川県</td><td>神奈川県横浜市都筑区中川中央二丁目    </td><td>カナガワケンヨコハマシツヅキクナカガワチュウオウニチョウメ  </td><td>045-123-4051</td><td>139.5758</td><td>35.54912</td><td>1657</td></tr>\n",
       "\t<tr><td>S14042</td><td>新山下店  </td><td>14</td><td>神奈川県</td><td>神奈川県横浜市中区新山下二丁目        </td><td>カナガワケンヨコハマシナカクシンヤマシタニチョウメ          </td><td>045-123-4047</td><td>139.6593</td><td>35.43894</td><td>1044</td></tr>\n",
       "\t<tr><td>S14006</td><td>葛が谷店  </td><td>14</td><td>神奈川県</td><td>神奈川県横浜市都筑区葛が谷            </td><td>カナガワケンヨコハマシツヅキククズガヤ                      </td><td>045-123-4031</td><td>139.5633</td><td>35.53573</td><td>1886</td></tr>\n",
       "</tbody>\n",
       "</table>\n"
      ],
      "text/latex": [
       "A data.frame: 11 × 10\n",
       "\\begin{tabular}{llllllllll}\n",
       " store\\_cd & store\\_name & prefecture\\_cd & prefecture & address & address\\_kana & tel\\_no & longitude & latitude & floor\\_area\\\\\n",
       " <chr> & <chr> & <chr> & <chr> & <chr> & <chr> & <chr> & <dbl> & <dbl> & <dbl>\\\\\n",
       "\\hline\n",
       "\t S14010 & 菊名店     & 14 & 神奈川県 & 神奈川県横浜市港北区菊名一丁目         & カナガワケンヨコハマシコウホククキクナイッチョウメ           & 045-123-4032 & 139.6326 & 35.50049 & 1732\\\\\n",
       "\t S14033 & 阿久和店   & 14 & 神奈川県 & 神奈川県横浜市瀬谷区阿久和西一丁目     & カナガワケンヨコハマシセヤクアクワニシイッチョウメ           & 045-123-4043 & 139.4961 & 35.45918 & 1495\\\\\n",
       "\t S14040 & 長津田店   & 14 & 神奈川県 & 神奈川県横浜市緑区長津田みなみ台五丁目 & カナガワケンヨコハマシミドリクナガツタミナミダイゴチョウメ   & 045-123-4046 & 139.4994 & 35.52398 & 1548\\\\\n",
       "\t S14050 & 阿久和西店 & 14 & 神奈川県 & 神奈川県横浜市瀬谷区阿久和西一丁目     & カナガワケンヨコハマシセヤクアクワニシイッチョウメ           & 045-123-4053 & 139.4961 & 35.45918 & 1830\\\\\n",
       "\t S14028 & 二ツ橋店   & 14 & 神奈川県 & 神奈川県横浜市瀬谷区二ツ橋町           & カナガワケンヨコハマシセヤクフタツバシチョウ                 & 045-123-4042 & 139.4963 & 35.46304 & 1574\\\\\n",
       "\t S14012 & 本牧和田店 & 14 & 神奈川県 & 神奈川県横浜市中区本牧和田             & カナガワケンヨコハマシナカクホンモクワダ                     & 045-123-4034 & 139.6582 & 35.42156 & 1341\\\\\n",
       "\t S14046 & 北山田店   & 14 & 神奈川県 & 神奈川県横浜市都筑区北山田一丁目       & カナガワケンヨコハマシツヅキクキタヤマタイッチョウメ         & 045-123-4049 & 139.5916 & 35.56189 &  831\\\\\n",
       "\t S14011 & 日吉本町店 & 14 & 神奈川県 & 神奈川県横浜市港北区日吉本町四丁目     & カナガワケンヨコハマシコウホククヒヨシホンチョウヨンチョウメ & 045-123-4033 & 139.6316 & 35.54655 &  890\\\\\n",
       "\t S14048 & 中川中央店 & 14 & 神奈川県 & 神奈川県横浜市都筑区中川中央二丁目     & カナガワケンヨコハマシツヅキクナカガワチュウオウニチョウメ   & 045-123-4051 & 139.5758 & 35.54912 & 1657\\\\\n",
       "\t S14042 & 新山下店   & 14 & 神奈川県 & 神奈川県横浜市中区新山下二丁目         & カナガワケンヨコハマシナカクシンヤマシタニチョウメ           & 045-123-4047 & 139.6593 & 35.43894 & 1044\\\\\n",
       "\t S14006 & 葛が谷店   & 14 & 神奈川県 & 神奈川県横浜市都筑区葛が谷             & カナガワケンヨコハマシツヅキククズガヤ                       & 045-123-4031 & 139.5633 & 35.53573 & 1886\\\\\n",
       "\\end{tabular}\n"
      ],
      "text/markdown": [
       "\n",
       "A data.frame: 11 × 10\n",
       "\n",
       "| store_cd &lt;chr&gt; | store_name &lt;chr&gt; | prefecture_cd &lt;chr&gt; | prefecture &lt;chr&gt; | address &lt;chr&gt; | address_kana &lt;chr&gt; | tel_no &lt;chr&gt; | longitude &lt;dbl&gt; | latitude &lt;dbl&gt; | floor_area &lt;dbl&gt; |\n",
       "|---|---|---|---|---|---|---|---|---|---|\n",
       "| S14010 | 菊名店     | 14 | 神奈川県 | 神奈川県横浜市港北区菊名一丁目         | カナガワケンヨコハマシコウホククキクナイッチョウメ           | 045-123-4032 | 139.6326 | 35.50049 | 1732 |\n",
       "| S14033 | 阿久和店   | 14 | 神奈川県 | 神奈川県横浜市瀬谷区阿久和西一丁目     | カナガワケンヨコハマシセヤクアクワニシイッチョウメ           | 045-123-4043 | 139.4961 | 35.45918 | 1495 |\n",
       "| S14040 | 長津田店   | 14 | 神奈川県 | 神奈川県横浜市緑区長津田みなみ台五丁目 | カナガワケンヨコハマシミドリクナガツタミナミダイゴチョウメ   | 045-123-4046 | 139.4994 | 35.52398 | 1548 |\n",
       "| S14050 | 阿久和西店 | 14 | 神奈川県 | 神奈川県横浜市瀬谷区阿久和西一丁目     | カナガワケンヨコハマシセヤクアクワニシイッチョウメ           | 045-123-4053 | 139.4961 | 35.45918 | 1830 |\n",
       "| S14028 | 二ツ橋店   | 14 | 神奈川県 | 神奈川県横浜市瀬谷区二ツ橋町           | カナガワケンヨコハマシセヤクフタツバシチョウ                 | 045-123-4042 | 139.4963 | 35.46304 | 1574 |\n",
       "| S14012 | 本牧和田店 | 14 | 神奈川県 | 神奈川県横浜市中区本牧和田             | カナガワケンヨコハマシナカクホンモクワダ                     | 045-123-4034 | 139.6582 | 35.42156 | 1341 |\n",
       "| S14046 | 北山田店   | 14 | 神奈川県 | 神奈川県横浜市都筑区北山田一丁目       | カナガワケンヨコハマシツヅキクキタヤマタイッチョウメ         | 045-123-4049 | 139.5916 | 35.56189 |  831 |\n",
       "| S14011 | 日吉本町店 | 14 | 神奈川県 | 神奈川県横浜市港北区日吉本町四丁目     | カナガワケンヨコハマシコウホククヒヨシホンチョウヨンチョウメ | 045-123-4033 | 139.6316 | 35.54655 |  890 |\n",
       "| S14048 | 中川中央店 | 14 | 神奈川県 | 神奈川県横浜市都筑区中川中央二丁目     | カナガワケンヨコハマシツヅキクナカガワチュウオウニチョウメ   | 045-123-4051 | 139.5758 | 35.54912 | 1657 |\n",
       "| S14042 | 新山下店   | 14 | 神奈川県 | 神奈川県横浜市中区新山下二丁目         | カナガワケンヨコハマシナカクシンヤマシタニチョウメ           | 045-123-4047 | 139.6593 | 35.43894 | 1044 |\n",
       "| S14006 | 葛が谷店   | 14 | 神奈川県 | 神奈川県横浜市都筑区葛が谷             | カナガワケンヨコハマシツヅキククズガヤ                       | 045-123-4031 | 139.5633 | 35.53573 | 1886 |\n",
       "\n"
      ],
      "text/plain": [
       "   store_cd store_name prefecture_cd prefecture\n",
       "1  S14010   菊名店     14            神奈川県  \n",
       "2  S14033   阿久和店   14            神奈川県  \n",
       "3  S14040   長津田店   14            神奈川県  \n",
       "4  S14050   阿久和西店 14            神奈川県  \n",
       "5  S14028   二ツ橋店   14            神奈川県  \n",
       "6  S14012   本牧和田店 14            神奈川県  \n",
       "7  S14046   北山田店   14            神奈川県  \n",
       "8  S14011   日吉本町店 14            神奈川県  \n",
       "9  S14048   中川中央店 14            神奈川県  \n",
       "10 S14042   新山下店   14            神奈川県  \n",
       "11 S14006   葛が谷店   14            神奈川県  \n",
       "   address                               \n",
       "1  神奈川県横浜市港北区菊名一丁目        \n",
       "2  神奈川県横浜市瀬谷区阿久和西一丁目    \n",
       "3  神奈川県横浜市緑区長津田みなみ台五丁目\n",
       "4  神奈川県横浜市瀬谷区阿久和西一丁目    \n",
       "5  神奈川県横浜市瀬谷区二ツ橋町          \n",
       "6  神奈川県横浜市中区本牧和田            \n",
       "7  神奈川県横浜市都筑区北山田一丁目      \n",
       "8  神奈川県横浜市港北区日吉本町四丁目    \n",
       "9  神奈川県横浜市都筑区中川中央二丁目    \n",
       "10 神奈川県横浜市中区新山下二丁目        \n",
       "11 神奈川県横浜市都筑区葛が谷            \n",
       "   address_kana                                                 tel_no      \n",
       "1  カナガワケンヨコハマシコウホククキクナイッチョウメ           045-123-4032\n",
       "2  カナガワケンヨコハマシセヤクアクワニシイッチョウメ           045-123-4043\n",
       "3  カナガワケンヨコハマシミドリクナガツタミナミダイゴチョウメ   045-123-4046\n",
       "4  カナガワケンヨコハマシセヤクアクワニシイッチョウメ           045-123-4053\n",
       "5  カナガワケンヨコハマシセヤクフタツバシチョウ                 045-123-4042\n",
       "6  カナガワケンヨコハマシナカクホンモクワダ                     045-123-4034\n",
       "7  カナガワケンヨコハマシツヅキクキタヤマタイッチョウメ         045-123-4049\n",
       "8  カナガワケンヨコハマシコウホククヒヨシホンチョウヨンチョウメ 045-123-4033\n",
       "9  カナガワケンヨコハマシツヅキクナカガワチュウオウニチョウメ   045-123-4051\n",
       "10 カナガワケンヨコハマシナカクシンヤマシタニチョウメ           045-123-4047\n",
       "11 カナガワケンヨコハマシツヅキククズガヤ                       045-123-4031\n",
       "   longitude latitude floor_area\n",
       "1  139.6326  35.50049 1732      \n",
       "2  139.4961  35.45918 1495      \n",
       "3  139.4994  35.52398 1548      \n",
       "4  139.4961  35.45918 1830      \n",
       "5  139.4963  35.46304 1574      \n",
       "6  139.6582  35.42156 1341      \n",
       "7  139.5916  35.56189  831      \n",
       "8  139.6316  35.54655  890      \n",
       "9  139.5758  35.54912 1657      \n",
       "10 139.6593  35.43894 1044      \n",
       "11 139.5633  35.53573 1886      "
      ]
     },
     "metadata": {},
     "output_type": "display_data"
    }
   ],
   "source": [
    "df_store %>% filter(str_detect(address, \"横浜市\"))"
   ]
  },
  {
   "cell_type": "markdown",
   "metadata": {},
   "source": [
    "---\n",
    "> R-013: 顧客データ（df_customer）から、ステータスコード（status_cd）の先頭がアルファベットのA〜Fで始まるデータを全項目抽出し、10件表示せよ。"
   ]
  },
  {
   "cell_type": "code",
   "execution_count": 15,
   "metadata": {},
   "outputs": [
    {
     "data": {
      "text/html": [
       "<table class=\"dataframe\">\n",
       "<caption>A data.frame: 10 × 11</caption>\n",
       "<thead>\n",
       "\t<tr><th></th><th scope=col>customer_id</th><th scope=col>customer_name</th><th scope=col>gender_cd</th><th scope=col>gender</th><th scope=col>birth_day</th><th scope=col>age</th><th scope=col>postal_cd</th><th scope=col>address</th><th scope=col>application_store_cd</th><th scope=col>application_date</th><th scope=col>status_cd</th></tr>\n",
       "\t<tr><th></th><th scope=col>&lt;chr&gt;</th><th scope=col>&lt;chr&gt;</th><th scope=col>&lt;chr&gt;</th><th scope=col>&lt;chr&gt;</th><th scope=col>&lt;date&gt;</th><th scope=col>&lt;int&gt;</th><th scope=col>&lt;chr&gt;</th><th scope=col>&lt;chr&gt;</th><th scope=col>&lt;chr&gt;</th><th scope=col>&lt;chr&gt;</th><th scope=col>&lt;chr&gt;</th></tr>\n",
       "</thead>\n",
       "<tbody>\n",
       "\t<tr><th scope=row>1</th><td>CS031415000172</td><td>宇多田 貴美子</td><td>1</td><td>女性</td><td>1976-10-04</td><td>42</td><td>151-0053</td><td>東京都渋谷区代々木**********          </td><td>S13031</td><td>20150529</td><td>D-20100325-C</td></tr>\n",
       "\t<tr><th scope=row>2</th><td>CS015414000103</td><td>奥野 陽子    </td><td>1</td><td>女性</td><td>1977-08-09</td><td>41</td><td>136-0073</td><td>東京都江東区北砂**********            </td><td>S13015</td><td>20150722</td><td>B-20100609-B</td></tr>\n",
       "\t<tr><th scope=row>3</th><td>CS011215000048</td><td>芦田 沙耶    </td><td>1</td><td>女性</td><td>1992-02-01</td><td>27</td><td>223-0062</td><td>神奈川県横浜市港北区日吉本町**********</td><td>S14011</td><td>20150228</td><td>C-20100421-9</td></tr>\n",
       "\t<tr><th scope=row>4</th><td>CS029415000023</td><td>梅田 里穂    </td><td>1</td><td>女性</td><td>1976-01-17</td><td>43</td><td>279-0043</td><td>千葉県浦安市富士見**********          </td><td>S12029</td><td>20150610</td><td>D-20100918-E</td></tr>\n",
       "\t<tr><th scope=row>5</th><td>CS035415000029</td><td>寺沢 真希    </td><td>9</td><td>不明</td><td>1977-09-27</td><td>41</td><td>158-0096</td><td>東京都世田谷区玉川台**********        </td><td>S13035</td><td>20141220</td><td>F-20101029-F</td></tr>\n",
       "\t<tr><th scope=row>6</th><td>CS031415000106</td><td>宇野 由美子  </td><td>1</td><td>女性</td><td>1970-02-26</td><td>49</td><td>151-0053</td><td>東京都渋谷区代々木**********          </td><td>S13031</td><td>20150201</td><td>F-20100511-E</td></tr>\n",
       "\t<tr><th scope=row>7</th><td>CS029215000025</td><td>石倉 美帆    </td><td>1</td><td>女性</td><td>1993-09-28</td><td>25</td><td>279-0022</td><td>千葉県浦安市今川**********            </td><td>S12029</td><td>20150708</td><td>B-20100820-C</td></tr>\n",
       "\t<tr><th scope=row>8</th><td>CS033605000005</td><td>猪股 雄太    </td><td>0</td><td>男性</td><td>1955-12-05</td><td>63</td><td>246-0031</td><td>神奈川県横浜市瀬谷区瀬谷**********    </td><td>S14033</td><td>20150425</td><td>F-20100917-E</td></tr>\n",
       "\t<tr><th scope=row>9</th><td>CS033415000229</td><td>板垣 菜々美  </td><td>1</td><td>女性</td><td>1977-11-07</td><td>41</td><td>246-0021</td><td>神奈川県横浜市瀬谷区二ツ橋町**********</td><td>S14033</td><td>20150712</td><td>F-20100326-E</td></tr>\n",
       "\t<tr><th scope=row>10</th><td>CS008415000145</td><td>黒谷 麻緒    </td><td>1</td><td>女性</td><td>1977-06-27</td><td>41</td><td>157-0067</td><td>東京都世田谷区喜多見**********        </td><td>S13008</td><td>20150829</td><td>F-20100622-F</td></tr>\n",
       "</tbody>\n",
       "</table>\n"
      ],
      "text/latex": [
       "A data.frame: 10 × 11\n",
       "\\begin{tabular}{r|lllllllllll}\n",
       "  & customer\\_id & customer\\_name & gender\\_cd & gender & birth\\_day & age & postal\\_cd & address & application\\_store\\_cd & application\\_date & status\\_cd\\\\\n",
       "  & <chr> & <chr> & <chr> & <chr> & <date> & <int> & <chr> & <chr> & <chr> & <chr> & <chr>\\\\\n",
       "\\hline\n",
       "\t1 & CS031415000172 & 宇多田 貴美子 & 1 & 女性 & 1976-10-04 & 42 & 151-0053 & 東京都渋谷区代々木**********           & S13031 & 20150529 & D-20100325-C\\\\\n",
       "\t2 & CS015414000103 & 奥野 陽子     & 1 & 女性 & 1977-08-09 & 41 & 136-0073 & 東京都江東区北砂**********             & S13015 & 20150722 & B-20100609-B\\\\\n",
       "\t3 & CS011215000048 & 芦田 沙耶     & 1 & 女性 & 1992-02-01 & 27 & 223-0062 & 神奈川県横浜市港北区日吉本町********** & S14011 & 20150228 & C-20100421-9\\\\\n",
       "\t4 & CS029415000023 & 梅田 里穂     & 1 & 女性 & 1976-01-17 & 43 & 279-0043 & 千葉県浦安市富士見**********           & S12029 & 20150610 & D-20100918-E\\\\\n",
       "\t5 & CS035415000029 & 寺沢 真希     & 9 & 不明 & 1977-09-27 & 41 & 158-0096 & 東京都世田谷区玉川台**********         & S13035 & 20141220 & F-20101029-F\\\\\n",
       "\t6 & CS031415000106 & 宇野 由美子   & 1 & 女性 & 1970-02-26 & 49 & 151-0053 & 東京都渋谷区代々木**********           & S13031 & 20150201 & F-20100511-E\\\\\n",
       "\t7 & CS029215000025 & 石倉 美帆     & 1 & 女性 & 1993-09-28 & 25 & 279-0022 & 千葉県浦安市今川**********             & S12029 & 20150708 & B-20100820-C\\\\\n",
       "\t8 & CS033605000005 & 猪股 雄太     & 0 & 男性 & 1955-12-05 & 63 & 246-0031 & 神奈川県横浜市瀬谷区瀬谷**********     & S14033 & 20150425 & F-20100917-E\\\\\n",
       "\t9 & CS033415000229 & 板垣 菜々美   & 1 & 女性 & 1977-11-07 & 41 & 246-0021 & 神奈川県横浜市瀬谷区二ツ橋町********** & S14033 & 20150712 & F-20100326-E\\\\\n",
       "\t10 & CS008415000145 & 黒谷 麻緒     & 1 & 女性 & 1977-06-27 & 41 & 157-0067 & 東京都世田谷区喜多見**********         & S13008 & 20150829 & F-20100622-F\\\\\n",
       "\\end{tabular}\n"
      ],
      "text/markdown": [
       "\n",
       "A data.frame: 10 × 11\n",
       "\n",
       "| <!--/--> | customer_id &lt;chr&gt; | customer_name &lt;chr&gt; | gender_cd &lt;chr&gt; | gender &lt;chr&gt; | birth_day &lt;date&gt; | age &lt;int&gt; | postal_cd &lt;chr&gt; | address &lt;chr&gt; | application_store_cd &lt;chr&gt; | application_date &lt;chr&gt; | status_cd &lt;chr&gt; |\n",
       "|---|---|---|---|---|---|---|---|---|---|---|---|\n",
       "| 1 | CS031415000172 | 宇多田 貴美子 | 1 | 女性 | 1976-10-04 | 42 | 151-0053 | 東京都渋谷区代々木**********           | S13031 | 20150529 | D-20100325-C |\n",
       "| 2 | CS015414000103 | 奥野 陽子     | 1 | 女性 | 1977-08-09 | 41 | 136-0073 | 東京都江東区北砂**********             | S13015 | 20150722 | B-20100609-B |\n",
       "| 3 | CS011215000048 | 芦田 沙耶     | 1 | 女性 | 1992-02-01 | 27 | 223-0062 | 神奈川県横浜市港北区日吉本町********** | S14011 | 20150228 | C-20100421-9 |\n",
       "| 4 | CS029415000023 | 梅田 里穂     | 1 | 女性 | 1976-01-17 | 43 | 279-0043 | 千葉県浦安市富士見**********           | S12029 | 20150610 | D-20100918-E |\n",
       "| 5 | CS035415000029 | 寺沢 真希     | 9 | 不明 | 1977-09-27 | 41 | 158-0096 | 東京都世田谷区玉川台**********         | S13035 | 20141220 | F-20101029-F |\n",
       "| 6 | CS031415000106 | 宇野 由美子   | 1 | 女性 | 1970-02-26 | 49 | 151-0053 | 東京都渋谷区代々木**********           | S13031 | 20150201 | F-20100511-E |\n",
       "| 7 | CS029215000025 | 石倉 美帆     | 1 | 女性 | 1993-09-28 | 25 | 279-0022 | 千葉県浦安市今川**********             | S12029 | 20150708 | B-20100820-C |\n",
       "| 8 | CS033605000005 | 猪股 雄太     | 0 | 男性 | 1955-12-05 | 63 | 246-0031 | 神奈川県横浜市瀬谷区瀬谷**********     | S14033 | 20150425 | F-20100917-E |\n",
       "| 9 | CS033415000229 | 板垣 菜々美   | 1 | 女性 | 1977-11-07 | 41 | 246-0021 | 神奈川県横浜市瀬谷区二ツ橋町********** | S14033 | 20150712 | F-20100326-E |\n",
       "| 10 | CS008415000145 | 黒谷 麻緒     | 1 | 女性 | 1977-06-27 | 41 | 157-0067 | 東京都世田谷区喜多見**********         | S13008 | 20150829 | F-20100622-F |\n",
       "\n"
      ],
      "text/plain": [
       "   customer_id    customer_name gender_cd gender birth_day  age postal_cd\n",
       "1  CS031415000172 宇多田 貴美子 1         女性   1976-10-04 42  151-0053 \n",
       "2  CS015414000103 奥野 陽子     1         女性   1977-08-09 41  136-0073 \n",
       "3  CS011215000048 芦田 沙耶     1         女性   1992-02-01 27  223-0062 \n",
       "4  CS029415000023 梅田 里穂     1         女性   1976-01-17 43  279-0043 \n",
       "5  CS035415000029 寺沢 真希     9         不明   1977-09-27 41  158-0096 \n",
       "6  CS031415000106 宇野 由美子   1         女性   1970-02-26 49  151-0053 \n",
       "7  CS029215000025 石倉 美帆     1         女性   1993-09-28 25  279-0022 \n",
       "8  CS033605000005 猪股 雄太     0         男性   1955-12-05 63  246-0031 \n",
       "9  CS033415000229 板垣 菜々美   1         女性   1977-11-07 41  246-0021 \n",
       "10 CS008415000145 黒谷 麻緒     1         女性   1977-06-27 41  157-0067 \n",
       "   address                                application_store_cd application_date\n",
       "1  東京都渋谷区代々木**********           S13031               20150529        \n",
       "2  東京都江東区北砂**********             S13015               20150722        \n",
       "3  神奈川県横浜市港北区日吉本町********** S14011               20150228        \n",
       "4  千葉県浦安市富士見**********           S12029               20150610        \n",
       "5  東京都世田谷区玉川台**********         S13035               20141220        \n",
       "6  東京都渋谷区代々木**********           S13031               20150201        \n",
       "7  千葉県浦安市今川**********             S12029               20150708        \n",
       "8  神奈川県横浜市瀬谷区瀬谷**********     S14033               20150425        \n",
       "9  神奈川県横浜市瀬谷区二ツ橋町********** S14033               20150712        \n",
       "10 東京都世田谷区喜多見**********         S13008               20150829        \n",
       "   status_cd   \n",
       "1  D-20100325-C\n",
       "2  B-20100609-B\n",
       "3  C-20100421-9\n",
       "4  D-20100918-E\n",
       "5  F-20101029-F\n",
       "6  F-20100511-E\n",
       "7  B-20100820-C\n",
       "8  F-20100917-E\n",
       "9  F-20100326-E\n",
       "10 F-20100622-F"
      ]
     },
     "metadata": {},
     "output_type": "display_data"
    }
   ],
   "source": [
    "df_customer %>% filter(str_detect(status_cd, \"^[A-F]\")) %>% head(10)"
   ]
  },
  {
   "cell_type": "markdown",
   "metadata": {},
   "source": [
    "---\n",
    "> R-014: 顧客データ（df_customer）から、ステータスコード（status_cd）の末尾が数字の1〜9で終わるデータを全項目抽出し、10件表示せよ。"
   ]
  },
  {
   "cell_type": "code",
   "execution_count": 16,
   "metadata": {},
   "outputs": [
    {
     "data": {
      "text/html": [
       "<table class=\"dataframe\">\n",
       "<caption>A data.frame: 10 × 11</caption>\n",
       "<thead>\n",
       "\t<tr><th></th><th scope=col>customer_id</th><th scope=col>customer_name</th><th scope=col>gender_cd</th><th scope=col>gender</th><th scope=col>birth_day</th><th scope=col>age</th><th scope=col>postal_cd</th><th scope=col>address</th><th scope=col>application_store_cd</th><th scope=col>application_date</th><th scope=col>status_cd</th></tr>\n",
       "\t<tr><th></th><th scope=col>&lt;chr&gt;</th><th scope=col>&lt;chr&gt;</th><th scope=col>&lt;chr&gt;</th><th scope=col>&lt;chr&gt;</th><th scope=col>&lt;date&gt;</th><th scope=col>&lt;int&gt;</th><th scope=col>&lt;chr&gt;</th><th scope=col>&lt;chr&gt;</th><th scope=col>&lt;chr&gt;</th><th scope=col>&lt;chr&gt;</th><th scope=col>&lt;chr&gt;</th></tr>\n",
       "</thead>\n",
       "<tbody>\n",
       "\t<tr><th scope=row>1</th><td>CS001215000145</td><td>田崎 美紀    </td><td>1</td><td>女性</td><td>1995-03-29</td><td>24</td><td>144-0055</td><td>東京都大田区仲六郷**********          </td><td>S13001</td><td>20170605</td><td>6-20090929-2</td></tr>\n",
       "\t<tr><th scope=row>2</th><td>CS033513000180</td><td>安斎 遥      </td><td>1</td><td>女性</td><td>1962-07-11</td><td>56</td><td>241-0823</td><td>神奈川県横浜市旭区善部町**********    </td><td>S14033</td><td>20150728</td><td>6-20080506-5</td></tr>\n",
       "\t<tr><th scope=row>3</th><td>CS011215000048</td><td>芦田 沙耶    </td><td>1</td><td>女性</td><td>1992-02-01</td><td>27</td><td>223-0062</td><td>神奈川県横浜市港北区日吉本町**********</td><td>S14011</td><td>20150228</td><td>C-20100421-9</td></tr>\n",
       "\t<tr><th scope=row>4</th><td>CS040412000191</td><td>川井 郁恵    </td><td>1</td><td>女性</td><td>1977-01-05</td><td>42</td><td>226-0021</td><td>神奈川県横浜市緑区北八朔町**********  </td><td>S14040</td><td>20151101</td><td>1-20091025-4</td></tr>\n",
       "\t<tr><th scope=row>5</th><td>CS009315000023</td><td>皆川 文世    </td><td>1</td><td>女性</td><td>1980-04-15</td><td>38</td><td>154-0012</td><td>東京都世田谷区駒沢**********          </td><td>S13009</td><td>20150319</td><td>5-20080322-1</td></tr>\n",
       "\t<tr><th scope=row>6</th><td>CS015315000033</td><td>福士 璃奈子  </td><td>1</td><td>女性</td><td>1983-03-17</td><td>36</td><td>135-0043</td><td>東京都江東区塩浜**********            </td><td>S13015</td><td>20141024</td><td>4-20080219-3</td></tr>\n",
       "\t<tr><th scope=row>7</th><td>CS023513000066</td><td>神戸 そら    </td><td>1</td><td>女性</td><td>1961-12-17</td><td>57</td><td>210-0005</td><td>神奈川県川崎市川崎区東田町**********  </td><td>S14023</td><td>20150915</td><td>5-20100524-9</td></tr>\n",
       "\t<tr><th scope=row>8</th><td>CS035513000134</td><td>市川 美帆    </td><td>1</td><td>女性</td><td>1960-03-27</td><td>59</td><td>156-0053</td><td>東京都世田谷区桜**********            </td><td>S13035</td><td>20150227</td><td>8-20100711-9</td></tr>\n",
       "\t<tr><th scope=row>9</th><td>CS001515000263</td><td>高松 夏空    </td><td>1</td><td>女性</td><td>1962-11-09</td><td>56</td><td>144-0051</td><td>東京都大田区西蒲田**********          </td><td>S13001</td><td>20160812</td><td>1-20100804-1</td></tr>\n",
       "\t<tr><th scope=row>10</th><td>CS040314000027</td><td>鶴田 きみまろ</td><td>9</td><td>不明</td><td>1986-03-26</td><td>33</td><td>226-0027</td><td>神奈川県横浜市緑区長津田**********    </td><td>S14040</td><td>20150122</td><td>2-20080426-4</td></tr>\n",
       "</tbody>\n",
       "</table>\n"
      ],
      "text/latex": [
       "A data.frame: 10 × 11\n",
       "\\begin{tabular}{r|lllllllllll}\n",
       "  & customer\\_id & customer\\_name & gender\\_cd & gender & birth\\_day & age & postal\\_cd & address & application\\_store\\_cd & application\\_date & status\\_cd\\\\\n",
       "  & <chr> & <chr> & <chr> & <chr> & <date> & <int> & <chr> & <chr> & <chr> & <chr> & <chr>\\\\\n",
       "\\hline\n",
       "\t1 & CS001215000145 & 田崎 美紀     & 1 & 女性 & 1995-03-29 & 24 & 144-0055 & 東京都大田区仲六郷**********           & S13001 & 20170605 & 6-20090929-2\\\\\n",
       "\t2 & CS033513000180 & 安斎 遥       & 1 & 女性 & 1962-07-11 & 56 & 241-0823 & 神奈川県横浜市旭区善部町**********     & S14033 & 20150728 & 6-20080506-5\\\\\n",
       "\t3 & CS011215000048 & 芦田 沙耶     & 1 & 女性 & 1992-02-01 & 27 & 223-0062 & 神奈川県横浜市港北区日吉本町********** & S14011 & 20150228 & C-20100421-9\\\\\n",
       "\t4 & CS040412000191 & 川井 郁恵     & 1 & 女性 & 1977-01-05 & 42 & 226-0021 & 神奈川県横浜市緑区北八朔町**********   & S14040 & 20151101 & 1-20091025-4\\\\\n",
       "\t5 & CS009315000023 & 皆川 文世     & 1 & 女性 & 1980-04-15 & 38 & 154-0012 & 東京都世田谷区駒沢**********           & S13009 & 20150319 & 5-20080322-1\\\\\n",
       "\t6 & CS015315000033 & 福士 璃奈子   & 1 & 女性 & 1983-03-17 & 36 & 135-0043 & 東京都江東区塩浜**********             & S13015 & 20141024 & 4-20080219-3\\\\\n",
       "\t7 & CS023513000066 & 神戸 そら     & 1 & 女性 & 1961-12-17 & 57 & 210-0005 & 神奈川県川崎市川崎区東田町**********   & S14023 & 20150915 & 5-20100524-9\\\\\n",
       "\t8 & CS035513000134 & 市川 美帆     & 1 & 女性 & 1960-03-27 & 59 & 156-0053 & 東京都世田谷区桜**********             & S13035 & 20150227 & 8-20100711-9\\\\\n",
       "\t9 & CS001515000263 & 高松 夏空     & 1 & 女性 & 1962-11-09 & 56 & 144-0051 & 東京都大田区西蒲田**********           & S13001 & 20160812 & 1-20100804-1\\\\\n",
       "\t10 & CS040314000027 & 鶴田 きみまろ & 9 & 不明 & 1986-03-26 & 33 & 226-0027 & 神奈川県横浜市緑区長津田**********     & S14040 & 20150122 & 2-20080426-4\\\\\n",
       "\\end{tabular}\n"
      ],
      "text/markdown": [
       "\n",
       "A data.frame: 10 × 11\n",
       "\n",
       "| <!--/--> | customer_id &lt;chr&gt; | customer_name &lt;chr&gt; | gender_cd &lt;chr&gt; | gender &lt;chr&gt; | birth_day &lt;date&gt; | age &lt;int&gt; | postal_cd &lt;chr&gt; | address &lt;chr&gt; | application_store_cd &lt;chr&gt; | application_date &lt;chr&gt; | status_cd &lt;chr&gt; |\n",
       "|---|---|---|---|---|---|---|---|---|---|---|---|\n",
       "| 1 | CS001215000145 | 田崎 美紀     | 1 | 女性 | 1995-03-29 | 24 | 144-0055 | 東京都大田区仲六郷**********           | S13001 | 20170605 | 6-20090929-2 |\n",
       "| 2 | CS033513000180 | 安斎 遥       | 1 | 女性 | 1962-07-11 | 56 | 241-0823 | 神奈川県横浜市旭区善部町**********     | S14033 | 20150728 | 6-20080506-5 |\n",
       "| 3 | CS011215000048 | 芦田 沙耶     | 1 | 女性 | 1992-02-01 | 27 | 223-0062 | 神奈川県横浜市港北区日吉本町********** | S14011 | 20150228 | C-20100421-9 |\n",
       "| 4 | CS040412000191 | 川井 郁恵     | 1 | 女性 | 1977-01-05 | 42 | 226-0021 | 神奈川県横浜市緑区北八朔町**********   | S14040 | 20151101 | 1-20091025-4 |\n",
       "| 5 | CS009315000023 | 皆川 文世     | 1 | 女性 | 1980-04-15 | 38 | 154-0012 | 東京都世田谷区駒沢**********           | S13009 | 20150319 | 5-20080322-1 |\n",
       "| 6 | CS015315000033 | 福士 璃奈子   | 1 | 女性 | 1983-03-17 | 36 | 135-0043 | 東京都江東区塩浜**********             | S13015 | 20141024 | 4-20080219-3 |\n",
       "| 7 | CS023513000066 | 神戸 そら     | 1 | 女性 | 1961-12-17 | 57 | 210-0005 | 神奈川県川崎市川崎区東田町**********   | S14023 | 20150915 | 5-20100524-9 |\n",
       "| 8 | CS035513000134 | 市川 美帆     | 1 | 女性 | 1960-03-27 | 59 | 156-0053 | 東京都世田谷区桜**********             | S13035 | 20150227 | 8-20100711-9 |\n",
       "| 9 | CS001515000263 | 高松 夏空     | 1 | 女性 | 1962-11-09 | 56 | 144-0051 | 東京都大田区西蒲田**********           | S13001 | 20160812 | 1-20100804-1 |\n",
       "| 10 | CS040314000027 | 鶴田 きみまろ | 9 | 不明 | 1986-03-26 | 33 | 226-0027 | 神奈川県横浜市緑区長津田**********     | S14040 | 20150122 | 2-20080426-4 |\n",
       "\n"
      ],
      "text/plain": [
       "   customer_id    customer_name gender_cd gender birth_day  age postal_cd\n",
       "1  CS001215000145 田崎 美紀     1         女性   1995-03-29 24  144-0055 \n",
       "2  CS033513000180 安斎 遥       1         女性   1962-07-11 56  241-0823 \n",
       "3  CS011215000048 芦田 沙耶     1         女性   1992-02-01 27  223-0062 \n",
       "4  CS040412000191 川井 郁恵     1         女性   1977-01-05 42  226-0021 \n",
       "5  CS009315000023 皆川 文世     1         女性   1980-04-15 38  154-0012 \n",
       "6  CS015315000033 福士 璃奈子   1         女性   1983-03-17 36  135-0043 \n",
       "7  CS023513000066 神戸 そら     1         女性   1961-12-17 57  210-0005 \n",
       "8  CS035513000134 市川 美帆     1         女性   1960-03-27 59  156-0053 \n",
       "9  CS001515000263 高松 夏空     1         女性   1962-11-09 56  144-0051 \n",
       "10 CS040314000027 鶴田 きみまろ 9         不明   1986-03-26 33  226-0027 \n",
       "   address                                application_store_cd application_date\n",
       "1  東京都大田区仲六郷**********           S13001               20170605        \n",
       "2  神奈川県横浜市旭区善部町**********     S14033               20150728        \n",
       "3  神奈川県横浜市港北区日吉本町********** S14011               20150228        \n",
       "4  神奈川県横浜市緑区北八朔町**********   S14040               20151101        \n",
       "5  東京都世田谷区駒沢**********           S13009               20150319        \n",
       "6  東京都江東区塩浜**********             S13015               20141024        \n",
       "7  神奈川県川崎市川崎区東田町**********   S14023               20150915        \n",
       "8  東京都世田谷区桜**********             S13035               20150227        \n",
       "9  東京都大田区西蒲田**********           S13001               20160812        \n",
       "10 神奈川県横浜市緑区長津田**********     S14040               20150122        \n",
       "   status_cd   \n",
       "1  6-20090929-2\n",
       "2  6-20080506-5\n",
       "3  C-20100421-9\n",
       "4  1-20091025-4\n",
       "5  5-20080322-1\n",
       "6  4-20080219-3\n",
       "7  5-20100524-9\n",
       "8  8-20100711-9\n",
       "9  1-20100804-1\n",
       "10 2-20080426-4"
      ]
     },
     "metadata": {},
     "output_type": "display_data"
    }
   ],
   "source": [
    "df_customer %>% filter(str_detect(status_cd, \"[1-9]$\")) %>% head(10)"
   ]
  },
  {
   "cell_type": "markdown",
   "metadata": {},
   "source": [
    "---\n",
    "> R-015: 顧客データ（df_customer）から、ステータスコード（status_cd）の先頭がアルファベットのA〜Fで始まり、末尾が数字の1〜9で終わるデータを全項目抽出し、10件表示せよ。"
   ]
  },
  {
   "cell_type": "code",
   "execution_count": 17,
   "metadata": {},
   "outputs": [
    {
     "data": {
      "text/html": [
       "<table class=\"dataframe\">\n",
       "<caption>A data.frame: 10 × 11</caption>\n",
       "<thead>\n",
       "\t<tr><th></th><th scope=col>customer_id</th><th scope=col>customer_name</th><th scope=col>gender_cd</th><th scope=col>gender</th><th scope=col>birth_day</th><th scope=col>age</th><th scope=col>postal_cd</th><th scope=col>address</th><th scope=col>application_store_cd</th><th scope=col>application_date</th><th scope=col>status_cd</th></tr>\n",
       "\t<tr><th></th><th scope=col>&lt;chr&gt;</th><th scope=col>&lt;chr&gt;</th><th scope=col>&lt;chr&gt;</th><th scope=col>&lt;chr&gt;</th><th scope=col>&lt;date&gt;</th><th scope=col>&lt;int&gt;</th><th scope=col>&lt;chr&gt;</th><th scope=col>&lt;chr&gt;</th><th scope=col>&lt;chr&gt;</th><th scope=col>&lt;chr&gt;</th><th scope=col>&lt;chr&gt;</th></tr>\n",
       "</thead>\n",
       "<tbody>\n",
       "\t<tr><th scope=row>1</th><td>CS011215000048</td><td>芦田 沙耶  </td><td>1</td><td>女性</td><td>1992-02-01</td><td>27</td><td>223-0062</td><td>神奈川県横浜市港北区日吉本町**********</td><td>S14011</td><td>20150228</td><td>C-20100421-9</td></tr>\n",
       "\t<tr><th scope=row>2</th><td>CS022513000105</td><td>島村 貴美子</td><td>1</td><td>女性</td><td>1962-03-12</td><td>57</td><td>249-0002</td><td>神奈川県逗子市山の根**********        </td><td>S14022</td><td>20150320</td><td>A-20091115-7</td></tr>\n",
       "\t<tr><th scope=row>3</th><td>CS001515000096</td><td>水野 陽子  </td><td>9</td><td>不明</td><td>1960-11-29</td><td>58</td><td>144-0053</td><td>東京都大田区蒲田本町**********        </td><td>S13001</td><td>20150614</td><td>A-20100724-7</td></tr>\n",
       "\t<tr><th scope=row>4</th><td>CS013615000053</td><td>西脇 季衣  </td><td>1</td><td>女性</td><td>1953-10-18</td><td>65</td><td>261-0026</td><td>千葉県千葉市美浜区幕張西**********    </td><td>S12013</td><td>20150128</td><td>B-20100329-6</td></tr>\n",
       "\t<tr><th scope=row>5</th><td>CS020412000161</td><td>小宮 薫    </td><td>1</td><td>女性</td><td>1974-05-21</td><td>44</td><td>174-0042</td><td>東京都板橋区東坂下**********          </td><td>S13020</td><td>20150822</td><td>B-20081021-3</td></tr>\n",
       "\t<tr><th scope=row>6</th><td>CS001215000097</td><td>竹中 あさみ</td><td>1</td><td>女性</td><td>1990-07-25</td><td>28</td><td>146-0095</td><td>東京都大田区多摩川**********          </td><td>S13001</td><td>20170315</td><td>A-20100211-2</td></tr>\n",
       "\t<tr><th scope=row>7</th><td>CS035212000007</td><td>内村 恵梨香</td><td>1</td><td>女性</td><td>1990-12-04</td><td>28</td><td>152-0023</td><td>東京都目黒区八雲**********            </td><td>S13035</td><td>20151013</td><td>B-20101018-6</td></tr>\n",
       "\t<tr><th scope=row>8</th><td>CS002515000386</td><td>野田 コウ  </td><td>1</td><td>女性</td><td>1963-05-30</td><td>55</td><td>185-0013</td><td>東京都国分寺市西恋ケ窪**********      </td><td>S13002</td><td>20160410</td><td>C-20100127-8</td></tr>\n",
       "\t<tr><th scope=row>9</th><td>CS001615000372</td><td>稲垣 寿々花</td><td>1</td><td>女性</td><td>1956-10-29</td><td>62</td><td>144-0035</td><td>東京都大田区南蒲田**********          </td><td>S13001</td><td>20170403</td><td>A-20100104-1</td></tr>\n",
       "\t<tr><th scope=row>10</th><td>CS032512000121</td><td>松井 知世  </td><td>1</td><td>女性</td><td>1962-09-04</td><td>56</td><td>210-0011</td><td>神奈川県川崎市川崎区富士見**********  </td><td>S13032</td><td>20150727</td><td>A-20100103-5</td></tr>\n",
       "</tbody>\n",
       "</table>\n"
      ],
      "text/latex": [
       "A data.frame: 10 × 11\n",
       "\\begin{tabular}{r|lllllllllll}\n",
       "  & customer\\_id & customer\\_name & gender\\_cd & gender & birth\\_day & age & postal\\_cd & address & application\\_store\\_cd & application\\_date & status\\_cd\\\\\n",
       "  & <chr> & <chr> & <chr> & <chr> & <date> & <int> & <chr> & <chr> & <chr> & <chr> & <chr>\\\\\n",
       "\\hline\n",
       "\t1 & CS011215000048 & 芦田 沙耶   & 1 & 女性 & 1992-02-01 & 27 & 223-0062 & 神奈川県横浜市港北区日吉本町********** & S14011 & 20150228 & C-20100421-9\\\\\n",
       "\t2 & CS022513000105 & 島村 貴美子 & 1 & 女性 & 1962-03-12 & 57 & 249-0002 & 神奈川県逗子市山の根**********         & S14022 & 20150320 & A-20091115-7\\\\\n",
       "\t3 & CS001515000096 & 水野 陽子   & 9 & 不明 & 1960-11-29 & 58 & 144-0053 & 東京都大田区蒲田本町**********         & S13001 & 20150614 & A-20100724-7\\\\\n",
       "\t4 & CS013615000053 & 西脇 季衣   & 1 & 女性 & 1953-10-18 & 65 & 261-0026 & 千葉県千葉市美浜区幕張西**********     & S12013 & 20150128 & B-20100329-6\\\\\n",
       "\t5 & CS020412000161 & 小宮 薫     & 1 & 女性 & 1974-05-21 & 44 & 174-0042 & 東京都板橋区東坂下**********           & S13020 & 20150822 & B-20081021-3\\\\\n",
       "\t6 & CS001215000097 & 竹中 あさみ & 1 & 女性 & 1990-07-25 & 28 & 146-0095 & 東京都大田区多摩川**********           & S13001 & 20170315 & A-20100211-2\\\\\n",
       "\t7 & CS035212000007 & 内村 恵梨香 & 1 & 女性 & 1990-12-04 & 28 & 152-0023 & 東京都目黒区八雲**********             & S13035 & 20151013 & B-20101018-6\\\\\n",
       "\t8 & CS002515000386 & 野田 コウ   & 1 & 女性 & 1963-05-30 & 55 & 185-0013 & 東京都国分寺市西恋ケ窪**********       & S13002 & 20160410 & C-20100127-8\\\\\n",
       "\t9 & CS001615000372 & 稲垣 寿々花 & 1 & 女性 & 1956-10-29 & 62 & 144-0035 & 東京都大田区南蒲田**********           & S13001 & 20170403 & A-20100104-1\\\\\n",
       "\t10 & CS032512000121 & 松井 知世   & 1 & 女性 & 1962-09-04 & 56 & 210-0011 & 神奈川県川崎市川崎区富士見**********   & S13032 & 20150727 & A-20100103-5\\\\\n",
       "\\end{tabular}\n"
      ],
      "text/markdown": [
       "\n",
       "A data.frame: 10 × 11\n",
       "\n",
       "| <!--/--> | customer_id &lt;chr&gt; | customer_name &lt;chr&gt; | gender_cd &lt;chr&gt; | gender &lt;chr&gt; | birth_day &lt;date&gt; | age &lt;int&gt; | postal_cd &lt;chr&gt; | address &lt;chr&gt; | application_store_cd &lt;chr&gt; | application_date &lt;chr&gt; | status_cd &lt;chr&gt; |\n",
       "|---|---|---|---|---|---|---|---|---|---|---|---|\n",
       "| 1 | CS011215000048 | 芦田 沙耶   | 1 | 女性 | 1992-02-01 | 27 | 223-0062 | 神奈川県横浜市港北区日吉本町********** | S14011 | 20150228 | C-20100421-9 |\n",
       "| 2 | CS022513000105 | 島村 貴美子 | 1 | 女性 | 1962-03-12 | 57 | 249-0002 | 神奈川県逗子市山の根**********         | S14022 | 20150320 | A-20091115-7 |\n",
       "| 3 | CS001515000096 | 水野 陽子   | 9 | 不明 | 1960-11-29 | 58 | 144-0053 | 東京都大田区蒲田本町**********         | S13001 | 20150614 | A-20100724-7 |\n",
       "| 4 | CS013615000053 | 西脇 季衣   | 1 | 女性 | 1953-10-18 | 65 | 261-0026 | 千葉県千葉市美浜区幕張西**********     | S12013 | 20150128 | B-20100329-6 |\n",
       "| 5 | CS020412000161 | 小宮 薫     | 1 | 女性 | 1974-05-21 | 44 | 174-0042 | 東京都板橋区東坂下**********           | S13020 | 20150822 | B-20081021-3 |\n",
       "| 6 | CS001215000097 | 竹中 あさみ | 1 | 女性 | 1990-07-25 | 28 | 146-0095 | 東京都大田区多摩川**********           | S13001 | 20170315 | A-20100211-2 |\n",
       "| 7 | CS035212000007 | 内村 恵梨香 | 1 | 女性 | 1990-12-04 | 28 | 152-0023 | 東京都目黒区八雲**********             | S13035 | 20151013 | B-20101018-6 |\n",
       "| 8 | CS002515000386 | 野田 コウ   | 1 | 女性 | 1963-05-30 | 55 | 185-0013 | 東京都国分寺市西恋ケ窪**********       | S13002 | 20160410 | C-20100127-8 |\n",
       "| 9 | CS001615000372 | 稲垣 寿々花 | 1 | 女性 | 1956-10-29 | 62 | 144-0035 | 東京都大田区南蒲田**********           | S13001 | 20170403 | A-20100104-1 |\n",
       "| 10 | CS032512000121 | 松井 知世   | 1 | 女性 | 1962-09-04 | 56 | 210-0011 | 神奈川県川崎市川崎区富士見**********   | S13032 | 20150727 | A-20100103-5 |\n",
       "\n"
      ],
      "text/plain": [
       "   customer_id    customer_name gender_cd gender birth_day  age postal_cd\n",
       "1  CS011215000048 芦田 沙耶     1         女性   1992-02-01 27  223-0062 \n",
       "2  CS022513000105 島村 貴美子   1         女性   1962-03-12 57  249-0002 \n",
       "3  CS001515000096 水野 陽子     9         不明   1960-11-29 58  144-0053 \n",
       "4  CS013615000053 西脇 季衣     1         女性   1953-10-18 65  261-0026 \n",
       "5  CS020412000161 小宮 薫       1         女性   1974-05-21 44  174-0042 \n",
       "6  CS001215000097 竹中 あさみ   1         女性   1990-07-25 28  146-0095 \n",
       "7  CS035212000007 内村 恵梨香   1         女性   1990-12-04 28  152-0023 \n",
       "8  CS002515000386 野田 コウ     1         女性   1963-05-30 55  185-0013 \n",
       "9  CS001615000372 稲垣 寿々花   1         女性   1956-10-29 62  144-0035 \n",
       "10 CS032512000121 松井 知世     1         女性   1962-09-04 56  210-0011 \n",
       "   address                                application_store_cd application_date\n",
       "1  神奈川県横浜市港北区日吉本町********** S14011               20150228        \n",
       "2  神奈川県逗子市山の根**********         S14022               20150320        \n",
       "3  東京都大田区蒲田本町**********         S13001               20150614        \n",
       "4  千葉県千葉市美浜区幕張西**********     S12013               20150128        \n",
       "5  東京都板橋区東坂下**********           S13020               20150822        \n",
       "6  東京都大田区多摩川**********           S13001               20170315        \n",
       "7  東京都目黒区八雲**********             S13035               20151013        \n",
       "8  東京都国分寺市西恋ケ窪**********       S13002               20160410        \n",
       "9  東京都大田区南蒲田**********           S13001               20170403        \n",
       "10 神奈川県川崎市川崎区富士見**********   S13032               20150727        \n",
       "   status_cd   \n",
       "1  C-20100421-9\n",
       "2  A-20091115-7\n",
       "3  A-20100724-7\n",
       "4  B-20100329-6\n",
       "5  B-20081021-3\n",
       "6  A-20100211-2\n",
       "7  B-20101018-6\n",
       "8  C-20100127-8\n",
       "9  A-20100104-1\n",
       "10 A-20100103-5"
      ]
     },
     "metadata": {},
     "output_type": "display_data"
    }
   ],
   "source": [
    "df_customer %>% filter(str_detect(status_cd, \"^[A-F]\") & str_detect(status_cd, \"[1-9]$\")) %>% head(10)"
   ]
  },
  {
   "cell_type": "markdown",
   "metadata": {},
   "source": [
    "---\n",
    "> R-016: 店舗データ（df_store）から、電話番号（tel_no）が3桁-3桁-4桁のデータを全項目表示せよ。"
   ]
  },
  {
   "cell_type": "code",
   "execution_count": 18,
   "metadata": {},
   "outputs": [
    {
     "data": {
      "text/html": [
       "<table class=\"dataframe\">\n",
       "<caption>A data.frame: 34 × 10</caption>\n",
       "<thead>\n",
       "\t<tr><th scope=col>store_cd</th><th scope=col>store_name</th><th scope=col>prefecture_cd</th><th scope=col>prefecture</th><th scope=col>address</th><th scope=col>address_kana</th><th scope=col>tel_no</th><th scope=col>longitude</th><th scope=col>latitude</th><th scope=col>floor_area</th></tr>\n",
       "\t<tr><th scope=col>&lt;chr&gt;</th><th scope=col>&lt;chr&gt;</th><th scope=col>&lt;chr&gt;</th><th scope=col>&lt;chr&gt;</th><th scope=col>&lt;chr&gt;</th><th scope=col>&lt;chr&gt;</th><th scope=col>&lt;chr&gt;</th><th scope=col>&lt;dbl&gt;</th><th scope=col>&lt;dbl&gt;</th><th scope=col>&lt;dbl&gt;</th></tr>\n",
       "</thead>\n",
       "<tbody>\n",
       "\t<tr><td>S12014</td><td>千草台店    </td><td>12</td><td>千葉県  </td><td>千葉県千葉市稲毛区千草台一丁目        </td><td>チバケンチバシイナゲクチグサダイイッチョウメ                </td><td>043-123-4003</td><td>140.1180</td><td>35.63559</td><td>1698</td></tr>\n",
       "\t<tr><td>S13002</td><td>国分寺店    </td><td>13</td><td>東京都  </td><td>東京都国分寺市本多二丁目              </td><td>トウキョウトコクブンジシホンダニチョウメ                    </td><td>042-123-4008</td><td>139.4802</td><td>35.70566</td><td>1735</td></tr>\n",
       "\t<tr><td>S14010</td><td>菊名店      </td><td>14</td><td>神奈川県</td><td>神奈川県横浜市港北区菊名一丁目        </td><td>カナガワケンヨコハマシコウホククキクナイッチョウメ          </td><td>045-123-4032</td><td>139.6326</td><td>35.50049</td><td>1732</td></tr>\n",
       "\t<tr><td>S14033</td><td>阿久和店    </td><td>14</td><td>神奈川県</td><td>神奈川県横浜市瀬谷区阿久和西一丁目    </td><td>カナガワケンヨコハマシセヤクアクワニシイッチョウメ          </td><td>045-123-4043</td><td>139.4961</td><td>35.45918</td><td>1495</td></tr>\n",
       "\t<tr><td>S14036</td><td>相模原中央店</td><td>14</td><td>神奈川県</td><td>神奈川県相模原市中央二丁目            </td><td>カナガワケンサガミハラシチュウオウニチョウメ                </td><td>042-123-4045</td><td>139.3716</td><td>35.57327</td><td>1679</td></tr>\n",
       "\t<tr><td>S14040</td><td>長津田店    </td><td>14</td><td>神奈川県</td><td>神奈川県横浜市緑区長津田みなみ台五丁目</td><td>カナガワケンヨコハマシミドリクナガツタミナミダイゴチョウメ  </td><td>045-123-4046</td><td>139.4994</td><td>35.52398</td><td>1548</td></tr>\n",
       "\t<tr><td>S14050</td><td>阿久和西店  </td><td>14</td><td>神奈川県</td><td>神奈川県横浜市瀬谷区阿久和西一丁目    </td><td>カナガワケンヨコハマシセヤクアクワニシイッチョウメ          </td><td>045-123-4053</td><td>139.4961</td><td>35.45918</td><td>1830</td></tr>\n",
       "\t<tr><td>S13052</td><td>森野店      </td><td>13</td><td>東京都  </td><td>東京都町田市森野三丁目                </td><td>トウキョウトマチダシモリノサンチョウメ                      </td><td>042-123-4030</td><td>139.4383</td><td>35.55293</td><td>1087</td></tr>\n",
       "\t<tr><td>S14028</td><td>二ツ橋店    </td><td>14</td><td>神奈川県</td><td>神奈川県横浜市瀬谷区二ツ橋町          </td><td>カナガワケンヨコハマシセヤクフタツバシチョウ                </td><td>045-123-4042</td><td>139.4963</td><td>35.46304</td><td>1574</td></tr>\n",
       "\t<tr><td>S14012</td><td>本牧和田店  </td><td>14</td><td>神奈川県</td><td>神奈川県横浜市中区本牧和田            </td><td>カナガワケンヨコハマシナカクホンモクワダ                    </td><td>045-123-4034</td><td>139.6582</td><td>35.42156</td><td>1341</td></tr>\n",
       "\t<tr><td>S14046</td><td>北山田店    </td><td>14</td><td>神奈川県</td><td>神奈川県横浜市都筑区北山田一丁目      </td><td>カナガワケンヨコハマシツヅキクキタヤマタイッチョウメ        </td><td>045-123-4049</td><td>139.5916</td><td>35.56189</td><td> 831</td></tr>\n",
       "\t<tr><td>S14022</td><td>逗子店      </td><td>14</td><td>神奈川県</td><td>神奈川県逗子市逗子一丁目              </td><td>カナガワケンズシシズシイッチョウメ                          </td><td>046-123-4036</td><td>139.5789</td><td>35.29642</td><td>1838</td></tr>\n",
       "\t<tr><td>S14011</td><td>日吉本町店  </td><td>14</td><td>神奈川県</td><td>神奈川県横浜市港北区日吉本町四丁目    </td><td>カナガワケンヨコハマシコウホククヒヨシホンチョウヨンチョウメ</td><td>045-123-4033</td><td>139.6316</td><td>35.54655</td><td> 890</td></tr>\n",
       "\t<tr><td>S13016</td><td>小金井店    </td><td>13</td><td>東京都  </td><td>東京都小金井市本町一丁目              </td><td>トウキョウトコガネイシホンチョウイッチョウメ                </td><td>042-123-4015</td><td>139.5094</td><td>35.70018</td><td>1399</td></tr>\n",
       "\t<tr><td>S14034</td><td>川崎野川店  </td><td>14</td><td>神奈川県</td><td>神奈川県川崎市宮前区野川              </td><td>カナガワケンカワサキシミヤマエクノガワ                      </td><td>044-123-4044</td><td>139.5998</td><td>35.57693</td><td>1318</td></tr>\n",
       "\t<tr><td>S14048</td><td>中川中央店  </td><td>14</td><td>神奈川県</td><td>神奈川県横浜市都筑区中川中央二丁目    </td><td>カナガワケンヨコハマシツヅキクナカガワチュウオウニチョウメ  </td><td>045-123-4051</td><td>139.5758</td><td>35.54912</td><td>1657</td></tr>\n",
       "\t<tr><td>S12007</td><td>佐倉店      </td><td>12</td><td>千葉県  </td><td>千葉県佐倉市上志津                    </td><td>チバケンサクラシカミシヅ                                    </td><td>043-123-4001</td><td>140.1452</td><td>35.71872</td><td>1895</td></tr>\n",
       "\t<tr><td>S14026</td><td>辻堂西海岸店</td><td>14</td><td>神奈川県</td><td>神奈川県藤沢市辻堂西海岸二丁目        </td><td>カナガワケンフジサワシツジドウニシカイガンニチョウメ        </td><td>046-123-4040</td><td>139.4466</td><td>35.32464</td><td>1732</td></tr>\n",
       "\t<tr><td>S13041</td><td>八王子店    </td><td>13</td><td>東京都  </td><td>東京都八王子市大塚                    </td><td>トウキョウトハチオウジシオオツカ                            </td><td>042-123-4026</td><td>139.4235</td><td>35.63787</td><td> 810</td></tr>\n",
       "\t<tr><td>S14049</td><td>川崎大師店  </td><td>14</td><td>神奈川県</td><td>神奈川県川崎市川崎区中瀬三丁目        </td><td>カナガワケンカワサキシカワサキクナカゼサンチョウメ          </td><td>044-123-4052</td><td>139.7327</td><td>35.53759</td><td> 962</td></tr>\n",
       "\t<tr><td>S14023</td><td>川崎店      </td><td>14</td><td>神奈川県</td><td>神奈川県川崎市川崎区本町二丁目        </td><td>カナガワケンカワサキシカワサキクホンチョウニチョウメ        </td><td>044-123-4037</td><td>139.7028</td><td>35.53599</td><td>1804</td></tr>\n",
       "\t<tr><td>S13018</td><td>清瀬店      </td><td>13</td><td>東京都  </td><td>東京都清瀬市松山一丁目                </td><td>トウキョウトキヨセシマツヤマイッチョウメ                    </td><td>042-123-4017</td><td>139.5178</td><td>35.76885</td><td>1220</td></tr>\n",
       "\t<tr><td>S14027</td><td>南藤沢店    </td><td>14</td><td>神奈川県</td><td>神奈川県藤沢市南藤沢                  </td><td>カナガワケンフジサワシミナミフジサワ                        </td><td>046-123-4041</td><td>139.4896</td><td>35.33762</td><td>1521</td></tr>\n",
       "\t<tr><td>S14021</td><td>伊勢原店    </td><td>14</td><td>神奈川県</td><td>神奈川県伊勢原市伊勢原四丁目          </td><td>カナガワケンイセハラシイセハラヨンチョウメ                  </td><td>046-123-4035</td><td>139.3129</td><td>35.40169</td><td> 962</td></tr>\n",
       "\t<tr><td>S14047</td><td>相模原店    </td><td>14</td><td>神奈川県</td><td>神奈川県相模原市千代田六丁目          </td><td>カナガワケンサガミハラシチヨダロクチョウメ                  </td><td>042-123-4050</td><td>139.3748</td><td>35.55959</td><td>1047</td></tr>\n",
       "\t<tr><td>S12013</td><td>習志野店    </td><td>12</td><td>千葉県  </td><td>千葉県習志野市芝園一丁目              </td><td>チバケンナラシノシシバゾノイッチョウメ                      </td><td>047-123-4002</td><td>140.0220</td><td>35.66122</td><td> 808</td></tr>\n",
       "\t<tr><td>S14042</td><td>新山下店    </td><td>14</td><td>神奈川県</td><td>神奈川県横浜市中区新山下二丁目        </td><td>カナガワケンヨコハマシナカクシンヤマシタニチョウメ          </td><td>045-123-4047</td><td>139.6593</td><td>35.43894</td><td>1044</td></tr>\n",
       "\t<tr><td>S12030</td><td>八幡店      </td><td>12</td><td>千葉県  </td><td>千葉県市川市八幡三丁目                </td><td>チバケンイチカワシヤワタサンチョウメ                        </td><td>047-123-4005</td><td>139.9240</td><td>35.72318</td><td>1162</td></tr>\n",
       "\t<tr><td>S14025</td><td>大和店      </td><td>14</td><td>神奈川県</td><td>神奈川県大和市下和田                  </td><td>カナガワケンヤマトシシモワダ                                </td><td>046-123-4039</td><td>139.4680</td><td>35.43414</td><td>1011</td></tr>\n",
       "\t<tr><td>S14045</td><td>厚木店      </td><td>14</td><td>神奈川県</td><td>神奈川県厚木市中町二丁目              </td><td>カナガワケンアツギシナカチョウニチョウメ                    </td><td>046-123-4048</td><td>139.3651</td><td>35.44182</td><td> 980</td></tr>\n",
       "\t<tr><td>S12029</td><td>東野店      </td><td>12</td><td>千葉県  </td><td>千葉県浦安市東野一丁目                </td><td>チバケンウラヤスシヒガシノイッチョウメ                      </td><td>047-123-4004</td><td>139.8968</td><td>35.65086</td><td>1101</td></tr>\n",
       "\t<tr><td>S12053</td><td>高洲店      </td><td>12</td><td>千葉県  </td><td>千葉県浦安市高洲五丁目                </td><td>チバケンウラヤスシタカスゴチョウメ                          </td><td>047-123-4006</td><td>139.9176</td><td>35.63755</td><td>1555</td></tr>\n",
       "\t<tr><td>S14024</td><td>三田店      </td><td>14</td><td>神奈川県</td><td>神奈川県川崎市多摩区三田四丁目        </td><td>カナガワケンカワサキシタマクミタヨンチョウメ                </td><td>044-123-4038</td><td>139.5424</td><td>35.60770</td><td> 972</td></tr>\n",
       "\t<tr><td>S14006</td><td>葛が谷店    </td><td>14</td><td>神奈川県</td><td>神奈川県横浜市都筑区葛が谷            </td><td>カナガワケンヨコハマシツヅキククズガヤ                      </td><td>045-123-4031</td><td>139.5633</td><td>35.53573</td><td>1886</td></tr>\n",
       "</tbody>\n",
       "</table>\n"
      ],
      "text/latex": [
       "A data.frame: 34 × 10\n",
       "\\begin{tabular}{llllllllll}\n",
       " store\\_cd & store\\_name & prefecture\\_cd & prefecture & address & address\\_kana & tel\\_no & longitude & latitude & floor\\_area\\\\\n",
       " <chr> & <chr> & <chr> & <chr> & <chr> & <chr> & <chr> & <dbl> & <dbl> & <dbl>\\\\\n",
       "\\hline\n",
       "\t S12014 & 千草台店     & 12 & 千葉県   & 千葉県千葉市稲毛区千草台一丁目         & チバケンチバシイナゲクチグサダイイッチョウメ                 & 043-123-4003 & 140.1180 & 35.63559 & 1698\\\\\n",
       "\t S13002 & 国分寺店     & 13 & 東京都   & 東京都国分寺市本多二丁目               & トウキョウトコクブンジシホンダニチョウメ                     & 042-123-4008 & 139.4802 & 35.70566 & 1735\\\\\n",
       "\t S14010 & 菊名店       & 14 & 神奈川県 & 神奈川県横浜市港北区菊名一丁目         & カナガワケンヨコハマシコウホククキクナイッチョウメ           & 045-123-4032 & 139.6326 & 35.50049 & 1732\\\\\n",
       "\t S14033 & 阿久和店     & 14 & 神奈川県 & 神奈川県横浜市瀬谷区阿久和西一丁目     & カナガワケンヨコハマシセヤクアクワニシイッチョウメ           & 045-123-4043 & 139.4961 & 35.45918 & 1495\\\\\n",
       "\t S14036 & 相模原中央店 & 14 & 神奈川県 & 神奈川県相模原市中央二丁目             & カナガワケンサガミハラシチュウオウニチョウメ                 & 042-123-4045 & 139.3716 & 35.57327 & 1679\\\\\n",
       "\t S14040 & 長津田店     & 14 & 神奈川県 & 神奈川県横浜市緑区長津田みなみ台五丁目 & カナガワケンヨコハマシミドリクナガツタミナミダイゴチョウメ   & 045-123-4046 & 139.4994 & 35.52398 & 1548\\\\\n",
       "\t S14050 & 阿久和西店   & 14 & 神奈川県 & 神奈川県横浜市瀬谷区阿久和西一丁目     & カナガワケンヨコハマシセヤクアクワニシイッチョウメ           & 045-123-4053 & 139.4961 & 35.45918 & 1830\\\\\n",
       "\t S13052 & 森野店       & 13 & 東京都   & 東京都町田市森野三丁目                 & トウキョウトマチダシモリノサンチョウメ                       & 042-123-4030 & 139.4383 & 35.55293 & 1087\\\\\n",
       "\t S14028 & 二ツ橋店     & 14 & 神奈川県 & 神奈川県横浜市瀬谷区二ツ橋町           & カナガワケンヨコハマシセヤクフタツバシチョウ                 & 045-123-4042 & 139.4963 & 35.46304 & 1574\\\\\n",
       "\t S14012 & 本牧和田店   & 14 & 神奈川県 & 神奈川県横浜市中区本牧和田             & カナガワケンヨコハマシナカクホンモクワダ                     & 045-123-4034 & 139.6582 & 35.42156 & 1341\\\\\n",
       "\t S14046 & 北山田店     & 14 & 神奈川県 & 神奈川県横浜市都筑区北山田一丁目       & カナガワケンヨコハマシツヅキクキタヤマタイッチョウメ         & 045-123-4049 & 139.5916 & 35.56189 &  831\\\\\n",
       "\t S14022 & 逗子店       & 14 & 神奈川県 & 神奈川県逗子市逗子一丁目               & カナガワケンズシシズシイッチョウメ                           & 046-123-4036 & 139.5789 & 35.29642 & 1838\\\\\n",
       "\t S14011 & 日吉本町店   & 14 & 神奈川県 & 神奈川県横浜市港北区日吉本町四丁目     & カナガワケンヨコハマシコウホククヒヨシホンチョウヨンチョウメ & 045-123-4033 & 139.6316 & 35.54655 &  890\\\\\n",
       "\t S13016 & 小金井店     & 13 & 東京都   & 東京都小金井市本町一丁目               & トウキョウトコガネイシホンチョウイッチョウメ                 & 042-123-4015 & 139.5094 & 35.70018 & 1399\\\\\n",
       "\t S14034 & 川崎野川店   & 14 & 神奈川県 & 神奈川県川崎市宮前区野川               & カナガワケンカワサキシミヤマエクノガワ                       & 044-123-4044 & 139.5998 & 35.57693 & 1318\\\\\n",
       "\t S14048 & 中川中央店   & 14 & 神奈川県 & 神奈川県横浜市都筑区中川中央二丁目     & カナガワケンヨコハマシツヅキクナカガワチュウオウニチョウメ   & 045-123-4051 & 139.5758 & 35.54912 & 1657\\\\\n",
       "\t S12007 & 佐倉店       & 12 & 千葉県   & 千葉県佐倉市上志津                     & チバケンサクラシカミシヅ                                     & 043-123-4001 & 140.1452 & 35.71872 & 1895\\\\\n",
       "\t S14026 & 辻堂西海岸店 & 14 & 神奈川県 & 神奈川県藤沢市辻堂西海岸二丁目         & カナガワケンフジサワシツジドウニシカイガンニチョウメ         & 046-123-4040 & 139.4466 & 35.32464 & 1732\\\\\n",
       "\t S13041 & 八王子店     & 13 & 東京都   & 東京都八王子市大塚                     & トウキョウトハチオウジシオオツカ                             & 042-123-4026 & 139.4235 & 35.63787 &  810\\\\\n",
       "\t S14049 & 川崎大師店   & 14 & 神奈川県 & 神奈川県川崎市川崎区中瀬三丁目         & カナガワケンカワサキシカワサキクナカゼサンチョウメ           & 044-123-4052 & 139.7327 & 35.53759 &  962\\\\\n",
       "\t S14023 & 川崎店       & 14 & 神奈川県 & 神奈川県川崎市川崎区本町二丁目         & カナガワケンカワサキシカワサキクホンチョウニチョウメ         & 044-123-4037 & 139.7028 & 35.53599 & 1804\\\\\n",
       "\t S13018 & 清瀬店       & 13 & 東京都   & 東京都清瀬市松山一丁目                 & トウキョウトキヨセシマツヤマイッチョウメ                     & 042-123-4017 & 139.5178 & 35.76885 & 1220\\\\\n",
       "\t S14027 & 南藤沢店     & 14 & 神奈川県 & 神奈川県藤沢市南藤沢                   & カナガワケンフジサワシミナミフジサワ                         & 046-123-4041 & 139.4896 & 35.33762 & 1521\\\\\n",
       "\t S14021 & 伊勢原店     & 14 & 神奈川県 & 神奈川県伊勢原市伊勢原四丁目           & カナガワケンイセハラシイセハラヨンチョウメ                   & 046-123-4035 & 139.3129 & 35.40169 &  962\\\\\n",
       "\t S14047 & 相模原店     & 14 & 神奈川県 & 神奈川県相模原市千代田六丁目           & カナガワケンサガミハラシチヨダロクチョウメ                   & 042-123-4050 & 139.3748 & 35.55959 & 1047\\\\\n",
       "\t S12013 & 習志野店     & 12 & 千葉県   & 千葉県習志野市芝園一丁目               & チバケンナラシノシシバゾノイッチョウメ                       & 047-123-4002 & 140.0220 & 35.66122 &  808\\\\\n",
       "\t S14042 & 新山下店     & 14 & 神奈川県 & 神奈川県横浜市中区新山下二丁目         & カナガワケンヨコハマシナカクシンヤマシタニチョウメ           & 045-123-4047 & 139.6593 & 35.43894 & 1044\\\\\n",
       "\t S12030 & 八幡店       & 12 & 千葉県   & 千葉県市川市八幡三丁目                 & チバケンイチカワシヤワタサンチョウメ                         & 047-123-4005 & 139.9240 & 35.72318 & 1162\\\\\n",
       "\t S14025 & 大和店       & 14 & 神奈川県 & 神奈川県大和市下和田                   & カナガワケンヤマトシシモワダ                                 & 046-123-4039 & 139.4680 & 35.43414 & 1011\\\\\n",
       "\t S14045 & 厚木店       & 14 & 神奈川県 & 神奈川県厚木市中町二丁目               & カナガワケンアツギシナカチョウニチョウメ                     & 046-123-4048 & 139.3651 & 35.44182 &  980\\\\\n",
       "\t S12029 & 東野店       & 12 & 千葉県   & 千葉県浦安市東野一丁目                 & チバケンウラヤスシヒガシノイッチョウメ                       & 047-123-4004 & 139.8968 & 35.65086 & 1101\\\\\n",
       "\t S12053 & 高洲店       & 12 & 千葉県   & 千葉県浦安市高洲五丁目                 & チバケンウラヤスシタカスゴチョウメ                           & 047-123-4006 & 139.9176 & 35.63755 & 1555\\\\\n",
       "\t S14024 & 三田店       & 14 & 神奈川県 & 神奈川県川崎市多摩区三田四丁目         & カナガワケンカワサキシタマクミタヨンチョウメ                 & 044-123-4038 & 139.5424 & 35.60770 &  972\\\\\n",
       "\t S14006 & 葛が谷店     & 14 & 神奈川県 & 神奈川県横浜市都筑区葛が谷             & カナガワケンヨコハマシツヅキククズガヤ                       & 045-123-4031 & 139.5633 & 35.53573 & 1886\\\\\n",
       "\\end{tabular}\n"
      ],
      "text/markdown": [
       "\n",
       "A data.frame: 34 × 10\n",
       "\n",
       "| store_cd &lt;chr&gt; | store_name &lt;chr&gt; | prefecture_cd &lt;chr&gt; | prefecture &lt;chr&gt; | address &lt;chr&gt; | address_kana &lt;chr&gt; | tel_no &lt;chr&gt; | longitude &lt;dbl&gt; | latitude &lt;dbl&gt; | floor_area &lt;dbl&gt; |\n",
       "|---|---|---|---|---|---|---|---|---|---|\n",
       "| S12014 | 千草台店     | 12 | 千葉県   | 千葉県千葉市稲毛区千草台一丁目         | チバケンチバシイナゲクチグサダイイッチョウメ                 | 043-123-4003 | 140.1180 | 35.63559 | 1698 |\n",
       "| S13002 | 国分寺店     | 13 | 東京都   | 東京都国分寺市本多二丁目               | トウキョウトコクブンジシホンダニチョウメ                     | 042-123-4008 | 139.4802 | 35.70566 | 1735 |\n",
       "| S14010 | 菊名店       | 14 | 神奈川県 | 神奈川県横浜市港北区菊名一丁目         | カナガワケンヨコハマシコウホククキクナイッチョウメ           | 045-123-4032 | 139.6326 | 35.50049 | 1732 |\n",
       "| S14033 | 阿久和店     | 14 | 神奈川県 | 神奈川県横浜市瀬谷区阿久和西一丁目     | カナガワケンヨコハマシセヤクアクワニシイッチョウメ           | 045-123-4043 | 139.4961 | 35.45918 | 1495 |\n",
       "| S14036 | 相模原中央店 | 14 | 神奈川県 | 神奈川県相模原市中央二丁目             | カナガワケンサガミハラシチュウオウニチョウメ                 | 042-123-4045 | 139.3716 | 35.57327 | 1679 |\n",
       "| S14040 | 長津田店     | 14 | 神奈川県 | 神奈川県横浜市緑区長津田みなみ台五丁目 | カナガワケンヨコハマシミドリクナガツタミナミダイゴチョウメ   | 045-123-4046 | 139.4994 | 35.52398 | 1548 |\n",
       "| S14050 | 阿久和西店   | 14 | 神奈川県 | 神奈川県横浜市瀬谷区阿久和西一丁目     | カナガワケンヨコハマシセヤクアクワニシイッチョウメ           | 045-123-4053 | 139.4961 | 35.45918 | 1830 |\n",
       "| S13052 | 森野店       | 13 | 東京都   | 東京都町田市森野三丁目                 | トウキョウトマチダシモリノサンチョウメ                       | 042-123-4030 | 139.4383 | 35.55293 | 1087 |\n",
       "| S14028 | 二ツ橋店     | 14 | 神奈川県 | 神奈川県横浜市瀬谷区二ツ橋町           | カナガワケンヨコハマシセヤクフタツバシチョウ                 | 045-123-4042 | 139.4963 | 35.46304 | 1574 |\n",
       "| S14012 | 本牧和田店   | 14 | 神奈川県 | 神奈川県横浜市中区本牧和田             | カナガワケンヨコハマシナカクホンモクワダ                     | 045-123-4034 | 139.6582 | 35.42156 | 1341 |\n",
       "| S14046 | 北山田店     | 14 | 神奈川県 | 神奈川県横浜市都筑区北山田一丁目       | カナガワケンヨコハマシツヅキクキタヤマタイッチョウメ         | 045-123-4049 | 139.5916 | 35.56189 |  831 |\n",
       "| S14022 | 逗子店       | 14 | 神奈川県 | 神奈川県逗子市逗子一丁目               | カナガワケンズシシズシイッチョウメ                           | 046-123-4036 | 139.5789 | 35.29642 | 1838 |\n",
       "| S14011 | 日吉本町店   | 14 | 神奈川県 | 神奈川県横浜市港北区日吉本町四丁目     | カナガワケンヨコハマシコウホククヒヨシホンチョウヨンチョウメ | 045-123-4033 | 139.6316 | 35.54655 |  890 |\n",
       "| S13016 | 小金井店     | 13 | 東京都   | 東京都小金井市本町一丁目               | トウキョウトコガネイシホンチョウイッチョウメ                 | 042-123-4015 | 139.5094 | 35.70018 | 1399 |\n",
       "| S14034 | 川崎野川店   | 14 | 神奈川県 | 神奈川県川崎市宮前区野川               | カナガワケンカワサキシミヤマエクノガワ                       | 044-123-4044 | 139.5998 | 35.57693 | 1318 |\n",
       "| S14048 | 中川中央店   | 14 | 神奈川県 | 神奈川県横浜市都筑区中川中央二丁目     | カナガワケンヨコハマシツヅキクナカガワチュウオウニチョウメ   | 045-123-4051 | 139.5758 | 35.54912 | 1657 |\n",
       "| S12007 | 佐倉店       | 12 | 千葉県   | 千葉県佐倉市上志津                     | チバケンサクラシカミシヅ                                     | 043-123-4001 | 140.1452 | 35.71872 | 1895 |\n",
       "| S14026 | 辻堂西海岸店 | 14 | 神奈川県 | 神奈川県藤沢市辻堂西海岸二丁目         | カナガワケンフジサワシツジドウニシカイガンニチョウメ         | 046-123-4040 | 139.4466 | 35.32464 | 1732 |\n",
       "| S13041 | 八王子店     | 13 | 東京都   | 東京都八王子市大塚                     | トウキョウトハチオウジシオオツカ                             | 042-123-4026 | 139.4235 | 35.63787 |  810 |\n",
       "| S14049 | 川崎大師店   | 14 | 神奈川県 | 神奈川県川崎市川崎区中瀬三丁目         | カナガワケンカワサキシカワサキクナカゼサンチョウメ           | 044-123-4052 | 139.7327 | 35.53759 |  962 |\n",
       "| S14023 | 川崎店       | 14 | 神奈川県 | 神奈川県川崎市川崎区本町二丁目         | カナガワケンカワサキシカワサキクホンチョウニチョウメ         | 044-123-4037 | 139.7028 | 35.53599 | 1804 |\n",
       "| S13018 | 清瀬店       | 13 | 東京都   | 東京都清瀬市松山一丁目                 | トウキョウトキヨセシマツヤマイッチョウメ                     | 042-123-4017 | 139.5178 | 35.76885 | 1220 |\n",
       "| S14027 | 南藤沢店     | 14 | 神奈川県 | 神奈川県藤沢市南藤沢                   | カナガワケンフジサワシミナミフジサワ                         | 046-123-4041 | 139.4896 | 35.33762 | 1521 |\n",
       "| S14021 | 伊勢原店     | 14 | 神奈川県 | 神奈川県伊勢原市伊勢原四丁目           | カナガワケンイセハラシイセハラヨンチョウメ                   | 046-123-4035 | 139.3129 | 35.40169 |  962 |\n",
       "| S14047 | 相模原店     | 14 | 神奈川県 | 神奈川県相模原市千代田六丁目           | カナガワケンサガミハラシチヨダロクチョウメ                   | 042-123-4050 | 139.3748 | 35.55959 | 1047 |\n",
       "| S12013 | 習志野店     | 12 | 千葉県   | 千葉県習志野市芝園一丁目               | チバケンナラシノシシバゾノイッチョウメ                       | 047-123-4002 | 140.0220 | 35.66122 |  808 |\n",
       "| S14042 | 新山下店     | 14 | 神奈川県 | 神奈川県横浜市中区新山下二丁目         | カナガワケンヨコハマシナカクシンヤマシタニチョウメ           | 045-123-4047 | 139.6593 | 35.43894 | 1044 |\n",
       "| S12030 | 八幡店       | 12 | 千葉県   | 千葉県市川市八幡三丁目                 | チバケンイチカワシヤワタサンチョウメ                         | 047-123-4005 | 139.9240 | 35.72318 | 1162 |\n",
       "| S14025 | 大和店       | 14 | 神奈川県 | 神奈川県大和市下和田                   | カナガワケンヤマトシシモワダ                                 | 046-123-4039 | 139.4680 | 35.43414 | 1011 |\n",
       "| S14045 | 厚木店       | 14 | 神奈川県 | 神奈川県厚木市中町二丁目               | カナガワケンアツギシナカチョウニチョウメ                     | 046-123-4048 | 139.3651 | 35.44182 |  980 |\n",
       "| S12029 | 東野店       | 12 | 千葉県   | 千葉県浦安市東野一丁目                 | チバケンウラヤスシヒガシノイッチョウメ                       | 047-123-4004 | 139.8968 | 35.65086 | 1101 |\n",
       "| S12053 | 高洲店       | 12 | 千葉県   | 千葉県浦安市高洲五丁目                 | チバケンウラヤスシタカスゴチョウメ                           | 047-123-4006 | 139.9176 | 35.63755 | 1555 |\n",
       "| S14024 | 三田店       | 14 | 神奈川県 | 神奈川県川崎市多摩区三田四丁目         | カナガワケンカワサキシタマクミタヨンチョウメ                 | 044-123-4038 | 139.5424 | 35.60770 |  972 |\n",
       "| S14006 | 葛が谷店     | 14 | 神奈川県 | 神奈川県横浜市都筑区葛が谷             | カナガワケンヨコハマシツヅキククズガヤ                       | 045-123-4031 | 139.5633 | 35.53573 | 1886 |\n",
       "\n"
      ],
      "text/plain": [
       "   store_cd store_name   prefecture_cd prefecture\n",
       "1  S12014   千草台店     12            千葉県    \n",
       "2  S13002   国分寺店     13            東京都    \n",
       "3  S14010   菊名店       14            神奈川県  \n",
       "4  S14033   阿久和店     14            神奈川県  \n",
       "5  S14036   相模原中央店 14            神奈川県  \n",
       "6  S14040   長津田店     14            神奈川県  \n",
       "7  S14050   阿久和西店   14            神奈川県  \n",
       "8  S13052   森野店       13            東京都    \n",
       "9  S14028   二ツ橋店     14            神奈川県  \n",
       "10 S14012   本牧和田店   14            神奈川県  \n",
       "11 S14046   北山田店     14            神奈川県  \n",
       "12 S14022   逗子店       14            神奈川県  \n",
       "13 S14011   日吉本町店   14            神奈川県  \n",
       "14 S13016   小金井店     13            東京都    \n",
       "15 S14034   川崎野川店   14            神奈川県  \n",
       "16 S14048   中川中央店   14            神奈川県  \n",
       "17 S12007   佐倉店       12            千葉県    \n",
       "18 S14026   辻堂西海岸店 14            神奈川県  \n",
       "19 S13041   八王子店     13            東京都    \n",
       "20 S14049   川崎大師店   14            神奈川県  \n",
       "21 S14023   川崎店       14            神奈川県  \n",
       "22 S13018   清瀬店       13            東京都    \n",
       "23 S14027   南藤沢店     14            神奈川県  \n",
       "24 S14021   伊勢原店     14            神奈川県  \n",
       "25 S14047   相模原店     14            神奈川県  \n",
       "26 S12013   習志野店     12            千葉県    \n",
       "27 S14042   新山下店     14            神奈川県  \n",
       "28 S12030   八幡店       12            千葉県    \n",
       "29 S14025   大和店       14            神奈川県  \n",
       "30 S14045   厚木店       14            神奈川県  \n",
       "31 S12029   東野店       12            千葉県    \n",
       "32 S12053   高洲店       12            千葉県    \n",
       "33 S14024   三田店       14            神奈川県  \n",
       "34 S14006   葛が谷店     14            神奈川県  \n",
       "   address                               \n",
       "1  千葉県千葉市稲毛区千草台一丁目        \n",
       "2  東京都国分寺市本多二丁目              \n",
       "3  神奈川県横浜市港北区菊名一丁目        \n",
       "4  神奈川県横浜市瀬谷区阿久和西一丁目    \n",
       "5  神奈川県相模原市中央二丁目            \n",
       "6  神奈川県横浜市緑区長津田みなみ台五丁目\n",
       "7  神奈川県横浜市瀬谷区阿久和西一丁目    \n",
       "8  東京都町田市森野三丁目                \n",
       "9  神奈川県横浜市瀬谷区二ツ橋町          \n",
       "10 神奈川県横浜市中区本牧和田            \n",
       "11 神奈川県横浜市都筑区北山田一丁目      \n",
       "12 神奈川県逗子市逗子一丁目              \n",
       "13 神奈川県横浜市港北区日吉本町四丁目    \n",
       "14 東京都小金井市本町一丁目              \n",
       "15 神奈川県川崎市宮前区野川              \n",
       "16 神奈川県横浜市都筑区中川中央二丁目    \n",
       "17 千葉県佐倉市上志津                    \n",
       "18 神奈川県藤沢市辻堂西海岸二丁目        \n",
       "19 東京都八王子市大塚                    \n",
       "20 神奈川県川崎市川崎区中瀬三丁目        \n",
       "21 神奈川県川崎市川崎区本町二丁目        \n",
       "22 東京都清瀬市松山一丁目                \n",
       "23 神奈川県藤沢市南藤沢                  \n",
       "24 神奈川県伊勢原市伊勢原四丁目          \n",
       "25 神奈川県相模原市千代田六丁目          \n",
       "26 千葉県習志野市芝園一丁目              \n",
       "27 神奈川県横浜市中区新山下二丁目        \n",
       "28 千葉県市川市八幡三丁目                \n",
       "29 神奈川県大和市下和田                  \n",
       "30 神奈川県厚木市中町二丁目              \n",
       "31 千葉県浦安市東野一丁目                \n",
       "32 千葉県浦安市高洲五丁目                \n",
       "33 神奈川県川崎市多摩区三田四丁目        \n",
       "34 神奈川県横浜市都筑区葛が谷            \n",
       "   address_kana                                                 tel_no      \n",
       "1  チバケンチバシイナゲクチグサダイイッチョウメ                 043-123-4003\n",
       "2  トウキョウトコクブンジシホンダニチョウメ                     042-123-4008\n",
       "3  カナガワケンヨコハマシコウホククキクナイッチョウメ           045-123-4032\n",
       "4  カナガワケンヨコハマシセヤクアクワニシイッチョウメ           045-123-4043\n",
       "5  カナガワケンサガミハラシチュウオウニチョウメ                 042-123-4045\n",
       "6  カナガワケンヨコハマシミドリクナガツタミナミダイゴチョウメ   045-123-4046\n",
       "7  カナガワケンヨコハマシセヤクアクワニシイッチョウメ           045-123-4053\n",
       "8  トウキョウトマチダシモリノサンチョウメ                       042-123-4030\n",
       "9  カナガワケンヨコハマシセヤクフタツバシチョウ                 045-123-4042\n",
       "10 カナガワケンヨコハマシナカクホンモクワダ                     045-123-4034\n",
       "11 カナガワケンヨコハマシツヅキクキタヤマタイッチョウメ         045-123-4049\n",
       "12 カナガワケンズシシズシイッチョウメ                           046-123-4036\n",
       "13 カナガワケンヨコハマシコウホククヒヨシホンチョウヨンチョウメ 045-123-4033\n",
       "14 トウキョウトコガネイシホンチョウイッチョウメ                 042-123-4015\n",
       "15 カナガワケンカワサキシミヤマエクノガワ                       044-123-4044\n",
       "16 カナガワケンヨコハマシツヅキクナカガワチュウオウニチョウメ   045-123-4051\n",
       "17 チバケンサクラシカミシヅ                                     043-123-4001\n",
       "18 カナガワケンフジサワシツジドウニシカイガンニチョウメ         046-123-4040\n",
       "19 トウキョウトハチオウジシオオツカ                             042-123-4026\n",
       "20 カナガワケンカワサキシカワサキクナカゼサンチョウメ           044-123-4052\n",
       "21 カナガワケンカワサキシカワサキクホンチョウニチョウメ         044-123-4037\n",
       "22 トウキョウトキヨセシマツヤマイッチョウメ                     042-123-4017\n",
       "23 カナガワケンフジサワシミナミフジサワ                         046-123-4041\n",
       "24 カナガワケンイセハラシイセハラヨンチョウメ                   046-123-4035\n",
       "25 カナガワケンサガミハラシチヨダロクチョウメ                   042-123-4050\n",
       "26 チバケンナラシノシシバゾノイッチョウメ                       047-123-4002\n",
       "27 カナガワケンヨコハマシナカクシンヤマシタニチョウメ           045-123-4047\n",
       "28 チバケンイチカワシヤワタサンチョウメ                         047-123-4005\n",
       "29 カナガワケンヤマトシシモワダ                                 046-123-4039\n",
       "30 カナガワケンアツギシナカチョウニチョウメ                     046-123-4048\n",
       "31 チバケンウラヤスシヒガシノイッチョウメ                       047-123-4004\n",
       "32 チバケンウラヤスシタカスゴチョウメ                           047-123-4006\n",
       "33 カナガワケンカワサキシタマクミタヨンチョウメ                 044-123-4038\n",
       "34 カナガワケンヨコハマシツヅキククズガヤ                       045-123-4031\n",
       "   longitude latitude floor_area\n",
       "1  140.1180  35.63559 1698      \n",
       "2  139.4802  35.70566 1735      \n",
       "3  139.6326  35.50049 1732      \n",
       "4  139.4961  35.45918 1495      \n",
       "5  139.3716  35.57327 1679      \n",
       "6  139.4994  35.52398 1548      \n",
       "7  139.4961  35.45918 1830      \n",
       "8  139.4383  35.55293 1087      \n",
       "9  139.4963  35.46304 1574      \n",
       "10 139.6582  35.42156 1341      \n",
       "11 139.5916  35.56189  831      \n",
       "12 139.5789  35.29642 1838      \n",
       "13 139.6316  35.54655  890      \n",
       "14 139.5094  35.70018 1399      \n",
       "15 139.5998  35.57693 1318      \n",
       "16 139.5758  35.54912 1657      \n",
       "17 140.1452  35.71872 1895      \n",
       "18 139.4466  35.32464 1732      \n",
       "19 139.4235  35.63787  810      \n",
       "20 139.7327  35.53759  962      \n",
       "21 139.7028  35.53599 1804      \n",
       "22 139.5178  35.76885 1220      \n",
       "23 139.4896  35.33762 1521      \n",
       "24 139.3129  35.40169  962      \n",
       "25 139.3748  35.55959 1047      \n",
       "26 140.0220  35.66122  808      \n",
       "27 139.6593  35.43894 1044      \n",
       "28 139.9240  35.72318 1162      \n",
       "29 139.4680  35.43414 1011      \n",
       "30 139.3651  35.44182  980      \n",
       "31 139.8968  35.65086 1101      \n",
       "32 139.9176  35.63755 1555      \n",
       "33 139.5424  35.60770  972      \n",
       "34 139.5633  35.53573 1886      "
      ]
     },
     "metadata": {},
     "output_type": "display_data"
    }
   ],
   "source": [
    "df_store %>% filter(str_detect(tel_no, \"[0-9]{3}-[0-9]{3}-[0-9]{4}\"))"
   ]
  },
  {
   "cell_type": "markdown",
   "metadata": {},
   "source": [
    "---\n",
    "> R-017: 顧客データ（df_customer）を生年月日（birth_day）で高齢順にソートし、先頭から全項目を10件表示せよ。"
   ]
  },
  {
   "cell_type": "code",
   "execution_count": 19,
   "metadata": {},
   "outputs": [
    {
     "data": {
      "text/html": [
       "<table class=\"dataframe\">\n",
       "<caption>A data.frame: 10 × 11</caption>\n",
       "<thead>\n",
       "\t<tr><th></th><th scope=col>customer_id</th><th scope=col>customer_name</th><th scope=col>gender_cd</th><th scope=col>gender</th><th scope=col>birth_day</th><th scope=col>age</th><th scope=col>postal_cd</th><th scope=col>address</th><th scope=col>application_store_cd</th><th scope=col>application_date</th><th scope=col>status_cd</th></tr>\n",
       "\t<tr><th></th><th scope=col>&lt;chr&gt;</th><th scope=col>&lt;chr&gt;</th><th scope=col>&lt;chr&gt;</th><th scope=col>&lt;chr&gt;</th><th scope=col>&lt;date&gt;</th><th scope=col>&lt;int&gt;</th><th scope=col>&lt;chr&gt;</th><th scope=col>&lt;chr&gt;</th><th scope=col>&lt;chr&gt;</th><th scope=col>&lt;chr&gt;</th><th scope=col>&lt;chr&gt;</th></tr>\n",
       "</thead>\n",
       "<tbody>\n",
       "\t<tr><th scope=row>1</th><td>CS003813000014</td><td>村山 菜々美</td><td>1</td><td>女性</td><td>1928-11-26</td><td>90</td><td>182-0007</td><td>東京都調布市菊野台**********      </td><td>S13003</td><td>20160214</td><td>0-00000000-0</td></tr>\n",
       "\t<tr><th scope=row>2</th><td>CS026813000004</td><td>吉村 朝陽  </td><td>1</td><td>女性</td><td>1928-12-14</td><td>90</td><td>251-0043</td><td>神奈川県藤沢市辻堂元町**********  </td><td>S14026</td><td>20150723</td><td>0-00000000-0</td></tr>\n",
       "\t<tr><th scope=row>3</th><td>CS018811000003</td><td>熊沢 美里  </td><td>1</td><td>女性</td><td>1929-01-07</td><td>90</td><td>204-0004</td><td>東京都清瀬市野塩**********        </td><td>S13018</td><td>20150403</td><td>0-00000000-0</td></tr>\n",
       "\t<tr><th scope=row>4</th><td>CS027803000004</td><td>内村 拓郎  </td><td>0</td><td>男性</td><td>1929-01-12</td><td>90</td><td>251-0031</td><td>神奈川県藤沢市鵠沼藤が谷**********</td><td>S14027</td><td>20151227</td><td>0-00000000-0</td></tr>\n",
       "\t<tr><th scope=row>5</th><td>CS013801000003</td><td>天野 拓郎  </td><td>0</td><td>男性</td><td>1929-01-15</td><td>90</td><td>274-0824</td><td>千葉県船橋市前原東**********      </td><td>S12013</td><td>20160120</td><td>0-00000000-0</td></tr>\n",
       "\t<tr><th scope=row>6</th><td>CS001814000022</td><td>鶴田 里穂  </td><td>1</td><td>女性</td><td>1929-01-28</td><td>90</td><td>144-0045</td><td>東京都大田区南六郷**********      </td><td>S13001</td><td>20161012</td><td>A-20090415-7</td></tr>\n",
       "\t<tr><th scope=row>7</th><td>CS016815000002</td><td>山元 美紀  </td><td>1</td><td>女性</td><td>1929-02-22</td><td>90</td><td>184-0005</td><td>東京都小金井市桜町**********      </td><td>S13016</td><td>20150629</td><td>C-20090923-C</td></tr>\n",
       "\t<tr><th scope=row>8</th><td>CS009815000003</td><td>中田 里穂  </td><td>1</td><td>女性</td><td>1929-04-08</td><td>89</td><td>154-0014</td><td>東京都世田谷区新町**********      </td><td>S13009</td><td>20150421</td><td>D-20091021-E</td></tr>\n",
       "\t<tr><th scope=row>9</th><td>CS012813000013</td><td>宇野 南朋  </td><td>1</td><td>女性</td><td>1929-04-09</td><td>89</td><td>231-0806</td><td>神奈川県横浜市中区本牧町**********</td><td>S14012</td><td>20150712</td><td>0-00000000-0</td></tr>\n",
       "\t<tr><th scope=row>10</th><td>CS005813000015</td><td>金谷 恵梨香</td><td>1</td><td>女性</td><td>1929-04-09</td><td>89</td><td>165-0032</td><td>東京都中野区鷺宮**********        </td><td>S13005</td><td>20150506</td><td>0-00000000-0</td></tr>\n",
       "</tbody>\n",
       "</table>\n"
      ],
      "text/latex": [
       "A data.frame: 10 × 11\n",
       "\\begin{tabular}{r|lllllllllll}\n",
       "  & customer\\_id & customer\\_name & gender\\_cd & gender & birth\\_day & age & postal\\_cd & address & application\\_store\\_cd & application\\_date & status\\_cd\\\\\n",
       "  & <chr> & <chr> & <chr> & <chr> & <date> & <int> & <chr> & <chr> & <chr> & <chr> & <chr>\\\\\n",
       "\\hline\n",
       "\t1 & CS003813000014 & 村山 菜々美 & 1 & 女性 & 1928-11-26 & 90 & 182-0007 & 東京都調布市菊野台**********       & S13003 & 20160214 & 0-00000000-0\\\\\n",
       "\t2 & CS026813000004 & 吉村 朝陽   & 1 & 女性 & 1928-12-14 & 90 & 251-0043 & 神奈川県藤沢市辻堂元町**********   & S14026 & 20150723 & 0-00000000-0\\\\\n",
       "\t3 & CS018811000003 & 熊沢 美里   & 1 & 女性 & 1929-01-07 & 90 & 204-0004 & 東京都清瀬市野塩**********         & S13018 & 20150403 & 0-00000000-0\\\\\n",
       "\t4 & CS027803000004 & 内村 拓郎   & 0 & 男性 & 1929-01-12 & 90 & 251-0031 & 神奈川県藤沢市鵠沼藤が谷********** & S14027 & 20151227 & 0-00000000-0\\\\\n",
       "\t5 & CS013801000003 & 天野 拓郎   & 0 & 男性 & 1929-01-15 & 90 & 274-0824 & 千葉県船橋市前原東**********       & S12013 & 20160120 & 0-00000000-0\\\\\n",
       "\t6 & CS001814000022 & 鶴田 里穂   & 1 & 女性 & 1929-01-28 & 90 & 144-0045 & 東京都大田区南六郷**********       & S13001 & 20161012 & A-20090415-7\\\\\n",
       "\t7 & CS016815000002 & 山元 美紀   & 1 & 女性 & 1929-02-22 & 90 & 184-0005 & 東京都小金井市桜町**********       & S13016 & 20150629 & C-20090923-C\\\\\n",
       "\t8 & CS009815000003 & 中田 里穂   & 1 & 女性 & 1929-04-08 & 89 & 154-0014 & 東京都世田谷区新町**********       & S13009 & 20150421 & D-20091021-E\\\\\n",
       "\t9 & CS012813000013 & 宇野 南朋   & 1 & 女性 & 1929-04-09 & 89 & 231-0806 & 神奈川県横浜市中区本牧町********** & S14012 & 20150712 & 0-00000000-0\\\\\n",
       "\t10 & CS005813000015 & 金谷 恵梨香 & 1 & 女性 & 1929-04-09 & 89 & 165-0032 & 東京都中野区鷺宮**********         & S13005 & 20150506 & 0-00000000-0\\\\\n",
       "\\end{tabular}\n"
      ],
      "text/markdown": [
       "\n",
       "A data.frame: 10 × 11\n",
       "\n",
       "| <!--/--> | customer_id &lt;chr&gt; | customer_name &lt;chr&gt; | gender_cd &lt;chr&gt; | gender &lt;chr&gt; | birth_day &lt;date&gt; | age &lt;int&gt; | postal_cd &lt;chr&gt; | address &lt;chr&gt; | application_store_cd &lt;chr&gt; | application_date &lt;chr&gt; | status_cd &lt;chr&gt; |\n",
       "|---|---|---|---|---|---|---|---|---|---|---|---|\n",
       "| 1 | CS003813000014 | 村山 菜々美 | 1 | 女性 | 1928-11-26 | 90 | 182-0007 | 東京都調布市菊野台**********       | S13003 | 20160214 | 0-00000000-0 |\n",
       "| 2 | CS026813000004 | 吉村 朝陽   | 1 | 女性 | 1928-12-14 | 90 | 251-0043 | 神奈川県藤沢市辻堂元町**********   | S14026 | 20150723 | 0-00000000-0 |\n",
       "| 3 | CS018811000003 | 熊沢 美里   | 1 | 女性 | 1929-01-07 | 90 | 204-0004 | 東京都清瀬市野塩**********         | S13018 | 20150403 | 0-00000000-0 |\n",
       "| 4 | CS027803000004 | 内村 拓郎   | 0 | 男性 | 1929-01-12 | 90 | 251-0031 | 神奈川県藤沢市鵠沼藤が谷********** | S14027 | 20151227 | 0-00000000-0 |\n",
       "| 5 | CS013801000003 | 天野 拓郎   | 0 | 男性 | 1929-01-15 | 90 | 274-0824 | 千葉県船橋市前原東**********       | S12013 | 20160120 | 0-00000000-0 |\n",
       "| 6 | CS001814000022 | 鶴田 里穂   | 1 | 女性 | 1929-01-28 | 90 | 144-0045 | 東京都大田区南六郷**********       | S13001 | 20161012 | A-20090415-7 |\n",
       "| 7 | CS016815000002 | 山元 美紀   | 1 | 女性 | 1929-02-22 | 90 | 184-0005 | 東京都小金井市桜町**********       | S13016 | 20150629 | C-20090923-C |\n",
       "| 8 | CS009815000003 | 中田 里穂   | 1 | 女性 | 1929-04-08 | 89 | 154-0014 | 東京都世田谷区新町**********       | S13009 | 20150421 | D-20091021-E |\n",
       "| 9 | CS012813000013 | 宇野 南朋   | 1 | 女性 | 1929-04-09 | 89 | 231-0806 | 神奈川県横浜市中区本牧町********** | S14012 | 20150712 | 0-00000000-0 |\n",
       "| 10 | CS005813000015 | 金谷 恵梨香 | 1 | 女性 | 1929-04-09 | 89 | 165-0032 | 東京都中野区鷺宮**********         | S13005 | 20150506 | 0-00000000-0 |\n",
       "\n"
      ],
      "text/plain": [
       "   customer_id    customer_name gender_cd gender birth_day  age postal_cd\n",
       "1  CS003813000014 村山 菜々美   1         女性   1928-11-26 90  182-0007 \n",
       "2  CS026813000004 吉村 朝陽     1         女性   1928-12-14 90  251-0043 \n",
       "3  CS018811000003 熊沢 美里     1         女性   1929-01-07 90  204-0004 \n",
       "4  CS027803000004 内村 拓郎     0         男性   1929-01-12 90  251-0031 \n",
       "5  CS013801000003 天野 拓郎     0         男性   1929-01-15 90  274-0824 \n",
       "6  CS001814000022 鶴田 里穂     1         女性   1929-01-28 90  144-0045 \n",
       "7  CS016815000002 山元 美紀     1         女性   1929-02-22 90  184-0005 \n",
       "8  CS009815000003 中田 里穂     1         女性   1929-04-08 89  154-0014 \n",
       "9  CS012813000013 宇野 南朋     1         女性   1929-04-09 89  231-0806 \n",
       "10 CS005813000015 金谷 恵梨香   1         女性   1929-04-09 89  165-0032 \n",
       "   address                            application_store_cd application_date\n",
       "1  東京都調布市菊野台**********       S13003               20160214        \n",
       "2  神奈川県藤沢市辻堂元町**********   S14026               20150723        \n",
       "3  東京都清瀬市野塩**********         S13018               20150403        \n",
       "4  神奈川県藤沢市鵠沼藤が谷********** S14027               20151227        \n",
       "5  千葉県船橋市前原東**********       S12013               20160120        \n",
       "6  東京都大田区南六郷**********       S13001               20161012        \n",
       "7  東京都小金井市桜町**********       S13016               20150629        \n",
       "8  東京都世田谷区新町**********       S13009               20150421        \n",
       "9  神奈川県横浜市中区本牧町********** S14012               20150712        \n",
       "10 東京都中野区鷺宮**********         S13005               20150506        \n",
       "   status_cd   \n",
       "1  0-00000000-0\n",
       "2  0-00000000-0\n",
       "3  0-00000000-0\n",
       "4  0-00000000-0\n",
       "5  0-00000000-0\n",
       "6  A-20090415-7\n",
       "7  C-20090923-C\n",
       "8  D-20091021-E\n",
       "9  0-00000000-0\n",
       "10 0-00000000-0"
      ]
     },
     "metadata": {},
     "output_type": "display_data"
    }
   ],
   "source": [
    "df_customer %>% arrange(birth_day) %>% head(10)"
   ]
  },
  {
   "cell_type": "markdown",
   "metadata": {},
   "source": [
    "---\n",
    "> R-018: 顧客データ（df_customer）を生年月日（birth_day）で若い順にソートし、先頭から全項目を10件表示せよ。"
   ]
  },
  {
   "cell_type": "code",
   "execution_count": 20,
   "metadata": {},
   "outputs": [
    {
     "data": {
      "text/html": [
       "<table class=\"dataframe\">\n",
       "<caption>A data.frame: 10 × 11</caption>\n",
       "<thead>\n",
       "\t<tr><th></th><th scope=col>customer_id</th><th scope=col>customer_name</th><th scope=col>gender_cd</th><th scope=col>gender</th><th scope=col>birth_day</th><th scope=col>age</th><th scope=col>postal_cd</th><th scope=col>address</th><th scope=col>application_store_cd</th><th scope=col>application_date</th><th scope=col>status_cd</th></tr>\n",
       "\t<tr><th></th><th scope=col>&lt;chr&gt;</th><th scope=col>&lt;chr&gt;</th><th scope=col>&lt;chr&gt;</th><th scope=col>&lt;chr&gt;</th><th scope=col>&lt;date&gt;</th><th scope=col>&lt;int&gt;</th><th scope=col>&lt;chr&gt;</th><th scope=col>&lt;chr&gt;</th><th scope=col>&lt;chr&gt;</th><th scope=col>&lt;chr&gt;</th><th scope=col>&lt;chr&gt;</th></tr>\n",
       "</thead>\n",
       "<tbody>\n",
       "\t<tr><th scope=row>1</th><td>CS035114000004</td><td>大村 美里  </td><td>1</td><td>女性</td><td>2007-11-25</td><td>11</td><td>156-0053</td><td>東京都世田谷区桜**********          </td><td>S13035</td><td>20150619</td><td>6-20091205-6</td></tr>\n",
       "\t<tr><th scope=row>2</th><td>CS022103000002</td><td>福山 はじめ</td><td>9</td><td>不明</td><td>2007-10-02</td><td>11</td><td>249-0006</td><td>神奈川県逗子市逗子**********        </td><td>S14022</td><td>20160909</td><td>0-00000000-0</td></tr>\n",
       "\t<tr><th scope=row>3</th><td>CS002113000009</td><td>柴田 真悠子</td><td>1</td><td>女性</td><td>2007-09-17</td><td>11</td><td>184-0014</td><td>東京都小金井市貫井南町**********    </td><td>S13002</td><td>20160304</td><td>0-00000000-0</td></tr>\n",
       "\t<tr><th scope=row>4</th><td>CS004115000014</td><td>松井 京子  </td><td>1</td><td>女性</td><td>2007-08-09</td><td>11</td><td>165-0031</td><td>東京都中野区上鷺宮**********        </td><td>S13004</td><td>20161120</td><td>1-20081231-1</td></tr>\n",
       "\t<tr><th scope=row>5</th><td>CS002114000010</td><td>山内 遥    </td><td>1</td><td>女性</td><td>2007-06-03</td><td>11</td><td>184-0015</td><td>東京都小金井市貫井北町**********    </td><td>S13002</td><td>20160920</td><td>6-20100510-1</td></tr>\n",
       "\t<tr><th scope=row>6</th><td>CS025115000002</td><td>小柳 夏希  </td><td>1</td><td>女性</td><td>2007-04-18</td><td>11</td><td>245-0018</td><td>神奈川県横浜市泉区上飯田町**********</td><td>S14025</td><td>20160116</td><td>D-20100913-D</td></tr>\n",
       "\t<tr><th scope=row>7</th><td>CS002113000025</td><td>広末 まなみ</td><td>1</td><td>女性</td><td>2007-03-30</td><td>12</td><td>184-0015</td><td>東京都小金井市貫井北町**********    </td><td>S13002</td><td>20171030</td><td>0-00000000-0</td></tr>\n",
       "\t<tr><th scope=row>8</th><td>CS033112000003</td><td>長野 美紀  </td><td>1</td><td>女性</td><td>2007-03-22</td><td>12</td><td>245-0051</td><td>神奈川県横浜市戸塚区名瀬町**********</td><td>S14033</td><td>20150606</td><td>0-00000000-0</td></tr>\n",
       "\t<tr><th scope=row>9</th><td>CS007115000006</td><td>福岡 瞬    </td><td>1</td><td>女性</td><td>2007-03-10</td><td>12</td><td>285-0845</td><td>千葉県佐倉市西志津**********        </td><td>S12007</td><td>20151118</td><td>F-20101016-F</td></tr>\n",
       "\t<tr><th scope=row>10</th><td>CS014113000008</td><td>矢口 莉緒  </td><td>1</td><td>女性</td><td>2007-03-05</td><td>12</td><td>260-0041</td><td>千葉県千葉市中央区東千葉**********  </td><td>S12014</td><td>20150622</td><td>3-20091108-6</td></tr>\n",
       "</tbody>\n",
       "</table>\n"
      ],
      "text/latex": [
       "A data.frame: 10 × 11\n",
       "\\begin{tabular}{r|lllllllllll}\n",
       "  & customer\\_id & customer\\_name & gender\\_cd & gender & birth\\_day & age & postal\\_cd & address & application\\_store\\_cd & application\\_date & status\\_cd\\\\\n",
       "  & <chr> & <chr> & <chr> & <chr> & <date> & <int> & <chr> & <chr> & <chr> & <chr> & <chr>\\\\\n",
       "\\hline\n",
       "\t1 & CS035114000004 & 大村 美里   & 1 & 女性 & 2007-11-25 & 11 & 156-0053 & 東京都世田谷区桜**********           & S13035 & 20150619 & 6-20091205-6\\\\\n",
       "\t2 & CS022103000002 & 福山 はじめ & 9 & 不明 & 2007-10-02 & 11 & 249-0006 & 神奈川県逗子市逗子**********         & S14022 & 20160909 & 0-00000000-0\\\\\n",
       "\t3 & CS002113000009 & 柴田 真悠子 & 1 & 女性 & 2007-09-17 & 11 & 184-0014 & 東京都小金井市貫井南町**********     & S13002 & 20160304 & 0-00000000-0\\\\\n",
       "\t4 & CS004115000014 & 松井 京子   & 1 & 女性 & 2007-08-09 & 11 & 165-0031 & 東京都中野区上鷺宮**********         & S13004 & 20161120 & 1-20081231-1\\\\\n",
       "\t5 & CS002114000010 & 山内 遥     & 1 & 女性 & 2007-06-03 & 11 & 184-0015 & 東京都小金井市貫井北町**********     & S13002 & 20160920 & 6-20100510-1\\\\\n",
       "\t6 & CS025115000002 & 小柳 夏希   & 1 & 女性 & 2007-04-18 & 11 & 245-0018 & 神奈川県横浜市泉区上飯田町********** & S14025 & 20160116 & D-20100913-D\\\\\n",
       "\t7 & CS002113000025 & 広末 まなみ & 1 & 女性 & 2007-03-30 & 12 & 184-0015 & 東京都小金井市貫井北町**********     & S13002 & 20171030 & 0-00000000-0\\\\\n",
       "\t8 & CS033112000003 & 長野 美紀   & 1 & 女性 & 2007-03-22 & 12 & 245-0051 & 神奈川県横浜市戸塚区名瀬町********** & S14033 & 20150606 & 0-00000000-0\\\\\n",
       "\t9 & CS007115000006 & 福岡 瞬     & 1 & 女性 & 2007-03-10 & 12 & 285-0845 & 千葉県佐倉市西志津**********         & S12007 & 20151118 & F-20101016-F\\\\\n",
       "\t10 & CS014113000008 & 矢口 莉緒   & 1 & 女性 & 2007-03-05 & 12 & 260-0041 & 千葉県千葉市中央区東千葉**********   & S12014 & 20150622 & 3-20091108-6\\\\\n",
       "\\end{tabular}\n"
      ],
      "text/markdown": [
       "\n",
       "A data.frame: 10 × 11\n",
       "\n",
       "| <!--/--> | customer_id &lt;chr&gt; | customer_name &lt;chr&gt; | gender_cd &lt;chr&gt; | gender &lt;chr&gt; | birth_day &lt;date&gt; | age &lt;int&gt; | postal_cd &lt;chr&gt; | address &lt;chr&gt; | application_store_cd &lt;chr&gt; | application_date &lt;chr&gt; | status_cd &lt;chr&gt; |\n",
       "|---|---|---|---|---|---|---|---|---|---|---|---|\n",
       "| 1 | CS035114000004 | 大村 美里   | 1 | 女性 | 2007-11-25 | 11 | 156-0053 | 東京都世田谷区桜**********           | S13035 | 20150619 | 6-20091205-6 |\n",
       "| 2 | CS022103000002 | 福山 はじめ | 9 | 不明 | 2007-10-02 | 11 | 249-0006 | 神奈川県逗子市逗子**********         | S14022 | 20160909 | 0-00000000-0 |\n",
       "| 3 | CS002113000009 | 柴田 真悠子 | 1 | 女性 | 2007-09-17 | 11 | 184-0014 | 東京都小金井市貫井南町**********     | S13002 | 20160304 | 0-00000000-0 |\n",
       "| 4 | CS004115000014 | 松井 京子   | 1 | 女性 | 2007-08-09 | 11 | 165-0031 | 東京都中野区上鷺宮**********         | S13004 | 20161120 | 1-20081231-1 |\n",
       "| 5 | CS002114000010 | 山内 遥     | 1 | 女性 | 2007-06-03 | 11 | 184-0015 | 東京都小金井市貫井北町**********     | S13002 | 20160920 | 6-20100510-1 |\n",
       "| 6 | CS025115000002 | 小柳 夏希   | 1 | 女性 | 2007-04-18 | 11 | 245-0018 | 神奈川県横浜市泉区上飯田町********** | S14025 | 20160116 | D-20100913-D |\n",
       "| 7 | CS002113000025 | 広末 まなみ | 1 | 女性 | 2007-03-30 | 12 | 184-0015 | 東京都小金井市貫井北町**********     | S13002 | 20171030 | 0-00000000-0 |\n",
       "| 8 | CS033112000003 | 長野 美紀   | 1 | 女性 | 2007-03-22 | 12 | 245-0051 | 神奈川県横浜市戸塚区名瀬町********** | S14033 | 20150606 | 0-00000000-0 |\n",
       "| 9 | CS007115000006 | 福岡 瞬     | 1 | 女性 | 2007-03-10 | 12 | 285-0845 | 千葉県佐倉市西志津**********         | S12007 | 20151118 | F-20101016-F |\n",
       "| 10 | CS014113000008 | 矢口 莉緒   | 1 | 女性 | 2007-03-05 | 12 | 260-0041 | 千葉県千葉市中央区東千葉**********   | S12014 | 20150622 | 3-20091108-6 |\n",
       "\n"
      ],
      "text/plain": [
       "   customer_id    customer_name gender_cd gender birth_day  age postal_cd\n",
       "1  CS035114000004 大村 美里     1         女性   2007-11-25 11  156-0053 \n",
       "2  CS022103000002 福山 はじめ   9         不明   2007-10-02 11  249-0006 \n",
       "3  CS002113000009 柴田 真悠子   1         女性   2007-09-17 11  184-0014 \n",
       "4  CS004115000014 松井 京子     1         女性   2007-08-09 11  165-0031 \n",
       "5  CS002114000010 山内 遥       1         女性   2007-06-03 11  184-0015 \n",
       "6  CS025115000002 小柳 夏希     1         女性   2007-04-18 11  245-0018 \n",
       "7  CS002113000025 広末 まなみ   1         女性   2007-03-30 12  184-0015 \n",
       "8  CS033112000003 長野 美紀     1         女性   2007-03-22 12  245-0051 \n",
       "9  CS007115000006 福岡 瞬       1         女性   2007-03-10 12  285-0845 \n",
       "10 CS014113000008 矢口 莉緒     1         女性   2007-03-05 12  260-0041 \n",
       "   address                              application_store_cd application_date\n",
       "1  東京都世田谷区桜**********           S13035               20150619        \n",
       "2  神奈川県逗子市逗子**********         S14022               20160909        \n",
       "3  東京都小金井市貫井南町**********     S13002               20160304        \n",
       "4  東京都中野区上鷺宮**********         S13004               20161120        \n",
       "5  東京都小金井市貫井北町**********     S13002               20160920        \n",
       "6  神奈川県横浜市泉区上飯田町********** S14025               20160116        \n",
       "7  東京都小金井市貫井北町**********     S13002               20171030        \n",
       "8  神奈川県横浜市戸塚区名瀬町********** S14033               20150606        \n",
       "9  千葉県佐倉市西志津**********         S12007               20151118        \n",
       "10 千葉県千葉市中央区東千葉**********   S12014               20150622        \n",
       "   status_cd   \n",
       "1  6-20091205-6\n",
       "2  0-00000000-0\n",
       "3  0-00000000-0\n",
       "4  1-20081231-1\n",
       "5  6-20100510-1\n",
       "6  D-20100913-D\n",
       "7  0-00000000-0\n",
       "8  0-00000000-0\n",
       "9  F-20101016-F\n",
       "10 3-20091108-6"
      ]
     },
     "metadata": {},
     "output_type": "display_data"
    }
   ],
   "source": [
    "df_customer %>% arrange(desc(birth_day)) %>% head(10)"
   ]
  },
  {
   "cell_type": "markdown",
   "metadata": {},
   "source": [
    "---\n",
    "> R-019: レシート明細データ（df_receipt）に対し、1件あたりの売上金額（amount）が高い順にランクを付与し、先頭から10件表示せよ。項目は顧客ID（customer_id）、売上金額（amount）、付与したランクを表示させること。なお、売上金額（amount）が等しい場合は同一順位を付与するものとする。"
   ]
  },
  {
   "cell_type": "code",
   "execution_count": 21,
   "metadata": {},
   "outputs": [
    {
     "data": {
      "text/html": [
       "<table class=\"dataframe\">\n",
       "<caption>A data.frame: 10 × 3</caption>\n",
       "<thead>\n",
       "\t<tr><th></th><th scope=col>customer_id</th><th scope=col>amount</th><th scope=col>rank</th></tr>\n",
       "\t<tr><th></th><th scope=col>&lt;chr&gt;</th><th scope=col>&lt;int&gt;</th><th scope=col>&lt;int&gt;</th></tr>\n",
       "</thead>\n",
       "<tbody>\n",
       "\t<tr><th scope=row>1</th><td>CS011415000006</td><td>10925</td><td>1</td></tr>\n",
       "\t<tr><th scope=row>2</th><td>ZZ000000000000</td><td> 6800</td><td>2</td></tr>\n",
       "\t<tr><th scope=row>3</th><td>CS028605000002</td><td> 5780</td><td>3</td></tr>\n",
       "\t<tr><th scope=row>4</th><td>CS015515000034</td><td> 5480</td><td>4</td></tr>\n",
       "\t<tr><th scope=row>5</th><td>ZZ000000000000</td><td> 5480</td><td>4</td></tr>\n",
       "\t<tr><th scope=row>6</th><td>ZZ000000000000</td><td> 5480</td><td>4</td></tr>\n",
       "\t<tr><th scope=row>7</th><td>ZZ000000000000</td><td> 5440</td><td>5</td></tr>\n",
       "\t<tr><th scope=row>8</th><td>CS021515000089</td><td> 5440</td><td>5</td></tr>\n",
       "\t<tr><th scope=row>9</th><td>CS015515000083</td><td> 5280</td><td>6</td></tr>\n",
       "\t<tr><th scope=row>10</th><td>CS017414000114</td><td> 5280</td><td>6</td></tr>\n",
       "</tbody>\n",
       "</table>\n"
      ],
      "text/latex": [
       "A data.frame: 10 × 3\n",
       "\\begin{tabular}{r|lll}\n",
       "  & customer\\_id & amount & rank\\\\\n",
       "  & <chr> & <int> & <int>\\\\\n",
       "\\hline\n",
       "\t1 & CS011415000006 & 10925 & 1\\\\\n",
       "\t2 & ZZ000000000000 &  6800 & 2\\\\\n",
       "\t3 & CS028605000002 &  5780 & 3\\\\\n",
       "\t4 & CS015515000034 &  5480 & 4\\\\\n",
       "\t5 & ZZ000000000000 &  5480 & 4\\\\\n",
       "\t6 & ZZ000000000000 &  5480 & 4\\\\\n",
       "\t7 & ZZ000000000000 &  5440 & 5\\\\\n",
       "\t8 & CS021515000089 &  5440 & 5\\\\\n",
       "\t9 & CS015515000083 &  5280 & 6\\\\\n",
       "\t10 & CS017414000114 &  5280 & 6\\\\\n",
       "\\end{tabular}\n"
      ],
      "text/markdown": [
       "\n",
       "A data.frame: 10 × 3\n",
       "\n",
       "| <!--/--> | customer_id &lt;chr&gt; | amount &lt;int&gt; | rank &lt;int&gt; |\n",
       "|---|---|---|---|\n",
       "| 1 | CS011415000006 | 10925 | 1 |\n",
       "| 2 | ZZ000000000000 |  6800 | 2 |\n",
       "| 3 | CS028605000002 |  5780 | 3 |\n",
       "| 4 | CS015515000034 |  5480 | 4 |\n",
       "| 5 | ZZ000000000000 |  5480 | 4 |\n",
       "| 6 | ZZ000000000000 |  5480 | 4 |\n",
       "| 7 | ZZ000000000000 |  5440 | 5 |\n",
       "| 8 | CS021515000089 |  5440 | 5 |\n",
       "| 9 | CS015515000083 |  5280 | 6 |\n",
       "| 10 | CS017414000114 |  5280 | 6 |\n",
       "\n"
      ],
      "text/plain": [
       "   customer_id    amount rank\n",
       "1  CS011415000006 10925  1   \n",
       "2  ZZ000000000000  6800  2   \n",
       "3  CS028605000002  5780  3   \n",
       "4  CS015515000034  5480  4   \n",
       "5  ZZ000000000000  5480  4   \n",
       "6  ZZ000000000000  5480  4   \n",
       "7  ZZ000000000000  5440  5   \n",
       "8  CS021515000089  5440  5   \n",
       "9  CS015515000083  5280  6   \n",
       "10 CS017414000114  5280  6   "
      ]
     },
     "metadata": {},
     "output_type": "display_data"
    }
   ],
   "source": [
    "df_receipt %>% select(customer_id, amount) %>% arrange(desc(amount)) %>% mutate(rank = dense_rank(desc(amount))) %>% head(10)"
   ]
  },
  {
   "cell_type": "markdown",
   "metadata": {},
   "source": [
    "---\n",
    "> R-020: レシート明細データ（df_receipt）に対し、1件あたりの売上金額（amount）が高い順にランクを付与し、先頭から10件表示せよ。項目は顧客ID（customer_id）、売上金額（amount）、付与したランクを表示させること。なお、売上金額（amount）が等しい場合でも別順位を付与すること。"
   ]
  },
  {
   "cell_type": "code",
   "execution_count": 22,
   "metadata": {},
   "outputs": [
    {
     "data": {
      "text/html": [
       "<table class=\"dataframe\">\n",
       "<caption>A data.frame: 10 × 3</caption>\n",
       "<thead>\n",
       "\t<tr><th></th><th scope=col>customer_id</th><th scope=col>amount</th><th scope=col>rank</th></tr>\n",
       "\t<tr><th></th><th scope=col>&lt;chr&gt;</th><th scope=col>&lt;int&gt;</th><th scope=col>&lt;int&gt;</th></tr>\n",
       "</thead>\n",
       "<tbody>\n",
       "\t<tr><th scope=row>1</th><td>CS011415000006</td><td>10925</td><td> 1</td></tr>\n",
       "\t<tr><th scope=row>2</th><td>ZZ000000000000</td><td> 6800</td><td> 2</td></tr>\n",
       "\t<tr><th scope=row>3</th><td>CS028605000002</td><td> 5780</td><td> 3</td></tr>\n",
       "\t<tr><th scope=row>4</th><td>CS015515000034</td><td> 5480</td><td> 4</td></tr>\n",
       "\t<tr><th scope=row>5</th><td>ZZ000000000000</td><td> 5480</td><td> 5</td></tr>\n",
       "\t<tr><th scope=row>6</th><td>ZZ000000000000</td><td> 5480</td><td> 6</td></tr>\n",
       "\t<tr><th scope=row>7</th><td>ZZ000000000000</td><td> 5440</td><td> 7</td></tr>\n",
       "\t<tr><th scope=row>8</th><td>CS021515000089</td><td> 5440</td><td> 8</td></tr>\n",
       "\t<tr><th scope=row>9</th><td>CS015515000083</td><td> 5280</td><td> 9</td></tr>\n",
       "\t<tr><th scope=row>10</th><td>CS017414000114</td><td> 5280</td><td>10</td></tr>\n",
       "</tbody>\n",
       "</table>\n"
      ],
      "text/latex": [
       "A data.frame: 10 × 3\n",
       "\\begin{tabular}{r|lll}\n",
       "  & customer\\_id & amount & rank\\\\\n",
       "  & <chr> & <int> & <int>\\\\\n",
       "\\hline\n",
       "\t1 & CS011415000006 & 10925 &  1\\\\\n",
       "\t2 & ZZ000000000000 &  6800 &  2\\\\\n",
       "\t3 & CS028605000002 &  5780 &  3\\\\\n",
       "\t4 & CS015515000034 &  5480 &  4\\\\\n",
       "\t5 & ZZ000000000000 &  5480 &  5\\\\\n",
       "\t6 & ZZ000000000000 &  5480 &  6\\\\\n",
       "\t7 & ZZ000000000000 &  5440 &  7\\\\\n",
       "\t8 & CS021515000089 &  5440 &  8\\\\\n",
       "\t9 & CS015515000083 &  5280 &  9\\\\\n",
       "\t10 & CS017414000114 &  5280 & 10\\\\\n",
       "\\end{tabular}\n"
      ],
      "text/markdown": [
       "\n",
       "A data.frame: 10 × 3\n",
       "\n",
       "| <!--/--> | customer_id &lt;chr&gt; | amount &lt;int&gt; | rank &lt;int&gt; |\n",
       "|---|---|---|---|\n",
       "| 1 | CS011415000006 | 10925 |  1 |\n",
       "| 2 | ZZ000000000000 |  6800 |  2 |\n",
       "| 3 | CS028605000002 |  5780 |  3 |\n",
       "| 4 | CS015515000034 |  5480 |  4 |\n",
       "| 5 | ZZ000000000000 |  5480 |  5 |\n",
       "| 6 | ZZ000000000000 |  5480 |  6 |\n",
       "| 7 | ZZ000000000000 |  5440 |  7 |\n",
       "| 8 | CS021515000089 |  5440 |  8 |\n",
       "| 9 | CS015515000083 |  5280 |  9 |\n",
       "| 10 | CS017414000114 |  5280 | 10 |\n",
       "\n"
      ],
      "text/plain": [
       "   customer_id    amount rank\n",
       "1  CS011415000006 10925   1  \n",
       "2  ZZ000000000000  6800   2  \n",
       "3  CS028605000002  5780   3  \n",
       "4  CS015515000034  5480   4  \n",
       "5  ZZ000000000000  5480   5  \n",
       "6  ZZ000000000000  5480   6  \n",
       "7  ZZ000000000000  5440   7  \n",
       "8  CS021515000089  5440   8  \n",
       "9  CS015515000083  5280   9  \n",
       "10 CS017414000114  5280  10  "
      ]
     },
     "metadata": {},
     "output_type": "display_data"
    }
   ],
   "source": [
    "df_receipt %>% select(customer_id, amount) %>% arrange(desc(amount)) %>% mutate(rank = row_number(desc(amount))) %>% head(10)"
   ]
  },
  {
   "cell_type": "markdown",
   "metadata": {},
   "source": [
    "---\n",
    "> R-021: レシート明細データ（df_receipt）に対し、件数をカウントせよ。"
   ]
  },
  {
   "cell_type": "code",
   "execution_count": 23,
   "metadata": {},
   "outputs": [
    {
     "data": {
      "text/html": [
       "104681"
      ],
      "text/latex": [
       "104681"
      ],
      "text/markdown": [
       "104681"
      ],
      "text/plain": [
       "[1] 104681"
      ]
     },
     "metadata": {},
     "output_type": "display_data"
    }
   ],
   "source": [
    "df_receipt %>% count() %>% pull()"
   ]
  },
  {
   "cell_type": "markdown",
   "metadata": {},
   "source": [
    "---\n",
    "> R-022: レシート明細データ（df_receipt）の顧客ID（customer_id）に対し、ユニーク件数をカウントせよ。"
   ]
  },
  {
   "cell_type": "code",
   "execution_count": 24,
   "metadata": {},
   "outputs": [
    {
     "data": {
      "text/html": [
       "<table class=\"dataframe\">\n",
       "<caption>A grouped_df: 8307 × 2</caption>\n",
       "<thead>\n",
       "\t<tr><th scope=col>customer_id</th><th scope=col>n</th></tr>\n",
       "\t<tr><th scope=col>&lt;chr&gt;</th><th scope=col>&lt;int&gt;</th></tr>\n",
       "</thead>\n",
       "<tbody>\n",
       "\t<tr><td>CS001113000004</td><td> 2</td></tr>\n",
       "\t<tr><td>CS001114000005</td><td> 4</td></tr>\n",
       "\t<tr><td>CS001115000010</td><td> 6</td></tr>\n",
       "\t<tr><td>CS001205000004</td><td>10</td></tr>\n",
       "\t<tr><td>CS001205000006</td><td>12</td></tr>\n",
       "\t<tr><td>CS001211000025</td><td> 2</td></tr>\n",
       "\t<tr><td>CS001212000027</td><td> 2</td></tr>\n",
       "\t<tr><td>CS001212000031</td><td> 2</td></tr>\n",
       "\t<tr><td>CS001212000046</td><td> 2</td></tr>\n",
       "\t<tr><td>CS001212000070</td><td> 2</td></tr>\n",
       "\t<tr><td>CS001212000098</td><td> 2</td></tr>\n",
       "\t<tr><td>CS001213000018</td><td> 2</td></tr>\n",
       "\t<tr><td>CS001213000020</td><td> 2</td></tr>\n",
       "\t<tr><td>CS001214000009</td><td>14</td></tr>\n",
       "\t<tr><td>CS001214000017</td><td>12</td></tr>\n",
       "\t<tr><td>CS001214000024</td><td> 2</td></tr>\n",
       "\t<tr><td>CS001214000048</td><td>10</td></tr>\n",
       "\t<tr><td>CS001214000052</td><td>12</td></tr>\n",
       "\t<tr><td>CS001214000059</td><td> 2</td></tr>\n",
       "\t<tr><td>CS001214000063</td><td> 2</td></tr>\n",
       "\t<tr><td>CS001215000005</td><td> 6</td></tr>\n",
       "\t<tr><td>CS001215000040</td><td>10</td></tr>\n",
       "\t<tr><td>CS001215000061</td><td> 4</td></tr>\n",
       "\t<tr><td>CS001215000080</td><td> 2</td></tr>\n",
       "\t<tr><td>CS001215000097</td><td> 2</td></tr>\n",
       "\t<tr><td>CS001215000133</td><td> 2</td></tr>\n",
       "\t<tr><td>CS001215000145</td><td> 2</td></tr>\n",
       "\t<tr><td>CS001215000158</td><td> 4</td></tr>\n",
       "\t<tr><td>CS001215000170</td><td> 4</td></tr>\n",
       "\t<tr><td>CS001304000004</td><td> 2</td></tr>\n",
       "\t<tr><td>⋮</td><td>⋮</td></tr>\n",
       "\t<tr><td>CS046515000003</td><td>    4</td></tr>\n",
       "\t<tr><td>CS046614000002</td><td>    2</td></tr>\n",
       "\t<tr><td>CS046615000004</td><td>    4</td></tr>\n",
       "\t<tr><td>CS047211000001</td><td>   12</td></tr>\n",
       "\t<tr><td>CS048212000004</td><td>    2</td></tr>\n",
       "\t<tr><td>CS048411000001</td><td>   12</td></tr>\n",
       "\t<tr><td>CS048414000006</td><td>    4</td></tr>\n",
       "\t<tr><td>CS048415000014</td><td>    8</td></tr>\n",
       "\t<tr><td>CS048415000017</td><td>   10</td></tr>\n",
       "\t<tr><td>CS048415000020</td><td>    4</td></tr>\n",
       "\t<tr><td>CS048513000001</td><td>    2</td></tr>\n",
       "\t<tr><td>CS049113000002</td><td>    4</td></tr>\n",
       "\t<tr><td>CS049115000001</td><td>    6</td></tr>\n",
       "\t<tr><td>CS049412000008</td><td>    2</td></tr>\n",
       "\t<tr><td>CS049415000003</td><td>    8</td></tr>\n",
       "\t<tr><td>CS049513000008</td><td>   10</td></tr>\n",
       "\t<tr><td>CS049513000010</td><td>    2</td></tr>\n",
       "\t<tr><td>CS049514000003</td><td>    4</td></tr>\n",
       "\t<tr><td>CS049605000005</td><td>    4</td></tr>\n",
       "\t<tr><td>CS049613000002</td><td>    4</td></tr>\n",
       "\t<tr><td>CS049613000006</td><td>    2</td></tr>\n",
       "\t<tr><td>CS049614000003</td><td>    2</td></tr>\n",
       "\t<tr><td>CS049815000003</td><td>    2</td></tr>\n",
       "\t<tr><td>CS050415000007</td><td>    6</td></tr>\n",
       "\t<tr><td>CS051212000001</td><td>    2</td></tr>\n",
       "\t<tr><td>CS051513000004</td><td>    2</td></tr>\n",
       "\t<tr><td>CS051515000002</td><td>    2</td></tr>\n",
       "\t<tr><td>CS052212000002</td><td>    2</td></tr>\n",
       "\t<tr><td>CS052514000001</td><td>    2</td></tr>\n",
       "\t<tr><td>ZZ000000000000</td><td>38999</td></tr>\n",
       "</tbody>\n",
       "</table>\n"
      ],
      "text/latex": [
       "A grouped\\_df: 8307 × 2\n",
       "\\begin{tabular}{ll}\n",
       " customer\\_id & n\\\\\n",
       " <chr> & <int>\\\\\n",
       "\\hline\n",
       "\t CS001113000004 &  2\\\\\n",
       "\t CS001114000005 &  4\\\\\n",
       "\t CS001115000010 &  6\\\\\n",
       "\t CS001205000004 & 10\\\\\n",
       "\t CS001205000006 & 12\\\\\n",
       "\t CS001211000025 &  2\\\\\n",
       "\t CS001212000027 &  2\\\\\n",
       "\t CS001212000031 &  2\\\\\n",
       "\t CS001212000046 &  2\\\\\n",
       "\t CS001212000070 &  2\\\\\n",
       "\t CS001212000098 &  2\\\\\n",
       "\t CS001213000018 &  2\\\\\n",
       "\t CS001213000020 &  2\\\\\n",
       "\t CS001214000009 & 14\\\\\n",
       "\t CS001214000017 & 12\\\\\n",
       "\t CS001214000024 &  2\\\\\n",
       "\t CS001214000048 & 10\\\\\n",
       "\t CS001214000052 & 12\\\\\n",
       "\t CS001214000059 &  2\\\\\n",
       "\t CS001214000063 &  2\\\\\n",
       "\t CS001215000005 &  6\\\\\n",
       "\t CS001215000040 & 10\\\\\n",
       "\t CS001215000061 &  4\\\\\n",
       "\t CS001215000080 &  2\\\\\n",
       "\t CS001215000097 &  2\\\\\n",
       "\t CS001215000133 &  2\\\\\n",
       "\t CS001215000145 &  2\\\\\n",
       "\t CS001215000158 &  4\\\\\n",
       "\t CS001215000170 &  4\\\\\n",
       "\t CS001304000004 &  2\\\\\n",
       "\t ⋮ & ⋮\\\\\n",
       "\t CS046515000003 &     4\\\\\n",
       "\t CS046614000002 &     2\\\\\n",
       "\t CS046615000004 &     4\\\\\n",
       "\t CS047211000001 &    12\\\\\n",
       "\t CS048212000004 &     2\\\\\n",
       "\t CS048411000001 &    12\\\\\n",
       "\t CS048414000006 &     4\\\\\n",
       "\t CS048415000014 &     8\\\\\n",
       "\t CS048415000017 &    10\\\\\n",
       "\t CS048415000020 &     4\\\\\n",
       "\t CS048513000001 &     2\\\\\n",
       "\t CS049113000002 &     4\\\\\n",
       "\t CS049115000001 &     6\\\\\n",
       "\t CS049412000008 &     2\\\\\n",
       "\t CS049415000003 &     8\\\\\n",
       "\t CS049513000008 &    10\\\\\n",
       "\t CS049513000010 &     2\\\\\n",
       "\t CS049514000003 &     4\\\\\n",
       "\t CS049605000005 &     4\\\\\n",
       "\t CS049613000002 &     4\\\\\n",
       "\t CS049613000006 &     2\\\\\n",
       "\t CS049614000003 &     2\\\\\n",
       "\t CS049815000003 &     2\\\\\n",
       "\t CS050415000007 &     6\\\\\n",
       "\t CS051212000001 &     2\\\\\n",
       "\t CS051513000004 &     2\\\\\n",
       "\t CS051515000002 &     2\\\\\n",
       "\t CS052212000002 &     2\\\\\n",
       "\t CS052514000001 &     2\\\\\n",
       "\t ZZ000000000000 & 38999\\\\\n",
       "\\end{tabular}\n"
      ],
      "text/markdown": [
       "\n",
       "A grouped_df: 8307 × 2\n",
       "\n",
       "| customer_id &lt;chr&gt; | n &lt;int&gt; |\n",
       "|---|---|\n",
       "| CS001113000004 |  2 |\n",
       "| CS001114000005 |  4 |\n",
       "| CS001115000010 |  6 |\n",
       "| CS001205000004 | 10 |\n",
       "| CS001205000006 | 12 |\n",
       "| CS001211000025 |  2 |\n",
       "| CS001212000027 |  2 |\n",
       "| CS001212000031 |  2 |\n",
       "| CS001212000046 |  2 |\n",
       "| CS001212000070 |  2 |\n",
       "| CS001212000098 |  2 |\n",
       "| CS001213000018 |  2 |\n",
       "| CS001213000020 |  2 |\n",
       "| CS001214000009 | 14 |\n",
       "| CS001214000017 | 12 |\n",
       "| CS001214000024 |  2 |\n",
       "| CS001214000048 | 10 |\n",
       "| CS001214000052 | 12 |\n",
       "| CS001214000059 |  2 |\n",
       "| CS001214000063 |  2 |\n",
       "| CS001215000005 |  6 |\n",
       "| CS001215000040 | 10 |\n",
       "| CS001215000061 |  4 |\n",
       "| CS001215000080 |  2 |\n",
       "| CS001215000097 |  2 |\n",
       "| CS001215000133 |  2 |\n",
       "| CS001215000145 |  2 |\n",
       "| CS001215000158 |  4 |\n",
       "| CS001215000170 |  4 |\n",
       "| CS001304000004 |  2 |\n",
       "| ⋮ | ⋮ |\n",
       "| CS046515000003 |     4 |\n",
       "| CS046614000002 |     2 |\n",
       "| CS046615000004 |     4 |\n",
       "| CS047211000001 |    12 |\n",
       "| CS048212000004 |     2 |\n",
       "| CS048411000001 |    12 |\n",
       "| CS048414000006 |     4 |\n",
       "| CS048415000014 |     8 |\n",
       "| CS048415000017 |    10 |\n",
       "| CS048415000020 |     4 |\n",
       "| CS048513000001 |     2 |\n",
       "| CS049113000002 |     4 |\n",
       "| CS049115000001 |     6 |\n",
       "| CS049412000008 |     2 |\n",
       "| CS049415000003 |     8 |\n",
       "| CS049513000008 |    10 |\n",
       "| CS049513000010 |     2 |\n",
       "| CS049514000003 |     4 |\n",
       "| CS049605000005 |     4 |\n",
       "| CS049613000002 |     4 |\n",
       "| CS049613000006 |     2 |\n",
       "| CS049614000003 |     2 |\n",
       "| CS049815000003 |     2 |\n",
       "| CS050415000007 |     6 |\n",
       "| CS051212000001 |     2 |\n",
       "| CS051513000004 |     2 |\n",
       "| CS051515000002 |     2 |\n",
       "| CS052212000002 |     2 |\n",
       "| CS052514000001 |     2 |\n",
       "| ZZ000000000000 | 38999 |\n",
       "\n"
      ],
      "text/plain": [
       "     customer_id    n    \n",
       "1    CS001113000004  2   \n",
       "2    CS001114000005  4   \n",
       "3    CS001115000010  6   \n",
       "4    CS001205000004 10   \n",
       "5    CS001205000006 12   \n",
       "6    CS001211000025  2   \n",
       "7    CS001212000027  2   \n",
       "8    CS001212000031  2   \n",
       "9    CS001212000046  2   \n",
       "10   CS001212000070  2   \n",
       "11   CS001212000098  2   \n",
       "12   CS001213000018  2   \n",
       "13   CS001213000020  2   \n",
       "14   CS001214000009 14   \n",
       "15   CS001214000017 12   \n",
       "16   CS001214000024  2   \n",
       "17   CS001214000048 10   \n",
       "18   CS001214000052 12   \n",
       "19   CS001214000059  2   \n",
       "20   CS001214000063  2   \n",
       "21   CS001215000005  6   \n",
       "22   CS001215000040 10   \n",
       "23   CS001215000061  4   \n",
       "24   CS001215000080  2   \n",
       "25   CS001215000097  2   \n",
       "26   CS001215000133  2   \n",
       "27   CS001215000145  2   \n",
       "28   CS001215000158  4   \n",
       "29   CS001215000170  4   \n",
       "30   CS001304000004  2   \n",
       "⋮    ⋮              ⋮    \n",
       "8278 CS046515000003     4\n",
       "8279 CS046614000002     2\n",
       "8280 CS046615000004     4\n",
       "8281 CS047211000001    12\n",
       "8282 CS048212000004     2\n",
       "8283 CS048411000001    12\n",
       "8284 CS048414000006     4\n",
       "8285 CS048415000014     8\n",
       "8286 CS048415000017    10\n",
       "8287 CS048415000020     4\n",
       "8288 CS048513000001     2\n",
       "8289 CS049113000002     4\n",
       "8290 CS049115000001     6\n",
       "8291 CS049412000008     2\n",
       "8292 CS049415000003     8\n",
       "8293 CS049513000008    10\n",
       "8294 CS049513000010     2\n",
       "8295 CS049514000003     4\n",
       "8296 CS049605000005     4\n",
       "8297 CS049613000002     4\n",
       "8298 CS049613000006     2\n",
       "8299 CS049614000003     2\n",
       "8300 CS049815000003     2\n",
       "8301 CS050415000007     6\n",
       "8302 CS051212000001     2\n",
       "8303 CS051513000004     2\n",
       "8304 CS051515000002     2\n",
       "8305 CS052212000002     2\n",
       "8306 CS052514000001     2\n",
       "8307 ZZ000000000000 38999"
      ]
     },
     "metadata": {},
     "output_type": "display_data"
    }
   ],
   "source": [
    "df_receipt %>% group_by(customer_id) %>% count()"
   ]
  },
  {
   "cell_type": "markdown",
   "metadata": {},
   "source": [
    "---\n",
    "> R-023: レシート明細データ（df_receipt）に対し、店舗コード（store_cd）ごとに売上金額（amount）と売上数量（quantity）を合計せよ。"
   ]
  },
  {
   "cell_type": "code",
   "execution_count": 25,
   "metadata": {},
   "outputs": [
    {
     "data": {
      "text/html": [
       "<table class=\"dataframe\">\n",
       "<caption>A grouped_df: 10513 × 4</caption>\n",
       "<thead>\n",
       "\t<tr><th scope=col>store_cd</th><th scope=col>amount</th><th scope=col>quantity</th><th scope=col>n</th></tr>\n",
       "\t<tr><th scope=col>&lt;chr&gt;</th><th scope=col>&lt;int&gt;</th><th scope=col>&lt;int&gt;</th><th scope=col>&lt;int&gt;</th></tr>\n",
       "</thead>\n",
       "<tbody>\n",
       "\t<tr><td>S12007</td><td> 10</td><td>1</td><td> 3</td></tr>\n",
       "\t<tr><td>S12007</td><td> 20</td><td>1</td><td> 1</td></tr>\n",
       "\t<tr><td>S12007</td><td> 25</td><td>1</td><td> 3</td></tr>\n",
       "\t<tr><td>S12007</td><td> 30</td><td>1</td><td> 2</td></tr>\n",
       "\t<tr><td>S12007</td><td> 45</td><td>1</td><td> 4</td></tr>\n",
       "\t<tr><td>S12007</td><td> 48</td><td>1</td><td> 9</td></tr>\n",
       "\t<tr><td>S12007</td><td> 50</td><td>1</td><td> 2</td></tr>\n",
       "\t<tr><td>S12007</td><td> 54</td><td>1</td><td> 6</td></tr>\n",
       "\t<tr><td>S12007</td><td> 58</td><td>1</td><td> 6</td></tr>\n",
       "\t<tr><td>S12007</td><td> 60</td><td>1</td><td>40</td></tr>\n",
       "\t<tr><td>S12007</td><td> 65</td><td>1</td><td> 7</td></tr>\n",
       "\t<tr><td>S12007</td><td> 68</td><td>1</td><td>17</td></tr>\n",
       "\t<tr><td>S12007</td><td> 70</td><td>1</td><td>22</td></tr>\n",
       "\t<tr><td>S12007</td><td> 75</td><td>1</td><td>14</td></tr>\n",
       "\t<tr><td>S12007</td><td> 78</td><td>1</td><td>24</td></tr>\n",
       "\t<tr><td>S12007</td><td> 80</td><td>1</td><td>17</td></tr>\n",
       "\t<tr><td>S12007</td><td> 81</td><td>1</td><td> 4</td></tr>\n",
       "\t<tr><td>S12007</td><td> 83</td><td>1</td><td> 5</td></tr>\n",
       "\t<tr><td>S12007</td><td> 88</td><td>1</td><td>85</td></tr>\n",
       "\t<tr><td>S12007</td><td> 90</td><td>1</td><td>32</td></tr>\n",
       "\t<tr><td>S12007</td><td> 92</td><td>1</td><td> 2</td></tr>\n",
       "\t<tr><td>S12007</td><td> 93</td><td>1</td><td> 1</td></tr>\n",
       "\t<tr><td>S12007</td><td> 95</td><td>1</td><td>13</td></tr>\n",
       "\t<tr><td>S12007</td><td> 96</td><td>1</td><td> 1</td></tr>\n",
       "\t<tr><td>S12007</td><td> 98</td><td>1</td><td>77</td></tr>\n",
       "\t<tr><td>S12007</td><td>100</td><td>1</td><td>85</td></tr>\n",
       "\t<tr><td>S12007</td><td>102</td><td>1</td><td>72</td></tr>\n",
       "\t<tr><td>S12007</td><td>105</td><td>1</td><td> 7</td></tr>\n",
       "\t<tr><td>S12007</td><td>108</td><td>1</td><td>19</td></tr>\n",
       "\t<tr><td>S12007</td><td>110</td><td>1</td><td>28</td></tr>\n",
       "\t<tr><td>⋮</td><td>⋮</td><td>⋮</td><td>⋮</td></tr>\n",
       "\t<tr><td>S14050</td><td> 518</td><td>1</td><td> 2</td></tr>\n",
       "\t<tr><td>S14050</td><td> 578</td><td>1</td><td> 1</td></tr>\n",
       "\t<tr><td>S14050</td><td> 580</td><td>1</td><td> 1</td></tr>\n",
       "\t<tr><td>S14050</td><td> 600</td><td>1</td><td> 1</td></tr>\n",
       "\t<tr><td>S14050</td><td> 665</td><td>1</td><td> 1</td></tr>\n",
       "\t<tr><td>S14050</td><td> 670</td><td>1</td><td> 2</td></tr>\n",
       "\t<tr><td>S14050</td><td> 675</td><td>1</td><td> 1</td></tr>\n",
       "\t<tr><td>S14050</td><td> 680</td><td>1</td><td>12</td></tr>\n",
       "\t<tr><td>S14050</td><td> 698</td><td>1</td><td> 2</td></tr>\n",
       "\t<tr><td>S14050</td><td> 716</td><td>2</td><td> 1</td></tr>\n",
       "\t<tr><td>S14050</td><td> 730</td><td>1</td><td> 1</td></tr>\n",
       "\t<tr><td>S14050</td><td> 748</td><td>1</td><td> 1</td></tr>\n",
       "\t<tr><td>S14050</td><td> 765</td><td>1</td><td> 1</td></tr>\n",
       "\t<tr><td>S14050</td><td> 780</td><td>1</td><td> 2</td></tr>\n",
       "\t<tr><td>S14050</td><td> 810</td><td>1</td><td> 1</td></tr>\n",
       "\t<tr><td>S14050</td><td> 850</td><td>1</td><td> 1</td></tr>\n",
       "\t<tr><td>S14050</td><td> 880</td><td>1</td><td> 1</td></tr>\n",
       "\t<tr><td>S14050</td><td> 898</td><td>1</td><td> 1</td></tr>\n",
       "\t<tr><td>S14050</td><td> 900</td><td>1</td><td> 1</td></tr>\n",
       "\t<tr><td>S14050</td><td> 920</td><td>1</td><td> 1</td></tr>\n",
       "\t<tr><td>S14050</td><td>1080</td><td>1</td><td> 1</td></tr>\n",
       "\t<tr><td>S14050</td><td>1100</td><td>1</td><td>10</td></tr>\n",
       "\t<tr><td>S14050</td><td>1130</td><td>1</td><td> 1</td></tr>\n",
       "\t<tr><td>S14050</td><td>1200</td><td>1</td><td> 8</td></tr>\n",
       "\t<tr><td>S14050</td><td>1280</td><td>1</td><td> 1</td></tr>\n",
       "\t<tr><td>S14050</td><td>2200</td><td>1</td><td> 6</td></tr>\n",
       "\t<tr><td>S14050</td><td>2400</td><td>1</td><td> 1</td></tr>\n",
       "\t<tr><td>S14050</td><td>2485</td><td>1</td><td> 1</td></tr>\n",
       "\t<tr><td>S14050</td><td>2930</td><td>1</td><td> 1</td></tr>\n",
       "\t<tr><td>S14050</td><td>4760</td><td>1</td><td> 1</td></tr>\n",
       "</tbody>\n",
       "</table>\n"
      ],
      "text/latex": [
       "A grouped\\_df: 10513 × 4\n",
       "\\begin{tabular}{llll}\n",
       " store\\_cd & amount & quantity & n\\\\\n",
       " <chr> & <int> & <int> & <int>\\\\\n",
       "\\hline\n",
       "\t S12007 &  10 & 1 &  3\\\\\n",
       "\t S12007 &  20 & 1 &  1\\\\\n",
       "\t S12007 &  25 & 1 &  3\\\\\n",
       "\t S12007 &  30 & 1 &  2\\\\\n",
       "\t S12007 &  45 & 1 &  4\\\\\n",
       "\t S12007 &  48 & 1 &  9\\\\\n",
       "\t S12007 &  50 & 1 &  2\\\\\n",
       "\t S12007 &  54 & 1 &  6\\\\\n",
       "\t S12007 &  58 & 1 &  6\\\\\n",
       "\t S12007 &  60 & 1 & 40\\\\\n",
       "\t S12007 &  65 & 1 &  7\\\\\n",
       "\t S12007 &  68 & 1 & 17\\\\\n",
       "\t S12007 &  70 & 1 & 22\\\\\n",
       "\t S12007 &  75 & 1 & 14\\\\\n",
       "\t S12007 &  78 & 1 & 24\\\\\n",
       "\t S12007 &  80 & 1 & 17\\\\\n",
       "\t S12007 &  81 & 1 &  4\\\\\n",
       "\t S12007 &  83 & 1 &  5\\\\\n",
       "\t S12007 &  88 & 1 & 85\\\\\n",
       "\t S12007 &  90 & 1 & 32\\\\\n",
       "\t S12007 &  92 & 1 &  2\\\\\n",
       "\t S12007 &  93 & 1 &  1\\\\\n",
       "\t S12007 &  95 & 1 & 13\\\\\n",
       "\t S12007 &  96 & 1 &  1\\\\\n",
       "\t S12007 &  98 & 1 & 77\\\\\n",
       "\t S12007 & 100 & 1 & 85\\\\\n",
       "\t S12007 & 102 & 1 & 72\\\\\n",
       "\t S12007 & 105 & 1 &  7\\\\\n",
       "\t S12007 & 108 & 1 & 19\\\\\n",
       "\t S12007 & 110 & 1 & 28\\\\\n",
       "\t ⋮ & ⋮ & ⋮ & ⋮\\\\\n",
       "\t S14050 &  518 & 1 &  2\\\\\n",
       "\t S14050 &  578 & 1 &  1\\\\\n",
       "\t S14050 &  580 & 1 &  1\\\\\n",
       "\t S14050 &  600 & 1 &  1\\\\\n",
       "\t S14050 &  665 & 1 &  1\\\\\n",
       "\t S14050 &  670 & 1 &  2\\\\\n",
       "\t S14050 &  675 & 1 &  1\\\\\n",
       "\t S14050 &  680 & 1 & 12\\\\\n",
       "\t S14050 &  698 & 1 &  2\\\\\n",
       "\t S14050 &  716 & 2 &  1\\\\\n",
       "\t S14050 &  730 & 1 &  1\\\\\n",
       "\t S14050 &  748 & 1 &  1\\\\\n",
       "\t S14050 &  765 & 1 &  1\\\\\n",
       "\t S14050 &  780 & 1 &  2\\\\\n",
       "\t S14050 &  810 & 1 &  1\\\\\n",
       "\t S14050 &  850 & 1 &  1\\\\\n",
       "\t S14050 &  880 & 1 &  1\\\\\n",
       "\t S14050 &  898 & 1 &  1\\\\\n",
       "\t S14050 &  900 & 1 &  1\\\\\n",
       "\t S14050 &  920 & 1 &  1\\\\\n",
       "\t S14050 & 1080 & 1 &  1\\\\\n",
       "\t S14050 & 1100 & 1 & 10\\\\\n",
       "\t S14050 & 1130 & 1 &  1\\\\\n",
       "\t S14050 & 1200 & 1 &  8\\\\\n",
       "\t S14050 & 1280 & 1 &  1\\\\\n",
       "\t S14050 & 2200 & 1 &  6\\\\\n",
       "\t S14050 & 2400 & 1 &  1\\\\\n",
       "\t S14050 & 2485 & 1 &  1\\\\\n",
       "\t S14050 & 2930 & 1 &  1\\\\\n",
       "\t S14050 & 4760 & 1 &  1\\\\\n",
       "\\end{tabular}\n"
      ],
      "text/markdown": [
       "\n",
       "A grouped_df: 10513 × 4\n",
       "\n",
       "| store_cd &lt;chr&gt; | amount &lt;int&gt; | quantity &lt;int&gt; | n &lt;int&gt; |\n",
       "|---|---|---|---|\n",
       "| S12007 |  10 | 1 |  3 |\n",
       "| S12007 |  20 | 1 |  1 |\n",
       "| S12007 |  25 | 1 |  3 |\n",
       "| S12007 |  30 | 1 |  2 |\n",
       "| S12007 |  45 | 1 |  4 |\n",
       "| S12007 |  48 | 1 |  9 |\n",
       "| S12007 |  50 | 1 |  2 |\n",
       "| S12007 |  54 | 1 |  6 |\n",
       "| S12007 |  58 | 1 |  6 |\n",
       "| S12007 |  60 | 1 | 40 |\n",
       "| S12007 |  65 | 1 |  7 |\n",
       "| S12007 |  68 | 1 | 17 |\n",
       "| S12007 |  70 | 1 | 22 |\n",
       "| S12007 |  75 | 1 | 14 |\n",
       "| S12007 |  78 | 1 | 24 |\n",
       "| S12007 |  80 | 1 | 17 |\n",
       "| S12007 |  81 | 1 |  4 |\n",
       "| S12007 |  83 | 1 |  5 |\n",
       "| S12007 |  88 | 1 | 85 |\n",
       "| S12007 |  90 | 1 | 32 |\n",
       "| S12007 |  92 | 1 |  2 |\n",
       "| S12007 |  93 | 1 |  1 |\n",
       "| S12007 |  95 | 1 | 13 |\n",
       "| S12007 |  96 | 1 |  1 |\n",
       "| S12007 |  98 | 1 | 77 |\n",
       "| S12007 | 100 | 1 | 85 |\n",
       "| S12007 | 102 | 1 | 72 |\n",
       "| S12007 | 105 | 1 |  7 |\n",
       "| S12007 | 108 | 1 | 19 |\n",
       "| S12007 | 110 | 1 | 28 |\n",
       "| ⋮ | ⋮ | ⋮ | ⋮ |\n",
       "| S14050 |  518 | 1 |  2 |\n",
       "| S14050 |  578 | 1 |  1 |\n",
       "| S14050 |  580 | 1 |  1 |\n",
       "| S14050 |  600 | 1 |  1 |\n",
       "| S14050 |  665 | 1 |  1 |\n",
       "| S14050 |  670 | 1 |  2 |\n",
       "| S14050 |  675 | 1 |  1 |\n",
       "| S14050 |  680 | 1 | 12 |\n",
       "| S14050 |  698 | 1 |  2 |\n",
       "| S14050 |  716 | 2 |  1 |\n",
       "| S14050 |  730 | 1 |  1 |\n",
       "| S14050 |  748 | 1 |  1 |\n",
       "| S14050 |  765 | 1 |  1 |\n",
       "| S14050 |  780 | 1 |  2 |\n",
       "| S14050 |  810 | 1 |  1 |\n",
       "| S14050 |  850 | 1 |  1 |\n",
       "| S14050 |  880 | 1 |  1 |\n",
       "| S14050 |  898 | 1 |  1 |\n",
       "| S14050 |  900 | 1 |  1 |\n",
       "| S14050 |  920 | 1 |  1 |\n",
       "| S14050 | 1080 | 1 |  1 |\n",
       "| S14050 | 1100 | 1 | 10 |\n",
       "| S14050 | 1130 | 1 |  1 |\n",
       "| S14050 | 1200 | 1 |  8 |\n",
       "| S14050 | 1280 | 1 |  1 |\n",
       "| S14050 | 2200 | 1 |  6 |\n",
       "| S14050 | 2400 | 1 |  1 |\n",
       "| S14050 | 2485 | 1 |  1 |\n",
       "| S14050 | 2930 | 1 |  1 |\n",
       "| S14050 | 4760 | 1 |  1 |\n",
       "\n"
      ],
      "text/plain": [
       "      store_cd amount quantity n \n",
       "1     S12007    10    1         3\n",
       "2     S12007    20    1         1\n",
       "3     S12007    25    1         3\n",
       "4     S12007    30    1         2\n",
       "5     S12007    45    1         4\n",
       "6     S12007    48    1         9\n",
       "7     S12007    50    1         2\n",
       "8     S12007    54    1         6\n",
       "9     S12007    58    1         6\n",
       "10    S12007    60    1        40\n",
       "11    S12007    65    1         7\n",
       "12    S12007    68    1        17\n",
       "13    S12007    70    1        22\n",
       "14    S12007    75    1        14\n",
       "15    S12007    78    1        24\n",
       "16    S12007    80    1        17\n",
       "17    S12007    81    1         4\n",
       "18    S12007    83    1         5\n",
       "19    S12007    88    1        85\n",
       "20    S12007    90    1        32\n",
       "21    S12007    92    1         2\n",
       "22    S12007    93    1         1\n",
       "23    S12007    95    1        13\n",
       "24    S12007    96    1         1\n",
       "25    S12007    98    1        77\n",
       "26    S12007   100    1        85\n",
       "27    S12007   102    1        72\n",
       "28    S12007   105    1         7\n",
       "29    S12007   108    1        19\n",
       "30    S12007   110    1        28\n",
       "⋮     ⋮        ⋮      ⋮        ⋮ \n",
       "10484 S14050    518   1         2\n",
       "10485 S14050    578   1         1\n",
       "10486 S14050    580   1         1\n",
       "10487 S14050    600   1         1\n",
       "10488 S14050    665   1         1\n",
       "10489 S14050    670   1         2\n",
       "10490 S14050    675   1         1\n",
       "10491 S14050    680   1        12\n",
       "10492 S14050    698   1         2\n",
       "10493 S14050    716   2         1\n",
       "10494 S14050    730   1         1\n",
       "10495 S14050    748   1         1\n",
       "10496 S14050    765   1         1\n",
       "10497 S14050    780   1         2\n",
       "10498 S14050    810   1         1\n",
       "10499 S14050    850   1         1\n",
       "10500 S14050    880   1         1\n",
       "10501 S14050    898   1         1\n",
       "10502 S14050    900   1         1\n",
       "10503 S14050    920   1         1\n",
       "10504 S14050   1080   1         1\n",
       "10505 S14050   1100   1        10\n",
       "10506 S14050   1130   1         1\n",
       "10507 S14050   1200   1         8\n",
       "10508 S14050   1280   1         1\n",
       "10509 S14050   2200   1         6\n",
       "10510 S14050   2400   1         1\n",
       "10511 S14050   2485   1         1\n",
       "10512 S14050   2930   1         1\n",
       "10513 S14050   4760   1         1"
      ]
     },
     "metadata": {},
     "output_type": "display_data"
    }
   ],
   "source": [
    "df_receipt %>% group_by(store_cd) %>% count(amount, quantity)"
   ]
  },
  {
   "cell_type": "markdown",
   "metadata": {},
   "source": [
    "---\n",
    "> R-024: レシート明細データ（df_receipt）に対し、顧客ID（customer_id）ごとに最も新しい売上年月日（sales_ymd）を求め、10件表示せよ。"
   ]
  },
  {
   "cell_type": "code",
   "execution_count": 26,
   "metadata": {},
   "outputs": [
    {
     "data": {
      "text/html": [
       "<table class=\"dataframe\">\n",
       "<caption>A grouped_df: 10 × 9</caption>\n",
       "<thead>\n",
       "\t<tr><th scope=col>sales_ymd</th><th scope=col>sales_epoch</th><th scope=col>store_cd</th><th scope=col>receipt_no</th><th scope=col>receipt_sub_no</th><th scope=col>customer_id</th><th scope=col>product_cd</th><th scope=col>quantity</th><th scope=col>amount</th></tr>\n",
       "\t<tr><th scope=col>&lt;int&gt;</th><th scope=col>&lt;int&gt;</th><th scope=col>&lt;chr&gt;</th><th scope=col>&lt;int&gt;</th><th scope=col>&lt;int&gt;</th><th scope=col>&lt;chr&gt;</th><th scope=col>&lt;chr&gt;</th><th scope=col>&lt;int&gt;</th><th scope=col>&lt;int&gt;</th></tr>\n",
       "</thead>\n",
       "<tbody>\n",
       "\t<tr><td>20191031</td><td>1572480000</td><td>S13019</td><td> 112</td><td>1</td><td>ZZ000000000000</td><td>P080102015</td><td>1</td><td> 30</td></tr>\n",
       "\t<tr><td>20191031</td><td>1572480000</td><td>S14022</td><td>1142</td><td>2</td><td>CS022615000144</td><td>P050403001</td><td>1</td><td>128</td></tr>\n",
       "\t<tr><td>20191031</td><td>1572480000</td><td>S13041</td><td>1162</td><td>1</td><td>ZZ000000000000</td><td>P060101002</td><td>1</td><td>160</td></tr>\n",
       "\t<tr><td>20191031</td><td>1572480000</td><td>S12030</td><td>1132</td><td>2</td><td>ZZ000000000000</td><td>P070503008</td><td>1</td><td>100</td></tr>\n",
       "\t<tr><td>20191031</td><td>1572480000</td><td>S13037</td><td>1132</td><td>1</td><td>ZZ000000000000</td><td>P071005022</td><td>1</td><td>102</td></tr>\n",
       "\t<tr><td>20191031</td><td>1572480000</td><td>S14006</td><td>1132</td><td>1</td><td>CS006512000023</td><td>P040802001</td><td>1</td><td> 80</td></tr>\n",
       "\t<tr><td>20191031</td><td>1572480000</td><td>S13031</td><td>1142</td><td>2</td><td>ZZ000000000000</td><td>P070101078</td><td>1</td><td>188</td></tr>\n",
       "\t<tr><td>20191031</td><td>1572480000</td><td>S13044</td><td>1192</td><td>1</td><td>CS044513000034</td><td>P050403002</td><td>1</td><td>128</td></tr>\n",
       "\t<tr><td>20191031</td><td>1572480000</td><td>S14049</td><td> 112</td><td>2</td><td>ZZ000000000000</td><td>P070101031</td><td>1</td><td>118</td></tr>\n",
       "\t<tr><td>20191031</td><td>1572480000</td><td>S13004</td><td>1142</td><td>2</td><td>CS004513000016</td><td>P050701001</td><td>1</td><td> 88</td></tr>\n",
       "</tbody>\n",
       "</table>\n"
      ],
      "text/latex": [
       "A grouped\\_df: 10 × 9\n",
       "\\begin{tabular}{lllllllll}\n",
       " sales\\_ymd & sales\\_epoch & store\\_cd & receipt\\_no & receipt\\_sub\\_no & customer\\_id & product\\_cd & quantity & amount\\\\\n",
       " <int> & <int> & <chr> & <int> & <int> & <chr> & <chr> & <int> & <int>\\\\\n",
       "\\hline\n",
       "\t 20191031 & 1572480000 & S13019 &  112 & 1 & ZZ000000000000 & P080102015 & 1 &  30\\\\\n",
       "\t 20191031 & 1572480000 & S14022 & 1142 & 2 & CS022615000144 & P050403001 & 1 & 128\\\\\n",
       "\t 20191031 & 1572480000 & S13041 & 1162 & 1 & ZZ000000000000 & P060101002 & 1 & 160\\\\\n",
       "\t 20191031 & 1572480000 & S12030 & 1132 & 2 & ZZ000000000000 & P070503008 & 1 & 100\\\\\n",
       "\t 20191031 & 1572480000 & S13037 & 1132 & 1 & ZZ000000000000 & P071005022 & 1 & 102\\\\\n",
       "\t 20191031 & 1572480000 & S14006 & 1132 & 1 & CS006512000023 & P040802001 & 1 &  80\\\\\n",
       "\t 20191031 & 1572480000 & S13031 & 1142 & 2 & ZZ000000000000 & P070101078 & 1 & 188\\\\\n",
       "\t 20191031 & 1572480000 & S13044 & 1192 & 1 & CS044513000034 & P050403002 & 1 & 128\\\\\n",
       "\t 20191031 & 1572480000 & S14049 &  112 & 2 & ZZ000000000000 & P070101031 & 1 & 118\\\\\n",
       "\t 20191031 & 1572480000 & S13004 & 1142 & 2 & CS004513000016 & P050701001 & 1 &  88\\\\\n",
       "\\end{tabular}\n"
      ],
      "text/markdown": [
       "\n",
       "A grouped_df: 10 × 9\n",
       "\n",
       "| sales_ymd &lt;int&gt; | sales_epoch &lt;int&gt; | store_cd &lt;chr&gt; | receipt_no &lt;int&gt; | receipt_sub_no &lt;int&gt; | customer_id &lt;chr&gt; | product_cd &lt;chr&gt; | quantity &lt;int&gt; | amount &lt;int&gt; |\n",
       "|---|---|---|---|---|---|---|---|---|\n",
       "| 20191031 | 1572480000 | S13019 |  112 | 1 | ZZ000000000000 | P080102015 | 1 |  30 |\n",
       "| 20191031 | 1572480000 | S14022 | 1142 | 2 | CS022615000144 | P050403001 | 1 | 128 |\n",
       "| 20191031 | 1572480000 | S13041 | 1162 | 1 | ZZ000000000000 | P060101002 | 1 | 160 |\n",
       "| 20191031 | 1572480000 | S12030 | 1132 | 2 | ZZ000000000000 | P070503008 | 1 | 100 |\n",
       "| 20191031 | 1572480000 | S13037 | 1132 | 1 | ZZ000000000000 | P071005022 | 1 | 102 |\n",
       "| 20191031 | 1572480000 | S14006 | 1132 | 1 | CS006512000023 | P040802001 | 1 |  80 |\n",
       "| 20191031 | 1572480000 | S13031 | 1142 | 2 | ZZ000000000000 | P070101078 | 1 | 188 |\n",
       "| 20191031 | 1572480000 | S13044 | 1192 | 1 | CS044513000034 | P050403002 | 1 | 128 |\n",
       "| 20191031 | 1572480000 | S14049 |  112 | 2 | ZZ000000000000 | P070101031 | 1 | 118 |\n",
       "| 20191031 | 1572480000 | S13004 | 1142 | 2 | CS004513000016 | P050701001 | 1 |  88 |\n",
       "\n"
      ],
      "text/plain": [
       "   sales_ymd sales_epoch store_cd receipt_no receipt_sub_no customer_id   \n",
       "1  20191031  1572480000  S13019    112       1              ZZ000000000000\n",
       "2  20191031  1572480000  S14022   1142       2              CS022615000144\n",
       "3  20191031  1572480000  S13041   1162       1              ZZ000000000000\n",
       "4  20191031  1572480000  S12030   1132       2              ZZ000000000000\n",
       "5  20191031  1572480000  S13037   1132       1              ZZ000000000000\n",
       "6  20191031  1572480000  S14006   1132       1              CS006512000023\n",
       "7  20191031  1572480000  S13031   1142       2              ZZ000000000000\n",
       "8  20191031  1572480000  S13044   1192       1              CS044513000034\n",
       "9  20191031  1572480000  S14049    112       2              ZZ000000000000\n",
       "10 20191031  1572480000  S13004   1142       2              CS004513000016\n",
       "   product_cd quantity amount\n",
       "1  P080102015 1         30   \n",
       "2  P050403001 1        128   \n",
       "3  P060101002 1        160   \n",
       "4  P070503008 1        100   \n",
       "5  P071005022 1        102   \n",
       "6  P040802001 1         80   \n",
       "7  P070101078 1        188   \n",
       "8  P050403002 1        128   \n",
       "9  P070101031 1        118   \n",
       "10 P050701001 1         88   "
      ]
     },
     "metadata": {},
     "output_type": "display_data"
    }
   ],
   "source": [
    "df_receipt %>% group_by(customer_id) %>% arrange(desc(sales_ymd)) %>% head(10)"
   ]
  },
  {
   "cell_type": "markdown",
   "metadata": {},
   "source": [
    "---\n",
    "> R-025: レシート明細データ（df_receipt）に対し、顧客ID（customer_id）ごとに最も古い売上年月日（sales_ymd）を求め、10件表示せよ。"
   ]
  },
  {
   "cell_type": "code",
   "execution_count": 27,
   "metadata": {},
   "outputs": [
    {
     "data": {
      "text/html": [
       "<table class=\"dataframe\">\n",
       "<caption>A grouped_df: 10 × 9</caption>\n",
       "<thead>\n",
       "\t<tr><th scope=col>sales_ymd</th><th scope=col>sales_epoch</th><th scope=col>store_cd</th><th scope=col>receipt_no</th><th scope=col>receipt_sub_no</th><th scope=col>customer_id</th><th scope=col>product_cd</th><th scope=col>quantity</th><th scope=col>amount</th></tr>\n",
       "\t<tr><th scope=col>&lt;int&gt;</th><th scope=col>&lt;int&gt;</th><th scope=col>&lt;chr&gt;</th><th scope=col>&lt;int&gt;</th><th scope=col>&lt;int&gt;</th><th scope=col>&lt;chr&gt;</th><th scope=col>&lt;chr&gt;</th><th scope=col>&lt;int&gt;</th><th scope=col>&lt;int&gt;</th></tr>\n",
       "</thead>\n",
       "<tbody>\n",
       "\t<tr><td>20170101</td><td>1483228800</td><td>S14034</td><td>1112</td><td>1</td><td>ZZ000000000000</td><td>P080802001</td><td>1</td><td>  98</td></tr>\n",
       "\t<tr><td>20170101</td><td>1483228800</td><td>S14026</td><td>1112</td><td>2</td><td>CS026515000081</td><td>P060502001</td><td>1</td><td> 100</td></tr>\n",
       "\t<tr><td>20170101</td><td>1483228800</td><td>S13019</td><td>1112</td><td>2</td><td>CS019414000047</td><td>P070401048</td><td>1</td><td> 208</td></tr>\n",
       "\t<tr><td>20170101</td><td>1483228800</td><td>S13032</td><td>1122</td><td>2</td><td>ZZ000000000000</td><td>P071006006</td><td>1</td><td> 218</td></tr>\n",
       "\t<tr><td>20170101</td><td>1483228800</td><td>S13039</td><td> 112</td><td>1</td><td>CS039214000007</td><td>P040101005</td><td>1</td><td> 268</td></tr>\n",
       "\t<tr><td>20170101</td><td>1483228800</td><td>S13032</td><td>1112</td><td>1</td><td>ZZ000000000000</td><td>P040204004</td><td>1</td><td> 188</td></tr>\n",
       "\t<tr><td>20170101</td><td>1483228800</td><td>S13018</td><td>1172</td><td>1</td><td>ZZ000000000000</td><td>P080601001</td><td>1</td><td> 338</td></tr>\n",
       "\t<tr><td>20170101</td><td>1483228800</td><td>S13031</td><td>1142</td><td>2</td><td>CS031414000041</td><td>P050303001</td><td>1</td><td>  75</td></tr>\n",
       "\t<tr><td>20170101</td><td>1483228800</td><td>S14010</td><td>1132</td><td>1</td><td>ZZ000000000000</td><td>P071401009</td><td>1</td><td>1200</td></tr>\n",
       "\t<tr><td>20170101</td><td>1483228800</td><td>S13017</td><td>1192</td><td>1</td><td>CS017414000066</td><td>P060102047</td><td>1</td><td> 120</td></tr>\n",
       "</tbody>\n",
       "</table>\n"
      ],
      "text/latex": [
       "A grouped\\_df: 10 × 9\n",
       "\\begin{tabular}{lllllllll}\n",
       " sales\\_ymd & sales\\_epoch & store\\_cd & receipt\\_no & receipt\\_sub\\_no & customer\\_id & product\\_cd & quantity & amount\\\\\n",
       " <int> & <int> & <chr> & <int> & <int> & <chr> & <chr> & <int> & <int>\\\\\n",
       "\\hline\n",
       "\t 20170101 & 1483228800 & S14034 & 1112 & 1 & ZZ000000000000 & P080802001 & 1 &   98\\\\\n",
       "\t 20170101 & 1483228800 & S14026 & 1112 & 2 & CS026515000081 & P060502001 & 1 &  100\\\\\n",
       "\t 20170101 & 1483228800 & S13019 & 1112 & 2 & CS019414000047 & P070401048 & 1 &  208\\\\\n",
       "\t 20170101 & 1483228800 & S13032 & 1122 & 2 & ZZ000000000000 & P071006006 & 1 &  218\\\\\n",
       "\t 20170101 & 1483228800 & S13039 &  112 & 1 & CS039214000007 & P040101005 & 1 &  268\\\\\n",
       "\t 20170101 & 1483228800 & S13032 & 1112 & 1 & ZZ000000000000 & P040204004 & 1 &  188\\\\\n",
       "\t 20170101 & 1483228800 & S13018 & 1172 & 1 & ZZ000000000000 & P080601001 & 1 &  338\\\\\n",
       "\t 20170101 & 1483228800 & S13031 & 1142 & 2 & CS031414000041 & P050303001 & 1 &   75\\\\\n",
       "\t 20170101 & 1483228800 & S14010 & 1132 & 1 & ZZ000000000000 & P071401009 & 1 & 1200\\\\\n",
       "\t 20170101 & 1483228800 & S13017 & 1192 & 1 & CS017414000066 & P060102047 & 1 &  120\\\\\n",
       "\\end{tabular}\n"
      ],
      "text/markdown": [
       "\n",
       "A grouped_df: 10 × 9\n",
       "\n",
       "| sales_ymd &lt;int&gt; | sales_epoch &lt;int&gt; | store_cd &lt;chr&gt; | receipt_no &lt;int&gt; | receipt_sub_no &lt;int&gt; | customer_id &lt;chr&gt; | product_cd &lt;chr&gt; | quantity &lt;int&gt; | amount &lt;int&gt; |\n",
       "|---|---|---|---|---|---|---|---|---|\n",
       "| 20170101 | 1483228800 | S14034 | 1112 | 1 | ZZ000000000000 | P080802001 | 1 |   98 |\n",
       "| 20170101 | 1483228800 | S14026 | 1112 | 2 | CS026515000081 | P060502001 | 1 |  100 |\n",
       "| 20170101 | 1483228800 | S13019 | 1112 | 2 | CS019414000047 | P070401048 | 1 |  208 |\n",
       "| 20170101 | 1483228800 | S13032 | 1122 | 2 | ZZ000000000000 | P071006006 | 1 |  218 |\n",
       "| 20170101 | 1483228800 | S13039 |  112 | 1 | CS039214000007 | P040101005 | 1 |  268 |\n",
       "| 20170101 | 1483228800 | S13032 | 1112 | 1 | ZZ000000000000 | P040204004 | 1 |  188 |\n",
       "| 20170101 | 1483228800 | S13018 | 1172 | 1 | ZZ000000000000 | P080601001 | 1 |  338 |\n",
       "| 20170101 | 1483228800 | S13031 | 1142 | 2 | CS031414000041 | P050303001 | 1 |   75 |\n",
       "| 20170101 | 1483228800 | S14010 | 1132 | 1 | ZZ000000000000 | P071401009 | 1 | 1200 |\n",
       "| 20170101 | 1483228800 | S13017 | 1192 | 1 | CS017414000066 | P060102047 | 1 |  120 |\n",
       "\n"
      ],
      "text/plain": [
       "   sales_ymd sales_epoch store_cd receipt_no receipt_sub_no customer_id   \n",
       "1  20170101  1483228800  S14034   1112       1              ZZ000000000000\n",
       "2  20170101  1483228800  S14026   1112       2              CS026515000081\n",
       "3  20170101  1483228800  S13019   1112       2              CS019414000047\n",
       "4  20170101  1483228800  S13032   1122       2              ZZ000000000000\n",
       "5  20170101  1483228800  S13039    112       1              CS039214000007\n",
       "6  20170101  1483228800  S13032   1112       1              ZZ000000000000\n",
       "7  20170101  1483228800  S13018   1172       1              ZZ000000000000\n",
       "8  20170101  1483228800  S13031   1142       2              CS031414000041\n",
       "9  20170101  1483228800  S14010   1132       1              ZZ000000000000\n",
       "10 20170101  1483228800  S13017   1192       1              CS017414000066\n",
       "   product_cd quantity amount\n",
       "1  P080802001 1          98  \n",
       "2  P060502001 1         100  \n",
       "3  P070401048 1         208  \n",
       "4  P071006006 1         218  \n",
       "5  P040101005 1         268  \n",
       "6  P040204004 1         188  \n",
       "7  P080601001 1         338  \n",
       "8  P050303001 1          75  \n",
       "9  P071401009 1        1200  \n",
       "10 P060102047 1         120  "
      ]
     },
     "metadata": {},
     "output_type": "display_data"
    }
   ],
   "source": [
    "df_receipt %>% group_by(customer_id) %>% arrange(sales_ymd) %>% head(10)"
   ]
  },
  {
   "cell_type": "markdown",
   "metadata": {},
   "source": [
    "---\n",
    "## R-026 PASS\n",
    "> R-026: レシート明細データ（df_receipt）に対し、顧客ID（customer_id）ごとに最も新しい売上年月日（sales_ymd）と古い売上年月日を求め、両者が異なるデータを10件表示せよ。"
   ]
  },
  {
   "cell_type": "code",
   "execution_count": 28,
   "metadata": {},
   "outputs": [
    {
     "ename": "ERROR",
     "evalue": "\u001b[1m\u001b[33mError\u001b[39m in `filter()`:\u001b[22m\n\u001b[1m\u001b[22m\u001b[36mℹ\u001b[39m In argument: `count() != 1`.\n\u001b[36mℹ\u001b[39m In group 1: `customer_id = \"CS001113000004\"`.\n\u001b[1mCaused by error in `UseMethod()`:\u001b[22m\n\u001b[33m!\u001b[39m no applicable method for 'count' applied to an object of class \"NULL\"\n",
     "output_type": "error",
     "traceback": [
      "\u001b[1m\u001b[33mError\u001b[39m in `filter()`:\u001b[22m\n\u001b[1m\u001b[22m\u001b[36mℹ\u001b[39m In argument: `count() != 1`.\n\u001b[36mℹ\u001b[39m In group 1: `customer_id = \"CS001113000004\"`.\n\u001b[1mCaused by error in `UseMethod()`:\u001b[22m\n\u001b[33m!\u001b[39m no applicable method for 'count' applied to an object of class \"NULL\"\nTraceback:\n",
      "1. df_receipt %>% group_by(customer_id) %>% arrange(desc(sales_ymd)) %>% \n .     filter(count() != 1) %>% head(10)",
      "2. head(., 10)",
      "3. filter(., count() != 1)",
      "4. filter.data.frame(., count() != 1)",
      "5. filter_rows(.data, dots, by)",
      "6. filter_eval(dots, mask = mask, error_call = error_call, user_env = user_env)",
      "7. withCallingHandlers(mask$eval_all_filter(dots, env_filter), error = dplyr_error_handler(dots = dots, \n .     mask = mask, bullets = filter_bullets, error_call = error_call), \n .     warning = function(cnd) {\n .         local_error_context(dots, i, mask)\n .         warning_handler(cnd)\n .     }, `dplyr:::signal_filter_one_column_matrix` = function(e) {\n .         warn_filter_one_column_matrix(env = error_call, user_env = user_env)\n .     }, `dplyr:::signal_filter_across` = function(e) {\n .         warn_filter_across(env = error_call, user_env = user_env)\n .     }, `dplyr:::signal_filter_data_frame` = function(e) {\n .         warn_filter_data_frame(env = error_call, user_env = user_env)\n .     })",
      "8. mask$eval_all_filter(dots, env_filter)",
      "9. eval()",
      "10. count()",
      "11. .handleSimpleError(function (cnd) \n  . {\n  .     local_error_context(dots, i = frame[[i_sym]], mask = mask)\n  .     if (inherits(cnd, \"dplyr:::internal_error\")) {\n  .         parent <- error_cnd(message = bullets(cnd))\n  .     }\n  .     else {\n  .         parent <- cnd\n  .     }\n  .     message <- c(cnd_bullet_header(action), i = if (has_active_group_context(mask)) cnd_bullet_cur_group_label())\n  .     abort(message, class = error_class, parent = parent, call = error_call)\n  . }, \"no applicable method for 'count' applied to an object of class \\\"NULL\\\"\", \n  .     base::quote(UseMethod(\"count\")))",
      "12. h(simpleError(msg, call))",
      "13. abort(message, class = error_class, parent = parent, call = error_call)",
      "14. signal_abort(cnd, .file)"
     ]
    }
   ],
   "source": [
    "df_receipt %>% group_by(customer_id) %>% arrange(desc(sales_ymd)) %>% filter(count() != 1) %>% head(10)\n",
    "# PASS"
   ]
  },
  {
   "cell_type": "markdown",
   "metadata": {},
   "source": [
    "---\n",
    "> R-027: レシート明細データ（df_receipt）に対し、店舗コード（store_cd）ごとに売上金額（amount）の平均を計算し、降順でTOP5を表示せよ。"
   ]
  },
  {
   "cell_type": "code",
   "execution_count": 29,
   "metadata": {},
   "outputs": [
    {
     "data": {
      "text/html": [
       "<table class=\"dataframe\">\n",
       "<caption>A tibble: 5 × 2</caption>\n",
       "<thead>\n",
       "\t<tr><th scope=col>store_cd</th><th scope=col>Mean</th></tr>\n",
       "\t<tr><th scope=col>&lt;chr&gt;</th><th scope=col>&lt;dbl&gt;</th></tr>\n",
       "</thead>\n",
       "<tbody>\n",
       "\t<tr><td>S13052</td><td>402.8675</td></tr>\n",
       "\t<tr><td>S13015</td><td>351.1120</td></tr>\n",
       "\t<tr><td>S13003</td><td>350.9155</td></tr>\n",
       "\t<tr><td>S14010</td><td>348.7913</td></tr>\n",
       "\t<tr><td>S13001</td><td>348.4704</td></tr>\n",
       "</tbody>\n",
       "</table>\n"
      ],
      "text/latex": [
       "A tibble: 5 × 2\n",
       "\\begin{tabular}{ll}\n",
       " store\\_cd & Mean\\\\\n",
       " <chr> & <dbl>\\\\\n",
       "\\hline\n",
       "\t S13052 & 402.8675\\\\\n",
       "\t S13015 & 351.1120\\\\\n",
       "\t S13003 & 350.9155\\\\\n",
       "\t S14010 & 348.7913\\\\\n",
       "\t S13001 & 348.4704\\\\\n",
       "\\end{tabular}\n"
      ],
      "text/markdown": [
       "\n",
       "A tibble: 5 × 2\n",
       "\n",
       "| store_cd &lt;chr&gt; | Mean &lt;dbl&gt; |\n",
       "|---|---|\n",
       "| S13052 | 402.8675 |\n",
       "| S13015 | 351.1120 |\n",
       "| S13003 | 350.9155 |\n",
       "| S14010 | 348.7913 |\n",
       "| S13001 | 348.4704 |\n",
       "\n"
      ],
      "text/plain": [
       "  store_cd Mean    \n",
       "1 S13052   402.8675\n",
       "2 S13015   351.1120\n",
       "3 S13003   350.9155\n",
       "4 S14010   348.7913\n",
       "5 S13001   348.4704"
      ]
     },
     "metadata": {},
     "output_type": "display_data"
    }
   ],
   "source": [
    "df_receipt %>% group_by(store_cd) %>% summarize(Mean = mean(amount)) %>% arrange(desc(Mean)) %>% head(5)"
   ]
  },
  {
   "cell_type": "markdown",
   "metadata": {},
   "source": [
    "---\n",
    "> R-028: レシート明細データ（df_receipt）に対し、店舗コード（store_cd）ごとに売上金額（amount）の中央値を計算し、降順でTOP5を表示せよ。"
   ]
  },
  {
   "cell_type": "code",
   "execution_count": 30,
   "metadata": {},
   "outputs": [
    {
     "data": {
      "text/html": [
       "<table class=\"dataframe\">\n",
       "<caption>A tibble: 5 × 2</caption>\n",
       "<thead>\n",
       "\t<tr><th scope=col>store_cd</th><th scope=col>Median</th></tr>\n",
       "\t<tr><th scope=col>&lt;chr&gt;</th><th scope=col>&lt;dbl&gt;</th></tr>\n",
       "</thead>\n",
       "<tbody>\n",
       "\t<tr><td>S13052</td><td>190</td></tr>\n",
       "\t<tr><td>S14010</td><td>188</td></tr>\n",
       "\t<tr><td>S14050</td><td>185</td></tr>\n",
       "\t<tr><td>S13003</td><td>180</td></tr>\n",
       "\t<tr><td>S13018</td><td>180</td></tr>\n",
       "</tbody>\n",
       "</table>\n"
      ],
      "text/latex": [
       "A tibble: 5 × 2\n",
       "\\begin{tabular}{ll}\n",
       " store\\_cd & Median\\\\\n",
       " <chr> & <dbl>\\\\\n",
       "\\hline\n",
       "\t S13052 & 190\\\\\n",
       "\t S14010 & 188\\\\\n",
       "\t S14050 & 185\\\\\n",
       "\t S13003 & 180\\\\\n",
       "\t S13018 & 180\\\\\n",
       "\\end{tabular}\n"
      ],
      "text/markdown": [
       "\n",
       "A tibble: 5 × 2\n",
       "\n",
       "| store_cd &lt;chr&gt; | Median &lt;dbl&gt; |\n",
       "|---|---|\n",
       "| S13052 | 190 |\n",
       "| S14010 | 188 |\n",
       "| S14050 | 185 |\n",
       "| S13003 | 180 |\n",
       "| S13018 | 180 |\n",
       "\n"
      ],
      "text/plain": [
       "  store_cd Median\n",
       "1 S13052   190   \n",
       "2 S14010   188   \n",
       "3 S14050   185   \n",
       "4 S13003   180   \n",
       "5 S13018   180   "
      ]
     },
     "metadata": {},
     "output_type": "display_data"
    }
   ],
   "source": [
    "df_receipt %>% group_by(store_cd) %>% summarize(Median = median(amount)) %>% arrange(desc(Median)) %>% head(5)"
   ]
  },
  {
   "cell_type": "markdown",
   "metadata": {},
   "source": [
    "---\n",
    "> R-029: レシート明細データ（df_receipt）に対し、店舗コード（store_cd）ごとに商品コード（product_cd）の最頻値を求め、10件表示させよ。"
   ]
  },
  {
   "cell_type": "code",
   "execution_count": 31,
   "metadata": {},
   "outputs": [
    {
     "data": {
      "text/html": [
       "<table class=\"dataframe\">\n",
       "<caption>A tibble: 10 × 2</caption>\n",
       "<thead>\n",
       "\t<tr><th scope=col>store_cd</th><th scope=col>Mode</th></tr>\n",
       "\t<tr><th scope=col>&lt;chr&gt;</th><th scope=col>&lt;chr&gt;</th></tr>\n",
       "</thead>\n",
       "<tbody>\n",
       "\t<tr><td>S12007</td><td>P060303001</td></tr>\n",
       "\t<tr><td>S12013</td><td>P060303001</td></tr>\n",
       "\t<tr><td>S12014</td><td>P060303001</td></tr>\n",
       "\t<tr><td>S12029</td><td>P060303001</td></tr>\n",
       "\t<tr><td>S12030</td><td>P060303001</td></tr>\n",
       "\t<tr><td>S13001</td><td>P060303001</td></tr>\n",
       "\t<tr><td>S13002</td><td>P060303001</td></tr>\n",
       "\t<tr><td>S13003</td><td>P071401001</td></tr>\n",
       "\t<tr><td>S13004</td><td>P060303001</td></tr>\n",
       "\t<tr><td>S13005</td><td>P040503001</td></tr>\n",
       "</tbody>\n",
       "</table>\n"
      ],
      "text/latex": [
       "A tibble: 10 × 2\n",
       "\\begin{tabular}{ll}\n",
       " store\\_cd & Mode\\\\\n",
       " <chr> & <chr>\\\\\n",
       "\\hline\n",
       "\t S12007 & P060303001\\\\\n",
       "\t S12013 & P060303001\\\\\n",
       "\t S12014 & P060303001\\\\\n",
       "\t S12029 & P060303001\\\\\n",
       "\t S12030 & P060303001\\\\\n",
       "\t S13001 & P060303001\\\\\n",
       "\t S13002 & P060303001\\\\\n",
       "\t S13003 & P071401001\\\\\n",
       "\t S13004 & P060303001\\\\\n",
       "\t S13005 & P040503001\\\\\n",
       "\\end{tabular}\n"
      ],
      "text/markdown": [
       "\n",
       "A tibble: 10 × 2\n",
       "\n",
       "| store_cd &lt;chr&gt; | Mode &lt;chr&gt; |\n",
       "|---|---|\n",
       "| S12007 | P060303001 |\n",
       "| S12013 | P060303001 |\n",
       "| S12014 | P060303001 |\n",
       "| S12029 | P060303001 |\n",
       "| S12030 | P060303001 |\n",
       "| S13001 | P060303001 |\n",
       "| S13002 | P060303001 |\n",
       "| S13003 | P071401001 |\n",
       "| S13004 | P060303001 |\n",
       "| S13005 | P040503001 |\n",
       "\n"
      ],
      "text/plain": [
       "   store_cd Mode      \n",
       "1  S12007   P060303001\n",
       "2  S12013   P060303001\n",
       "3  S12014   P060303001\n",
       "4  S12029   P060303001\n",
       "5  S12030   P060303001\n",
       "6  S13001   P060303001\n",
       "7  S13002   P060303001\n",
       "8  S13003   P071401001\n",
       "9  S13004   P060303001\n",
       "10 S13005   P040503001"
      ]
     },
     "metadata": {},
     "output_type": "display_data"
    }
   ],
   "source": [
    "df_receipt %>% group_by(store_cd) %>% summarize(Mode = names(which.max(table(product_cd)))) %>% head(10)"
   ]
  },
  {
   "cell_type": "markdown",
   "metadata": {},
   "source": [
    "---\n",
    "> R-030: レシート明細データ（df_receipt）に対し、店舗コード（store_cd）ごとに売上金額（amount）の分散を計算し、降順で5件表示せよ。"
   ]
  },
  {
   "cell_type": "code",
   "execution_count": 32,
   "metadata": {},
   "outputs": [
    {
     "data": {
      "text/html": [
       "<table class=\"dataframe\">\n",
       "<caption>A tibble: 5 × 2</caption>\n",
       "<thead>\n",
       "\t<tr><th scope=col>store_cd</th><th scope=col>Var</th></tr>\n",
       "\t<tr><th scope=col>&lt;chr&gt;</th><th scope=col>&lt;dbl&gt;</th></tr>\n",
       "</thead>\n",
       "<tbody>\n",
       "\t<tr><td>S13052</td><td>441863.3</td></tr>\n",
       "\t<tr><td>S14011</td><td>306442.2</td></tr>\n",
       "\t<tr><td>S14034</td><td>297068.4</td></tr>\n",
       "\t<tr><td>S13001</td><td>295558.8</td></tr>\n",
       "\t<tr><td>S13015</td><td>295427.2</td></tr>\n",
       "</tbody>\n",
       "</table>\n"
      ],
      "text/latex": [
       "A tibble: 5 × 2\n",
       "\\begin{tabular}{ll}\n",
       " store\\_cd & Var\\\\\n",
       " <chr> & <dbl>\\\\\n",
       "\\hline\n",
       "\t S13052 & 441863.3\\\\\n",
       "\t S14011 & 306442.2\\\\\n",
       "\t S14034 & 297068.4\\\\\n",
       "\t S13001 & 295558.8\\\\\n",
       "\t S13015 & 295427.2\\\\\n",
       "\\end{tabular}\n"
      ],
      "text/markdown": [
       "\n",
       "A tibble: 5 × 2\n",
       "\n",
       "| store_cd &lt;chr&gt; | Var &lt;dbl&gt; |\n",
       "|---|---|\n",
       "| S13052 | 441863.3 |\n",
       "| S14011 | 306442.2 |\n",
       "| S14034 | 297068.4 |\n",
       "| S13001 | 295558.8 |\n",
       "| S13015 | 295427.2 |\n",
       "\n"
      ],
      "text/plain": [
       "  store_cd Var     \n",
       "1 S13052   441863.3\n",
       "2 S14011   306442.2\n",
       "3 S14034   297068.4\n",
       "4 S13001   295558.8\n",
       "5 S13015   295427.2"
      ]
     },
     "metadata": {},
     "output_type": "display_data"
    }
   ],
   "source": [
    "df_receipt %>% group_by(store_cd) %>% summarize(Var = var(amount)) %>% arrange(desc(Var)) %>% head(5)"
   ]
  },
  {
   "cell_type": "markdown",
   "metadata": {},
   "source": [
    "---\n",
    "> R-031: レシート明細データ（df_receipt）に対し、店舗コード（store_cd）ごとに売上金額（amount）の標準偏差を計算し、降順で5件表示せよ。"
   ]
  },
  {
   "cell_type": "code",
   "execution_count": 33,
   "metadata": {},
   "outputs": [
    {
     "data": {
      "text/html": [
       "<table class=\"dataframe\">\n",
       "<caption>A tibble: 5 × 2</caption>\n",
       "<thead>\n",
       "\t<tr><th scope=col>store_cd</th><th scope=col>Sd</th></tr>\n",
       "\t<tr><th scope=col>&lt;chr&gt;</th><th scope=col>&lt;dbl&gt;</th></tr>\n",
       "</thead>\n",
       "<tbody>\n",
       "\t<tr><td>S13052</td><td>664.7280</td></tr>\n",
       "\t<tr><td>S14011</td><td>553.5723</td></tr>\n",
       "\t<tr><td>S14034</td><td>545.0398</td></tr>\n",
       "\t<tr><td>S13001</td><td>543.6532</td></tr>\n",
       "\t<tr><td>S13015</td><td>543.5321</td></tr>\n",
       "</tbody>\n",
       "</table>\n"
      ],
      "text/latex": [
       "A tibble: 5 × 2\n",
       "\\begin{tabular}{ll}\n",
       " store\\_cd & Sd\\\\\n",
       " <chr> & <dbl>\\\\\n",
       "\\hline\n",
       "\t S13052 & 664.7280\\\\\n",
       "\t S14011 & 553.5723\\\\\n",
       "\t S14034 & 545.0398\\\\\n",
       "\t S13001 & 543.6532\\\\\n",
       "\t S13015 & 543.5321\\\\\n",
       "\\end{tabular}\n"
      ],
      "text/markdown": [
       "\n",
       "A tibble: 5 × 2\n",
       "\n",
       "| store_cd &lt;chr&gt; | Sd &lt;dbl&gt; |\n",
       "|---|---|\n",
       "| S13052 | 664.7280 |\n",
       "| S14011 | 553.5723 |\n",
       "| S14034 | 545.0398 |\n",
       "| S13001 | 543.6532 |\n",
       "| S13015 | 543.5321 |\n",
       "\n"
      ],
      "text/plain": [
       "  store_cd Sd      \n",
       "1 S13052   664.7280\n",
       "2 S14011   553.5723\n",
       "3 S14034   545.0398\n",
       "4 S13001   543.6532\n",
       "5 S13015   543.5321"
      ]
     },
     "metadata": {},
     "output_type": "display_data"
    }
   ],
   "source": [
    "df_receipt %>% group_by(store_cd) %>% summarize(Sd = sd(amount)) %>% arrange(desc(Sd)) %>% head(5)"
   ]
  },
  {
   "cell_type": "markdown",
   "metadata": {},
   "source": [
    "---\n",
    "> R-032: レシート明細データ（df_receipt）の売上金額（amount）について、25％刻みでパーセンタイル値を求めよ。"
   ]
  },
  {
   "cell_type": "code",
   "execution_count": 34,
   "metadata": {},
   "outputs": [
    {
     "data": {
      "text/html": [
       "<style>\n",
       ".dl-inline {width: auto; margin:0; padding: 0}\n",
       ".dl-inline>dt, .dl-inline>dd {float: none; width: auto; display: inline-block}\n",
       ".dl-inline>dt::after {content: \":\\0020\"; padding-right: .5ex}\n",
       ".dl-inline>dt:not(:first-of-type) {padding-left: .5ex}\n",
       "</style><dl class=dl-inline><dt>0%</dt><dd>10</dd><dt>25%</dt><dd>102</dd><dt>50%</dt><dd>170</dd><dt>75%</dt><dd>288</dd><dt>100%</dt><dd>10925</dd></dl>\n"
      ],
      "text/latex": [
       "\\begin{description*}\n",
       "\\item[0\\textbackslash{}\\%] 10\n",
       "\\item[25\\textbackslash{}\\%] 102\n",
       "\\item[50\\textbackslash{}\\%] 170\n",
       "\\item[75\\textbackslash{}\\%] 288\n",
       "\\item[100\\textbackslash{}\\%] 10925\n",
       "\\end{description*}\n"
      ],
      "text/markdown": [
       "0%\n",
       ":   1025%\n",
       ":   10250%\n",
       ":   17075%\n",
       ":   288100%\n",
       ":   10925\n",
       "\n"
      ],
      "text/plain": [
       "   0%   25%   50%   75%  100% \n",
       "   10   102   170   288 10925 "
      ]
     },
     "metadata": {},
     "output_type": "display_data"
    }
   ],
   "source": [
    "df_receipt$amount %>% quantile()"
   ]
  },
  {
   "cell_type": "markdown",
   "metadata": {},
   "source": [
    "---\n",
    "> R-033: レシート明細データ（df_receipt）に対し、店舗コード（store_cd）ごとに売上金額（amount）の平均を計算し、330以上のものを抽出せよ。"
   ]
  },
  {
   "cell_type": "code",
   "execution_count": 35,
   "metadata": {},
   "outputs": [
    {
     "data": {
      "text/html": [
       "<table class=\"dataframe\">\n",
       "<caption>A tibble: 13 × 2</caption>\n",
       "<thead>\n",
       "\t<tr><th scope=col>store_cd</th><th scope=col>Mean</th></tr>\n",
       "\t<tr><th scope=col>&lt;chr&gt;</th><th scope=col>&lt;dbl&gt;</th></tr>\n",
       "</thead>\n",
       "<tbody>\n",
       "\t<tr><td>S12013</td><td>330.1941</td></tr>\n",
       "\t<tr><td>S13001</td><td>348.4704</td></tr>\n",
       "\t<tr><td>S13003</td><td>350.9155</td></tr>\n",
       "\t<tr><td>S13004</td><td>330.9439</td></tr>\n",
       "\t<tr><td>S13015</td><td>351.1120</td></tr>\n",
       "\t<tr><td>S13019</td><td>330.2086</td></tr>\n",
       "\t<tr><td>S13020</td><td>337.8799</td></tr>\n",
       "\t<tr><td>S13052</td><td>402.8675</td></tr>\n",
       "\t<tr><td>S14010</td><td>348.7913</td></tr>\n",
       "\t<tr><td>S14011</td><td>335.7183</td></tr>\n",
       "\t<tr><td>S14026</td><td>332.3406</td></tr>\n",
       "\t<tr><td>S14045</td><td>330.0821</td></tr>\n",
       "\t<tr><td>S14047</td><td>330.0771</td></tr>\n",
       "</tbody>\n",
       "</table>\n"
      ],
      "text/latex": [
       "A tibble: 13 × 2\n",
       "\\begin{tabular}{ll}\n",
       " store\\_cd & Mean\\\\\n",
       " <chr> & <dbl>\\\\\n",
       "\\hline\n",
       "\t S12013 & 330.1941\\\\\n",
       "\t S13001 & 348.4704\\\\\n",
       "\t S13003 & 350.9155\\\\\n",
       "\t S13004 & 330.9439\\\\\n",
       "\t S13015 & 351.1120\\\\\n",
       "\t S13019 & 330.2086\\\\\n",
       "\t S13020 & 337.8799\\\\\n",
       "\t S13052 & 402.8675\\\\\n",
       "\t S14010 & 348.7913\\\\\n",
       "\t S14011 & 335.7183\\\\\n",
       "\t S14026 & 332.3406\\\\\n",
       "\t S14045 & 330.0821\\\\\n",
       "\t S14047 & 330.0771\\\\\n",
       "\\end{tabular}\n"
      ],
      "text/markdown": [
       "\n",
       "A tibble: 13 × 2\n",
       "\n",
       "| store_cd &lt;chr&gt; | Mean &lt;dbl&gt; |\n",
       "|---|---|\n",
       "| S12013 | 330.1941 |\n",
       "| S13001 | 348.4704 |\n",
       "| S13003 | 350.9155 |\n",
       "| S13004 | 330.9439 |\n",
       "| S13015 | 351.1120 |\n",
       "| S13019 | 330.2086 |\n",
       "| S13020 | 337.8799 |\n",
       "| S13052 | 402.8675 |\n",
       "| S14010 | 348.7913 |\n",
       "| S14011 | 335.7183 |\n",
       "| S14026 | 332.3406 |\n",
       "| S14045 | 330.0821 |\n",
       "| S14047 | 330.0771 |\n",
       "\n"
      ],
      "text/plain": [
       "   store_cd Mean    \n",
       "1  S12013   330.1941\n",
       "2  S13001   348.4704\n",
       "3  S13003   350.9155\n",
       "4  S13004   330.9439\n",
       "5  S13015   351.1120\n",
       "6  S13019   330.2086\n",
       "7  S13020   337.8799\n",
       "8  S13052   402.8675\n",
       "9  S14010   348.7913\n",
       "10 S14011   335.7183\n",
       "11 S14026   332.3406\n",
       "12 S14045   330.0821\n",
       "13 S14047   330.0771"
      ]
     },
     "metadata": {},
     "output_type": "display_data"
    }
   ],
   "source": [
    "df_receipt %>% group_by(store_cd) %>% summarize(Mean = mean(amount)) %>% filter(Mean >= 330)"
   ]
  },
  {
   "cell_type": "markdown",
   "metadata": {},
   "source": [
    "---\n",
    "> R-034: レシート明細データ（df_receipt）に対し、顧客ID（customer_id）ごとに売上金額（amount）を合計して全顧客の平均を求めよ。ただし、顧客IDが\"Z\"から始まるものは非会員を表すため、除外して計算すること。"
   ]
  },
  {
   "cell_type": "code",
   "execution_count": 36,
   "metadata": {},
   "outputs": [
    {
     "data": {
      "text/html": [
       "2547.74223452926"
      ],
      "text/latex": [
       "2547.74223452926"
      ],
      "text/markdown": [
       "2547.74223452926"
      ],
      "text/plain": [
       "[1] 2547.742"
      ]
     },
     "metadata": {},
     "output_type": "display_data"
    }
   ],
   "source": [
    "df_receipt %>% group_by(customer_id) %>% filter(!str_detect(customer_id, \"^Z\")) %>% summarize(Sum = sum(amount)) %>% summarize(mean(Sum)) %>% pull()"
   ]
  },
  {
   "cell_type": "markdown",
   "metadata": {},
   "source": [
    "---\n",
    "> R-035: レシート明細データ（df_receipt）に対し、顧客ID（customer_id）ごとに売上金額（amount）を合計して全顧客の平均を求め、平均以上に買い物をしている顧客を抽出し、10件表示せよ。ただし、顧客IDが\"Z\"から始まるものは非会員を表すため、除外して計算すること。"
   ]
  },
  {
   "cell_type": "code",
   "execution_count": 37,
   "metadata": {},
   "outputs": [
    {
     "data": {
      "text/html": [
       "<table class=\"dataframe\">\n",
       "<caption>A tibble: 10 × 2</caption>\n",
       "<thead>\n",
       "\t<tr><th scope=col>customer_id</th><th scope=col>Sum</th></tr>\n",
       "\t<tr><th scope=col>&lt;chr&gt;</th><th scope=col>&lt;int&gt;</th></tr>\n",
       "</thead>\n",
       "<tbody>\n",
       "\t<tr><td>CS001115000010</td><td>3044</td></tr>\n",
       "\t<tr><td>CS001205000006</td><td>3337</td></tr>\n",
       "\t<tr><td>CS001214000009</td><td>4685</td></tr>\n",
       "\t<tr><td>CS001214000017</td><td>4132</td></tr>\n",
       "\t<tr><td>CS001214000052</td><td>5639</td></tr>\n",
       "\t<tr><td>CS001215000040</td><td>3496</td></tr>\n",
       "\t<tr><td>CS001304000006</td><td>3726</td></tr>\n",
       "\t<tr><td>CS001305000005</td><td>3485</td></tr>\n",
       "\t<tr><td>CS001305000011</td><td>4370</td></tr>\n",
       "\t<tr><td>CS001315000180</td><td>3300</td></tr>\n",
       "</tbody>\n",
       "</table>\n"
      ],
      "text/latex": [
       "A tibble: 10 × 2\n",
       "\\begin{tabular}{ll}\n",
       " customer\\_id & Sum\\\\\n",
       " <chr> & <int>\\\\\n",
       "\\hline\n",
       "\t CS001115000010 & 3044\\\\\n",
       "\t CS001205000006 & 3337\\\\\n",
       "\t CS001214000009 & 4685\\\\\n",
       "\t CS001214000017 & 4132\\\\\n",
       "\t CS001214000052 & 5639\\\\\n",
       "\t CS001215000040 & 3496\\\\\n",
       "\t CS001304000006 & 3726\\\\\n",
       "\t CS001305000005 & 3485\\\\\n",
       "\t CS001305000011 & 4370\\\\\n",
       "\t CS001315000180 & 3300\\\\\n",
       "\\end{tabular}\n"
      ],
      "text/markdown": [
       "\n",
       "A tibble: 10 × 2\n",
       "\n",
       "| customer_id &lt;chr&gt; | Sum &lt;int&gt; |\n",
       "|---|---|\n",
       "| CS001115000010 | 3044 |\n",
       "| CS001205000006 | 3337 |\n",
       "| CS001214000009 | 4685 |\n",
       "| CS001214000017 | 4132 |\n",
       "| CS001214000052 | 5639 |\n",
       "| CS001215000040 | 3496 |\n",
       "| CS001304000006 | 3726 |\n",
       "| CS001305000005 | 3485 |\n",
       "| CS001305000011 | 4370 |\n",
       "| CS001315000180 | 3300 |\n",
       "\n"
      ],
      "text/plain": [
       "   customer_id    Sum \n",
       "1  CS001115000010 3044\n",
       "2  CS001205000006 3337\n",
       "3  CS001214000009 4685\n",
       "4  CS001214000017 4132\n",
       "5  CS001214000052 5639\n",
       "6  CS001215000040 3496\n",
       "7  CS001304000006 3726\n",
       "8  CS001305000005 3485\n",
       "9  CS001305000011 4370\n",
       "10 CS001315000180 3300"
      ]
     },
     "metadata": {},
     "output_type": "display_data"
    }
   ],
   "source": [
    "Mean <- df_receipt %>% group_by(customer_id) %>% filter(!str_detect(customer_id, \"^Z\")) %>% summarize(Sum = sum(amount)) %>% summarize(mean(Sum)) %>% pull()\n",
    "# Mean = 2547.74223452926\n",
    "df_receipt %>% group_by(customer_id) %>% filter(!str_detect(customer_id, \"^Z\")) %>% summarize(Sum = sum(amount)) %>% filter(Sum >= Mean) %>% head(10)"
   ]
  },
  {
   "cell_type": "markdown",
   "metadata": {},
   "source": [
    "---\n",
    "> R-036: レシート明細データ（df_receipt）と店舗データ（df_store）を内部結合し、レシート明細データの全項目と店舗データの店舗名（store_name）を10件表示せよ。"
   ]
  },
  {
   "cell_type": "code",
   "execution_count": 38,
   "metadata": {},
   "outputs": [
    {
     "data": {
      "text/html": [
       "<table class=\"dataframe\">\n",
       "<caption>A data.frame: 10 × 10</caption>\n",
       "<thead>\n",
       "\t<tr><th></th><th scope=col>sales_ymd</th><th scope=col>sales_epoch</th><th scope=col>store_cd</th><th scope=col>receipt_no</th><th scope=col>receipt_sub_no</th><th scope=col>customer_id</th><th scope=col>product_cd</th><th scope=col>quantity</th><th scope=col>amount</th><th scope=col>store_name</th></tr>\n",
       "\t<tr><th></th><th scope=col>&lt;int&gt;</th><th scope=col>&lt;int&gt;</th><th scope=col>&lt;chr&gt;</th><th scope=col>&lt;int&gt;</th><th scope=col>&lt;int&gt;</th><th scope=col>&lt;chr&gt;</th><th scope=col>&lt;chr&gt;</th><th scope=col>&lt;int&gt;</th><th scope=col>&lt;int&gt;</th><th scope=col>&lt;chr&gt;</th></tr>\n",
       "</thead>\n",
       "<tbody>\n",
       "\t<tr><th scope=row>1</th><td>20181103</td><td>1541203200</td><td>S14006</td><td> 112</td><td>1</td><td>CS006214000001</td><td>P070305012</td><td>1</td><td>158</td><td>葛が谷店  </td></tr>\n",
       "\t<tr><th scope=row>2</th><td>20181118</td><td>1542499200</td><td>S13008</td><td>1132</td><td>2</td><td>CS008415000097</td><td>P070701017</td><td>1</td><td> 81</td><td>成城店    </td></tr>\n",
       "\t<tr><th scope=row>3</th><td>20170712</td><td>1499817600</td><td>S14028</td><td>1102</td><td>1</td><td>CS028414000014</td><td>P060101005</td><td>1</td><td>170</td><td>二ツ橋店  </td></tr>\n",
       "\t<tr><th scope=row>4</th><td>20190205</td><td>1549324800</td><td>S14042</td><td>1132</td><td>1</td><td>ZZ000000000000</td><td>P050301001</td><td>1</td><td> 25</td><td>新山下店  </td></tr>\n",
       "\t<tr><th scope=row>5</th><td>20180821</td><td>1534809600</td><td>S14025</td><td>1102</td><td>2</td><td>CS025415000050</td><td>P060102007</td><td>1</td><td> 90</td><td>大和店    </td></tr>\n",
       "\t<tr><th scope=row>6</th><td>20190605</td><td>1559692800</td><td>S13003</td><td>1112</td><td>1</td><td>CS003515000195</td><td>P050102002</td><td>1</td><td>138</td><td>狛江店    </td></tr>\n",
       "\t<tr><th scope=row>7</th><td>20181205</td><td>1543968000</td><td>S14024</td><td>1102</td><td>2</td><td>CS024514000042</td><td>P080101005</td><td>1</td><td> 30</td><td>三田店    </td></tr>\n",
       "\t<tr><th scope=row>8</th><td>20190922</td><td>1569110400</td><td>S14040</td><td>1102</td><td>1</td><td>CS040415000178</td><td>P070501004</td><td>1</td><td>128</td><td>長津田店  </td></tr>\n",
       "\t<tr><th scope=row>9</th><td>20170504</td><td>1493856000</td><td>S13020</td><td>1112</td><td>2</td><td>ZZ000000000000</td><td>P071302010</td><td>1</td><td>770</td><td>十条仲原店</td></tr>\n",
       "\t<tr><th scope=row>10</th><td>20191010</td><td>1570665600</td><td>S14027</td><td>1102</td><td>1</td><td>CS027514000015</td><td>P071101003</td><td>1</td><td>680</td><td>南藤沢店  </td></tr>\n",
       "</tbody>\n",
       "</table>\n"
      ],
      "text/latex": [
       "A data.frame: 10 × 10\n",
       "\\begin{tabular}{r|llllllllll}\n",
       "  & sales\\_ymd & sales\\_epoch & store\\_cd & receipt\\_no & receipt\\_sub\\_no & customer\\_id & product\\_cd & quantity & amount & store\\_name\\\\\n",
       "  & <int> & <int> & <chr> & <int> & <int> & <chr> & <chr> & <int> & <int> & <chr>\\\\\n",
       "\\hline\n",
       "\t1 & 20181103 & 1541203200 & S14006 &  112 & 1 & CS006214000001 & P070305012 & 1 & 158 & 葛が谷店  \\\\\n",
       "\t2 & 20181118 & 1542499200 & S13008 & 1132 & 2 & CS008415000097 & P070701017 & 1 &  81 & 成城店    \\\\\n",
       "\t3 & 20170712 & 1499817600 & S14028 & 1102 & 1 & CS028414000014 & P060101005 & 1 & 170 & 二ツ橋店  \\\\\n",
       "\t4 & 20190205 & 1549324800 & S14042 & 1132 & 1 & ZZ000000000000 & P050301001 & 1 &  25 & 新山下店  \\\\\n",
       "\t5 & 20180821 & 1534809600 & S14025 & 1102 & 2 & CS025415000050 & P060102007 & 1 &  90 & 大和店    \\\\\n",
       "\t6 & 20190605 & 1559692800 & S13003 & 1112 & 1 & CS003515000195 & P050102002 & 1 & 138 & 狛江店    \\\\\n",
       "\t7 & 20181205 & 1543968000 & S14024 & 1102 & 2 & CS024514000042 & P080101005 & 1 &  30 & 三田店    \\\\\n",
       "\t8 & 20190922 & 1569110400 & S14040 & 1102 & 1 & CS040415000178 & P070501004 & 1 & 128 & 長津田店  \\\\\n",
       "\t9 & 20170504 & 1493856000 & S13020 & 1112 & 2 & ZZ000000000000 & P071302010 & 1 & 770 & 十条仲原店\\\\\n",
       "\t10 & 20191010 & 1570665600 & S14027 & 1102 & 1 & CS027514000015 & P071101003 & 1 & 680 & 南藤沢店  \\\\\n",
       "\\end{tabular}\n"
      ],
      "text/markdown": [
       "\n",
       "A data.frame: 10 × 10\n",
       "\n",
       "| <!--/--> | sales_ymd &lt;int&gt; | sales_epoch &lt;int&gt; | store_cd &lt;chr&gt; | receipt_no &lt;int&gt; | receipt_sub_no &lt;int&gt; | customer_id &lt;chr&gt; | product_cd &lt;chr&gt; | quantity &lt;int&gt; | amount &lt;int&gt; | store_name &lt;chr&gt; |\n",
       "|---|---|---|---|---|---|---|---|---|---|---|\n",
       "| 1 | 20181103 | 1541203200 | S14006 |  112 | 1 | CS006214000001 | P070305012 | 1 | 158 | 葛が谷店   |\n",
       "| 2 | 20181118 | 1542499200 | S13008 | 1132 | 2 | CS008415000097 | P070701017 | 1 |  81 | 成城店     |\n",
       "| 3 | 20170712 | 1499817600 | S14028 | 1102 | 1 | CS028414000014 | P060101005 | 1 | 170 | 二ツ橋店   |\n",
       "| 4 | 20190205 | 1549324800 | S14042 | 1132 | 1 | ZZ000000000000 | P050301001 | 1 |  25 | 新山下店   |\n",
       "| 5 | 20180821 | 1534809600 | S14025 | 1102 | 2 | CS025415000050 | P060102007 | 1 |  90 | 大和店     |\n",
       "| 6 | 20190605 | 1559692800 | S13003 | 1112 | 1 | CS003515000195 | P050102002 | 1 | 138 | 狛江店     |\n",
       "| 7 | 20181205 | 1543968000 | S14024 | 1102 | 2 | CS024514000042 | P080101005 | 1 |  30 | 三田店     |\n",
       "| 8 | 20190922 | 1569110400 | S14040 | 1102 | 1 | CS040415000178 | P070501004 | 1 | 128 | 長津田店   |\n",
       "| 9 | 20170504 | 1493856000 | S13020 | 1112 | 2 | ZZ000000000000 | P071302010 | 1 | 770 | 十条仲原店 |\n",
       "| 10 | 20191010 | 1570665600 | S14027 | 1102 | 1 | CS027514000015 | P071101003 | 1 | 680 | 南藤沢店   |\n",
       "\n"
      ],
      "text/plain": [
       "   sales_ymd sales_epoch store_cd receipt_no receipt_sub_no customer_id   \n",
       "1  20181103  1541203200  S14006    112       1              CS006214000001\n",
       "2  20181118  1542499200  S13008   1132       2              CS008415000097\n",
       "3  20170712  1499817600  S14028   1102       1              CS028414000014\n",
       "4  20190205  1549324800  S14042   1132       1              ZZ000000000000\n",
       "5  20180821  1534809600  S14025   1102       2              CS025415000050\n",
       "6  20190605  1559692800  S13003   1112       1              CS003515000195\n",
       "7  20181205  1543968000  S14024   1102       2              CS024514000042\n",
       "8  20190922  1569110400  S14040   1102       1              CS040415000178\n",
       "9  20170504  1493856000  S13020   1112       2              ZZ000000000000\n",
       "10 20191010  1570665600  S14027   1102       1              CS027514000015\n",
       "   product_cd quantity amount store_name\n",
       "1  P070305012 1        158    葛が谷店  \n",
       "2  P070701017 1         81    成城店    \n",
       "3  P060101005 1        170    二ツ橋店  \n",
       "4  P050301001 1         25    新山下店  \n",
       "5  P060102007 1         90    大和店    \n",
       "6  P050102002 1        138    狛江店    \n",
       "7  P080101005 1         30    三田店    \n",
       "8  P070501004 1        128    長津田店  \n",
       "9  P071302010 1        770    十条仲原店\n",
       "10 P071101003 1        680    南藤沢店  "
      ]
     },
     "metadata": {},
     "output_type": "display_data"
    }
   ],
   "source": [
    "left_join(df_receipt, df_store, by=\"store_cd\") %>% select(everything(df_receipt), store_name) %>% head(10)"
   ]
  },
  {
   "cell_type": "markdown",
   "metadata": {},
   "source": [
    "---\n",
    "> R-037: 商品データ（df_product）とカテゴリデータ（df_category）を内部結合し、商品データの全項目とカテゴリデータのカテゴリ小区分名（category_small_name）を10件表示せよ。"
   ]
  },
  {
   "cell_type": "code",
   "execution_count": 39,
   "metadata": {},
   "outputs": [
    {
     "data": {
      "text/html": [
       "<table class=\"dataframe\">\n",
       "<caption>A data.frame: 10 × 7</caption>\n",
       "<thead>\n",
       "\t<tr><th></th><th scope=col>product_cd</th><th scope=col>category_major_cd.x</th><th scope=col>category_medium_cd.x</th><th scope=col>category_small_cd</th><th scope=col>unit_price</th><th scope=col>unit_cost</th><th scope=col>category_small_name</th></tr>\n",
       "\t<tr><th></th><th scope=col>&lt;chr&gt;</th><th scope=col>&lt;chr&gt;</th><th scope=col>&lt;chr&gt;</th><th scope=col>&lt;chr&gt;</th><th scope=col>&lt;int&gt;</th><th scope=col>&lt;int&gt;</th><th scope=col>&lt;chr&gt;</th></tr>\n",
       "</thead>\n",
       "<tbody>\n",
       "\t<tr><th scope=row>1</th><td>P040101001</td><td>04</td><td>0401</td><td>040101</td><td>198</td><td>149</td><td>弁当類</td></tr>\n",
       "\t<tr><th scope=row>2</th><td>P040101002</td><td>04</td><td>0401</td><td>040101</td><td>218</td><td>164</td><td>弁当類</td></tr>\n",
       "\t<tr><th scope=row>3</th><td>P040101003</td><td>04</td><td>0401</td><td>040101</td><td>230</td><td>173</td><td>弁当類</td></tr>\n",
       "\t<tr><th scope=row>4</th><td>P040101004</td><td>04</td><td>0401</td><td>040101</td><td>248</td><td>186</td><td>弁当類</td></tr>\n",
       "\t<tr><th scope=row>5</th><td>P040101005</td><td>04</td><td>0401</td><td>040101</td><td>268</td><td>201</td><td>弁当類</td></tr>\n",
       "\t<tr><th scope=row>6</th><td>P040101006</td><td>04</td><td>0401</td><td>040101</td><td>298</td><td>224</td><td>弁当類</td></tr>\n",
       "\t<tr><th scope=row>7</th><td>P040101007</td><td>04</td><td>0401</td><td>040101</td><td>338</td><td>254</td><td>弁当類</td></tr>\n",
       "\t<tr><th scope=row>8</th><td>P040101008</td><td>04</td><td>0401</td><td>040101</td><td>420</td><td>315</td><td>弁当類</td></tr>\n",
       "\t<tr><th scope=row>9</th><td>P040101009</td><td>04</td><td>0401</td><td>040101</td><td>498</td><td>374</td><td>弁当類</td></tr>\n",
       "\t<tr><th scope=row>10</th><td>P040101010</td><td>04</td><td>0401</td><td>040101</td><td>580</td><td>435</td><td>弁当類</td></tr>\n",
       "</tbody>\n",
       "</table>\n"
      ],
      "text/latex": [
       "A data.frame: 10 × 7\n",
       "\\begin{tabular}{r|lllllll}\n",
       "  & product\\_cd & category\\_major\\_cd.x & category\\_medium\\_cd.x & category\\_small\\_cd & unit\\_price & unit\\_cost & category\\_small\\_name\\\\\n",
       "  & <chr> & <chr> & <chr> & <chr> & <int> & <int> & <chr>\\\\\n",
       "\\hline\n",
       "\t1 & P040101001 & 04 & 0401 & 040101 & 198 & 149 & 弁当類\\\\\n",
       "\t2 & P040101002 & 04 & 0401 & 040101 & 218 & 164 & 弁当類\\\\\n",
       "\t3 & P040101003 & 04 & 0401 & 040101 & 230 & 173 & 弁当類\\\\\n",
       "\t4 & P040101004 & 04 & 0401 & 040101 & 248 & 186 & 弁当類\\\\\n",
       "\t5 & P040101005 & 04 & 0401 & 040101 & 268 & 201 & 弁当類\\\\\n",
       "\t6 & P040101006 & 04 & 0401 & 040101 & 298 & 224 & 弁当類\\\\\n",
       "\t7 & P040101007 & 04 & 0401 & 040101 & 338 & 254 & 弁当類\\\\\n",
       "\t8 & P040101008 & 04 & 0401 & 040101 & 420 & 315 & 弁当類\\\\\n",
       "\t9 & P040101009 & 04 & 0401 & 040101 & 498 & 374 & 弁当類\\\\\n",
       "\t10 & P040101010 & 04 & 0401 & 040101 & 580 & 435 & 弁当類\\\\\n",
       "\\end{tabular}\n"
      ],
      "text/markdown": [
       "\n",
       "A data.frame: 10 × 7\n",
       "\n",
       "| <!--/--> | product_cd &lt;chr&gt; | category_major_cd.x &lt;chr&gt; | category_medium_cd.x &lt;chr&gt; | category_small_cd &lt;chr&gt; | unit_price &lt;int&gt; | unit_cost &lt;int&gt; | category_small_name &lt;chr&gt; |\n",
       "|---|---|---|---|---|---|---|---|\n",
       "| 1 | P040101001 | 04 | 0401 | 040101 | 198 | 149 | 弁当類 |\n",
       "| 2 | P040101002 | 04 | 0401 | 040101 | 218 | 164 | 弁当類 |\n",
       "| 3 | P040101003 | 04 | 0401 | 040101 | 230 | 173 | 弁当類 |\n",
       "| 4 | P040101004 | 04 | 0401 | 040101 | 248 | 186 | 弁当類 |\n",
       "| 5 | P040101005 | 04 | 0401 | 040101 | 268 | 201 | 弁当類 |\n",
       "| 6 | P040101006 | 04 | 0401 | 040101 | 298 | 224 | 弁当類 |\n",
       "| 7 | P040101007 | 04 | 0401 | 040101 | 338 | 254 | 弁当類 |\n",
       "| 8 | P040101008 | 04 | 0401 | 040101 | 420 | 315 | 弁当類 |\n",
       "| 9 | P040101009 | 04 | 0401 | 040101 | 498 | 374 | 弁当類 |\n",
       "| 10 | P040101010 | 04 | 0401 | 040101 | 580 | 435 | 弁当類 |\n",
       "\n"
      ],
      "text/plain": [
       "   product_cd category_major_cd.x category_medium_cd.x category_small_cd\n",
       "1  P040101001 04                  0401                 040101           \n",
       "2  P040101002 04                  0401                 040101           \n",
       "3  P040101003 04                  0401                 040101           \n",
       "4  P040101004 04                  0401                 040101           \n",
       "5  P040101005 04                  0401                 040101           \n",
       "6  P040101006 04                  0401                 040101           \n",
       "7  P040101007 04                  0401                 040101           \n",
       "8  P040101008 04                  0401                 040101           \n",
       "9  P040101009 04                  0401                 040101           \n",
       "10 P040101010 04                  0401                 040101           \n",
       "   unit_price unit_cost category_small_name\n",
       "1  198        149       弁当類             \n",
       "2  218        164       弁当類             \n",
       "3  230        173       弁当類             \n",
       "4  248        186       弁当類             \n",
       "5  268        201       弁当類             \n",
       "6  298        224       弁当類             \n",
       "7  338        254       弁当類             \n",
       "8  420        315       弁当類             \n",
       "9  498        374       弁当類             \n",
       "10 580        435       弁当類             "
      ]
     },
     "metadata": {},
     "output_type": "display_data"
    }
   ],
   "source": [
    "left_join(df_product, df_category, by=\"category_small_cd\") %>% select(everything(df_product), category_small_name) %>% head(10)"
   ]
  },
  {
   "cell_type": "markdown",
   "metadata": {},
   "source": [
    "---\n",
    "> R-038: 顧客データ（df_customer）とレシート明細データ（df_receipt）から、顧客ごとの売上金額合計を求め、10件表示せよ。ただし、売上実績がない顧客については売上金額を0として表示させること。また、顧客は性別コード（gender_cd）が女性（1）であるものを対象とし、非会員（顧客IDが\"Z\"から始まるもの）は除外すること。"
   ]
  },
  {
   "cell_type": "code",
   "execution_count": 40,
   "metadata": {},
   "outputs": [
    {
     "data": {
      "text/html": [
       "<table class=\"dataframe\">\n",
       "<caption>A tibble: 10 × 2</caption>\n",
       "<thead>\n",
       "\t<tr><th scope=col>customer_id</th><th scope=col>Sum</th></tr>\n",
       "\t<tr><th scope=col>&lt;chr&gt;</th><th scope=col>&lt;int&gt;</th></tr>\n",
       "</thead>\n",
       "<tbody>\n",
       "\t<tr><td>CS001112000009</td><td>   0</td></tr>\n",
       "\t<tr><td>CS001112000019</td><td>   0</td></tr>\n",
       "\t<tr><td>CS001112000021</td><td>   0</td></tr>\n",
       "\t<tr><td>CS001112000023</td><td>   0</td></tr>\n",
       "\t<tr><td>CS001112000024</td><td>   0</td></tr>\n",
       "\t<tr><td>CS001112000029</td><td>   0</td></tr>\n",
       "\t<tr><td>CS001112000030</td><td>   0</td></tr>\n",
       "\t<tr><td>CS001113000004</td><td>1298</td></tr>\n",
       "\t<tr><td>CS001113000010</td><td>   0</td></tr>\n",
       "\t<tr><td>CS001114000005</td><td> 626</td></tr>\n",
       "</tbody>\n",
       "</table>\n"
      ],
      "text/latex": [
       "A tibble: 10 × 2\n",
       "\\begin{tabular}{ll}\n",
       " customer\\_id & Sum\\\\\n",
       " <chr> & <int>\\\\\n",
       "\\hline\n",
       "\t CS001112000009 &    0\\\\\n",
       "\t CS001112000019 &    0\\\\\n",
       "\t CS001112000021 &    0\\\\\n",
       "\t CS001112000023 &    0\\\\\n",
       "\t CS001112000024 &    0\\\\\n",
       "\t CS001112000029 &    0\\\\\n",
       "\t CS001112000030 &    0\\\\\n",
       "\t CS001113000004 & 1298\\\\\n",
       "\t CS001113000010 &    0\\\\\n",
       "\t CS001114000005 &  626\\\\\n",
       "\\end{tabular}\n"
      ],
      "text/markdown": [
       "\n",
       "A tibble: 10 × 2\n",
       "\n",
       "| customer_id &lt;chr&gt; | Sum &lt;int&gt; |\n",
       "|---|---|\n",
       "| CS001112000009 |    0 |\n",
       "| CS001112000019 |    0 |\n",
       "| CS001112000021 |    0 |\n",
       "| CS001112000023 |    0 |\n",
       "| CS001112000024 |    0 |\n",
       "| CS001112000029 |    0 |\n",
       "| CS001112000030 |    0 |\n",
       "| CS001113000004 | 1298 |\n",
       "| CS001113000010 |    0 |\n",
       "| CS001114000005 |  626 |\n",
       "\n"
      ],
      "text/plain": [
       "   customer_id    Sum \n",
       "1  CS001112000009    0\n",
       "2  CS001112000019    0\n",
       "3  CS001112000021    0\n",
       "4  CS001112000023    0\n",
       "5  CS001112000024    0\n",
       "6  CS001112000029    0\n",
       "7  CS001112000030    0\n",
       "8  CS001113000004 1298\n",
       "9  CS001113000010    0\n",
       "10 CS001114000005  626"
      ]
     },
     "metadata": {},
     "output_type": "display_data"
    }
   ],
   "source": [
    "left_join(df_customer, df_receipt, by=\"customer_id\") %>%\n",
    "    filter(gender_cd == 1 & !str_detect(customer_id, \"^Z\")) %>%\n",
    "    group_by(customer_id) %>%\n",
    "    summarize(Sum = sum(amount)) %>%\n",
    "    mutate(Sum = replace_na(Sum, 0)) %>%\n",
    "    head(10)"
   ]
  },
  {
   "cell_type": "markdown",
   "metadata": {},
   "source": [
    "---\n",
    "> R-039: レシート明細データ（df_receipt）から、売上日数の多い顧客の上位20件を抽出したデータと、売上金額合計の多い顧客の上位20件を抽出したデータをそれぞれ作成し、さらにその2つを完全外部結合せよ。ただし、非会員（顧客IDが\"Z\"から始まるもの）は除外すること。"
   ]
  },
  {
   "cell_type": "code",
   "execution_count": 41,
   "metadata": {},
   "outputs": [
    {
     "data": {
      "text/html": [
       "<table class=\"dataframe\">\n",
       "<caption>A tibble: 20 × 2</caption>\n",
       "<thead>\n",
       "\t<tr><th scope=col>customer_id</th><th scope=col>Sum</th></tr>\n",
       "\t<tr><th scope=col>&lt;chr&gt;</th><th scope=col>&lt;int&gt;</th></tr>\n",
       "</thead>\n",
       "<tbody>\n",
       "\t<tr><td>CS017415000097</td><td>23086</td></tr>\n",
       "\t<tr><td>CS015415000185</td><td>20153</td></tr>\n",
       "\t<tr><td>CS031414000051</td><td>19202</td></tr>\n",
       "\t<tr><td>CS028415000007</td><td>19127</td></tr>\n",
       "\t<tr><td>CS001605000009</td><td>18925</td></tr>\n",
       "\t<tr><td>CS010214000010</td><td>18585</td></tr>\n",
       "\t<tr><td>CS006515000023</td><td>18372</td></tr>\n",
       "\t<tr><td>CS016415000141</td><td>18372</td></tr>\n",
       "\t<tr><td>CS011414000106</td><td>18338</td></tr>\n",
       "\t<tr><td>CS038415000104</td><td>17847</td></tr>\n",
       "\t<tr><td>CS035414000024</td><td>17615</td></tr>\n",
       "\t<tr><td>CS021515000089</td><td>17580</td></tr>\n",
       "\t<tr><td>CS032414000072</td><td>16563</td></tr>\n",
       "\t<tr><td>CS016415000101</td><td>16348</td></tr>\n",
       "\t<tr><td>CS011415000006</td><td>16094</td></tr>\n",
       "\t<tr><td>CS034415000047</td><td>16083</td></tr>\n",
       "\t<tr><td>CS007514000094</td><td>15735</td></tr>\n",
       "\t<tr><td>CS009414000059</td><td>15492</td></tr>\n",
       "\t<tr><td>CS030415000034</td><td>15468</td></tr>\n",
       "\t<tr><td>CS015515000034</td><td>15300</td></tr>\n",
       "</tbody>\n",
       "</table>\n"
      ],
      "text/latex": [
       "A tibble: 20 × 2\n",
       "\\begin{tabular}{ll}\n",
       " customer\\_id & Sum\\\\\n",
       " <chr> & <int>\\\\\n",
       "\\hline\n",
       "\t CS017415000097 & 23086\\\\\n",
       "\t CS015415000185 & 20153\\\\\n",
       "\t CS031414000051 & 19202\\\\\n",
       "\t CS028415000007 & 19127\\\\\n",
       "\t CS001605000009 & 18925\\\\\n",
       "\t CS010214000010 & 18585\\\\\n",
       "\t CS006515000023 & 18372\\\\\n",
       "\t CS016415000141 & 18372\\\\\n",
       "\t CS011414000106 & 18338\\\\\n",
       "\t CS038415000104 & 17847\\\\\n",
       "\t CS035414000024 & 17615\\\\\n",
       "\t CS021515000089 & 17580\\\\\n",
       "\t CS032414000072 & 16563\\\\\n",
       "\t CS016415000101 & 16348\\\\\n",
       "\t CS011415000006 & 16094\\\\\n",
       "\t CS034415000047 & 16083\\\\\n",
       "\t CS007514000094 & 15735\\\\\n",
       "\t CS009414000059 & 15492\\\\\n",
       "\t CS030415000034 & 15468\\\\\n",
       "\t CS015515000034 & 15300\\\\\n",
       "\\end{tabular}\n"
      ],
      "text/markdown": [
       "\n",
       "A tibble: 20 × 2\n",
       "\n",
       "| customer_id &lt;chr&gt; | Sum &lt;int&gt; |\n",
       "|---|---|\n",
       "| CS017415000097 | 23086 |\n",
       "| CS015415000185 | 20153 |\n",
       "| CS031414000051 | 19202 |\n",
       "| CS028415000007 | 19127 |\n",
       "| CS001605000009 | 18925 |\n",
       "| CS010214000010 | 18585 |\n",
       "| CS006515000023 | 18372 |\n",
       "| CS016415000141 | 18372 |\n",
       "| CS011414000106 | 18338 |\n",
       "| CS038415000104 | 17847 |\n",
       "| CS035414000024 | 17615 |\n",
       "| CS021515000089 | 17580 |\n",
       "| CS032414000072 | 16563 |\n",
       "| CS016415000101 | 16348 |\n",
       "| CS011415000006 | 16094 |\n",
       "| CS034415000047 | 16083 |\n",
       "| CS007514000094 | 15735 |\n",
       "| CS009414000059 | 15492 |\n",
       "| CS030415000034 | 15468 |\n",
       "| CS015515000034 | 15300 |\n",
       "\n"
      ],
      "text/plain": [
       "   customer_id    Sum  \n",
       "1  CS017415000097 23086\n",
       "2  CS015415000185 20153\n",
       "3  CS031414000051 19202\n",
       "4  CS028415000007 19127\n",
       "5  CS001605000009 18925\n",
       "6  CS010214000010 18585\n",
       "7  CS006515000023 18372\n",
       "8  CS016415000141 18372\n",
       "9  CS011414000106 18338\n",
       "10 CS038415000104 17847\n",
       "11 CS035414000024 17615\n",
       "12 CS021515000089 17580\n",
       "13 CS032414000072 16563\n",
       "14 CS016415000101 16348\n",
       "15 CS011415000006 16094\n",
       "16 CS034415000047 16083\n",
       "17 CS007514000094 15735\n",
       "18 CS009414000059 15492\n",
       "19 CS030415000034 15468\n",
       "20 CS015515000034 15300"
      ]
     },
     "metadata": {},
     "output_type": "display_data"
    }
   ],
   "source": [
    "# df_receipt %>% group_by(sales_ymd) %>% count(customer_id) %>% head(20)\n",
    "df_receipt %>% filter(!str_detect(customer_id, \"^Z\")) %>% group_by(customer_id) %>% summarize(Sum = sum(amount)) %>% arrange(desc(Sum)) %>% head(20)"
   ]
  },
  {
   "cell_type": "markdown",
   "metadata": {},
   "source": [
    "---\n",
    "## R-040 PASS\n",
    "> R-040: 全ての店舗と全ての商品を組み合わせたデータを作成したい。店舗データ（df_store）と商品データ（df_product）を直積し、件数を計算せよ。"
   ]
  },
  {
   "cell_type": "code",
   "execution_count": 42,
   "metadata": {},
   "outputs": [
    {
     "name": "stderr",
     "output_type": "stream",
     "text": [
      "ERROR while rich displaying an object: Error in vapply(part, function(col) {: values must be length 6,\n",
      " but FUN(X[[1]]) result is length 60\n",
      "\n",
      "Traceback:\n",
      "1. tryCatch(withCallingHandlers({\n",
      " .     if (!mime %in% names(repr::mime2repr)) \n",
      " .         stop(\"No repr_* for mimetype \", mime, \" in repr::mime2repr\")\n",
      " .     rpr <- repr::mime2repr[[mime]](obj)\n",
      " .     if (is.null(rpr)) \n",
      " .         return(NULL)\n",
      " .     prepare_content(is.raw(rpr), rpr)\n",
      " . }, error = error_handler), error = outer_handler)\n",
      "2. tryCatchList(expr, classes, parentenv, handlers)\n",
      "3. tryCatchOne(expr, names, parentenv, handlers[[1L]])\n",
      "4. doTryCatch(return(expr), name, parentenv, handler)\n",
      "5. withCallingHandlers({\n",
      " .     if (!mime %in% names(repr::mime2repr)) \n",
      " .         stop(\"No repr_* for mimetype \", mime, \" in repr::mime2repr\")\n",
      " .     rpr <- repr::mime2repr[[mime]](obj)\n",
      " .     if (is.null(rpr)) \n",
      " .         return(NULL)\n",
      " .     prepare_content(is.raw(rpr), rpr)\n",
      " . }, error = error_handler)\n",
      "6. repr::mime2repr[[mime]](obj)\n",
      "7. repr_text.data.frame(obj)\n",
      "8. ellip_limit_arr(obj, rows, cols)\n",
      "9. arr_parts_format(parts)\n",
      "10. structure(lapply(parts, arr_part_format), omit = attr(parts, \n",
      "  .     \"omit\"))\n",
      "11. lapply(parts, arr_part_format)\n",
      "12. FUN(X[[i]], ...)\n",
      "13. vapply(part, function(col) {\n",
      "  .     if (is.matrix(col)) \n",
      "  .         apply(apply(col, 2L, format), 1L, paste, collapse = \", \")\n",
      "  .     else format(col)\n",
      "  . }, character(nrow(part)))\n"
     ]
    }
   ],
   "source": [
    "expand.grid(df_store, df_product) %>% head()\n",
    "# PASS"
   ]
  },
  {
   "cell_type": "markdown",
   "metadata": {},
   "source": [
    "---\n",
    "> R-041: レシート明細データ（df_receipt）の売上金額（amount）を日付（sales_ymd）ごとに集計し、前回売上があった日からの売上金額増減を計算せよ。そして結果を10件表示せよ。"
   ]
  },
  {
   "cell_type": "code",
   "execution_count": 43,
   "metadata": {},
   "outputs": [
    {
     "data": {
      "text/html": [
       "<table class=\"dataframe\">\n",
       "<caption>A tibble: 10 × 3</caption>\n",
       "<thead>\n",
       "\t<tr><th scope=col>sales_ymd</th><th scope=col>Sum</th><th scope=col>diff</th></tr>\n",
       "\t<tr><th scope=col>&lt;int&gt;</th><th scope=col>&lt;int&gt;</th><th scope=col>&lt;int&gt;</th></tr>\n",
       "</thead>\n",
       "<tbody>\n",
       "\t<tr><td>20170101</td><td>33723</td><td>   NA</td></tr>\n",
       "\t<tr><td>20170102</td><td>24165</td><td>-9558</td></tr>\n",
       "\t<tr><td>20170103</td><td>27503</td><td> 3338</td></tr>\n",
       "\t<tr><td>20170104</td><td>36165</td><td> 8662</td></tr>\n",
       "\t<tr><td>20170105</td><td>37830</td><td> 1665</td></tr>\n",
       "\t<tr><td>20170106</td><td>32387</td><td>-5443</td></tr>\n",
       "\t<tr><td>20170107</td><td>23415</td><td>-8972</td></tr>\n",
       "\t<tr><td>20170108</td><td>24737</td><td> 1322</td></tr>\n",
       "\t<tr><td>20170109</td><td>26718</td><td> 1981</td></tr>\n",
       "\t<tr><td>20170110</td><td>20143</td><td>-6575</td></tr>\n",
       "</tbody>\n",
       "</table>\n"
      ],
      "text/latex": [
       "A tibble: 10 × 3\n",
       "\\begin{tabular}{lll}\n",
       " sales\\_ymd & Sum & diff\\\\\n",
       " <int> & <int> & <int>\\\\\n",
       "\\hline\n",
       "\t 20170101 & 33723 &    NA\\\\\n",
       "\t 20170102 & 24165 & -9558\\\\\n",
       "\t 20170103 & 27503 &  3338\\\\\n",
       "\t 20170104 & 36165 &  8662\\\\\n",
       "\t 20170105 & 37830 &  1665\\\\\n",
       "\t 20170106 & 32387 & -5443\\\\\n",
       "\t 20170107 & 23415 & -8972\\\\\n",
       "\t 20170108 & 24737 &  1322\\\\\n",
       "\t 20170109 & 26718 &  1981\\\\\n",
       "\t 20170110 & 20143 & -6575\\\\\n",
       "\\end{tabular}\n"
      ],
      "text/markdown": [
       "\n",
       "A tibble: 10 × 3\n",
       "\n",
       "| sales_ymd &lt;int&gt; | Sum &lt;int&gt; | diff &lt;int&gt; |\n",
       "|---|---|---|\n",
       "| 20170101 | 33723 |    NA |\n",
       "| 20170102 | 24165 | -9558 |\n",
       "| 20170103 | 27503 |  3338 |\n",
       "| 20170104 | 36165 |  8662 |\n",
       "| 20170105 | 37830 |  1665 |\n",
       "| 20170106 | 32387 | -5443 |\n",
       "| 20170107 | 23415 | -8972 |\n",
       "| 20170108 | 24737 |  1322 |\n",
       "| 20170109 | 26718 |  1981 |\n",
       "| 20170110 | 20143 | -6575 |\n",
       "\n"
      ],
      "text/plain": [
       "   sales_ymd Sum   diff \n",
       "1  20170101  33723    NA\n",
       "2  20170102  24165 -9558\n",
       "3  20170103  27503  3338\n",
       "4  20170104  36165  8662\n",
       "5  20170105  37830  1665\n",
       "6  20170106  32387 -5443\n",
       "7  20170107  23415 -8972\n",
       "8  20170108  24737  1322\n",
       "9  20170109  26718  1981\n",
       "10 20170110  20143 -6575"
      ]
     },
     "metadata": {},
     "output_type": "display_data"
    }
   ],
   "source": [
    "df_receipt %>% group_by(sales_ymd) %>% summarize(Sum = sum(amount)) %>% mutate(diff = Sum - lag(Sum, n = 1)) %>% head(10)"
   ]
  },
  {
   "cell_type": "markdown",
   "metadata": {},
   "source": [
    "---\n",
    "> R-042: レシート明細データ（df_receipt）の売上金額（amount）を日付（sales_ymd）ごとに集計し、各日付のデータに対し、前回、前々回、3回前に売上があった日のデータを結合せよ。そして結果を10件表示せよ。"
   ]
  },
  {
   "cell_type": "code",
   "execution_count": 44,
   "metadata": {},
   "outputs": [
    {
     "data": {
      "text/html": [
       "<table class=\"dataframe\">\n",
       "<caption>A tibble: 10 × 5</caption>\n",
       "<thead>\n",
       "\t<tr><th scope=col>sales_ymd</th><th scope=col>Sum</th><th scope=col>one_day_before</th><th scope=col>two_day_before</th><th scope=col>three_day_before</th></tr>\n",
       "\t<tr><th scope=col>&lt;int&gt;</th><th scope=col>&lt;int&gt;</th><th scope=col>&lt;int&gt;</th><th scope=col>&lt;int&gt;</th><th scope=col>&lt;int&gt;</th></tr>\n",
       "</thead>\n",
       "<tbody>\n",
       "\t<tr><td>20170101</td><td>33723</td><td>   NA</td><td>   NA</td><td>   NA</td></tr>\n",
       "\t<tr><td>20170102</td><td>24165</td><td>33723</td><td>   NA</td><td>   NA</td></tr>\n",
       "\t<tr><td>20170103</td><td>27503</td><td>24165</td><td>33723</td><td>   NA</td></tr>\n",
       "\t<tr><td>20170104</td><td>36165</td><td>27503</td><td>24165</td><td>33723</td></tr>\n",
       "\t<tr><td>20170105</td><td>37830</td><td>36165</td><td>27503</td><td>24165</td></tr>\n",
       "\t<tr><td>20170106</td><td>32387</td><td>37830</td><td>36165</td><td>27503</td></tr>\n",
       "\t<tr><td>20170107</td><td>23415</td><td>32387</td><td>37830</td><td>36165</td></tr>\n",
       "\t<tr><td>20170108</td><td>24737</td><td>23415</td><td>32387</td><td>37830</td></tr>\n",
       "\t<tr><td>20170109</td><td>26718</td><td>24737</td><td>23415</td><td>32387</td></tr>\n",
       "\t<tr><td>20170110</td><td>20143</td><td>26718</td><td>24737</td><td>23415</td></tr>\n",
       "</tbody>\n",
       "</table>\n"
      ],
      "text/latex": [
       "A tibble: 10 × 5\n",
       "\\begin{tabular}{lllll}\n",
       " sales\\_ymd & Sum & one\\_day\\_before & two\\_day\\_before & three\\_day\\_before\\\\\n",
       " <int> & <int> & <int> & <int> & <int>\\\\\n",
       "\\hline\n",
       "\t 20170101 & 33723 &    NA &    NA &    NA\\\\\n",
       "\t 20170102 & 24165 & 33723 &    NA &    NA\\\\\n",
       "\t 20170103 & 27503 & 24165 & 33723 &    NA\\\\\n",
       "\t 20170104 & 36165 & 27503 & 24165 & 33723\\\\\n",
       "\t 20170105 & 37830 & 36165 & 27503 & 24165\\\\\n",
       "\t 20170106 & 32387 & 37830 & 36165 & 27503\\\\\n",
       "\t 20170107 & 23415 & 32387 & 37830 & 36165\\\\\n",
       "\t 20170108 & 24737 & 23415 & 32387 & 37830\\\\\n",
       "\t 20170109 & 26718 & 24737 & 23415 & 32387\\\\\n",
       "\t 20170110 & 20143 & 26718 & 24737 & 23415\\\\\n",
       "\\end{tabular}\n"
      ],
      "text/markdown": [
       "\n",
       "A tibble: 10 × 5\n",
       "\n",
       "| sales_ymd &lt;int&gt; | Sum &lt;int&gt; | one_day_before &lt;int&gt; | two_day_before &lt;int&gt; | three_day_before &lt;int&gt; |\n",
       "|---|---|---|---|---|\n",
       "| 20170101 | 33723 |    NA |    NA |    NA |\n",
       "| 20170102 | 24165 | 33723 |    NA |    NA |\n",
       "| 20170103 | 27503 | 24165 | 33723 |    NA |\n",
       "| 20170104 | 36165 | 27503 | 24165 | 33723 |\n",
       "| 20170105 | 37830 | 36165 | 27503 | 24165 |\n",
       "| 20170106 | 32387 | 37830 | 36165 | 27503 |\n",
       "| 20170107 | 23415 | 32387 | 37830 | 36165 |\n",
       "| 20170108 | 24737 | 23415 | 32387 | 37830 |\n",
       "| 20170109 | 26718 | 24737 | 23415 | 32387 |\n",
       "| 20170110 | 20143 | 26718 | 24737 | 23415 |\n",
       "\n"
      ],
      "text/plain": [
       "   sales_ymd Sum   one_day_before two_day_before three_day_before\n",
       "1  20170101  33723    NA             NA             NA           \n",
       "2  20170102  24165 33723             NA             NA           \n",
       "3  20170103  27503 24165          33723             NA           \n",
       "4  20170104  36165 27503          24165          33723           \n",
       "5  20170105  37830 36165          27503          24165           \n",
       "6  20170106  32387 37830          36165          27503           \n",
       "7  20170107  23415 32387          37830          36165           \n",
       "8  20170108  24737 23415          32387          37830           \n",
       "9  20170109  26718 24737          23415          32387           \n",
       "10 20170110  20143 26718          24737          23415           "
      ]
     },
     "metadata": {},
     "output_type": "display_data"
    }
   ],
   "source": [
    "df_receipt %>%\n",
    "    group_by(sales_ymd) %>%\n",
    "    summarize(Sum = sum(amount)) %>%\n",
    "    mutate(one_day_before = lag(Sum, n = 1)) %>%\n",
    "    mutate(two_day_before = lag(Sum, n = 2)) %>%\n",
    "    mutate(three_day_before = lag(Sum, n = 3)) %>%\n",
    "    head(10)"
   ]
  },
  {
   "cell_type": "markdown",
   "metadata": {},
   "source": [
    "---\n",
    "> R-043: レシート明細データ（df_receipt）と顧客データ（df_customer）を結合し、性別コード（gender_cd）と年代（ageから計算）ごとに売上金額（amount）を合計した売上サマリデータを作成せよ。性別コードは0が男性、1が女性、9が不明を表すものとする。\n",
    ">\n",
    "> ただし、項目構成は年代、女性の売上金額、男性の売上金額、性別不明の売上金額の4項目とすること（縦に年代、横に性別のクロス集計）。また、年代は10歳ごとの階級とすること。"
   ]
  },
  {
   "cell_type": "code",
   "execution_count": 45,
   "metadata": {},
   "outputs": [
    {
     "name": "stderr",
     "output_type": "stream",
     "text": [
      "\u001b[1m\u001b[22m`summarise()` has grouped output by 'gender_cd'. You can override using the\n",
      "`.groups` argument.\n"
     ]
    },
    {
     "data": {
      "text/html": [
       "<table class=\"dataframe\">\n",
       "<caption>A tibble: 10 × 5</caption>\n",
       "<thead>\n",
       "\t<tr><th scope=col>agec</th><th scope=col>0</th><th scope=col>1</th><th scope=col>9</th><th scope=col>NA</th></tr>\n",
       "\t<tr><th scope=col>&lt;chr&gt;</th><th scope=col>&lt;int&gt;</th><th scope=col>&lt;int&gt;</th><th scope=col>&lt;int&gt;</th><th scope=col>&lt;int&gt;</th></tr>\n",
       "</thead>\n",
       "<tbody>\n",
       "\t<tr><td>10-19</td><td>  1591</td><td> 149836</td><td>  4317</td><td>      NA</td></tr>\n",
       "\t<tr><td>20-29</td><td> 72940</td><td>1363724</td><td> 44328</td><td>      NA</td></tr>\n",
       "\t<tr><td>30-39</td><td>177322</td><td> 693047</td><td> 50441</td><td>      NA</td></tr>\n",
       "\t<tr><td>40-49</td><td> 19355</td><td>9320791</td><td>483512</td><td>      NA</td></tr>\n",
       "\t<tr><td>50-59</td><td> 54320</td><td>6685192</td><td>342923</td><td>      NA</td></tr>\n",
       "\t<tr><td>60-69</td><td>272469</td><td> 987741</td><td> 71418</td><td>      NA</td></tr>\n",
       "\t<tr><td>70-79</td><td> 13435</td><td>  29764</td><td>  2427</td><td>      NA</td></tr>\n",
       "\t<tr><td>80-89</td><td> 46360</td><td> 262923</td><td>  5111</td><td>      NA</td></tr>\n",
       "\t<tr><td>90-99</td><td>    NA</td><td>   6260</td><td>    NA</td><td>      NA</td></tr>\n",
       "\t<tr><td>NA   </td><td>    NA</td><td>     NA</td><td>    NA</td><td>12395003</td></tr>\n",
       "</tbody>\n",
       "</table>\n"
      ],
      "text/latex": [
       "A tibble: 10 × 5\n",
       "\\begin{tabular}{lllll}\n",
       " agec & 0 & 1 & 9 & NA\\\\\n",
       " <chr> & <int> & <int> & <int> & <int>\\\\\n",
       "\\hline\n",
       "\t 10-19 &   1591 &  149836 &   4317 &       NA\\\\\n",
       "\t 20-29 &  72940 & 1363724 &  44328 &       NA\\\\\n",
       "\t 30-39 & 177322 &  693047 &  50441 &       NA\\\\\n",
       "\t 40-49 &  19355 & 9320791 & 483512 &       NA\\\\\n",
       "\t 50-59 &  54320 & 6685192 & 342923 &       NA\\\\\n",
       "\t 60-69 & 272469 &  987741 &  71418 &       NA\\\\\n",
       "\t 70-79 &  13435 &   29764 &   2427 &       NA\\\\\n",
       "\t 80-89 &  46360 &  262923 &   5111 &       NA\\\\\n",
       "\t 90-99 &     NA &    6260 &     NA &       NA\\\\\n",
       "\t NA    &     NA &      NA &     NA & 12395003\\\\\n",
       "\\end{tabular}\n"
      ],
      "text/markdown": [
       "\n",
       "A tibble: 10 × 5\n",
       "\n",
       "| agec &lt;chr&gt; | 0 &lt;int&gt; | 1 &lt;int&gt; | 9 &lt;int&gt; | NA &lt;int&gt; |\n",
       "|---|---|---|---|---|\n",
       "| 10-19 |   1591 |  149836 |   4317 |       NA |\n",
       "| 20-29 |  72940 | 1363724 |  44328 |       NA |\n",
       "| 30-39 | 177322 |  693047 |  50441 |       NA |\n",
       "| 40-49 |  19355 | 9320791 | 483512 |       NA |\n",
       "| 50-59 |  54320 | 6685192 | 342923 |       NA |\n",
       "| 60-69 | 272469 |  987741 |  71418 |       NA |\n",
       "| 70-79 |  13435 |   29764 |   2427 |       NA |\n",
       "| 80-89 |  46360 |  262923 |   5111 |       NA |\n",
       "| 90-99 |     NA |    6260 |     NA |       NA |\n",
       "| NA    |     NA |      NA |     NA | 12395003 |\n",
       "\n"
      ],
      "text/plain": [
       "   agec  0      1       9      NA      \n",
       "1  10-19   1591  149836   4317       NA\n",
       "2  20-29  72940 1363724  44328       NA\n",
       "3  30-39 177322  693047  50441       NA\n",
       "4  40-49  19355 9320791 483512       NA\n",
       "5  50-59  54320 6685192 342923       NA\n",
       "6  60-69 272469  987741  71418       NA\n",
       "7  70-79  13435   29764   2427       NA\n",
       "8  80-89  46360  262923   5111       NA\n",
       "9  90-99     NA    6260     NA       NA\n",
       "10 NA        NA      NA     NA 12395003"
      ]
     },
     "metadata": {},
     "output_type": "display_data"
    }
   ],
   "source": [
    "left_join(df_receipt, df_customer, by=\"customer_id\") %>%\n",
    "    mutate(agec = case_when(\n",
    "            10 <= age & age < 20 ~ \"10-19\",\n",
    "            20 <= age & age < 30 ~ \"20-29\",\n",
    "            30 <= age & age < 40 ~ \"30-39\",\n",
    "            40 <= age & age < 50 ~ \"40-49\",\n",
    "            50 <= age & age < 60 ~ \"50-59\",\n",
    "            60 <= age & age < 70 ~ \"60-69\",\n",
    "            70 <= age & age < 80 ~ \"70-79\",\n",
    "            80 <= age & age < 90 ~ \"80-89\",\n",
    "            90 <= age & age < 100 ~ \"90-99\",)\n",
    "           ) %>%\n",
    "    group_by(gender_cd, agec) %>%\n",
    "    summarize(Sum = sum(amount)) %>%\n",
    "    pivot_wider(names_from = \"gender_cd\", values_from = \"Sum\")"
   ]
  },
  {
   "cell_type": "markdown",
   "metadata": {},
   "source": [
    "---\n",
    "> R-044: 043で作成した売上サマリデータ（df_sales_summary）は性別の売上を横持ちさせたものであった。このデータから性別を縦持ちさせ、年代、性別コード、売上金額の3項目に変換せよ。ただし、性別コードは男性を\"00\"、女性を\"01\"、不明を\"99\"とする。"
   ]
  },
  {
   "cell_type": "code",
   "execution_count": 46,
   "metadata": {},
   "outputs": [
    {
     "name": "stderr",
     "output_type": "stream",
     "text": [
      "\u001b[1m\u001b[22m`summarise()` has grouped output by 'gender_cd'. You can override using the\n",
      "`.groups` argument.\n"
     ]
    },
    {
     "data": {
      "text/html": [
       "<table class=\"dataframe\">\n",
       "<caption>A grouped_df: 26 × 3</caption>\n",
       "<thead>\n",
       "\t<tr><th scope=col>gender_cd</th><th scope=col>agec</th><th scope=col>Sum</th></tr>\n",
       "\t<tr><th scope=col>&lt;chr&gt;</th><th scope=col>&lt;chr&gt;</th><th scope=col>&lt;int&gt;</th></tr>\n",
       "</thead>\n",
       "<tbody>\n",
       "\t<tr><td>00</td><td>10-19</td><td>    1591</td></tr>\n",
       "\t<tr><td>00</td><td>20-29</td><td>   72940</td></tr>\n",
       "\t<tr><td>00</td><td>30-39</td><td>  177322</td></tr>\n",
       "\t<tr><td>00</td><td>40-49</td><td>   19355</td></tr>\n",
       "\t<tr><td>00</td><td>50-59</td><td>   54320</td></tr>\n",
       "\t<tr><td>00</td><td>60-69</td><td>  272469</td></tr>\n",
       "\t<tr><td>00</td><td>70-79</td><td>   13435</td></tr>\n",
       "\t<tr><td>00</td><td>80-89</td><td>   46360</td></tr>\n",
       "\t<tr><td>01</td><td>10-19</td><td>  149836</td></tr>\n",
       "\t<tr><td>01</td><td>20-29</td><td> 1363724</td></tr>\n",
       "\t<tr><td>01</td><td>30-39</td><td>  693047</td></tr>\n",
       "\t<tr><td>01</td><td>40-49</td><td> 9320791</td></tr>\n",
       "\t<tr><td>01</td><td>50-59</td><td> 6685192</td></tr>\n",
       "\t<tr><td>01</td><td>60-69</td><td>  987741</td></tr>\n",
       "\t<tr><td>01</td><td>70-79</td><td>   29764</td></tr>\n",
       "\t<tr><td>01</td><td>80-89</td><td>  262923</td></tr>\n",
       "\t<tr><td>01</td><td>90-99</td><td>    6260</td></tr>\n",
       "\t<tr><td>99</td><td>10-19</td><td>    4317</td></tr>\n",
       "\t<tr><td>99</td><td>20-29</td><td>   44328</td></tr>\n",
       "\t<tr><td>99</td><td>30-39</td><td>   50441</td></tr>\n",
       "\t<tr><td>99</td><td>40-49</td><td>  483512</td></tr>\n",
       "\t<tr><td>99</td><td>50-59</td><td>  342923</td></tr>\n",
       "\t<tr><td>99</td><td>60-69</td><td>   71418</td></tr>\n",
       "\t<tr><td>99</td><td>70-79</td><td>    2427</td></tr>\n",
       "\t<tr><td>99</td><td>80-89</td><td>    5111</td></tr>\n",
       "\t<tr><td>NA</td><td>NA   </td><td>12395003</td></tr>\n",
       "</tbody>\n",
       "</table>\n"
      ],
      "text/latex": [
       "A grouped\\_df: 26 × 3\n",
       "\\begin{tabular}{lll}\n",
       " gender\\_cd & agec & Sum\\\\\n",
       " <chr> & <chr> & <int>\\\\\n",
       "\\hline\n",
       "\t 00 & 10-19 &     1591\\\\\n",
       "\t 00 & 20-29 &    72940\\\\\n",
       "\t 00 & 30-39 &   177322\\\\\n",
       "\t 00 & 40-49 &    19355\\\\\n",
       "\t 00 & 50-59 &    54320\\\\\n",
       "\t 00 & 60-69 &   272469\\\\\n",
       "\t 00 & 70-79 &    13435\\\\\n",
       "\t 00 & 80-89 &    46360\\\\\n",
       "\t 01 & 10-19 &   149836\\\\\n",
       "\t 01 & 20-29 &  1363724\\\\\n",
       "\t 01 & 30-39 &   693047\\\\\n",
       "\t 01 & 40-49 &  9320791\\\\\n",
       "\t 01 & 50-59 &  6685192\\\\\n",
       "\t 01 & 60-69 &   987741\\\\\n",
       "\t 01 & 70-79 &    29764\\\\\n",
       "\t 01 & 80-89 &   262923\\\\\n",
       "\t 01 & 90-99 &     6260\\\\\n",
       "\t 99 & 10-19 &     4317\\\\\n",
       "\t 99 & 20-29 &    44328\\\\\n",
       "\t 99 & 30-39 &    50441\\\\\n",
       "\t 99 & 40-49 &   483512\\\\\n",
       "\t 99 & 50-59 &   342923\\\\\n",
       "\t 99 & 60-69 &    71418\\\\\n",
       "\t 99 & 70-79 &     2427\\\\\n",
       "\t 99 & 80-89 &     5111\\\\\n",
       "\t NA & NA    & 12395003\\\\\n",
       "\\end{tabular}\n"
      ],
      "text/markdown": [
       "\n",
       "A grouped_df: 26 × 3\n",
       "\n",
       "| gender_cd &lt;chr&gt; | agec &lt;chr&gt; | Sum &lt;int&gt; |\n",
       "|---|---|---|\n",
       "| 00 | 10-19 |     1591 |\n",
       "| 00 | 20-29 |    72940 |\n",
       "| 00 | 30-39 |   177322 |\n",
       "| 00 | 40-49 |    19355 |\n",
       "| 00 | 50-59 |    54320 |\n",
       "| 00 | 60-69 |   272469 |\n",
       "| 00 | 70-79 |    13435 |\n",
       "| 00 | 80-89 |    46360 |\n",
       "| 01 | 10-19 |   149836 |\n",
       "| 01 | 20-29 |  1363724 |\n",
       "| 01 | 30-39 |   693047 |\n",
       "| 01 | 40-49 |  9320791 |\n",
       "| 01 | 50-59 |  6685192 |\n",
       "| 01 | 60-69 |   987741 |\n",
       "| 01 | 70-79 |    29764 |\n",
       "| 01 | 80-89 |   262923 |\n",
       "| 01 | 90-99 |     6260 |\n",
       "| 99 | 10-19 |     4317 |\n",
       "| 99 | 20-29 |    44328 |\n",
       "| 99 | 30-39 |    50441 |\n",
       "| 99 | 40-49 |   483512 |\n",
       "| 99 | 50-59 |   342923 |\n",
       "| 99 | 60-69 |    71418 |\n",
       "| 99 | 70-79 |     2427 |\n",
       "| 99 | 80-89 |     5111 |\n",
       "| NA | NA    | 12395003 |\n",
       "\n"
      ],
      "text/plain": [
       "   gender_cd agec  Sum     \n",
       "1  00        10-19     1591\n",
       "2  00        20-29    72940\n",
       "3  00        30-39   177322\n",
       "4  00        40-49    19355\n",
       "5  00        50-59    54320\n",
       "6  00        60-69   272469\n",
       "7  00        70-79    13435\n",
       "8  00        80-89    46360\n",
       "9  01        10-19   149836\n",
       "10 01        20-29  1363724\n",
       "11 01        30-39   693047\n",
       "12 01        40-49  9320791\n",
       "13 01        50-59  6685192\n",
       "14 01        60-69   987741\n",
       "15 01        70-79    29764\n",
       "16 01        80-89   262923\n",
       "17 01        90-99     6260\n",
       "18 99        10-19     4317\n",
       "19 99        20-29    44328\n",
       "20 99        30-39    50441\n",
       "21 99        40-49   483512\n",
       "22 99        50-59   342923\n",
       "23 99        60-69    71418\n",
       "24 99        70-79     2427\n",
       "25 99        80-89     5111\n",
       "26 NA        NA    12395003"
      ]
     },
     "metadata": {},
     "output_type": "display_data"
    }
   ],
   "source": [
    "left_join(df_receipt, df_customer, by=\"customer_id\") %>%\n",
    "    mutate(agec = case_when(\n",
    "            10 <= age & age < 20 ~ \"10-19\",\n",
    "            20 <= age & age < 30 ~ \"20-29\",\n",
    "            30 <= age & age < 40 ~ \"30-39\",\n",
    "            40 <= age & age < 50 ~ \"40-49\",\n",
    "            50 <= age & age < 60 ~ \"50-59\",\n",
    "            60 <= age & age < 70 ~ \"60-69\",\n",
    "            70 <= age & age < 80 ~ \"70-79\",\n",
    "            80 <= age & age < 90 ~ \"80-89\",\n",
    "            90 <= age & age < 100 ~ \"90-99\",)\n",
    "           ) %>%\n",
    "    group_by(gender_cd, agec) %>%\n",
    "    summarize(Sum = sum(amount)) %>%\n",
    "    mutate(gender_cd = case_when(\n",
    "            gender_cd == \"0\" ~ \"00\",\n",
    "            gender_cd == \"1\" ~ \"01\",\n",
    "            gender_cd == \"9\" ~ \"99\")\n",
    "           )"
   ]
  },
  {
   "cell_type": "markdown",
   "metadata": {},
   "source": [
    "---\n",
    "> R-045: 顧客データ（df_customer）の生年月日（birth_day）は日付型でデータを保有している。これをYYYYMMDD形式の文字列に変換し、顧客ID（customer_id）とともに10件表示せよ。"
   ]
  },
  {
   "cell_type": "code",
   "execution_count": 47,
   "metadata": {},
   "outputs": [
    {
     "data": {
      "text/html": [
       "<table class=\"dataframe\">\n",
       "<caption>A data.frame: 10 × 2</caption>\n",
       "<thead>\n",
       "\t<tr><th></th><th scope=col>customer_id</th><th scope=col>birth_day</th></tr>\n",
       "\t<tr><th></th><th scope=col>&lt;chr&gt;</th><th scope=col>&lt;chr&gt;</th></tr>\n",
       "</thead>\n",
       "<tbody>\n",
       "\t<tr><th scope=row>1</th><td>CS021313000114</td><td>19810429</td></tr>\n",
       "\t<tr><th scope=row>2</th><td>CS037613000071</td><td>19520401</td></tr>\n",
       "\t<tr><th scope=row>3</th><td>CS031415000172</td><td>19761004</td></tr>\n",
       "\t<tr><th scope=row>4</th><td>CS028811000001</td><td>19330327</td></tr>\n",
       "\t<tr><th scope=row>5</th><td>CS001215000145</td><td>19950329</td></tr>\n",
       "\t<tr><th scope=row>6</th><td>CS020401000016</td><td>19740915</td></tr>\n",
       "\t<tr><th scope=row>7</th><td>CS015414000103</td><td>19770809</td></tr>\n",
       "\t<tr><th scope=row>8</th><td>CS029403000008</td><td>19730817</td></tr>\n",
       "\t<tr><th scope=row>9</th><td>CS015804000004</td><td>19310502</td></tr>\n",
       "\t<tr><th scope=row>10</th><td>CS033513000180</td><td>19620711</td></tr>\n",
       "</tbody>\n",
       "</table>\n"
      ],
      "text/latex": [
       "A data.frame: 10 × 2\n",
       "\\begin{tabular}{r|ll}\n",
       "  & customer\\_id & birth\\_day\\\\\n",
       "  & <chr> & <chr>\\\\\n",
       "\\hline\n",
       "\t1 & CS021313000114 & 19810429\\\\\n",
       "\t2 & CS037613000071 & 19520401\\\\\n",
       "\t3 & CS031415000172 & 19761004\\\\\n",
       "\t4 & CS028811000001 & 19330327\\\\\n",
       "\t5 & CS001215000145 & 19950329\\\\\n",
       "\t6 & CS020401000016 & 19740915\\\\\n",
       "\t7 & CS015414000103 & 19770809\\\\\n",
       "\t8 & CS029403000008 & 19730817\\\\\n",
       "\t9 & CS015804000004 & 19310502\\\\\n",
       "\t10 & CS033513000180 & 19620711\\\\\n",
       "\\end{tabular}\n"
      ],
      "text/markdown": [
       "\n",
       "A data.frame: 10 × 2\n",
       "\n",
       "| <!--/--> | customer_id &lt;chr&gt; | birth_day &lt;chr&gt; |\n",
       "|---|---|---|\n",
       "| 1 | CS021313000114 | 19810429 |\n",
       "| 2 | CS037613000071 | 19520401 |\n",
       "| 3 | CS031415000172 | 19761004 |\n",
       "| 4 | CS028811000001 | 19330327 |\n",
       "| 5 | CS001215000145 | 19950329 |\n",
       "| 6 | CS020401000016 | 19740915 |\n",
       "| 7 | CS015414000103 | 19770809 |\n",
       "| 8 | CS029403000008 | 19730817 |\n",
       "| 9 | CS015804000004 | 19310502 |\n",
       "| 10 | CS033513000180 | 19620711 |\n",
       "\n"
      ],
      "text/plain": [
       "   customer_id    birth_day\n",
       "1  CS021313000114 19810429 \n",
       "2  CS037613000071 19520401 \n",
       "3  CS031415000172 19761004 \n",
       "4  CS028811000001 19330327 \n",
       "5  CS001215000145 19950329 \n",
       "6  CS020401000016 19740915 \n",
       "7  CS015414000103 19770809 \n",
       "8  CS029403000008 19730817 \n",
       "9  CS015804000004 19310502 \n",
       "10 CS033513000180 19620711 "
      ]
     },
     "metadata": {},
     "output_type": "display_data"
    }
   ],
   "source": [
    "df_customer %>% mutate(birth_day = format(birth_day, \"%Y%m%d\")) %>% select(customer_id, birth_day) %>% head(10)"
   ]
  },
  {
   "cell_type": "markdown",
   "metadata": {},
   "source": [
    "---\n",
    "> R-046: 顧客データ（df_customer）の申し込み日（application_date）はYYYYMMDD形式の文字列型でデータを保有している。これを日付型に変換し、顧客ID（customer_id）とともに10件表示せよ。"
   ]
  },
  {
   "cell_type": "code",
   "execution_count": 48,
   "metadata": {},
   "outputs": [
    {
     "data": {
      "text/html": [
       "<table class=\"dataframe\">\n",
       "<caption>A data.frame: 10 × 2</caption>\n",
       "<thead>\n",
       "\t<tr><th></th><th scope=col>customer_id</th><th scope=col>application_date</th></tr>\n",
       "\t<tr><th></th><th scope=col>&lt;chr&gt;</th><th scope=col>&lt;date&gt;</th></tr>\n",
       "</thead>\n",
       "<tbody>\n",
       "\t<tr><th scope=row>1</th><td>CS021313000114</td><td>2015-09-05</td></tr>\n",
       "\t<tr><th scope=row>2</th><td>CS037613000071</td><td>2015-04-14</td></tr>\n",
       "\t<tr><th scope=row>3</th><td>CS031415000172</td><td>2015-05-29</td></tr>\n",
       "\t<tr><th scope=row>4</th><td>CS028811000001</td><td>2016-01-15</td></tr>\n",
       "\t<tr><th scope=row>5</th><td>CS001215000145</td><td>2017-06-05</td></tr>\n",
       "\t<tr><th scope=row>6</th><td>CS020401000016</td><td>2015-02-25</td></tr>\n",
       "\t<tr><th scope=row>7</th><td>CS015414000103</td><td>2015-07-22</td></tr>\n",
       "\t<tr><th scope=row>8</th><td>CS029403000008</td><td>2015-05-15</td></tr>\n",
       "\t<tr><th scope=row>9</th><td>CS015804000004</td><td>2015-06-07</td></tr>\n",
       "\t<tr><th scope=row>10</th><td>CS033513000180</td><td>2015-07-28</td></tr>\n",
       "</tbody>\n",
       "</table>\n"
      ],
      "text/latex": [
       "A data.frame: 10 × 2\n",
       "\\begin{tabular}{r|ll}\n",
       "  & customer\\_id & application\\_date\\\\\n",
       "  & <chr> & <date>\\\\\n",
       "\\hline\n",
       "\t1 & CS021313000114 & 2015-09-05\\\\\n",
       "\t2 & CS037613000071 & 2015-04-14\\\\\n",
       "\t3 & CS031415000172 & 2015-05-29\\\\\n",
       "\t4 & CS028811000001 & 2016-01-15\\\\\n",
       "\t5 & CS001215000145 & 2017-06-05\\\\\n",
       "\t6 & CS020401000016 & 2015-02-25\\\\\n",
       "\t7 & CS015414000103 & 2015-07-22\\\\\n",
       "\t8 & CS029403000008 & 2015-05-15\\\\\n",
       "\t9 & CS015804000004 & 2015-06-07\\\\\n",
       "\t10 & CS033513000180 & 2015-07-28\\\\\n",
       "\\end{tabular}\n"
      ],
      "text/markdown": [
       "\n",
       "A data.frame: 10 × 2\n",
       "\n",
       "| <!--/--> | customer_id &lt;chr&gt; | application_date &lt;date&gt; |\n",
       "|---|---|---|\n",
       "| 1 | CS021313000114 | 2015-09-05 |\n",
       "| 2 | CS037613000071 | 2015-04-14 |\n",
       "| 3 | CS031415000172 | 2015-05-29 |\n",
       "| 4 | CS028811000001 | 2016-01-15 |\n",
       "| 5 | CS001215000145 | 2017-06-05 |\n",
       "| 6 | CS020401000016 | 2015-02-25 |\n",
       "| 7 | CS015414000103 | 2015-07-22 |\n",
       "| 8 | CS029403000008 | 2015-05-15 |\n",
       "| 9 | CS015804000004 | 2015-06-07 |\n",
       "| 10 | CS033513000180 | 2015-07-28 |\n",
       "\n"
      ],
      "text/plain": [
       "   customer_id    application_date\n",
       "1  CS021313000114 2015-09-05      \n",
       "2  CS037613000071 2015-04-14      \n",
       "3  CS031415000172 2015-05-29      \n",
       "4  CS028811000001 2016-01-15      \n",
       "5  CS001215000145 2017-06-05      \n",
       "6  CS020401000016 2015-02-25      \n",
       "7  CS015414000103 2015-07-22      \n",
       "8  CS029403000008 2015-05-15      \n",
       "9  CS015804000004 2015-06-07      \n",
       "10 CS033513000180 2015-07-28      "
      ]
     },
     "metadata": {},
     "output_type": "display_data"
    }
   ],
   "source": [
    "df_customer %>% mutate(application_date = as.Date(application_date, format = \"%Y%m%d\")) %>% select(customer_id, application_date) %>% head(10)"
   ]
  },
  {
   "cell_type": "markdown",
   "metadata": {},
   "source": [
    "---\n",
    "> R-047: レシート明細データ（df_receipt）の売上日（sales_ymd）はYYYYMMDD形式の数値型でデータを保有している。これを日付型に変換し、レシート番号(receipt_no)、レシートサブ番号（receipt_sub_no）とともに10件表示せよ。"
   ]
  },
  {
   "cell_type": "code",
   "execution_count": 49,
   "metadata": {},
   "outputs": [
    {
     "data": {
      "text/html": [
       "<table class=\"dataframe\">\n",
       "<caption>A data.frame: 10 × 3</caption>\n",
       "<thead>\n",
       "\t<tr><th></th><th scope=col>receipt_no</th><th scope=col>receipt_sub_no</th><th scope=col>sales_ymd</th></tr>\n",
       "\t<tr><th></th><th scope=col>&lt;int&gt;</th><th scope=col>&lt;int&gt;</th><th scope=col>&lt;date&gt;</th></tr>\n",
       "</thead>\n",
       "<tbody>\n",
       "\t<tr><th scope=row>1</th><td> 112</td><td>1</td><td>2018-11-03</td></tr>\n",
       "\t<tr><th scope=row>2</th><td>1132</td><td>2</td><td>2018-11-18</td></tr>\n",
       "\t<tr><th scope=row>3</th><td>1102</td><td>1</td><td>2017-07-12</td></tr>\n",
       "\t<tr><th scope=row>4</th><td>1132</td><td>1</td><td>2019-02-05</td></tr>\n",
       "\t<tr><th scope=row>5</th><td>1102</td><td>2</td><td>2018-08-21</td></tr>\n",
       "\t<tr><th scope=row>6</th><td>1112</td><td>1</td><td>2019-06-05</td></tr>\n",
       "\t<tr><th scope=row>7</th><td>1102</td><td>2</td><td>2018-12-05</td></tr>\n",
       "\t<tr><th scope=row>8</th><td>1102</td><td>1</td><td>2019-09-22</td></tr>\n",
       "\t<tr><th scope=row>9</th><td>1112</td><td>2</td><td>2017-05-04</td></tr>\n",
       "\t<tr><th scope=row>10</th><td>1102</td><td>1</td><td>2019-10-10</td></tr>\n",
       "</tbody>\n",
       "</table>\n"
      ],
      "text/latex": [
       "A data.frame: 10 × 3\n",
       "\\begin{tabular}{r|lll}\n",
       "  & receipt\\_no & receipt\\_sub\\_no & sales\\_ymd\\\\\n",
       "  & <int> & <int> & <date>\\\\\n",
       "\\hline\n",
       "\t1 &  112 & 1 & 2018-11-03\\\\\n",
       "\t2 & 1132 & 2 & 2018-11-18\\\\\n",
       "\t3 & 1102 & 1 & 2017-07-12\\\\\n",
       "\t4 & 1132 & 1 & 2019-02-05\\\\\n",
       "\t5 & 1102 & 2 & 2018-08-21\\\\\n",
       "\t6 & 1112 & 1 & 2019-06-05\\\\\n",
       "\t7 & 1102 & 2 & 2018-12-05\\\\\n",
       "\t8 & 1102 & 1 & 2019-09-22\\\\\n",
       "\t9 & 1112 & 2 & 2017-05-04\\\\\n",
       "\t10 & 1102 & 1 & 2019-10-10\\\\\n",
       "\\end{tabular}\n"
      ],
      "text/markdown": [
       "\n",
       "A data.frame: 10 × 3\n",
       "\n",
       "| <!--/--> | receipt_no &lt;int&gt; | receipt_sub_no &lt;int&gt; | sales_ymd &lt;date&gt; |\n",
       "|---|---|---|---|\n",
       "| 1 |  112 | 1 | 2018-11-03 |\n",
       "| 2 | 1132 | 2 | 2018-11-18 |\n",
       "| 3 | 1102 | 1 | 2017-07-12 |\n",
       "| 4 | 1132 | 1 | 2019-02-05 |\n",
       "| 5 | 1102 | 2 | 2018-08-21 |\n",
       "| 6 | 1112 | 1 | 2019-06-05 |\n",
       "| 7 | 1102 | 2 | 2018-12-05 |\n",
       "| 8 | 1102 | 1 | 2019-09-22 |\n",
       "| 9 | 1112 | 2 | 2017-05-04 |\n",
       "| 10 | 1102 | 1 | 2019-10-10 |\n",
       "\n"
      ],
      "text/plain": [
       "   receipt_no receipt_sub_no sales_ymd \n",
       "1   112       1              2018-11-03\n",
       "2  1132       2              2018-11-18\n",
       "3  1102       1              2017-07-12\n",
       "4  1132       1              2019-02-05\n",
       "5  1102       2              2018-08-21\n",
       "6  1112       1              2019-06-05\n",
       "7  1102       2              2018-12-05\n",
       "8  1102       1              2019-09-22\n",
       "9  1112       2              2017-05-04\n",
       "10 1102       1              2019-10-10"
      ]
     },
     "metadata": {},
     "output_type": "display_data"
    }
   ],
   "source": [
    "df_receipt %>% mutate(sales_ymd = as_date(format(sales_ymd), format = \"%Y%m%d\")) %>% select(receipt_no, receipt_sub_no, sales_ymd) %>% head(10)"
   ]
  },
  {
   "cell_type": "markdown",
   "metadata": {},
   "source": [
    "---\n",
    "> R-048: レシート明細データ（df_receipt）の売上エポック秒（sales_epoch）は数値型のUNIX秒でデータを保有している。これを日付型に変換し、レシート番号(receipt_no)、レシートサブ番号（receipt_sub_no）とともに10件表示せよ。"
   ]
  },
  {
   "cell_type": "code",
   "execution_count": 50,
   "metadata": {},
   "outputs": [
    {
     "data": {
      "text/html": [
       "<table class=\"dataframe\">\n",
       "<caption>A data.frame: 10 × 3</caption>\n",
       "<thead>\n",
       "\t<tr><th></th><th scope=col>receipt_no</th><th scope=col>receipt_sub_no</th><th scope=col>sales_epoch</th></tr>\n",
       "\t<tr><th></th><th scope=col>&lt;int&gt;</th><th scope=col>&lt;int&gt;</th><th scope=col>&lt;date&gt;</th></tr>\n",
       "</thead>\n",
       "<tbody>\n",
       "\t<tr><th scope=row>1</th><td> 112</td><td>1</td><td>2018-11-03</td></tr>\n",
       "\t<tr><th scope=row>2</th><td>1132</td><td>2</td><td>2018-11-18</td></tr>\n",
       "\t<tr><th scope=row>3</th><td>1102</td><td>1</td><td>2017-07-12</td></tr>\n",
       "\t<tr><th scope=row>4</th><td>1132</td><td>1</td><td>2019-02-05</td></tr>\n",
       "\t<tr><th scope=row>5</th><td>1102</td><td>2</td><td>2018-08-21</td></tr>\n",
       "\t<tr><th scope=row>6</th><td>1112</td><td>1</td><td>2019-06-05</td></tr>\n",
       "\t<tr><th scope=row>7</th><td>1102</td><td>2</td><td>2018-12-05</td></tr>\n",
       "\t<tr><th scope=row>8</th><td>1102</td><td>1</td><td>2019-09-22</td></tr>\n",
       "\t<tr><th scope=row>9</th><td>1112</td><td>2</td><td>2017-05-04</td></tr>\n",
       "\t<tr><th scope=row>10</th><td>1102</td><td>1</td><td>2019-10-10</td></tr>\n",
       "</tbody>\n",
       "</table>\n"
      ],
      "text/latex": [
       "A data.frame: 10 × 3\n",
       "\\begin{tabular}{r|lll}\n",
       "  & receipt\\_no & receipt\\_sub\\_no & sales\\_epoch\\\\\n",
       "  & <int> & <int> & <date>\\\\\n",
       "\\hline\n",
       "\t1 &  112 & 1 & 2018-11-03\\\\\n",
       "\t2 & 1132 & 2 & 2018-11-18\\\\\n",
       "\t3 & 1102 & 1 & 2017-07-12\\\\\n",
       "\t4 & 1132 & 1 & 2019-02-05\\\\\n",
       "\t5 & 1102 & 2 & 2018-08-21\\\\\n",
       "\t6 & 1112 & 1 & 2019-06-05\\\\\n",
       "\t7 & 1102 & 2 & 2018-12-05\\\\\n",
       "\t8 & 1102 & 1 & 2019-09-22\\\\\n",
       "\t9 & 1112 & 2 & 2017-05-04\\\\\n",
       "\t10 & 1102 & 1 & 2019-10-10\\\\\n",
       "\\end{tabular}\n"
      ],
      "text/markdown": [
       "\n",
       "A data.frame: 10 × 3\n",
       "\n",
       "| <!--/--> | receipt_no &lt;int&gt; | receipt_sub_no &lt;int&gt; | sales_epoch &lt;date&gt; |\n",
       "|---|---|---|---|\n",
       "| 1 |  112 | 1 | 2018-11-03 |\n",
       "| 2 | 1132 | 2 | 2018-11-18 |\n",
       "| 3 | 1102 | 1 | 2017-07-12 |\n",
       "| 4 | 1132 | 1 | 2019-02-05 |\n",
       "| 5 | 1102 | 2 | 2018-08-21 |\n",
       "| 6 | 1112 | 1 | 2019-06-05 |\n",
       "| 7 | 1102 | 2 | 2018-12-05 |\n",
       "| 8 | 1102 | 1 | 2019-09-22 |\n",
       "| 9 | 1112 | 2 | 2017-05-04 |\n",
       "| 10 | 1102 | 1 | 2019-10-10 |\n",
       "\n"
      ],
      "text/plain": [
       "   receipt_no receipt_sub_no sales_epoch\n",
       "1   112       1              2018-11-03 \n",
       "2  1132       2              2018-11-18 \n",
       "3  1102       1              2017-07-12 \n",
       "4  1132       1              2019-02-05 \n",
       "5  1102       2              2018-08-21 \n",
       "6  1112       1              2019-06-05 \n",
       "7  1102       2              2018-12-05 \n",
       "8  1102       1              2019-09-22 \n",
       "9  1112       2              2017-05-04 \n",
       "10 1102       1              2019-10-10 "
      ]
     },
     "metadata": {},
     "output_type": "display_data"
    }
   ],
   "source": [
    "df_receipt %>% mutate(sales_epoch = as_date(as.POSIXct(sales_epoch))) %>% select(receipt_no, receipt_sub_no, sales_epoch) %>% head(10)"
   ]
  },
  {
   "cell_type": "markdown",
   "metadata": {},
   "source": [
    "---\n",
    "> R-049: レシート明細データ（df_receipt）の売上エポック秒（sales_epoch）を日付型に変換し、「年」だけ取り出してレシート番号(receipt_no)、レシートサブ番号（receipt_sub_no）とともに10件表示せよ。"
   ]
  },
  {
   "cell_type": "code",
   "execution_count": 51,
   "metadata": {},
   "outputs": [
    {
     "data": {
      "text/html": [
       "<table class=\"dataframe\">\n",
       "<caption>A data.frame: 10 × 3</caption>\n",
       "<thead>\n",
       "\t<tr><th></th><th scope=col>receipt_no</th><th scope=col>receipt_sub_no</th><th scope=col>sales_epoch</th></tr>\n",
       "\t<tr><th></th><th scope=col>&lt;int&gt;</th><th scope=col>&lt;int&gt;</th><th scope=col>&lt;dbl&gt;</th></tr>\n",
       "</thead>\n",
       "<tbody>\n",
       "\t<tr><th scope=row>1</th><td> 112</td><td>1</td><td>2018</td></tr>\n",
       "\t<tr><th scope=row>2</th><td>1132</td><td>2</td><td>2018</td></tr>\n",
       "\t<tr><th scope=row>3</th><td>1102</td><td>1</td><td>2017</td></tr>\n",
       "\t<tr><th scope=row>4</th><td>1132</td><td>1</td><td>2019</td></tr>\n",
       "\t<tr><th scope=row>5</th><td>1102</td><td>2</td><td>2018</td></tr>\n",
       "\t<tr><th scope=row>6</th><td>1112</td><td>1</td><td>2019</td></tr>\n",
       "\t<tr><th scope=row>7</th><td>1102</td><td>2</td><td>2018</td></tr>\n",
       "\t<tr><th scope=row>8</th><td>1102</td><td>1</td><td>2019</td></tr>\n",
       "\t<tr><th scope=row>9</th><td>1112</td><td>2</td><td>2017</td></tr>\n",
       "\t<tr><th scope=row>10</th><td>1102</td><td>1</td><td>2019</td></tr>\n",
       "</tbody>\n",
       "</table>\n"
      ],
      "text/latex": [
       "A data.frame: 10 × 3\n",
       "\\begin{tabular}{r|lll}\n",
       "  & receipt\\_no & receipt\\_sub\\_no & sales\\_epoch\\\\\n",
       "  & <int> & <int> & <dbl>\\\\\n",
       "\\hline\n",
       "\t1 &  112 & 1 & 2018\\\\\n",
       "\t2 & 1132 & 2 & 2018\\\\\n",
       "\t3 & 1102 & 1 & 2017\\\\\n",
       "\t4 & 1132 & 1 & 2019\\\\\n",
       "\t5 & 1102 & 2 & 2018\\\\\n",
       "\t6 & 1112 & 1 & 2019\\\\\n",
       "\t7 & 1102 & 2 & 2018\\\\\n",
       "\t8 & 1102 & 1 & 2019\\\\\n",
       "\t9 & 1112 & 2 & 2017\\\\\n",
       "\t10 & 1102 & 1 & 2019\\\\\n",
       "\\end{tabular}\n"
      ],
      "text/markdown": [
       "\n",
       "A data.frame: 10 × 3\n",
       "\n",
       "| <!--/--> | receipt_no &lt;int&gt; | receipt_sub_no &lt;int&gt; | sales_epoch &lt;dbl&gt; |\n",
       "|---|---|---|---|\n",
       "| 1 |  112 | 1 | 2018 |\n",
       "| 2 | 1132 | 2 | 2018 |\n",
       "| 3 | 1102 | 1 | 2017 |\n",
       "| 4 | 1132 | 1 | 2019 |\n",
       "| 5 | 1102 | 2 | 2018 |\n",
       "| 6 | 1112 | 1 | 2019 |\n",
       "| 7 | 1102 | 2 | 2018 |\n",
       "| 8 | 1102 | 1 | 2019 |\n",
       "| 9 | 1112 | 2 | 2017 |\n",
       "| 10 | 1102 | 1 | 2019 |\n",
       "\n"
      ],
      "text/plain": [
       "   receipt_no receipt_sub_no sales_epoch\n",
       "1   112       1              2018       \n",
       "2  1132       2              2018       \n",
       "3  1102       1              2017       \n",
       "4  1132       1              2019       \n",
       "5  1102       2              2018       \n",
       "6  1112       1              2019       \n",
       "7  1102       2              2018       \n",
       "8  1102       1              2019       \n",
       "9  1112       2              2017       \n",
       "10 1102       1              2019       "
      ]
     },
     "metadata": {},
     "output_type": "display_data"
    }
   ],
   "source": [
    "df_receipt %>% mutate(sales_epoch = year(as_date(as.POSIXct(sales_epoch)))) %>% select(receipt_no, receipt_sub_no, sales_epoch) %>% head(10)"
   ]
  },
  {
   "cell_type": "markdown",
   "metadata": {},
   "source": [
    "---\n",
    "> R-050: レシート明細データ（df_receipt）の売上エポック秒（sales_epoch）を日付型に変換し、「月」だけ取り出してレシート番号(receipt_no)、レシートサブ番号（receipt_sub_no）とともに10件表示せよ。なお、「月」は0埋め2桁で取り出すこと。"
   ]
  },
  {
   "cell_type": "code",
   "execution_count": 52,
   "metadata": {},
   "outputs": [
    {
     "data": {
      "text/html": [
       "<table class=\"dataframe\">\n",
       "<caption>A data.frame: 10 × 3</caption>\n",
       "<thead>\n",
       "\t<tr><th></th><th scope=col>receipt_no</th><th scope=col>receipt_sub_no</th><th scope=col>sales_epoch</th></tr>\n",
       "\t<tr><th></th><th scope=col>&lt;int&gt;</th><th scope=col>&lt;int&gt;</th><th scope=col>&lt;chr&gt;</th></tr>\n",
       "</thead>\n",
       "<tbody>\n",
       "\t<tr><th scope=row>1</th><td> 112</td><td>1</td><td>11</td></tr>\n",
       "\t<tr><th scope=row>2</th><td>1132</td><td>2</td><td>11</td></tr>\n",
       "\t<tr><th scope=row>3</th><td>1102</td><td>1</td><td>07</td></tr>\n",
       "\t<tr><th scope=row>4</th><td>1132</td><td>1</td><td>02</td></tr>\n",
       "\t<tr><th scope=row>5</th><td>1102</td><td>2</td><td>08</td></tr>\n",
       "\t<tr><th scope=row>6</th><td>1112</td><td>1</td><td>06</td></tr>\n",
       "\t<tr><th scope=row>7</th><td>1102</td><td>2</td><td>12</td></tr>\n",
       "\t<tr><th scope=row>8</th><td>1102</td><td>1</td><td>09</td></tr>\n",
       "\t<tr><th scope=row>9</th><td>1112</td><td>2</td><td>05</td></tr>\n",
       "\t<tr><th scope=row>10</th><td>1102</td><td>1</td><td>10</td></tr>\n",
       "</tbody>\n",
       "</table>\n"
      ],
      "text/latex": [
       "A data.frame: 10 × 3\n",
       "\\begin{tabular}{r|lll}\n",
       "  & receipt\\_no & receipt\\_sub\\_no & sales\\_epoch\\\\\n",
       "  & <int> & <int> & <chr>\\\\\n",
       "\\hline\n",
       "\t1 &  112 & 1 & 11\\\\\n",
       "\t2 & 1132 & 2 & 11\\\\\n",
       "\t3 & 1102 & 1 & 07\\\\\n",
       "\t4 & 1132 & 1 & 02\\\\\n",
       "\t5 & 1102 & 2 & 08\\\\\n",
       "\t6 & 1112 & 1 & 06\\\\\n",
       "\t7 & 1102 & 2 & 12\\\\\n",
       "\t8 & 1102 & 1 & 09\\\\\n",
       "\t9 & 1112 & 2 & 05\\\\\n",
       "\t10 & 1102 & 1 & 10\\\\\n",
       "\\end{tabular}\n"
      ],
      "text/markdown": [
       "\n",
       "A data.frame: 10 × 3\n",
       "\n",
       "| <!--/--> | receipt_no &lt;int&gt; | receipt_sub_no &lt;int&gt; | sales_epoch &lt;chr&gt; |\n",
       "|---|---|---|---|\n",
       "| 1 |  112 | 1 | 11 |\n",
       "| 2 | 1132 | 2 | 11 |\n",
       "| 3 | 1102 | 1 | 07 |\n",
       "| 4 | 1132 | 1 | 02 |\n",
       "| 5 | 1102 | 2 | 08 |\n",
       "| 6 | 1112 | 1 | 06 |\n",
       "| 7 | 1102 | 2 | 12 |\n",
       "| 8 | 1102 | 1 | 09 |\n",
       "| 9 | 1112 | 2 | 05 |\n",
       "| 10 | 1102 | 1 | 10 |\n",
       "\n"
      ],
      "text/plain": [
       "   receipt_no receipt_sub_no sales_epoch\n",
       "1   112       1              11         \n",
       "2  1132       2              11         \n",
       "3  1102       1              07         \n",
       "4  1132       1              02         \n",
       "5  1102       2              08         \n",
       "6  1112       1              06         \n",
       "7  1102       2              12         \n",
       "8  1102       1              09         \n",
       "9  1112       2              05         \n",
       "10 1102       1              10         "
      ]
     },
     "metadata": {},
     "output_type": "display_data"
    }
   ],
   "source": [
    "df_receipt %>% mutate(sales_epoch = format.Date(as_date(as.POSIXct(sales_epoch)), \"%m\")) %>% select(receipt_no, receipt_sub_no, sales_epoch) %>% head(10)"
   ]
  },
  {
   "cell_type": "markdown",
   "metadata": {},
   "source": [
    "---\n",
    "> R-051: レシート明細データ（df_receipt）の売上エポック秒を日付型に変換し、「日」だけ取り出してレシート番号(receipt_no)、レシートサブ番号（receipt_sub_no）とともに10件表示せよ。なお、「日」は0埋め2桁で取り出すこと。"
   ]
  },
  {
   "cell_type": "code",
   "execution_count": 53,
   "metadata": {},
   "outputs": [
    {
     "data": {
      "text/html": [
       "<table class=\"dataframe\">\n",
       "<caption>A data.frame: 10 × 3</caption>\n",
       "<thead>\n",
       "\t<tr><th></th><th scope=col>receipt_no</th><th scope=col>receipt_sub_no</th><th scope=col>sales_epoch</th></tr>\n",
       "\t<tr><th></th><th scope=col>&lt;int&gt;</th><th scope=col>&lt;int&gt;</th><th scope=col>&lt;chr&gt;</th></tr>\n",
       "</thead>\n",
       "<tbody>\n",
       "\t<tr><th scope=row>1</th><td> 112</td><td>1</td><td>03</td></tr>\n",
       "\t<tr><th scope=row>2</th><td>1132</td><td>2</td><td>18</td></tr>\n",
       "\t<tr><th scope=row>3</th><td>1102</td><td>1</td><td>12</td></tr>\n",
       "\t<tr><th scope=row>4</th><td>1132</td><td>1</td><td>05</td></tr>\n",
       "\t<tr><th scope=row>5</th><td>1102</td><td>2</td><td>21</td></tr>\n",
       "\t<tr><th scope=row>6</th><td>1112</td><td>1</td><td>05</td></tr>\n",
       "\t<tr><th scope=row>7</th><td>1102</td><td>2</td><td>05</td></tr>\n",
       "\t<tr><th scope=row>8</th><td>1102</td><td>1</td><td>22</td></tr>\n",
       "\t<tr><th scope=row>9</th><td>1112</td><td>2</td><td>04</td></tr>\n",
       "\t<tr><th scope=row>10</th><td>1102</td><td>1</td><td>10</td></tr>\n",
       "</tbody>\n",
       "</table>\n"
      ],
      "text/latex": [
       "A data.frame: 10 × 3\n",
       "\\begin{tabular}{r|lll}\n",
       "  & receipt\\_no & receipt\\_sub\\_no & sales\\_epoch\\\\\n",
       "  & <int> & <int> & <chr>\\\\\n",
       "\\hline\n",
       "\t1 &  112 & 1 & 03\\\\\n",
       "\t2 & 1132 & 2 & 18\\\\\n",
       "\t3 & 1102 & 1 & 12\\\\\n",
       "\t4 & 1132 & 1 & 05\\\\\n",
       "\t5 & 1102 & 2 & 21\\\\\n",
       "\t6 & 1112 & 1 & 05\\\\\n",
       "\t7 & 1102 & 2 & 05\\\\\n",
       "\t8 & 1102 & 1 & 22\\\\\n",
       "\t9 & 1112 & 2 & 04\\\\\n",
       "\t10 & 1102 & 1 & 10\\\\\n",
       "\\end{tabular}\n"
      ],
      "text/markdown": [
       "\n",
       "A data.frame: 10 × 3\n",
       "\n",
       "| <!--/--> | receipt_no &lt;int&gt; | receipt_sub_no &lt;int&gt; | sales_epoch &lt;chr&gt; |\n",
       "|---|---|---|---|\n",
       "| 1 |  112 | 1 | 03 |\n",
       "| 2 | 1132 | 2 | 18 |\n",
       "| 3 | 1102 | 1 | 12 |\n",
       "| 4 | 1132 | 1 | 05 |\n",
       "| 5 | 1102 | 2 | 21 |\n",
       "| 6 | 1112 | 1 | 05 |\n",
       "| 7 | 1102 | 2 | 05 |\n",
       "| 8 | 1102 | 1 | 22 |\n",
       "| 9 | 1112 | 2 | 04 |\n",
       "| 10 | 1102 | 1 | 10 |\n",
       "\n"
      ],
      "text/plain": [
       "   receipt_no receipt_sub_no sales_epoch\n",
       "1   112       1              03         \n",
       "2  1132       2              18         \n",
       "3  1102       1              12         \n",
       "4  1132       1              05         \n",
       "5  1102       2              21         \n",
       "6  1112       1              05         \n",
       "7  1102       2              05         \n",
       "8  1102       1              22         \n",
       "9  1112       2              04         \n",
       "10 1102       1              10         "
      ]
     },
     "metadata": {},
     "output_type": "display_data"
    }
   ],
   "source": [
    "df_receipt %>% mutate(sales_epoch = format.Date(as_date(as.POSIXct(sales_epoch)), \"%d\")) %>% select(receipt_no, receipt_sub_no, sales_epoch) %>% head(10)"
   ]
  },
  {
   "cell_type": "markdown",
   "metadata": {},
   "source": [
    "---\n",
    "> R-052: レシート明細データ（df_receipt）の売上金額（amount）を顧客ID（customer_id）ごとに合計の上、売上金額合計に対して2,000円以下を0、2,000円より大きい金額を1に二値化し、顧客ID、売上金額合計とともに10件表示せよ。ただし、顧客IDが\"Z\"から始まるのものは非会員を表すため、除外して計算すること。"
   ]
  },
  {
   "cell_type": "code",
   "execution_count": 54,
   "metadata": {},
   "outputs": [
    {
     "data": {
      "text/html": [
       "<table class=\"dataframe\">\n",
       "<caption>A tibble: 10 × 3</caption>\n",
       "<thead>\n",
       "\t<tr><th scope=col>customer_id</th><th scope=col>Sum</th><th scope=col>over2000</th></tr>\n",
       "\t<tr><th scope=col>&lt;chr&gt;</th><th scope=col>&lt;int&gt;</th><th scope=col>&lt;dbl&gt;</th></tr>\n",
       "</thead>\n",
       "<tbody>\n",
       "\t<tr><td>CS001113000004</td><td>1298</td><td>0</td></tr>\n",
       "\t<tr><td>CS001114000005</td><td> 626</td><td>0</td></tr>\n",
       "\t<tr><td>CS001115000010</td><td>3044</td><td>1</td></tr>\n",
       "\t<tr><td>CS001205000004</td><td>1988</td><td>0</td></tr>\n",
       "\t<tr><td>CS001205000006</td><td>3337</td><td>1</td></tr>\n",
       "\t<tr><td>CS001211000025</td><td> 456</td><td>0</td></tr>\n",
       "\t<tr><td>CS001212000027</td><td> 448</td><td>0</td></tr>\n",
       "\t<tr><td>CS001212000031</td><td> 296</td><td>0</td></tr>\n",
       "\t<tr><td>CS001212000046</td><td> 228</td><td>0</td></tr>\n",
       "\t<tr><td>CS001212000070</td><td> 456</td><td>0</td></tr>\n",
       "</tbody>\n",
       "</table>\n"
      ],
      "text/latex": [
       "A tibble: 10 × 3\n",
       "\\begin{tabular}{lll}\n",
       " customer\\_id & Sum & over2000\\\\\n",
       " <chr> & <int> & <dbl>\\\\\n",
       "\\hline\n",
       "\t CS001113000004 & 1298 & 0\\\\\n",
       "\t CS001114000005 &  626 & 0\\\\\n",
       "\t CS001115000010 & 3044 & 1\\\\\n",
       "\t CS001205000004 & 1988 & 0\\\\\n",
       "\t CS001205000006 & 3337 & 1\\\\\n",
       "\t CS001211000025 &  456 & 0\\\\\n",
       "\t CS001212000027 &  448 & 0\\\\\n",
       "\t CS001212000031 &  296 & 0\\\\\n",
       "\t CS001212000046 &  228 & 0\\\\\n",
       "\t CS001212000070 &  456 & 0\\\\\n",
       "\\end{tabular}\n"
      ],
      "text/markdown": [
       "\n",
       "A tibble: 10 × 3\n",
       "\n",
       "| customer_id &lt;chr&gt; | Sum &lt;int&gt; | over2000 &lt;dbl&gt; |\n",
       "|---|---|---|\n",
       "| CS001113000004 | 1298 | 0 |\n",
       "| CS001114000005 |  626 | 0 |\n",
       "| CS001115000010 | 3044 | 1 |\n",
       "| CS001205000004 | 1988 | 0 |\n",
       "| CS001205000006 | 3337 | 1 |\n",
       "| CS001211000025 |  456 | 0 |\n",
       "| CS001212000027 |  448 | 0 |\n",
       "| CS001212000031 |  296 | 0 |\n",
       "| CS001212000046 |  228 | 0 |\n",
       "| CS001212000070 |  456 | 0 |\n",
       "\n"
      ],
      "text/plain": [
       "   customer_id    Sum  over2000\n",
       "1  CS001113000004 1298 0       \n",
       "2  CS001114000005  626 0       \n",
       "3  CS001115000010 3044 1       \n",
       "4  CS001205000004 1988 0       \n",
       "5  CS001205000006 3337 1       \n",
       "6  CS001211000025  456 0       \n",
       "7  CS001212000027  448 0       \n",
       "8  CS001212000031  296 0       \n",
       "9  CS001212000046  228 0       \n",
       "10 CS001212000070  456 0       "
      ]
     },
     "metadata": {},
     "output_type": "display_data"
    }
   ],
   "source": [
    "df_receipt %>%\n",
    "    filter(!str_detect(customer_id, \"^Z\")) %>%\n",
    "    group_by(customer_id) %>%\n",
    "    summarize(Sum = sum(amount)) %>%\n",
    "    mutate(over2000 = case_when(\n",
    "        Sum <= 2000 ~ 0,\n",
    "        TRUE ~ 1)\n",
    "           ) %>%\n",
    "    select(customer_id, Sum, over2000) %>%\n",
    "    head(10)"
   ]
  },
  {
   "cell_type": "markdown",
   "metadata": {},
   "source": [
    "---\n",
    "> R-053: 顧客データ（df_customer）の郵便番号（postal_cd）に対し、東京（先頭3桁が100〜209のもの）を1、それ以外のものを0に二値化せよ。さらにレシート明細データ（df_receipt）と結合し、全期間において売上実績のある顧客数を、作成した二値ごとにカウントせよ。"
   ]
  },
  {
   "cell_type": "code",
   "execution_count": 55,
   "metadata": {},
   "outputs": [
    {
     "data": {
      "text/html": [
       "<table class=\"dataframe\">\n",
       "<caption>A grouped_df: 2 × 2</caption>\n",
       "<thead>\n",
       "\t<tr><th scope=col>is_Tokyo</th><th scope=col>n</th></tr>\n",
       "\t<tr><th scope=col>&lt;dbl&gt;</th><th scope=col>&lt;int&gt;</th></tr>\n",
       "</thead>\n",
       "<tbody>\n",
       "\t<tr><td>0</td><td>3906</td></tr>\n",
       "\t<tr><td>1</td><td>4400</td></tr>\n",
       "</tbody>\n",
       "</table>\n"
      ],
      "text/latex": [
       "A grouped\\_df: 2 × 2\n",
       "\\begin{tabular}{ll}\n",
       " is\\_Tokyo & n\\\\\n",
       " <dbl> & <int>\\\\\n",
       "\\hline\n",
       "\t 0 & 3906\\\\\n",
       "\t 1 & 4400\\\\\n",
       "\\end{tabular}\n"
      ],
      "text/markdown": [
       "\n",
       "A grouped_df: 2 × 2\n",
       "\n",
       "| is_Tokyo &lt;dbl&gt; | n &lt;int&gt; |\n",
       "|---|---|\n",
       "| 0 | 3906 |\n",
       "| 1 | 4400 |\n",
       "\n"
      ],
      "text/plain": [
       "  is_Tokyo n   \n",
       "1 0        3906\n",
       "2 1        4400"
      ]
     },
     "metadata": {},
     "output_type": "display_data"
    }
   ],
   "source": [
    "df_customer %>%\n",
    "    mutate(is_Tokyo = case_when(\n",
    "        str_detect(postal_cd, \"^1|^20[0-9]\") ~ 1,\n",
    "        TRUE ~ 0)\n",
    "           ) %>%\n",
    "    inner_join(df_receipt, by=\"customer_id\") %>%\n",
    "    group_by(is_Tokyo) %>%\n",
    "    distinct(customer_id) %>%\n",
    "    count()"
   ]
  },
  {
   "cell_type": "markdown",
   "metadata": {},
   "source": [
    "---\n",
    "> R-054:  顧客データ（df_customer）の住所（address）は、埼玉県、千葉県、東京都、神奈川県のいずれかとなっている。都道府県毎にコード値を作成し、顧客ID、住所とともに10件表示せよ。値は埼玉県を11、千葉県を12、東京都を13、神奈川県を14とすること。"
   ]
  },
  {
   "cell_type": "code",
   "execution_count": 56,
   "metadata": {},
   "outputs": [
    {
     "data": {
      "text/html": [
       "<table class=\"dataframe\">\n",
       "<caption>A data.frame: 10 × 3</caption>\n",
       "<thead>\n",
       "\t<tr><th></th><th scope=col>customer_id</th><th scope=col>address</th><th scope=col>pref</th></tr>\n",
       "\t<tr><th></th><th scope=col>&lt;chr&gt;</th><th scope=col>&lt;chr&gt;</th><th scope=col>&lt;dbl&gt;</th></tr>\n",
       "</thead>\n",
       "<tbody>\n",
       "\t<tr><th scope=row>1</th><td>CS021313000114</td><td>神奈川県伊勢原市粟窪**********    </td><td>14</td></tr>\n",
       "\t<tr><th scope=row>2</th><td>CS037613000071</td><td>東京都江東区南砂**********        </td><td>13</td></tr>\n",
       "\t<tr><th scope=row>3</th><td>CS031415000172</td><td>東京都渋谷区代々木**********      </td><td>13</td></tr>\n",
       "\t<tr><th scope=row>4</th><td>CS028811000001</td><td>神奈川県横浜市泉区和泉町**********</td><td>14</td></tr>\n",
       "\t<tr><th scope=row>5</th><td>CS001215000145</td><td>東京都大田区仲六郷**********      </td><td>13</td></tr>\n",
       "\t<tr><th scope=row>6</th><td>CS020401000016</td><td>東京都板橋区若木**********        </td><td>13</td></tr>\n",
       "\t<tr><th scope=row>7</th><td>CS015414000103</td><td>東京都江東区北砂**********        </td><td>13</td></tr>\n",
       "\t<tr><th scope=row>8</th><td>CS029403000008</td><td>千葉県浦安市海楽**********        </td><td>12</td></tr>\n",
       "\t<tr><th scope=row>9</th><td>CS015804000004</td><td>東京都江東区北砂**********        </td><td>13</td></tr>\n",
       "\t<tr><th scope=row>10</th><td>CS033513000180</td><td>神奈川県横浜市旭区善部町**********</td><td>14</td></tr>\n",
       "</tbody>\n",
       "</table>\n"
      ],
      "text/latex": [
       "A data.frame: 10 × 3\n",
       "\\begin{tabular}{r|lll}\n",
       "  & customer\\_id & address & pref\\\\\n",
       "  & <chr> & <chr> & <dbl>\\\\\n",
       "\\hline\n",
       "\t1 & CS021313000114 & 神奈川県伊勢原市粟窪**********     & 14\\\\\n",
       "\t2 & CS037613000071 & 東京都江東区南砂**********         & 13\\\\\n",
       "\t3 & CS031415000172 & 東京都渋谷区代々木**********       & 13\\\\\n",
       "\t4 & CS028811000001 & 神奈川県横浜市泉区和泉町********** & 14\\\\\n",
       "\t5 & CS001215000145 & 東京都大田区仲六郷**********       & 13\\\\\n",
       "\t6 & CS020401000016 & 東京都板橋区若木**********         & 13\\\\\n",
       "\t7 & CS015414000103 & 東京都江東区北砂**********         & 13\\\\\n",
       "\t8 & CS029403000008 & 千葉県浦安市海楽**********         & 12\\\\\n",
       "\t9 & CS015804000004 & 東京都江東区北砂**********         & 13\\\\\n",
       "\t10 & CS033513000180 & 神奈川県横浜市旭区善部町********** & 14\\\\\n",
       "\\end{tabular}\n"
      ],
      "text/markdown": [
       "\n",
       "A data.frame: 10 × 3\n",
       "\n",
       "| <!--/--> | customer_id &lt;chr&gt; | address &lt;chr&gt; | pref &lt;dbl&gt; |\n",
       "|---|---|---|---|\n",
       "| 1 | CS021313000114 | 神奈川県伊勢原市粟窪**********     | 14 |\n",
       "| 2 | CS037613000071 | 東京都江東区南砂**********         | 13 |\n",
       "| 3 | CS031415000172 | 東京都渋谷区代々木**********       | 13 |\n",
       "| 4 | CS028811000001 | 神奈川県横浜市泉区和泉町********** | 14 |\n",
       "| 5 | CS001215000145 | 東京都大田区仲六郷**********       | 13 |\n",
       "| 6 | CS020401000016 | 東京都板橋区若木**********         | 13 |\n",
       "| 7 | CS015414000103 | 東京都江東区北砂**********         | 13 |\n",
       "| 8 | CS029403000008 | 千葉県浦安市海楽**********         | 12 |\n",
       "| 9 | CS015804000004 | 東京都江東区北砂**********         | 13 |\n",
       "| 10 | CS033513000180 | 神奈川県横浜市旭区善部町********** | 14 |\n",
       "\n"
      ],
      "text/plain": [
       "   customer_id    address                            pref\n",
       "1  CS021313000114 神奈川県伊勢原市粟窪**********     14  \n",
       "2  CS037613000071 東京都江東区南砂**********         13  \n",
       "3  CS031415000172 東京都渋谷区代々木**********       13  \n",
       "4  CS028811000001 神奈川県横浜市泉区和泉町********** 14  \n",
       "5  CS001215000145 東京都大田区仲六郷**********       13  \n",
       "6  CS020401000016 東京都板橋区若木**********         13  \n",
       "7  CS015414000103 東京都江東区北砂**********         13  \n",
       "8  CS029403000008 千葉県浦安市海楽**********         12  \n",
       "9  CS015804000004 東京都江東区北砂**********         13  \n",
       "10 CS033513000180 神奈川県横浜市旭区善部町********** 14  "
      ]
     },
     "metadata": {},
     "output_type": "display_data"
    }
   ],
   "source": [
    "df_customer %>%\n",
    "    mutate(pref = case_when(\n",
    "        str_detect(address, \"埼玉県\") ~ 11,\n",
    "        str_detect(address, \"千葉県\") ~ 12,\n",
    "        str_detect(address, \"東京都\") ~ 13,\n",
    "        str_detect(address, \"神奈川県\") ~ 14)\n",
    "           ) %>%\n",
    "    select(customer_id, address, pref) %>%\n",
    "    head(10)"
   ]
  },
  {
   "cell_type": "markdown",
   "metadata": {},
   "source": [
    "---\n",
    "> R-055: レシート明細（df_receipt）データの売上金額（amount）を顧客ID（customer_id）ごとに合計し、その合計金額の四分位点を求めよ。その上で、顧客ごとの売上金額合計に対して以下の基準でカテゴリ値を作成し、顧客ID、売上金額合計とともに10件表示せよ。カテゴリ値は順に1〜4とする。\n",
    ">\n",
    "> - 最小値以上第1四分位未満 ・・・ 1を付与\n",
    "> - 第1四分位以上第2四分位未満 ・・・ 2を付与\n",
    "> - 第2四分位以上第3四分位未満 ・・・ 3を付与\n",
    "> - 第3四分位以上 ・・・ 4を付与"
   ]
  },
  {
   "cell_type": "code",
   "execution_count": 57,
   "metadata": {},
   "outputs": [
    {
     "name": "stderr",
     "output_type": "stream",
     "text": [
      "Warning message:\n",
      "“\u001b[1m\u001b[22mReturning more (or less) than 1 row per `summarise()` group was deprecated in\n",
      "dplyr 1.1.0.\n",
      "\u001b[36mℹ\u001b[39m Please use `reframe()` instead.\n",
      "\u001b[36mℹ\u001b[39m When switching from `summarise()` to `reframe()`, remember that `reframe()`\n",
      "  always returns an ungrouped data frame and adjust accordingly.”\n"
     ]
    },
    {
     "data": {
      "text/html": [
       "<style>\n",
       ".dl-inline {width: auto; margin:0; padding: 0}\n",
       ".dl-inline>dt, .dl-inline>dd {float: none; width: auto; display: inline-block}\n",
       ".dl-inline>dt::after {content: \":\\0020\"; padding-right: .5ex}\n",
       ".dl-inline>dt:not(:first-of-type) {padding-left: .5ex}\n",
       "</style><dl class=dl-inline><dt>0%</dt><dd>70</dd><dt>25%</dt><dd>548.5</dd><dt>50%</dt><dd>1478</dd><dt>75%</dt><dd>3651</dd><dt>100%</dt><dd>12395003</dd></dl>\n"
      ],
      "text/latex": [
       "\\begin{description*}\n",
       "\\item[0\\textbackslash{}\\%] 70\n",
       "\\item[25\\textbackslash{}\\%] 548.5\n",
       "\\item[50\\textbackslash{}\\%] 1478\n",
       "\\item[75\\textbackslash{}\\%] 3651\n",
       "\\item[100\\textbackslash{}\\%] 12395003\n",
       "\\end{description*}\n"
      ],
      "text/markdown": [
       "0%\n",
       ":   7025%\n",
       ":   548.550%\n",
       ":   147875%\n",
       ":   3651100%\n",
       ":   12395003\n",
       "\n"
      ],
      "text/plain": [
       "        0%        25%        50%        75%       100% \n",
       "      70.0      548.5     1478.0     3651.0 12395003.0 "
      ]
     },
     "metadata": {},
     "output_type": "display_data"
    },
    {
     "data": {
      "text/html": [
       "<table class=\"dataframe\">\n",
       "<caption>A tibble: 10 × 3</caption>\n",
       "<thead>\n",
       "\t<tr><th scope=col>customer_id</th><th scope=col>Sum</th><th scope=col>Category</th></tr>\n",
       "\t<tr><th scope=col>&lt;chr&gt;</th><th scope=col>&lt;int&gt;</th><th scope=col>&lt;dbl&gt;</th></tr>\n",
       "</thead>\n",
       "<tbody>\n",
       "\t<tr><td>CS001113000004</td><td>1298</td><td>2</td></tr>\n",
       "\t<tr><td>CS001114000005</td><td> 626</td><td>2</td></tr>\n",
       "\t<tr><td>CS001115000010</td><td>3044</td><td>3</td></tr>\n",
       "\t<tr><td>CS001205000004</td><td>1988</td><td>3</td></tr>\n",
       "\t<tr><td>CS001205000006</td><td>3337</td><td>3</td></tr>\n",
       "\t<tr><td>CS001211000025</td><td> 456</td><td>1</td></tr>\n",
       "\t<tr><td>CS001212000027</td><td> 448</td><td>1</td></tr>\n",
       "\t<tr><td>CS001212000031</td><td> 296</td><td>1</td></tr>\n",
       "\t<tr><td>CS001212000046</td><td> 228</td><td>1</td></tr>\n",
       "\t<tr><td>CS001212000070</td><td> 456</td><td>1</td></tr>\n",
       "</tbody>\n",
       "</table>\n"
      ],
      "text/latex": [
       "A tibble: 10 × 3\n",
       "\\begin{tabular}{lll}\n",
       " customer\\_id & Sum & Category\\\\\n",
       " <chr> & <int> & <dbl>\\\\\n",
       "\\hline\n",
       "\t CS001113000004 & 1298 & 2\\\\\n",
       "\t CS001114000005 &  626 & 2\\\\\n",
       "\t CS001115000010 & 3044 & 3\\\\\n",
       "\t CS001205000004 & 1988 & 3\\\\\n",
       "\t CS001205000006 & 3337 & 3\\\\\n",
       "\t CS001211000025 &  456 & 1\\\\\n",
       "\t CS001212000027 &  448 & 1\\\\\n",
       "\t CS001212000031 &  296 & 1\\\\\n",
       "\t CS001212000046 &  228 & 1\\\\\n",
       "\t CS001212000070 &  456 & 1\\\\\n",
       "\\end{tabular}\n"
      ],
      "text/markdown": [
       "\n",
       "A tibble: 10 × 3\n",
       "\n",
       "| customer_id &lt;chr&gt; | Sum &lt;int&gt; | Category &lt;dbl&gt; |\n",
       "|---|---|---|\n",
       "| CS001113000004 | 1298 | 2 |\n",
       "| CS001114000005 |  626 | 2 |\n",
       "| CS001115000010 | 3044 | 3 |\n",
       "| CS001205000004 | 1988 | 3 |\n",
       "| CS001205000006 | 3337 | 3 |\n",
       "| CS001211000025 |  456 | 1 |\n",
       "| CS001212000027 |  448 | 1 |\n",
       "| CS001212000031 |  296 | 1 |\n",
       "| CS001212000046 |  228 | 1 |\n",
       "| CS001212000070 |  456 | 1 |\n",
       "\n"
      ],
      "text/plain": [
       "   customer_id    Sum  Category\n",
       "1  CS001113000004 1298 2       \n",
       "2  CS001114000005  626 2       \n",
       "3  CS001115000010 3044 3       \n",
       "4  CS001205000004 1988 3       \n",
       "5  CS001205000006 3337 3       \n",
       "6  CS001211000025  456 1       \n",
       "7  CS001212000027  448 1       \n",
       "8  CS001212000031  296 1       \n",
       "9  CS001212000046  228 1       \n",
       "10 CS001212000070  456 1       "
      ]
     },
     "metadata": {},
     "output_type": "display_data"
    }
   ],
   "source": [
    "quantiles <- df_receipt %>%\n",
    "    group_by(customer_id) %>%\n",
    "    summarize(Sum = sum(amount)) %>%\n",
    "    summarize(quantiles = quantile(Sum)) %>%\n",
    "    pull()\n",
    "quantiles\n",
    "df_receipt %>%\n",
    "    group_by(customer_id) %>%\n",
    "    summarize(Sum = sum(amount)) %>%\n",
    "    mutate(Category = case_when(\n",
    "        quantiles[\"0%\"] <= Sum & Sum < quantiles[\"25%\"] ~ 1,\n",
    "        quantiles[\"25%\"] <= Sum & Sum < quantiles[\"50%\"] ~ 2,\n",
    "        quantiles[\"50%\"] <= Sum & Sum < quantiles[\"75%\"] ~ 3,\n",
    "        TRUE ~ 4)\n",
    "        ) %>%\n",
    "    select(customer_id, Sum, Category) %>%\n",
    "    head(10)"
   ]
  },
  {
   "cell_type": "markdown",
   "metadata": {},
   "source": [
    "---\n",
    "> R-056: 顧客データ（df_customer）の年齢（age）をもとに10歳刻みで年代を算出し、顧客ID（customer_id）、生年月日（birth_day）とともに10件表示せよ。ただし、60歳以上は全て60歳代とすること。年代を表すカテゴリ名は任意とする。"
   ]
  },
  {
   "cell_type": "code",
   "execution_count": 58,
   "metadata": {},
   "outputs": [
    {
     "data": {
      "text/html": [
       "<table class=\"dataframe\">\n",
       "<caption>A data.frame: 10 × 3</caption>\n",
       "<thead>\n",
       "\t<tr><th></th><th scope=col>customer_id</th><th scope=col>birth_day</th><th scope=col>agec</th></tr>\n",
       "\t<tr><th></th><th scope=col>&lt;chr&gt;</th><th scope=col>&lt;date&gt;</th><th scope=col>&lt;chr&gt;</th></tr>\n",
       "</thead>\n",
       "<tbody>\n",
       "\t<tr><th scope=row>1</th><td>CS021313000114</td><td>1981-04-29</td><td>30-39</td></tr>\n",
       "\t<tr><th scope=row>2</th><td>CS037613000071</td><td>1952-04-01</td><td>60-  </td></tr>\n",
       "\t<tr><th scope=row>3</th><td>CS031415000172</td><td>1976-10-04</td><td>40-49</td></tr>\n",
       "\t<tr><th scope=row>4</th><td>CS028811000001</td><td>1933-03-27</td><td>60-  </td></tr>\n",
       "\t<tr><th scope=row>5</th><td>CS001215000145</td><td>1995-03-29</td><td>20-29</td></tr>\n",
       "\t<tr><th scope=row>6</th><td>CS020401000016</td><td>1974-09-15</td><td>40-49</td></tr>\n",
       "\t<tr><th scope=row>7</th><td>CS015414000103</td><td>1977-08-09</td><td>40-49</td></tr>\n",
       "\t<tr><th scope=row>8</th><td>CS029403000008</td><td>1973-08-17</td><td>40-49</td></tr>\n",
       "\t<tr><th scope=row>9</th><td>CS015804000004</td><td>1931-05-02</td><td>60-  </td></tr>\n",
       "\t<tr><th scope=row>10</th><td>CS033513000180</td><td>1962-07-11</td><td>50-59</td></tr>\n",
       "</tbody>\n",
       "</table>\n"
      ],
      "text/latex": [
       "A data.frame: 10 × 3\n",
       "\\begin{tabular}{r|lll}\n",
       "  & customer\\_id & birth\\_day & agec\\\\\n",
       "  & <chr> & <date> & <chr>\\\\\n",
       "\\hline\n",
       "\t1 & CS021313000114 & 1981-04-29 & 30-39\\\\\n",
       "\t2 & CS037613000071 & 1952-04-01 & 60-  \\\\\n",
       "\t3 & CS031415000172 & 1976-10-04 & 40-49\\\\\n",
       "\t4 & CS028811000001 & 1933-03-27 & 60-  \\\\\n",
       "\t5 & CS001215000145 & 1995-03-29 & 20-29\\\\\n",
       "\t6 & CS020401000016 & 1974-09-15 & 40-49\\\\\n",
       "\t7 & CS015414000103 & 1977-08-09 & 40-49\\\\\n",
       "\t8 & CS029403000008 & 1973-08-17 & 40-49\\\\\n",
       "\t9 & CS015804000004 & 1931-05-02 & 60-  \\\\\n",
       "\t10 & CS033513000180 & 1962-07-11 & 50-59\\\\\n",
       "\\end{tabular}\n"
      ],
      "text/markdown": [
       "\n",
       "A data.frame: 10 × 3\n",
       "\n",
       "| <!--/--> | customer_id &lt;chr&gt; | birth_day &lt;date&gt; | agec &lt;chr&gt; |\n",
       "|---|---|---|---|\n",
       "| 1 | CS021313000114 | 1981-04-29 | 30-39 |\n",
       "| 2 | CS037613000071 | 1952-04-01 | 60-   |\n",
       "| 3 | CS031415000172 | 1976-10-04 | 40-49 |\n",
       "| 4 | CS028811000001 | 1933-03-27 | 60-   |\n",
       "| 5 | CS001215000145 | 1995-03-29 | 20-29 |\n",
       "| 6 | CS020401000016 | 1974-09-15 | 40-49 |\n",
       "| 7 | CS015414000103 | 1977-08-09 | 40-49 |\n",
       "| 8 | CS029403000008 | 1973-08-17 | 40-49 |\n",
       "| 9 | CS015804000004 | 1931-05-02 | 60-   |\n",
       "| 10 | CS033513000180 | 1962-07-11 | 50-59 |\n",
       "\n"
      ],
      "text/plain": [
       "   customer_id    birth_day  agec \n",
       "1  CS021313000114 1981-04-29 30-39\n",
       "2  CS037613000071 1952-04-01 60-  \n",
       "3  CS031415000172 1976-10-04 40-49\n",
       "4  CS028811000001 1933-03-27 60-  \n",
       "5  CS001215000145 1995-03-29 20-29\n",
       "6  CS020401000016 1974-09-15 40-49\n",
       "7  CS015414000103 1977-08-09 40-49\n",
       "8  CS029403000008 1973-08-17 40-49\n",
       "9  CS015804000004 1931-05-02 60-  \n",
       "10 CS033513000180 1962-07-11 50-59"
      ]
     },
     "metadata": {},
     "output_type": "display_data"
    }
   ],
   "source": [
    "df_customer %>%\n",
    "    mutate(agec = case_when(\n",
    "            10 <= age & age < 20 ~ \"10-19\",\n",
    "            20 <= age & age < 30 ~ \"20-29\",\n",
    "            30 <= age & age < 40 ~ \"30-39\",\n",
    "            40 <= age & age < 50 ~ \"40-49\",\n",
    "            50 <= age & age < 60 ~ \"50-59\",\n",
    "            60 <= age ~ \"60-\")\n",
    "           ) %>%\n",
    "    select(customer_id, birth_day, agec) %>%\n",
    "    head(10)"
   ]
  },
  {
   "cell_type": "markdown",
   "metadata": {},
   "source": [
    "---\n",
    "> R-057: 056の抽出結果と性別コード（gender_cd）により、新たに性別×年代の組み合わせを表すカテゴリデータを作成し、10件表示せよ。組み合わせを表すカテゴリの値は任意とする。"
   ]
  },
  {
   "cell_type": "code",
   "execution_count": 59,
   "metadata": {},
   "outputs": [
    {
     "data": {
      "text/html": [
       "<table class=\"dataframe\">\n",
       "<caption>A data.frame: 10 × 4</caption>\n",
       "<thead>\n",
       "\t<tr><th></th><th scope=col>customer_id</th><th scope=col>birth_day</th><th scope=col>agec</th><th scope=col>gender_agec</th></tr>\n",
       "\t<tr><th></th><th scope=col>&lt;chr&gt;</th><th scope=col>&lt;date&gt;</th><th scope=col>&lt;chr&gt;</th><th scope=col>&lt;chr&gt;</th></tr>\n",
       "</thead>\n",
       "<tbody>\n",
       "\t<tr><th scope=row>1</th><td>CS021313000114</td><td>1981-04-29</td><td>30-39</td><td>30-39f</td></tr>\n",
       "\t<tr><th scope=row>2</th><td>CS037613000071</td><td>1952-04-01</td><td>60-  </td><td>60-na </td></tr>\n",
       "\t<tr><th scope=row>3</th><td>CS031415000172</td><td>1976-10-04</td><td>40-49</td><td>40-49f</td></tr>\n",
       "\t<tr><th scope=row>4</th><td>CS028811000001</td><td>1933-03-27</td><td>60-  </td><td>60-f  </td></tr>\n",
       "\t<tr><th scope=row>5</th><td>CS001215000145</td><td>1995-03-29</td><td>20-29</td><td>20-29f</td></tr>\n",
       "\t<tr><th scope=row>6</th><td>CS020401000016</td><td>1974-09-15</td><td>40-49</td><td>40-49m</td></tr>\n",
       "\t<tr><th scope=row>7</th><td>CS015414000103</td><td>1977-08-09</td><td>40-49</td><td>40-49f</td></tr>\n",
       "\t<tr><th scope=row>8</th><td>CS029403000008</td><td>1973-08-17</td><td>40-49</td><td>40-49m</td></tr>\n",
       "\t<tr><th scope=row>9</th><td>CS015804000004</td><td>1931-05-02</td><td>60-  </td><td>60-m  </td></tr>\n",
       "\t<tr><th scope=row>10</th><td>CS033513000180</td><td>1962-07-11</td><td>50-59</td><td>50-59f</td></tr>\n",
       "</tbody>\n",
       "</table>\n"
      ],
      "text/latex": [
       "A data.frame: 10 × 4\n",
       "\\begin{tabular}{r|llll}\n",
       "  & customer\\_id & birth\\_day & agec & gender\\_agec\\\\\n",
       "  & <chr> & <date> & <chr> & <chr>\\\\\n",
       "\\hline\n",
       "\t1 & CS021313000114 & 1981-04-29 & 30-39 & 30-39f\\\\\n",
       "\t2 & CS037613000071 & 1952-04-01 & 60-   & 60-na \\\\\n",
       "\t3 & CS031415000172 & 1976-10-04 & 40-49 & 40-49f\\\\\n",
       "\t4 & CS028811000001 & 1933-03-27 & 60-   & 60-f  \\\\\n",
       "\t5 & CS001215000145 & 1995-03-29 & 20-29 & 20-29f\\\\\n",
       "\t6 & CS020401000016 & 1974-09-15 & 40-49 & 40-49m\\\\\n",
       "\t7 & CS015414000103 & 1977-08-09 & 40-49 & 40-49f\\\\\n",
       "\t8 & CS029403000008 & 1973-08-17 & 40-49 & 40-49m\\\\\n",
       "\t9 & CS015804000004 & 1931-05-02 & 60-   & 60-m  \\\\\n",
       "\t10 & CS033513000180 & 1962-07-11 & 50-59 & 50-59f\\\\\n",
       "\\end{tabular}\n"
      ],
      "text/markdown": [
       "\n",
       "A data.frame: 10 × 4\n",
       "\n",
       "| <!--/--> | customer_id &lt;chr&gt; | birth_day &lt;date&gt; | agec &lt;chr&gt; | gender_agec &lt;chr&gt; |\n",
       "|---|---|---|---|---|\n",
       "| 1 | CS021313000114 | 1981-04-29 | 30-39 | 30-39f |\n",
       "| 2 | CS037613000071 | 1952-04-01 | 60-   | 60-na  |\n",
       "| 3 | CS031415000172 | 1976-10-04 | 40-49 | 40-49f |\n",
       "| 4 | CS028811000001 | 1933-03-27 | 60-   | 60-f   |\n",
       "| 5 | CS001215000145 | 1995-03-29 | 20-29 | 20-29f |\n",
       "| 6 | CS020401000016 | 1974-09-15 | 40-49 | 40-49m |\n",
       "| 7 | CS015414000103 | 1977-08-09 | 40-49 | 40-49f |\n",
       "| 8 | CS029403000008 | 1973-08-17 | 40-49 | 40-49m |\n",
       "| 9 | CS015804000004 | 1931-05-02 | 60-   | 60-m   |\n",
       "| 10 | CS033513000180 | 1962-07-11 | 50-59 | 50-59f |\n",
       "\n"
      ],
      "text/plain": [
       "   customer_id    birth_day  agec  gender_agec\n",
       "1  CS021313000114 1981-04-29 30-39 30-39f     \n",
       "2  CS037613000071 1952-04-01 60-   60-na      \n",
       "3  CS031415000172 1976-10-04 40-49 40-49f     \n",
       "4  CS028811000001 1933-03-27 60-   60-f       \n",
       "5  CS001215000145 1995-03-29 20-29 20-29f     \n",
       "6  CS020401000016 1974-09-15 40-49 40-49m     \n",
       "7  CS015414000103 1977-08-09 40-49 40-49f     \n",
       "8  CS029403000008 1973-08-17 40-49 40-49m     \n",
       "9  CS015804000004 1931-05-02 60-   60-m       \n",
       "10 CS033513000180 1962-07-11 50-59 50-59f     "
      ]
     },
     "metadata": {},
     "output_type": "display_data"
    }
   ],
   "source": [
    "df_customer %>%\n",
    "    mutate(agec = case_when(\n",
    "            10 <= age & age < 20 ~ \"10-19\",\n",
    "            20 <= age & age < 30 ~ \"20-29\",\n",
    "            30 <= age & age < 40 ~ \"30-39\",\n",
    "            40 <= age & age < 50 ~ \"40-49\",\n",
    "            50 <= age & age < 60 ~ \"50-59\",\n",
    "            60 <= age ~ \"60-\")\n",
    "           ) %>%\n",
    "    mutate(gender_agec = case_when(\n",
    "        agec == \"10-19\" & gender_cd == 0 ~ \"10-19m\",\n",
    "        agec == \"10-19\" & gender_cd == 1 ~ \"10-19f\",\n",
    "        agec == \"10-19\" & gender_cd == 9 ~ \"10-19na\",\n",
    "        agec == \"20-29\" & gender_cd == 0 ~ \"20-29m\",\n",
    "        agec == \"20-29\" & gender_cd == 1 ~ \"20-29f\",\n",
    "        agec == \"20-29\" & gender_cd == 9 ~ \"20-29na\",\n",
    "        agec == \"30-39\" & gender_cd == 0 ~ \"30-39m\",\n",
    "        agec == \"30-39\" & gender_cd == 1 ~ \"30-39f\",\n",
    "        agec == \"30-39\" & gender_cd == 9 ~ \"30-39na\",\n",
    "        agec == \"40-49\" & gender_cd == 0 ~ \"40-49m\",\n",
    "        agec == \"40-49\" & gender_cd == 1 ~ \"40-49f\",\n",
    "        agec == \"40-49\" & gender_cd == 9 ~ \"40-49na\",\n",
    "        agec == \"50-59\" & gender_cd == 0 ~ \"50-59m\",\n",
    "        agec == \"50-59\" & gender_cd == 1 ~ \"50-59f\",\n",
    "        agec == \"50-59\" & gender_cd == 9 ~ \"50-59na\",\n",
    "        agec == \"60-\" & gender_cd == 0 ~ \"60-m\",\n",
    "        agec == \"60-\" & gender_cd == 1 ~ \"60-f\",\n",
    "        agec == \"60-\" & gender_cd == 9 ~ \"60-na\",\n",
    "    )) %>%\n",
    "    select(customer_id, birth_day, agec, gender_agec) %>%\n",
    "    head(10)"
   ]
  },
  {
   "cell_type": "markdown",
   "metadata": {},
   "source": [
    "---\n",
    "> R-058: 顧客データ（df_customer）の性別コード（gender_cd）をダミー変数化し、顧客ID（customer_id）とともに10件表示せよ。"
   ]
  },
  {
   "cell_type": "code",
   "execution_count": 60,
   "metadata": {},
   "outputs": [
    {
     "data": {
      "text/html": [
       "<table class=\"dataframe\">\n",
       "<caption>A data.frame: 10 × 2</caption>\n",
       "<thead>\n",
       "\t<tr><th></th><th scope=col>customer_id</th><th scope=col>gender_cd</th></tr>\n",
       "\t<tr><th></th><th scope=col>&lt;chr&gt;</th><th scope=col>&lt;dbl&gt;</th></tr>\n",
       "</thead>\n",
       "<tbody>\n",
       "\t<tr><th scope=row>1</th><td>CS021313000114</td><td> 1</td></tr>\n",
       "\t<tr><th scope=row>2</th><td>CS037613000071</td><td>NA</td></tr>\n",
       "\t<tr><th scope=row>3</th><td>CS031415000172</td><td> 1</td></tr>\n",
       "\t<tr><th scope=row>4</th><td>CS028811000001</td><td> 1</td></tr>\n",
       "\t<tr><th scope=row>5</th><td>CS001215000145</td><td> 1</td></tr>\n",
       "\t<tr><th scope=row>6</th><td>CS020401000016</td><td> 0</td></tr>\n",
       "\t<tr><th scope=row>7</th><td>CS015414000103</td><td> 1</td></tr>\n",
       "\t<tr><th scope=row>8</th><td>CS029403000008</td><td> 0</td></tr>\n",
       "\t<tr><th scope=row>9</th><td>CS015804000004</td><td> 0</td></tr>\n",
       "\t<tr><th scope=row>10</th><td>CS033513000180</td><td> 1</td></tr>\n",
       "</tbody>\n",
       "</table>\n"
      ],
      "text/latex": [
       "A data.frame: 10 × 2\n",
       "\\begin{tabular}{r|ll}\n",
       "  & customer\\_id & gender\\_cd\\\\\n",
       "  & <chr> & <dbl>\\\\\n",
       "\\hline\n",
       "\t1 & CS021313000114 &  1\\\\\n",
       "\t2 & CS037613000071 & NA\\\\\n",
       "\t3 & CS031415000172 &  1\\\\\n",
       "\t4 & CS028811000001 &  1\\\\\n",
       "\t5 & CS001215000145 &  1\\\\\n",
       "\t6 & CS020401000016 &  0\\\\\n",
       "\t7 & CS015414000103 &  1\\\\\n",
       "\t8 & CS029403000008 &  0\\\\\n",
       "\t9 & CS015804000004 &  0\\\\\n",
       "\t10 & CS033513000180 &  1\\\\\n",
       "\\end{tabular}\n"
      ],
      "text/markdown": [
       "\n",
       "A data.frame: 10 × 2\n",
       "\n",
       "| <!--/--> | customer_id &lt;chr&gt; | gender_cd &lt;dbl&gt; |\n",
       "|---|---|---|\n",
       "| 1 | CS021313000114 |  1 |\n",
       "| 2 | CS037613000071 | NA |\n",
       "| 3 | CS031415000172 |  1 |\n",
       "| 4 | CS028811000001 |  1 |\n",
       "| 5 | CS001215000145 |  1 |\n",
       "| 6 | CS020401000016 |  0 |\n",
       "| 7 | CS015414000103 |  1 |\n",
       "| 8 | CS029403000008 |  0 |\n",
       "| 9 | CS015804000004 |  0 |\n",
       "| 10 | CS033513000180 |  1 |\n",
       "\n"
      ],
      "text/plain": [
       "   customer_id    gender_cd\n",
       "1  CS021313000114  1       \n",
       "2  CS037613000071 NA       \n",
       "3  CS031415000172  1       \n",
       "4  CS028811000001  1       \n",
       "5  CS001215000145  1       \n",
       "6  CS020401000016  0       \n",
       "7  CS015414000103  1       \n",
       "8  CS029403000008  0       \n",
       "9  CS015804000004  0       \n",
       "10 CS033513000180  1       "
      ]
     },
     "metadata": {},
     "output_type": "display_data"
    }
   ],
   "source": [
    "df_customer %>%\n",
    "    mutate(gender_cd = case_when(\n",
    "        gender_cd == 0 ~ 0,\n",
    "        gender_cd == 1 ~ 1,\n",
    "        gender_cd == 9 ~ NA)\n",
    "        ) %>%\n",
    "    select(customer_id, gender_cd) %>%\n",
    "    head(10)"
   ]
  },
  {
   "cell_type": "markdown",
   "metadata": {},
   "source": [
    "---\n",
    "> R-059: レシート明細データ（df_receipt）の売上金額（amount）を顧客ID（customer_id）ごとに合計し、売上金額合計を平均0、標準偏差1に標準化して顧客ID、売上金額合計とともに10件表示せよ。標準化に使用する標準偏差は、分散の平方根、もしくは不偏分散の平方根のどちらでも良いものとする。ただし、顧客IDが\"Z\"から始まるのものは非会員を表すため、除外して計算すること。"
   ]
  },
  {
   "cell_type": "code",
   "execution_count": 61,
   "metadata": {},
   "outputs": [
    {
     "data": {
      "text/html": [
       "<table class=\"dataframe\">\n",
       "<caption>A tibble: 10 × 3</caption>\n",
       "<thead>\n",
       "\t<tr><th scope=col>customer_id</th><th scope=col>Sum</th><th scope=col>Sum_std</th></tr>\n",
       "\t<tr><th scope=col>&lt;chr&gt;</th><th scope=col>&lt;int&gt;</th><th scope=col>&lt;dbl&gt;</th></tr>\n",
       "</thead>\n",
       "<tbody>\n",
       "\t<tr><td>CS001113000004</td><td>1298</td><td>-0.4593502</td></tr>\n",
       "\t<tr><td>CS001114000005</td><td> 626</td><td>-0.7063478</td></tr>\n",
       "\t<tr><td>CS001115000010</td><td>3044</td><td> 0.1824025</td></tr>\n",
       "\t<tr><td>CS001205000004</td><td>1988</td><td>-0.2057366</td></tr>\n",
       "\t<tr><td>CS001205000006</td><td>3337</td><td> 0.2900964</td></tr>\n",
       "\t<tr><td>CS001211000025</td><td> 456</td><td>-0.7688324</td></tr>\n",
       "\t<tr><td>CS001212000027</td><td> 448</td><td>-0.7717728</td></tr>\n",
       "\t<tr><td>CS001212000031</td><td> 296</td><td>-0.8276413</td></tr>\n",
       "\t<tr><td>CS001212000046</td><td> 228</td><td>-0.8526351</td></tr>\n",
       "\t<tr><td>CS001212000070</td><td> 456</td><td>-0.7688324</td></tr>\n",
       "</tbody>\n",
       "</table>\n"
      ],
      "text/latex": [
       "A tibble: 10 × 3\n",
       "\\begin{tabular}{lll}\n",
       " customer\\_id & Sum & Sum\\_std\\\\\n",
       " <chr> & <int> & <dbl>\\\\\n",
       "\\hline\n",
       "\t CS001113000004 & 1298 & -0.4593502\\\\\n",
       "\t CS001114000005 &  626 & -0.7063478\\\\\n",
       "\t CS001115000010 & 3044 &  0.1824025\\\\\n",
       "\t CS001205000004 & 1988 & -0.2057366\\\\\n",
       "\t CS001205000006 & 3337 &  0.2900964\\\\\n",
       "\t CS001211000025 &  456 & -0.7688324\\\\\n",
       "\t CS001212000027 &  448 & -0.7717728\\\\\n",
       "\t CS001212000031 &  296 & -0.8276413\\\\\n",
       "\t CS001212000046 &  228 & -0.8526351\\\\\n",
       "\t CS001212000070 &  456 & -0.7688324\\\\\n",
       "\\end{tabular}\n"
      ],
      "text/markdown": [
       "\n",
       "A tibble: 10 × 3\n",
       "\n",
       "| customer_id &lt;chr&gt; | Sum &lt;int&gt; | Sum_std &lt;dbl&gt; |\n",
       "|---|---|---|\n",
       "| CS001113000004 | 1298 | -0.4593502 |\n",
       "| CS001114000005 |  626 | -0.7063478 |\n",
       "| CS001115000010 | 3044 |  0.1824025 |\n",
       "| CS001205000004 | 1988 | -0.2057366 |\n",
       "| CS001205000006 | 3337 |  0.2900964 |\n",
       "| CS001211000025 |  456 | -0.7688324 |\n",
       "| CS001212000027 |  448 | -0.7717728 |\n",
       "| CS001212000031 |  296 | -0.8276413 |\n",
       "| CS001212000046 |  228 | -0.8526351 |\n",
       "| CS001212000070 |  456 | -0.7688324 |\n",
       "\n"
      ],
      "text/plain": [
       "   customer_id    Sum  Sum_std   \n",
       "1  CS001113000004 1298 -0.4593502\n",
       "2  CS001114000005  626 -0.7063478\n",
       "3  CS001115000010 3044  0.1824025\n",
       "4  CS001205000004 1988 -0.2057366\n",
       "5  CS001205000006 3337  0.2900964\n",
       "6  CS001211000025  456 -0.7688324\n",
       "7  CS001212000027  448 -0.7717728\n",
       "8  CS001212000031  296 -0.8276413\n",
       "9  CS001212000046  228 -0.8526351\n",
       "10 CS001212000070  456 -0.7688324"
      ]
     },
     "metadata": {},
     "output_type": "display_data"
    }
   ],
   "source": [
    "df_receipt %>%\n",
    "    filter(!str_detect(customer_id, \"^Z\")) %>%\n",
    "    group_by(customer_id) %>%\n",
    "    summarize(Sum = sum(amount)) %>%\n",
    "    mutate(Sum_std = (Sum - mean(Sum))/sd(Sum)) %>%\n",
    "    head(10)"
   ]
  },
  {
   "cell_type": "markdown",
   "metadata": {},
   "source": [
    "---\n",
    "> R-060: レシート明細データ（df_receipt）の売上金額（amount）を顧客ID（customer_id）ごとに合計し、売上金額合計を最小値0、最大値1に正規化して顧客ID、売上金額合計とともに10件表示せよ。ただし、顧客IDが\"Z\"から始まるのものは非会員を表すため、除外して計算すること。"
   ]
  },
  {
   "cell_type": "code",
   "execution_count": 62,
   "metadata": {},
   "outputs": [
    {
     "data": {
      "text/html": [
       "<table class=\"dataframe\">\n",
       "<caption>A tibble: 10 × 3</caption>\n",
       "<thead>\n",
       "\t<tr><th scope=col>customer_id</th><th scope=col>Sum</th><th scope=col>Sum_pt</th></tr>\n",
       "\t<tr><th scope=col>&lt;chr&gt;</th><th scope=col>&lt;int&gt;</th><th scope=col>&lt;dbl&gt;</th></tr>\n",
       "</thead>\n",
       "<tbody>\n",
       "\t<tr><td>CS001113000004</td><td>1298</td><td>0.053354188</td></tr>\n",
       "\t<tr><td>CS001114000005</td><td> 626</td><td>0.024157108</td></tr>\n",
       "\t<tr><td>CS001115000010</td><td>3044</td><td>0.129214460</td></tr>\n",
       "\t<tr><td>CS001205000004</td><td>1988</td><td>0.083333333</td></tr>\n",
       "\t<tr><td>CS001205000006</td><td>3337</td><td>0.141944734</td></tr>\n",
       "\t<tr><td>CS001211000025</td><td> 456</td><td>0.016770942</td></tr>\n",
       "\t<tr><td>CS001212000027</td><td> 448</td><td>0.016423358</td></tr>\n",
       "\t<tr><td>CS001212000031</td><td> 296</td><td>0.009819256</td></tr>\n",
       "\t<tr><td>CS001212000046</td><td> 228</td><td>0.006864790</td></tr>\n",
       "\t<tr><td>CS001212000070</td><td> 456</td><td>0.016770942</td></tr>\n",
       "</tbody>\n",
       "</table>\n"
      ],
      "text/latex": [
       "A tibble: 10 × 3\n",
       "\\begin{tabular}{lll}\n",
       " customer\\_id & Sum & Sum\\_pt\\\\\n",
       " <chr> & <int> & <dbl>\\\\\n",
       "\\hline\n",
       "\t CS001113000004 & 1298 & 0.053354188\\\\\n",
       "\t CS001114000005 &  626 & 0.024157108\\\\\n",
       "\t CS001115000010 & 3044 & 0.129214460\\\\\n",
       "\t CS001205000004 & 1988 & 0.083333333\\\\\n",
       "\t CS001205000006 & 3337 & 0.141944734\\\\\n",
       "\t CS001211000025 &  456 & 0.016770942\\\\\n",
       "\t CS001212000027 &  448 & 0.016423358\\\\\n",
       "\t CS001212000031 &  296 & 0.009819256\\\\\n",
       "\t CS001212000046 &  228 & 0.006864790\\\\\n",
       "\t CS001212000070 &  456 & 0.016770942\\\\\n",
       "\\end{tabular}\n"
      ],
      "text/markdown": [
       "\n",
       "A tibble: 10 × 3\n",
       "\n",
       "| customer_id &lt;chr&gt; | Sum &lt;int&gt; | Sum_pt &lt;dbl&gt; |\n",
       "|---|---|---|\n",
       "| CS001113000004 | 1298 | 0.053354188 |\n",
       "| CS001114000005 |  626 | 0.024157108 |\n",
       "| CS001115000010 | 3044 | 0.129214460 |\n",
       "| CS001205000004 | 1988 | 0.083333333 |\n",
       "| CS001205000006 | 3337 | 0.141944734 |\n",
       "| CS001211000025 |  456 | 0.016770942 |\n",
       "| CS001212000027 |  448 | 0.016423358 |\n",
       "| CS001212000031 |  296 | 0.009819256 |\n",
       "| CS001212000046 |  228 | 0.006864790 |\n",
       "| CS001212000070 |  456 | 0.016770942 |\n",
       "\n"
      ],
      "text/plain": [
       "   customer_id    Sum  Sum_pt     \n",
       "1  CS001113000004 1298 0.053354188\n",
       "2  CS001114000005  626 0.024157108\n",
       "3  CS001115000010 3044 0.129214460\n",
       "4  CS001205000004 1988 0.083333333\n",
       "5  CS001205000006 3337 0.141944734\n",
       "6  CS001211000025  456 0.016770942\n",
       "7  CS001212000027  448 0.016423358\n",
       "8  CS001212000031  296 0.009819256\n",
       "9  CS001212000046  228 0.006864790\n",
       "10 CS001212000070  456 0.016770942"
      ]
     },
     "metadata": {},
     "output_type": "display_data"
    }
   ],
   "source": [
    "df_receipt %>%\n",
    "    filter(!str_detect(customer_id, \"^Z\")) %>%\n",
    "    group_by(customer_id) %>%\n",
    "    summarize(Sum = sum(amount)) %>%\n",
    "    mutate(Sum_pt = (Sum - min(Sum))/(max(Sum)-min(Sum))) %>%\n",
    "    head(10)"
   ]
  },
  {
   "cell_type": "markdown",
   "metadata": {},
   "source": [
    "---\n",
    "> R-061: レシート明細データ（df_receipt）の売上金額（amount）を顧客ID（customer_id）ごとに合計し、売上金額合計を常用対数化（底10）して顧客ID、売上金額合計とともに10件表示せよ。ただし、顧客IDが\"Z\"から始まるのものは非会員を表すため、除外して計算すること。"
   ]
  },
  {
   "cell_type": "code",
   "execution_count": 63,
   "metadata": {},
   "outputs": [
    {
     "data": {
      "text/html": [
       "<table class=\"dataframe\">\n",
       "<caption>A tibble: 10 × 3</caption>\n",
       "<thead>\n",
       "\t<tr><th scope=col>customer_id</th><th scope=col>Sum</th><th scope=col>Sum_log10</th></tr>\n",
       "\t<tr><th scope=col>&lt;chr&gt;</th><th scope=col>&lt;int&gt;</th><th scope=col>&lt;dbl&gt;</th></tr>\n",
       "</thead>\n",
       "<tbody>\n",
       "\t<tr><td>CS001113000004</td><td>1298</td><td>3.113275</td></tr>\n",
       "\t<tr><td>CS001114000005</td><td> 626</td><td>2.796574</td></tr>\n",
       "\t<tr><td>CS001115000010</td><td>3044</td><td>3.483445</td></tr>\n",
       "\t<tr><td>CS001205000004</td><td>1988</td><td>3.298416</td></tr>\n",
       "\t<tr><td>CS001205000006</td><td>3337</td><td>3.523356</td></tr>\n",
       "\t<tr><td>CS001211000025</td><td> 456</td><td>2.658965</td></tr>\n",
       "\t<tr><td>CS001212000027</td><td> 448</td><td>2.651278</td></tr>\n",
       "\t<tr><td>CS001212000031</td><td> 296</td><td>2.471292</td></tr>\n",
       "\t<tr><td>CS001212000046</td><td> 228</td><td>2.357935</td></tr>\n",
       "\t<tr><td>CS001212000070</td><td> 456</td><td>2.658965</td></tr>\n",
       "</tbody>\n",
       "</table>\n"
      ],
      "text/latex": [
       "A tibble: 10 × 3\n",
       "\\begin{tabular}{lll}\n",
       " customer\\_id & Sum & Sum\\_log10\\\\\n",
       " <chr> & <int> & <dbl>\\\\\n",
       "\\hline\n",
       "\t CS001113000004 & 1298 & 3.113275\\\\\n",
       "\t CS001114000005 &  626 & 2.796574\\\\\n",
       "\t CS001115000010 & 3044 & 3.483445\\\\\n",
       "\t CS001205000004 & 1988 & 3.298416\\\\\n",
       "\t CS001205000006 & 3337 & 3.523356\\\\\n",
       "\t CS001211000025 &  456 & 2.658965\\\\\n",
       "\t CS001212000027 &  448 & 2.651278\\\\\n",
       "\t CS001212000031 &  296 & 2.471292\\\\\n",
       "\t CS001212000046 &  228 & 2.357935\\\\\n",
       "\t CS001212000070 &  456 & 2.658965\\\\\n",
       "\\end{tabular}\n"
      ],
      "text/markdown": [
       "\n",
       "A tibble: 10 × 3\n",
       "\n",
       "| customer_id &lt;chr&gt; | Sum &lt;int&gt; | Sum_log10 &lt;dbl&gt; |\n",
       "|---|---|---|\n",
       "| CS001113000004 | 1298 | 3.113275 |\n",
       "| CS001114000005 |  626 | 2.796574 |\n",
       "| CS001115000010 | 3044 | 3.483445 |\n",
       "| CS001205000004 | 1988 | 3.298416 |\n",
       "| CS001205000006 | 3337 | 3.523356 |\n",
       "| CS001211000025 |  456 | 2.658965 |\n",
       "| CS001212000027 |  448 | 2.651278 |\n",
       "| CS001212000031 |  296 | 2.471292 |\n",
       "| CS001212000046 |  228 | 2.357935 |\n",
       "| CS001212000070 |  456 | 2.658965 |\n",
       "\n"
      ],
      "text/plain": [
       "   customer_id    Sum  Sum_log10\n",
       "1  CS001113000004 1298 3.113275 \n",
       "2  CS001114000005  626 2.796574 \n",
       "3  CS001115000010 3044 3.483445 \n",
       "4  CS001205000004 1988 3.298416 \n",
       "5  CS001205000006 3337 3.523356 \n",
       "6  CS001211000025  456 2.658965 \n",
       "7  CS001212000027  448 2.651278 \n",
       "8  CS001212000031  296 2.471292 \n",
       "9  CS001212000046  228 2.357935 \n",
       "10 CS001212000070  456 2.658965 "
      ]
     },
     "metadata": {},
     "output_type": "display_data"
    }
   ],
   "source": [
    "df_receipt %>%\n",
    "    filter(!str_detect(customer_id, \"^Z\")) %>%\n",
    "    group_by(customer_id) %>%\n",
    "    summarize(Sum = sum(amount)) %>%\n",
    "    mutate(Sum_log10 = log(Sum, 10)) %>%\n",
    "    head(10)"
   ]
  },
  {
   "cell_type": "markdown",
   "metadata": {},
   "source": [
    "---\n",
    "> R-062: レシート明細データ（df_receipt）の売上金額（amount）を顧客ID（customer_id）ごとに合計し、売上金額合計を自然対数化（底e）して顧客ID、売上金額合計とともに10件表示せよ。ただし、顧客IDが\"Z\"から始まるのものは非会員を表すため、除外して計算すること。"
   ]
  },
  {
   "cell_type": "code",
   "execution_count": 64,
   "metadata": {},
   "outputs": [
    {
     "data": {
      "text/html": [
       "<table class=\"dataframe\">\n",
       "<caption>A tibble: 10 × 3</caption>\n",
       "<thead>\n",
       "\t<tr><th scope=col>customer_id</th><th scope=col>Sum</th><th scope=col>Sum_log10</th></tr>\n",
       "\t<tr><th scope=col>&lt;chr&gt;</th><th scope=col>&lt;int&gt;</th><th scope=col>&lt;dbl&gt;</th></tr>\n",
       "</thead>\n",
       "<tbody>\n",
       "\t<tr><td>CS001113000004</td><td>1298</td><td>7.168580</td></tr>\n",
       "\t<tr><td>CS001114000005</td><td> 626</td><td>6.439350</td></tr>\n",
       "\t<tr><td>CS001115000010</td><td>3044</td><td>8.020928</td></tr>\n",
       "\t<tr><td>CS001205000004</td><td>1988</td><td>7.594884</td></tr>\n",
       "\t<tr><td>CS001205000006</td><td>3337</td><td>8.112827</td></tr>\n",
       "\t<tr><td>CS001211000025</td><td> 456</td><td>6.122493</td></tr>\n",
       "\t<tr><td>CS001212000027</td><td> 448</td><td>6.104793</td></tr>\n",
       "\t<tr><td>CS001212000031</td><td> 296</td><td>5.690359</td></tr>\n",
       "\t<tr><td>CS001212000046</td><td> 228</td><td>5.429346</td></tr>\n",
       "\t<tr><td>CS001212000070</td><td> 456</td><td>6.122493</td></tr>\n",
       "</tbody>\n",
       "</table>\n"
      ],
      "text/latex": [
       "A tibble: 10 × 3\n",
       "\\begin{tabular}{lll}\n",
       " customer\\_id & Sum & Sum\\_log10\\\\\n",
       " <chr> & <int> & <dbl>\\\\\n",
       "\\hline\n",
       "\t CS001113000004 & 1298 & 7.168580\\\\\n",
       "\t CS001114000005 &  626 & 6.439350\\\\\n",
       "\t CS001115000010 & 3044 & 8.020928\\\\\n",
       "\t CS001205000004 & 1988 & 7.594884\\\\\n",
       "\t CS001205000006 & 3337 & 8.112827\\\\\n",
       "\t CS001211000025 &  456 & 6.122493\\\\\n",
       "\t CS001212000027 &  448 & 6.104793\\\\\n",
       "\t CS001212000031 &  296 & 5.690359\\\\\n",
       "\t CS001212000046 &  228 & 5.429346\\\\\n",
       "\t CS001212000070 &  456 & 6.122493\\\\\n",
       "\\end{tabular}\n"
      ],
      "text/markdown": [
       "\n",
       "A tibble: 10 × 3\n",
       "\n",
       "| customer_id &lt;chr&gt; | Sum &lt;int&gt; | Sum_log10 &lt;dbl&gt; |\n",
       "|---|---|---|\n",
       "| CS001113000004 | 1298 | 7.168580 |\n",
       "| CS001114000005 |  626 | 6.439350 |\n",
       "| CS001115000010 | 3044 | 8.020928 |\n",
       "| CS001205000004 | 1988 | 7.594884 |\n",
       "| CS001205000006 | 3337 | 8.112827 |\n",
       "| CS001211000025 |  456 | 6.122493 |\n",
       "| CS001212000027 |  448 | 6.104793 |\n",
       "| CS001212000031 |  296 | 5.690359 |\n",
       "| CS001212000046 |  228 | 5.429346 |\n",
       "| CS001212000070 |  456 | 6.122493 |\n",
       "\n"
      ],
      "text/plain": [
       "   customer_id    Sum  Sum_log10\n",
       "1  CS001113000004 1298 7.168580 \n",
       "2  CS001114000005  626 6.439350 \n",
       "3  CS001115000010 3044 8.020928 \n",
       "4  CS001205000004 1988 7.594884 \n",
       "5  CS001205000006 3337 8.112827 \n",
       "6  CS001211000025  456 6.122493 \n",
       "7  CS001212000027  448 6.104793 \n",
       "8  CS001212000031  296 5.690359 \n",
       "9  CS001212000046  228 5.429346 \n",
       "10 CS001212000070  456 6.122493 "
      ]
     },
     "metadata": {},
     "output_type": "display_data"
    }
   ],
   "source": [
    "df_receipt %>%\n",
    "    filter(!str_detect(customer_id, \"^Z\")) %>%\n",
    "    group_by(customer_id) %>%\n",
    "    summarize(Sum = sum(amount)) %>%\n",
    "    mutate(Sum_log10 = log(Sum)) %>%\n",
    "    head(10)"
   ]
  },
  {
   "cell_type": "markdown",
   "metadata": {},
   "source": [
    "---\n",
    "> R-063: 商品データ（df_product）の単価（unit_price）と原価（unit_cost）から各商品の利益額を算出し、結果を10件表示せよ。"
   ]
  },
  {
   "cell_type": "code",
   "execution_count": 65,
   "metadata": {},
   "outputs": [
    {
     "data": {
      "text/html": [
       "<table class=\"dataframe\">\n",
       "<caption>A data.frame: 10 × 7</caption>\n",
       "<thead>\n",
       "\t<tr><th></th><th scope=col>product_cd</th><th scope=col>category_major_cd</th><th scope=col>category_medium_cd</th><th scope=col>category_small_cd</th><th scope=col>unit_price</th><th scope=col>unit_cost</th><th scope=col>profit</th></tr>\n",
       "\t<tr><th></th><th scope=col>&lt;chr&gt;</th><th scope=col>&lt;chr&gt;</th><th scope=col>&lt;chr&gt;</th><th scope=col>&lt;chr&gt;</th><th scope=col>&lt;int&gt;</th><th scope=col>&lt;int&gt;</th><th scope=col>&lt;int&gt;</th></tr>\n",
       "</thead>\n",
       "<tbody>\n",
       "\t<tr><th scope=row>1</th><td>P040101001</td><td>04</td><td>0401</td><td>040101</td><td>198</td><td>149</td><td> 49</td></tr>\n",
       "\t<tr><th scope=row>2</th><td>P040101002</td><td>04</td><td>0401</td><td>040101</td><td>218</td><td>164</td><td> 54</td></tr>\n",
       "\t<tr><th scope=row>3</th><td>P040101003</td><td>04</td><td>0401</td><td>040101</td><td>230</td><td>173</td><td> 57</td></tr>\n",
       "\t<tr><th scope=row>4</th><td>P040101004</td><td>04</td><td>0401</td><td>040101</td><td>248</td><td>186</td><td> 62</td></tr>\n",
       "\t<tr><th scope=row>5</th><td>P040101005</td><td>04</td><td>0401</td><td>040101</td><td>268</td><td>201</td><td> 67</td></tr>\n",
       "\t<tr><th scope=row>6</th><td>P040101006</td><td>04</td><td>0401</td><td>040101</td><td>298</td><td>224</td><td> 74</td></tr>\n",
       "\t<tr><th scope=row>7</th><td>P040101007</td><td>04</td><td>0401</td><td>040101</td><td>338</td><td>254</td><td> 84</td></tr>\n",
       "\t<tr><th scope=row>8</th><td>P040101008</td><td>04</td><td>0401</td><td>040101</td><td>420</td><td>315</td><td>105</td></tr>\n",
       "\t<tr><th scope=row>9</th><td>P040101009</td><td>04</td><td>0401</td><td>040101</td><td>498</td><td>374</td><td>124</td></tr>\n",
       "\t<tr><th scope=row>10</th><td>P040101010</td><td>04</td><td>0401</td><td>040101</td><td>580</td><td>435</td><td>145</td></tr>\n",
       "</tbody>\n",
       "</table>\n"
      ],
      "text/latex": [
       "A data.frame: 10 × 7\n",
       "\\begin{tabular}{r|lllllll}\n",
       "  & product\\_cd & category\\_major\\_cd & category\\_medium\\_cd & category\\_small\\_cd & unit\\_price & unit\\_cost & profit\\\\\n",
       "  & <chr> & <chr> & <chr> & <chr> & <int> & <int> & <int>\\\\\n",
       "\\hline\n",
       "\t1 & P040101001 & 04 & 0401 & 040101 & 198 & 149 &  49\\\\\n",
       "\t2 & P040101002 & 04 & 0401 & 040101 & 218 & 164 &  54\\\\\n",
       "\t3 & P040101003 & 04 & 0401 & 040101 & 230 & 173 &  57\\\\\n",
       "\t4 & P040101004 & 04 & 0401 & 040101 & 248 & 186 &  62\\\\\n",
       "\t5 & P040101005 & 04 & 0401 & 040101 & 268 & 201 &  67\\\\\n",
       "\t6 & P040101006 & 04 & 0401 & 040101 & 298 & 224 &  74\\\\\n",
       "\t7 & P040101007 & 04 & 0401 & 040101 & 338 & 254 &  84\\\\\n",
       "\t8 & P040101008 & 04 & 0401 & 040101 & 420 & 315 & 105\\\\\n",
       "\t9 & P040101009 & 04 & 0401 & 040101 & 498 & 374 & 124\\\\\n",
       "\t10 & P040101010 & 04 & 0401 & 040101 & 580 & 435 & 145\\\\\n",
       "\\end{tabular}\n"
      ],
      "text/markdown": [
       "\n",
       "A data.frame: 10 × 7\n",
       "\n",
       "| <!--/--> | product_cd &lt;chr&gt; | category_major_cd &lt;chr&gt; | category_medium_cd &lt;chr&gt; | category_small_cd &lt;chr&gt; | unit_price &lt;int&gt; | unit_cost &lt;int&gt; | profit &lt;int&gt; |\n",
       "|---|---|---|---|---|---|---|---|\n",
       "| 1 | P040101001 | 04 | 0401 | 040101 | 198 | 149 |  49 |\n",
       "| 2 | P040101002 | 04 | 0401 | 040101 | 218 | 164 |  54 |\n",
       "| 3 | P040101003 | 04 | 0401 | 040101 | 230 | 173 |  57 |\n",
       "| 4 | P040101004 | 04 | 0401 | 040101 | 248 | 186 |  62 |\n",
       "| 5 | P040101005 | 04 | 0401 | 040101 | 268 | 201 |  67 |\n",
       "| 6 | P040101006 | 04 | 0401 | 040101 | 298 | 224 |  74 |\n",
       "| 7 | P040101007 | 04 | 0401 | 040101 | 338 | 254 |  84 |\n",
       "| 8 | P040101008 | 04 | 0401 | 040101 | 420 | 315 | 105 |\n",
       "| 9 | P040101009 | 04 | 0401 | 040101 | 498 | 374 | 124 |\n",
       "| 10 | P040101010 | 04 | 0401 | 040101 | 580 | 435 | 145 |\n",
       "\n"
      ],
      "text/plain": [
       "   product_cd category_major_cd category_medium_cd category_small_cd unit_price\n",
       "1  P040101001 04                0401               040101            198       \n",
       "2  P040101002 04                0401               040101            218       \n",
       "3  P040101003 04                0401               040101            230       \n",
       "4  P040101004 04                0401               040101            248       \n",
       "5  P040101005 04                0401               040101            268       \n",
       "6  P040101006 04                0401               040101            298       \n",
       "7  P040101007 04                0401               040101            338       \n",
       "8  P040101008 04                0401               040101            420       \n",
       "9  P040101009 04                0401               040101            498       \n",
       "10 P040101010 04                0401               040101            580       \n",
       "   unit_cost profit\n",
       "1  149        49   \n",
       "2  164        54   \n",
       "3  173        57   \n",
       "4  186        62   \n",
       "5  201        67   \n",
       "6  224        74   \n",
       "7  254        84   \n",
       "8  315       105   \n",
       "9  374       124   \n",
       "10 435       145   "
      ]
     },
     "metadata": {},
     "output_type": "display_data"
    }
   ],
   "source": [
    "df_product %>% mutate(profit = unit_price - unit_cost) %>% head(10)"
   ]
  },
  {
   "cell_type": "markdown",
   "metadata": {},
   "source": [
    "---\n",
    "> R-064: 商品データ（df_product）の単価（unit_price）と原価（unit_cost）から、各商品の利益率の全体平均を算出せよ。ただし、単価と原価には欠損が生じていることに注意せよ。"
   ]
  },
  {
   "cell_type": "code",
   "execution_count": 66,
   "metadata": {},
   "outputs": [
    {
     "data": {
      "text/html": [
       "0.332040205775708"
      ],
      "text/latex": [
       "0.332040205775708"
      ],
      "text/markdown": [
       "0.332040205775708"
      ],
      "text/plain": [
       "[1] 0.3320402"
      ]
     },
     "metadata": {},
     "output_type": "display_data"
    }
   ],
   "source": [
    "df_product %>% mutate(profit_percentage = (unit_price - unit_cost)/unit_cost) %>% summarize(mean(profit_percentage, na.rm=TRUE)) %>% pull()"
   ]
  },
  {
   "cell_type": "markdown",
   "metadata": {},
   "source": [
    "---\n",
    "> R-065: 商品データ（df_product）の各商品について、利益率が30%となる新たな単価を求めよ。ただし、1円未満は切り捨てること。そして結果を10件表示させ、利益率がおよそ30％付近であることを確認せよ。ただし、単価（unit_price）と原価（unit_cost）には欠損が生じていることに注意せよ。"
   ]
  },
  {
   "cell_type": "code",
   "execution_count": 67,
   "metadata": {},
   "outputs": [
    {
     "data": {
      "text/html": [
       "<table class=\"dataframe\">\n",
       "<caption>A data.frame: 10 × 8</caption>\n",
       "<thead>\n",
       "\t<tr><th></th><th scope=col>product_cd</th><th scope=col>category_major_cd</th><th scope=col>category_medium_cd</th><th scope=col>category_small_cd</th><th scope=col>unit_price</th><th scope=col>unit_cost</th><th scope=col>new_unit_price</th><th scope=col>profit_percentage</th></tr>\n",
       "\t<tr><th></th><th scope=col>&lt;chr&gt;</th><th scope=col>&lt;chr&gt;</th><th scope=col>&lt;chr&gt;</th><th scope=col>&lt;chr&gt;</th><th scope=col>&lt;int&gt;</th><th scope=col>&lt;int&gt;</th><th scope=col>&lt;dbl&gt;</th><th scope=col>&lt;dbl&gt;</th></tr>\n",
       "</thead>\n",
       "<tbody>\n",
       "\t<tr><th scope=row>1</th><td>P040101001</td><td>04</td><td>0401</td><td>040101</td><td>198</td><td>149</td><td>193</td><td>0.2953020</td></tr>\n",
       "\t<tr><th scope=row>2</th><td>P040101002</td><td>04</td><td>0401</td><td>040101</td><td>218</td><td>164</td><td>213</td><td>0.2987805</td></tr>\n",
       "\t<tr><th scope=row>3</th><td>P040101003</td><td>04</td><td>0401</td><td>040101</td><td>230</td><td>173</td><td>224</td><td>0.2947977</td></tr>\n",
       "\t<tr><th scope=row>4</th><td>P040101004</td><td>04</td><td>0401</td><td>040101</td><td>248</td><td>186</td><td>241</td><td>0.2956989</td></tr>\n",
       "\t<tr><th scope=row>5</th><td>P040101005</td><td>04</td><td>0401</td><td>040101</td><td>268</td><td>201</td><td>261</td><td>0.2985075</td></tr>\n",
       "\t<tr><th scope=row>6</th><td>P040101006</td><td>04</td><td>0401</td><td>040101</td><td>298</td><td>224</td><td>291</td><td>0.2991071</td></tr>\n",
       "\t<tr><th scope=row>7</th><td>P040101007</td><td>04</td><td>0401</td><td>040101</td><td>338</td><td>254</td><td>330</td><td>0.2992126</td></tr>\n",
       "\t<tr><th scope=row>8</th><td>P040101008</td><td>04</td><td>0401</td><td>040101</td><td>420</td><td>315</td><td>409</td><td>0.2984127</td></tr>\n",
       "\t<tr><th scope=row>9</th><td>P040101009</td><td>04</td><td>0401</td><td>040101</td><td>498</td><td>374</td><td>486</td><td>0.2994652</td></tr>\n",
       "\t<tr><th scope=row>10</th><td>P040101010</td><td>04</td><td>0401</td><td>040101</td><td>580</td><td>435</td><td>565</td><td>0.2988506</td></tr>\n",
       "</tbody>\n",
       "</table>\n"
      ],
      "text/latex": [
       "A data.frame: 10 × 8\n",
       "\\begin{tabular}{r|llllllll}\n",
       "  & product\\_cd & category\\_major\\_cd & category\\_medium\\_cd & category\\_small\\_cd & unit\\_price & unit\\_cost & new\\_unit\\_price & profit\\_percentage\\\\\n",
       "  & <chr> & <chr> & <chr> & <chr> & <int> & <int> & <dbl> & <dbl>\\\\\n",
       "\\hline\n",
       "\t1 & P040101001 & 04 & 0401 & 040101 & 198 & 149 & 193 & 0.2953020\\\\\n",
       "\t2 & P040101002 & 04 & 0401 & 040101 & 218 & 164 & 213 & 0.2987805\\\\\n",
       "\t3 & P040101003 & 04 & 0401 & 040101 & 230 & 173 & 224 & 0.2947977\\\\\n",
       "\t4 & P040101004 & 04 & 0401 & 040101 & 248 & 186 & 241 & 0.2956989\\\\\n",
       "\t5 & P040101005 & 04 & 0401 & 040101 & 268 & 201 & 261 & 0.2985075\\\\\n",
       "\t6 & P040101006 & 04 & 0401 & 040101 & 298 & 224 & 291 & 0.2991071\\\\\n",
       "\t7 & P040101007 & 04 & 0401 & 040101 & 338 & 254 & 330 & 0.2992126\\\\\n",
       "\t8 & P040101008 & 04 & 0401 & 040101 & 420 & 315 & 409 & 0.2984127\\\\\n",
       "\t9 & P040101009 & 04 & 0401 & 040101 & 498 & 374 & 486 & 0.2994652\\\\\n",
       "\t10 & P040101010 & 04 & 0401 & 040101 & 580 & 435 & 565 & 0.2988506\\\\\n",
       "\\end{tabular}\n"
      ],
      "text/markdown": [
       "\n",
       "A data.frame: 10 × 8\n",
       "\n",
       "| <!--/--> | product_cd &lt;chr&gt; | category_major_cd &lt;chr&gt; | category_medium_cd &lt;chr&gt; | category_small_cd &lt;chr&gt; | unit_price &lt;int&gt; | unit_cost &lt;int&gt; | new_unit_price &lt;dbl&gt; | profit_percentage &lt;dbl&gt; |\n",
       "|---|---|---|---|---|---|---|---|---|\n",
       "| 1 | P040101001 | 04 | 0401 | 040101 | 198 | 149 | 193 | 0.2953020 |\n",
       "| 2 | P040101002 | 04 | 0401 | 040101 | 218 | 164 | 213 | 0.2987805 |\n",
       "| 3 | P040101003 | 04 | 0401 | 040101 | 230 | 173 | 224 | 0.2947977 |\n",
       "| 4 | P040101004 | 04 | 0401 | 040101 | 248 | 186 | 241 | 0.2956989 |\n",
       "| 5 | P040101005 | 04 | 0401 | 040101 | 268 | 201 | 261 | 0.2985075 |\n",
       "| 6 | P040101006 | 04 | 0401 | 040101 | 298 | 224 | 291 | 0.2991071 |\n",
       "| 7 | P040101007 | 04 | 0401 | 040101 | 338 | 254 | 330 | 0.2992126 |\n",
       "| 8 | P040101008 | 04 | 0401 | 040101 | 420 | 315 | 409 | 0.2984127 |\n",
       "| 9 | P040101009 | 04 | 0401 | 040101 | 498 | 374 | 486 | 0.2994652 |\n",
       "| 10 | P040101010 | 04 | 0401 | 040101 | 580 | 435 | 565 | 0.2988506 |\n",
       "\n"
      ],
      "text/plain": [
       "   product_cd category_major_cd category_medium_cd category_small_cd unit_price\n",
       "1  P040101001 04                0401               040101            198       \n",
       "2  P040101002 04                0401               040101            218       \n",
       "3  P040101003 04                0401               040101            230       \n",
       "4  P040101004 04                0401               040101            248       \n",
       "5  P040101005 04                0401               040101            268       \n",
       "6  P040101006 04                0401               040101            298       \n",
       "7  P040101007 04                0401               040101            338       \n",
       "8  P040101008 04                0401               040101            420       \n",
       "9  P040101009 04                0401               040101            498       \n",
       "10 P040101010 04                0401               040101            580       \n",
       "   unit_cost new_unit_price profit_percentage\n",
       "1  149       193            0.2953020        \n",
       "2  164       213            0.2987805        \n",
       "3  173       224            0.2947977        \n",
       "4  186       241            0.2956989        \n",
       "5  201       261            0.2985075        \n",
       "6  224       291            0.2991071        \n",
       "7  254       330            0.2992126        \n",
       "8  315       409            0.2984127        \n",
       "9  374       486            0.2994652        \n",
       "10 435       565            0.2988506        "
      ]
     },
     "metadata": {},
     "output_type": "display_data"
    }
   ],
   "source": [
    "df_product %>% mutate(new_unit_price = floor(unit_cost * 1.3)) %>% mutate(profit_percentage = (new_unit_price - unit_cost)/unit_cost) %>% head(10)"
   ]
  },
  {
   "cell_type": "markdown",
   "metadata": {},
   "source": [
    "---\n",
    "> R-066: 商品データ（df_product）の各商品について、利益率が30%となる新たな単価を求めよ。今回は、1円未満を丸めること（四捨五入または偶数への丸めで良い）。そして結果を10件表示させ、利益率がおよそ30％付近であることを確認せよ。ただし、単価（unit_price）と原価（unit_cost）には欠損が生じていることに注意せよ。"
   ]
  },
  {
   "cell_type": "code",
   "execution_count": 68,
   "metadata": {},
   "outputs": [
    {
     "data": {
      "text/html": [
       "<table class=\"dataframe\">\n",
       "<caption>A data.frame: 10 × 8</caption>\n",
       "<thead>\n",
       "\t<tr><th></th><th scope=col>product_cd</th><th scope=col>category_major_cd</th><th scope=col>category_medium_cd</th><th scope=col>category_small_cd</th><th scope=col>unit_price</th><th scope=col>unit_cost</th><th scope=col>new_unit_price</th><th scope=col>profit_percentage</th></tr>\n",
       "\t<tr><th></th><th scope=col>&lt;chr&gt;</th><th scope=col>&lt;chr&gt;</th><th scope=col>&lt;chr&gt;</th><th scope=col>&lt;chr&gt;</th><th scope=col>&lt;int&gt;</th><th scope=col>&lt;int&gt;</th><th scope=col>&lt;dbl&gt;</th><th scope=col>&lt;dbl&gt;</th></tr>\n",
       "</thead>\n",
       "<tbody>\n",
       "\t<tr><th scope=row>1</th><td>P040101001</td><td>04</td><td>0401</td><td>040101</td><td>198</td><td>149</td><td>194</td><td>0.3020134</td></tr>\n",
       "\t<tr><th scope=row>2</th><td>P040101002</td><td>04</td><td>0401</td><td>040101</td><td>218</td><td>164</td><td>213</td><td>0.2987805</td></tr>\n",
       "\t<tr><th scope=row>3</th><td>P040101003</td><td>04</td><td>0401</td><td>040101</td><td>230</td><td>173</td><td>225</td><td>0.3005780</td></tr>\n",
       "\t<tr><th scope=row>4</th><td>P040101004</td><td>04</td><td>0401</td><td>040101</td><td>248</td><td>186</td><td>242</td><td>0.3010753</td></tr>\n",
       "\t<tr><th scope=row>5</th><td>P040101005</td><td>04</td><td>0401</td><td>040101</td><td>268</td><td>201</td><td>261</td><td>0.2985075</td></tr>\n",
       "\t<tr><th scope=row>6</th><td>P040101006</td><td>04</td><td>0401</td><td>040101</td><td>298</td><td>224</td><td>291</td><td>0.2991071</td></tr>\n",
       "\t<tr><th scope=row>7</th><td>P040101007</td><td>04</td><td>0401</td><td>040101</td><td>338</td><td>254</td><td>330</td><td>0.2992126</td></tr>\n",
       "\t<tr><th scope=row>8</th><td>P040101008</td><td>04</td><td>0401</td><td>040101</td><td>420</td><td>315</td><td>410</td><td>0.3015873</td></tr>\n",
       "\t<tr><th scope=row>9</th><td>P040101009</td><td>04</td><td>0401</td><td>040101</td><td>498</td><td>374</td><td>486</td><td>0.2994652</td></tr>\n",
       "\t<tr><th scope=row>10</th><td>P040101010</td><td>04</td><td>0401</td><td>040101</td><td>580</td><td>435</td><td>566</td><td>0.3011494</td></tr>\n",
       "</tbody>\n",
       "</table>\n"
      ],
      "text/latex": [
       "A data.frame: 10 × 8\n",
       "\\begin{tabular}{r|llllllll}\n",
       "  & product\\_cd & category\\_major\\_cd & category\\_medium\\_cd & category\\_small\\_cd & unit\\_price & unit\\_cost & new\\_unit\\_price & profit\\_percentage\\\\\n",
       "  & <chr> & <chr> & <chr> & <chr> & <int> & <int> & <dbl> & <dbl>\\\\\n",
       "\\hline\n",
       "\t1 & P040101001 & 04 & 0401 & 040101 & 198 & 149 & 194 & 0.3020134\\\\\n",
       "\t2 & P040101002 & 04 & 0401 & 040101 & 218 & 164 & 213 & 0.2987805\\\\\n",
       "\t3 & P040101003 & 04 & 0401 & 040101 & 230 & 173 & 225 & 0.3005780\\\\\n",
       "\t4 & P040101004 & 04 & 0401 & 040101 & 248 & 186 & 242 & 0.3010753\\\\\n",
       "\t5 & P040101005 & 04 & 0401 & 040101 & 268 & 201 & 261 & 0.2985075\\\\\n",
       "\t6 & P040101006 & 04 & 0401 & 040101 & 298 & 224 & 291 & 0.2991071\\\\\n",
       "\t7 & P040101007 & 04 & 0401 & 040101 & 338 & 254 & 330 & 0.2992126\\\\\n",
       "\t8 & P040101008 & 04 & 0401 & 040101 & 420 & 315 & 410 & 0.3015873\\\\\n",
       "\t9 & P040101009 & 04 & 0401 & 040101 & 498 & 374 & 486 & 0.2994652\\\\\n",
       "\t10 & P040101010 & 04 & 0401 & 040101 & 580 & 435 & 566 & 0.3011494\\\\\n",
       "\\end{tabular}\n"
      ],
      "text/markdown": [
       "\n",
       "A data.frame: 10 × 8\n",
       "\n",
       "| <!--/--> | product_cd &lt;chr&gt; | category_major_cd &lt;chr&gt; | category_medium_cd &lt;chr&gt; | category_small_cd &lt;chr&gt; | unit_price &lt;int&gt; | unit_cost &lt;int&gt; | new_unit_price &lt;dbl&gt; | profit_percentage &lt;dbl&gt; |\n",
       "|---|---|---|---|---|---|---|---|---|\n",
       "| 1 | P040101001 | 04 | 0401 | 040101 | 198 | 149 | 194 | 0.3020134 |\n",
       "| 2 | P040101002 | 04 | 0401 | 040101 | 218 | 164 | 213 | 0.2987805 |\n",
       "| 3 | P040101003 | 04 | 0401 | 040101 | 230 | 173 | 225 | 0.3005780 |\n",
       "| 4 | P040101004 | 04 | 0401 | 040101 | 248 | 186 | 242 | 0.3010753 |\n",
       "| 5 | P040101005 | 04 | 0401 | 040101 | 268 | 201 | 261 | 0.2985075 |\n",
       "| 6 | P040101006 | 04 | 0401 | 040101 | 298 | 224 | 291 | 0.2991071 |\n",
       "| 7 | P040101007 | 04 | 0401 | 040101 | 338 | 254 | 330 | 0.2992126 |\n",
       "| 8 | P040101008 | 04 | 0401 | 040101 | 420 | 315 | 410 | 0.3015873 |\n",
       "| 9 | P040101009 | 04 | 0401 | 040101 | 498 | 374 | 486 | 0.2994652 |\n",
       "| 10 | P040101010 | 04 | 0401 | 040101 | 580 | 435 | 566 | 0.3011494 |\n",
       "\n"
      ],
      "text/plain": [
       "   product_cd category_major_cd category_medium_cd category_small_cd unit_price\n",
       "1  P040101001 04                0401               040101            198       \n",
       "2  P040101002 04                0401               040101            218       \n",
       "3  P040101003 04                0401               040101            230       \n",
       "4  P040101004 04                0401               040101            248       \n",
       "5  P040101005 04                0401               040101            268       \n",
       "6  P040101006 04                0401               040101            298       \n",
       "7  P040101007 04                0401               040101            338       \n",
       "8  P040101008 04                0401               040101            420       \n",
       "9  P040101009 04                0401               040101            498       \n",
       "10 P040101010 04                0401               040101            580       \n",
       "   unit_cost new_unit_price profit_percentage\n",
       "1  149       194            0.3020134        \n",
       "2  164       213            0.2987805        \n",
       "3  173       225            0.3005780        \n",
       "4  186       242            0.3010753        \n",
       "5  201       261            0.2985075        \n",
       "6  224       291            0.2991071        \n",
       "7  254       330            0.2992126        \n",
       "8  315       410            0.3015873        \n",
       "9  374       486            0.2994652        \n",
       "10 435       566            0.3011494        "
      ]
     },
     "metadata": {},
     "output_type": "display_data"
    }
   ],
   "source": [
    "df_product %>% mutate(new_unit_price = round(unit_cost * 1.3)) %>% mutate(profit_percentage = (new_unit_price - unit_cost)/unit_cost) %>% head(10)"
   ]
  },
  {
   "cell_type": "markdown",
   "metadata": {},
   "source": [
    "---\n",
    "> R-067: 商品データ（df_product）の各商品について、利益率が30%となる新たな単価を求めよ。今回は、1円未満を切り上げること。そして結果を10件表示させ、利益率がおよそ30％付近であることを確認せよ。ただし、単価（unit_price）と原価（unit_cost）には欠損が生じていることに注意せよ。"
   ]
  },
  {
   "cell_type": "code",
   "execution_count": 69,
   "metadata": {},
   "outputs": [
    {
     "data": {
      "text/html": [
       "<table class=\"dataframe\">\n",
       "<caption>A data.frame: 10 × 8</caption>\n",
       "<thead>\n",
       "\t<tr><th></th><th scope=col>product_cd</th><th scope=col>category_major_cd</th><th scope=col>category_medium_cd</th><th scope=col>category_small_cd</th><th scope=col>unit_price</th><th scope=col>unit_cost</th><th scope=col>new_unit_price</th><th scope=col>profit_percentage</th></tr>\n",
       "\t<tr><th></th><th scope=col>&lt;chr&gt;</th><th scope=col>&lt;chr&gt;</th><th scope=col>&lt;chr&gt;</th><th scope=col>&lt;chr&gt;</th><th scope=col>&lt;int&gt;</th><th scope=col>&lt;int&gt;</th><th scope=col>&lt;dbl&gt;</th><th scope=col>&lt;dbl&gt;</th></tr>\n",
       "</thead>\n",
       "<tbody>\n",
       "\t<tr><th scope=row>1</th><td>P040101001</td><td>04</td><td>0401</td><td>040101</td><td>198</td><td>149</td><td>194</td><td>0.3020134</td></tr>\n",
       "\t<tr><th scope=row>2</th><td>P040101002</td><td>04</td><td>0401</td><td>040101</td><td>218</td><td>164</td><td>214</td><td>0.3048780</td></tr>\n",
       "\t<tr><th scope=row>3</th><td>P040101003</td><td>04</td><td>0401</td><td>040101</td><td>230</td><td>173</td><td>225</td><td>0.3005780</td></tr>\n",
       "\t<tr><th scope=row>4</th><td>P040101004</td><td>04</td><td>0401</td><td>040101</td><td>248</td><td>186</td><td>242</td><td>0.3010753</td></tr>\n",
       "\t<tr><th scope=row>5</th><td>P040101005</td><td>04</td><td>0401</td><td>040101</td><td>268</td><td>201</td><td>262</td><td>0.3034826</td></tr>\n",
       "\t<tr><th scope=row>6</th><td>P040101006</td><td>04</td><td>0401</td><td>040101</td><td>298</td><td>224</td><td>292</td><td>0.3035714</td></tr>\n",
       "\t<tr><th scope=row>7</th><td>P040101007</td><td>04</td><td>0401</td><td>040101</td><td>338</td><td>254</td><td>331</td><td>0.3031496</td></tr>\n",
       "\t<tr><th scope=row>8</th><td>P040101008</td><td>04</td><td>0401</td><td>040101</td><td>420</td><td>315</td><td>410</td><td>0.3015873</td></tr>\n",
       "\t<tr><th scope=row>9</th><td>P040101009</td><td>04</td><td>0401</td><td>040101</td><td>498</td><td>374</td><td>487</td><td>0.3021390</td></tr>\n",
       "\t<tr><th scope=row>10</th><td>P040101010</td><td>04</td><td>0401</td><td>040101</td><td>580</td><td>435</td><td>566</td><td>0.3011494</td></tr>\n",
       "</tbody>\n",
       "</table>\n"
      ],
      "text/latex": [
       "A data.frame: 10 × 8\n",
       "\\begin{tabular}{r|llllllll}\n",
       "  & product\\_cd & category\\_major\\_cd & category\\_medium\\_cd & category\\_small\\_cd & unit\\_price & unit\\_cost & new\\_unit\\_price & profit\\_percentage\\\\\n",
       "  & <chr> & <chr> & <chr> & <chr> & <int> & <int> & <dbl> & <dbl>\\\\\n",
       "\\hline\n",
       "\t1 & P040101001 & 04 & 0401 & 040101 & 198 & 149 & 194 & 0.3020134\\\\\n",
       "\t2 & P040101002 & 04 & 0401 & 040101 & 218 & 164 & 214 & 0.3048780\\\\\n",
       "\t3 & P040101003 & 04 & 0401 & 040101 & 230 & 173 & 225 & 0.3005780\\\\\n",
       "\t4 & P040101004 & 04 & 0401 & 040101 & 248 & 186 & 242 & 0.3010753\\\\\n",
       "\t5 & P040101005 & 04 & 0401 & 040101 & 268 & 201 & 262 & 0.3034826\\\\\n",
       "\t6 & P040101006 & 04 & 0401 & 040101 & 298 & 224 & 292 & 0.3035714\\\\\n",
       "\t7 & P040101007 & 04 & 0401 & 040101 & 338 & 254 & 331 & 0.3031496\\\\\n",
       "\t8 & P040101008 & 04 & 0401 & 040101 & 420 & 315 & 410 & 0.3015873\\\\\n",
       "\t9 & P040101009 & 04 & 0401 & 040101 & 498 & 374 & 487 & 0.3021390\\\\\n",
       "\t10 & P040101010 & 04 & 0401 & 040101 & 580 & 435 & 566 & 0.3011494\\\\\n",
       "\\end{tabular}\n"
      ],
      "text/markdown": [
       "\n",
       "A data.frame: 10 × 8\n",
       "\n",
       "| <!--/--> | product_cd &lt;chr&gt; | category_major_cd &lt;chr&gt; | category_medium_cd &lt;chr&gt; | category_small_cd &lt;chr&gt; | unit_price &lt;int&gt; | unit_cost &lt;int&gt; | new_unit_price &lt;dbl&gt; | profit_percentage &lt;dbl&gt; |\n",
       "|---|---|---|---|---|---|---|---|---|\n",
       "| 1 | P040101001 | 04 | 0401 | 040101 | 198 | 149 | 194 | 0.3020134 |\n",
       "| 2 | P040101002 | 04 | 0401 | 040101 | 218 | 164 | 214 | 0.3048780 |\n",
       "| 3 | P040101003 | 04 | 0401 | 040101 | 230 | 173 | 225 | 0.3005780 |\n",
       "| 4 | P040101004 | 04 | 0401 | 040101 | 248 | 186 | 242 | 0.3010753 |\n",
       "| 5 | P040101005 | 04 | 0401 | 040101 | 268 | 201 | 262 | 0.3034826 |\n",
       "| 6 | P040101006 | 04 | 0401 | 040101 | 298 | 224 | 292 | 0.3035714 |\n",
       "| 7 | P040101007 | 04 | 0401 | 040101 | 338 | 254 | 331 | 0.3031496 |\n",
       "| 8 | P040101008 | 04 | 0401 | 040101 | 420 | 315 | 410 | 0.3015873 |\n",
       "| 9 | P040101009 | 04 | 0401 | 040101 | 498 | 374 | 487 | 0.3021390 |\n",
       "| 10 | P040101010 | 04 | 0401 | 040101 | 580 | 435 | 566 | 0.3011494 |\n",
       "\n"
      ],
      "text/plain": [
       "   product_cd category_major_cd category_medium_cd category_small_cd unit_price\n",
       "1  P040101001 04                0401               040101            198       \n",
       "2  P040101002 04                0401               040101            218       \n",
       "3  P040101003 04                0401               040101            230       \n",
       "4  P040101004 04                0401               040101            248       \n",
       "5  P040101005 04                0401               040101            268       \n",
       "6  P040101006 04                0401               040101            298       \n",
       "7  P040101007 04                0401               040101            338       \n",
       "8  P040101008 04                0401               040101            420       \n",
       "9  P040101009 04                0401               040101            498       \n",
       "10 P040101010 04                0401               040101            580       \n",
       "   unit_cost new_unit_price profit_percentage\n",
       "1  149       194            0.3020134        \n",
       "2  164       214            0.3048780        \n",
       "3  173       225            0.3005780        \n",
       "4  186       242            0.3010753        \n",
       "5  201       262            0.3034826        \n",
       "6  224       292            0.3035714        \n",
       "7  254       331            0.3031496        \n",
       "8  315       410            0.3015873        \n",
       "9  374       487            0.3021390        \n",
       "10 435       566            0.3011494        "
      ]
     },
     "metadata": {},
     "output_type": "display_data"
    }
   ],
   "source": [
    "df_product %>% mutate(new_unit_price = ceiling(unit_cost * 1.3)) %>% mutate(profit_percentage = (new_unit_price - unit_cost)/unit_cost) %>% head(10)"
   ]
  },
  {
   "cell_type": "markdown",
   "metadata": {},
   "source": [
    "---\n",
    "> R-068: 商品データ（df_product）の各商品について、消費税率10％の税込み金額を求めよ。1円未満の端数は切り捨てとし、結果を10件表示せよ。ただし、単価（unit_price）には欠損が生じていることに注意せよ。"
   ]
  },
  {
   "cell_type": "code",
   "execution_count": 70,
   "metadata": {},
   "outputs": [
    {
     "data": {
      "text/html": [
       "<table class=\"dataframe\">\n",
       "<caption>A data.frame: 10 × 7</caption>\n",
       "<thead>\n",
       "\t<tr><th></th><th scope=col>product_cd</th><th scope=col>category_major_cd</th><th scope=col>category_medium_cd</th><th scope=col>category_small_cd</th><th scope=col>unit_price</th><th scope=col>unit_cost</th><th scope=col>price_with_tax</th></tr>\n",
       "\t<tr><th></th><th scope=col>&lt;chr&gt;</th><th scope=col>&lt;chr&gt;</th><th scope=col>&lt;chr&gt;</th><th scope=col>&lt;chr&gt;</th><th scope=col>&lt;int&gt;</th><th scope=col>&lt;int&gt;</th><th scope=col>&lt;dbl&gt;</th></tr>\n",
       "</thead>\n",
       "<tbody>\n",
       "\t<tr><th scope=row>1</th><td>P040101001</td><td>04</td><td>0401</td><td>040101</td><td>198</td><td>149</td><td>217</td></tr>\n",
       "\t<tr><th scope=row>2</th><td>P040101002</td><td>04</td><td>0401</td><td>040101</td><td>218</td><td>164</td><td>239</td></tr>\n",
       "\t<tr><th scope=row>3</th><td>P040101003</td><td>04</td><td>0401</td><td>040101</td><td>230</td><td>173</td><td>253</td></tr>\n",
       "\t<tr><th scope=row>4</th><td>P040101004</td><td>04</td><td>0401</td><td>040101</td><td>248</td><td>186</td><td>272</td></tr>\n",
       "\t<tr><th scope=row>5</th><td>P040101005</td><td>04</td><td>0401</td><td>040101</td><td>268</td><td>201</td><td>294</td></tr>\n",
       "\t<tr><th scope=row>6</th><td>P040101006</td><td>04</td><td>0401</td><td>040101</td><td>298</td><td>224</td><td>327</td></tr>\n",
       "\t<tr><th scope=row>7</th><td>P040101007</td><td>04</td><td>0401</td><td>040101</td><td>338</td><td>254</td><td>371</td></tr>\n",
       "\t<tr><th scope=row>8</th><td>P040101008</td><td>04</td><td>0401</td><td>040101</td><td>420</td><td>315</td><td>462</td></tr>\n",
       "\t<tr><th scope=row>9</th><td>P040101009</td><td>04</td><td>0401</td><td>040101</td><td>498</td><td>374</td><td>547</td></tr>\n",
       "\t<tr><th scope=row>10</th><td>P040101010</td><td>04</td><td>0401</td><td>040101</td><td>580</td><td>435</td><td>638</td></tr>\n",
       "</tbody>\n",
       "</table>\n"
      ],
      "text/latex": [
       "A data.frame: 10 × 7\n",
       "\\begin{tabular}{r|lllllll}\n",
       "  & product\\_cd & category\\_major\\_cd & category\\_medium\\_cd & category\\_small\\_cd & unit\\_price & unit\\_cost & price\\_with\\_tax\\\\\n",
       "  & <chr> & <chr> & <chr> & <chr> & <int> & <int> & <dbl>\\\\\n",
       "\\hline\n",
       "\t1 & P040101001 & 04 & 0401 & 040101 & 198 & 149 & 217\\\\\n",
       "\t2 & P040101002 & 04 & 0401 & 040101 & 218 & 164 & 239\\\\\n",
       "\t3 & P040101003 & 04 & 0401 & 040101 & 230 & 173 & 253\\\\\n",
       "\t4 & P040101004 & 04 & 0401 & 040101 & 248 & 186 & 272\\\\\n",
       "\t5 & P040101005 & 04 & 0401 & 040101 & 268 & 201 & 294\\\\\n",
       "\t6 & P040101006 & 04 & 0401 & 040101 & 298 & 224 & 327\\\\\n",
       "\t7 & P040101007 & 04 & 0401 & 040101 & 338 & 254 & 371\\\\\n",
       "\t8 & P040101008 & 04 & 0401 & 040101 & 420 & 315 & 462\\\\\n",
       "\t9 & P040101009 & 04 & 0401 & 040101 & 498 & 374 & 547\\\\\n",
       "\t10 & P040101010 & 04 & 0401 & 040101 & 580 & 435 & 638\\\\\n",
       "\\end{tabular}\n"
      ],
      "text/markdown": [
       "\n",
       "A data.frame: 10 × 7\n",
       "\n",
       "| <!--/--> | product_cd &lt;chr&gt; | category_major_cd &lt;chr&gt; | category_medium_cd &lt;chr&gt; | category_small_cd &lt;chr&gt; | unit_price &lt;int&gt; | unit_cost &lt;int&gt; | price_with_tax &lt;dbl&gt; |\n",
       "|---|---|---|---|---|---|---|---|\n",
       "| 1 | P040101001 | 04 | 0401 | 040101 | 198 | 149 | 217 |\n",
       "| 2 | P040101002 | 04 | 0401 | 040101 | 218 | 164 | 239 |\n",
       "| 3 | P040101003 | 04 | 0401 | 040101 | 230 | 173 | 253 |\n",
       "| 4 | P040101004 | 04 | 0401 | 040101 | 248 | 186 | 272 |\n",
       "| 5 | P040101005 | 04 | 0401 | 040101 | 268 | 201 | 294 |\n",
       "| 6 | P040101006 | 04 | 0401 | 040101 | 298 | 224 | 327 |\n",
       "| 7 | P040101007 | 04 | 0401 | 040101 | 338 | 254 | 371 |\n",
       "| 8 | P040101008 | 04 | 0401 | 040101 | 420 | 315 | 462 |\n",
       "| 9 | P040101009 | 04 | 0401 | 040101 | 498 | 374 | 547 |\n",
       "| 10 | P040101010 | 04 | 0401 | 040101 | 580 | 435 | 638 |\n",
       "\n"
      ],
      "text/plain": [
       "   product_cd category_major_cd category_medium_cd category_small_cd unit_price\n",
       "1  P040101001 04                0401               040101            198       \n",
       "2  P040101002 04                0401               040101            218       \n",
       "3  P040101003 04                0401               040101            230       \n",
       "4  P040101004 04                0401               040101            248       \n",
       "5  P040101005 04                0401               040101            268       \n",
       "6  P040101006 04                0401               040101            298       \n",
       "7  P040101007 04                0401               040101            338       \n",
       "8  P040101008 04                0401               040101            420       \n",
       "9  P040101009 04                0401               040101            498       \n",
       "10 P040101010 04                0401               040101            580       \n",
       "   unit_cost price_with_tax\n",
       "1  149       217           \n",
       "2  164       239           \n",
       "3  173       253           \n",
       "4  186       272           \n",
       "5  201       294           \n",
       "6  224       327           \n",
       "7  254       371           \n",
       "8  315       462           \n",
       "9  374       547           \n",
       "10 435       638           "
      ]
     },
     "metadata": {},
     "output_type": "display_data"
    }
   ],
   "source": [
    "df_product %>% mutate(price_with_tax = floor(unit_price * 1.1)) %>% head(10)"
   ]
  },
  {
   "cell_type": "markdown",
   "metadata": {},
   "source": [
    "---\n",
    "> R-069: レシート明細データ（df_receipt）と商品データ（df_product）を結合し、顧客毎に全商品の売上金額合計と、カテゴリ大区分コード（category_major_cd）が\"07\"（瓶詰缶詰）の売上金額合計を計算の上、両者の比率を求めよ。抽出対象はカテゴリ大区分コード\"07\"（瓶詰缶詰）の売上実績がある顧客のみとし、結果を10件表示せよ。"
   ]
  },
  {
   "cell_type": "code",
   "execution_count": 71,
   "metadata": {},
   "outputs": [
    {
     "data": {
      "text/html": [
       "<table class=\"dataframe\">\n",
       "<caption>A tibble: 10 × 4</caption>\n",
       "<thead>\n",
       "\t<tr><th scope=col>customer_id</th><th scope=col>Sum</th><th scope=col>Sum07</th><th scope=col>percentage07</th></tr>\n",
       "\t<tr><th scope=col>&lt;chr&gt;</th><th scope=col>&lt;int&gt;</th><th scope=col>&lt;int&gt;</th><th scope=col>&lt;dbl&gt;</th></tr>\n",
       "</thead>\n",
       "<tbody>\n",
       "\t<tr><td>CS001113000004</td><td>1298</td><td>1298</td><td>1.0000000</td></tr>\n",
       "\t<tr><td>CS001114000005</td><td> 626</td><td> 486</td><td>0.7763578</td></tr>\n",
       "\t<tr><td>CS001115000010</td><td>3044</td><td>2694</td><td>0.8850197</td></tr>\n",
       "\t<tr><td>CS001205000004</td><td>1988</td><td> 346</td><td>0.1740443</td></tr>\n",
       "\t<tr><td>CS001205000006</td><td>3337</td><td>2004</td><td>0.6005394</td></tr>\n",
       "\t<tr><td>CS001212000027</td><td> 448</td><td> 200</td><td>0.4464286</td></tr>\n",
       "\t<tr><td>CS001212000031</td><td> 296</td><td> 296</td><td>1.0000000</td></tr>\n",
       "\t<tr><td>CS001212000046</td><td> 228</td><td> 108</td><td>0.4736842</td></tr>\n",
       "\t<tr><td>CS001212000070</td><td> 456</td><td> 308</td><td>0.6754386</td></tr>\n",
       "\t<tr><td>CS001213000018</td><td> 243</td><td> 145</td><td>0.5967078</td></tr>\n",
       "</tbody>\n",
       "</table>\n"
      ],
      "text/latex": [
       "A tibble: 10 × 4\n",
       "\\begin{tabular}{llll}\n",
       " customer\\_id & Sum & Sum07 & percentage07\\\\\n",
       " <chr> & <int> & <int> & <dbl>\\\\\n",
       "\\hline\n",
       "\t CS001113000004 & 1298 & 1298 & 1.0000000\\\\\n",
       "\t CS001114000005 &  626 &  486 & 0.7763578\\\\\n",
       "\t CS001115000010 & 3044 & 2694 & 0.8850197\\\\\n",
       "\t CS001205000004 & 1988 &  346 & 0.1740443\\\\\n",
       "\t CS001205000006 & 3337 & 2004 & 0.6005394\\\\\n",
       "\t CS001212000027 &  448 &  200 & 0.4464286\\\\\n",
       "\t CS001212000031 &  296 &  296 & 1.0000000\\\\\n",
       "\t CS001212000046 &  228 &  108 & 0.4736842\\\\\n",
       "\t CS001212000070 &  456 &  308 & 0.6754386\\\\\n",
       "\t CS001213000018 &  243 &  145 & 0.5967078\\\\\n",
       "\\end{tabular}\n"
      ],
      "text/markdown": [
       "\n",
       "A tibble: 10 × 4\n",
       "\n",
       "| customer_id &lt;chr&gt; | Sum &lt;int&gt; | Sum07 &lt;int&gt; | percentage07 &lt;dbl&gt; |\n",
       "|---|---|---|---|\n",
       "| CS001113000004 | 1298 | 1298 | 1.0000000 |\n",
       "| CS001114000005 |  626 |  486 | 0.7763578 |\n",
       "| CS001115000010 | 3044 | 2694 | 0.8850197 |\n",
       "| CS001205000004 | 1988 |  346 | 0.1740443 |\n",
       "| CS001205000006 | 3337 | 2004 | 0.6005394 |\n",
       "| CS001212000027 |  448 |  200 | 0.4464286 |\n",
       "| CS001212000031 |  296 |  296 | 1.0000000 |\n",
       "| CS001212000046 |  228 |  108 | 0.4736842 |\n",
       "| CS001212000070 |  456 |  308 | 0.6754386 |\n",
       "| CS001213000018 |  243 |  145 | 0.5967078 |\n",
       "\n"
      ],
      "text/plain": [
       "   customer_id    Sum  Sum07 percentage07\n",
       "1  CS001113000004 1298 1298  1.0000000   \n",
       "2  CS001114000005  626  486  0.7763578   \n",
       "3  CS001115000010 3044 2694  0.8850197   \n",
       "4  CS001205000004 1988  346  0.1740443   \n",
       "5  CS001205000006 3337 2004  0.6005394   \n",
       "6  CS001212000027  448  200  0.4464286   \n",
       "7  CS001212000031  296  296  1.0000000   \n",
       "8  CS001212000046  228  108  0.4736842   \n",
       "9  CS001212000070  456  308  0.6754386   \n",
       "10 CS001213000018  243  145  0.5967078   "
      ]
     },
     "metadata": {},
     "output_type": "display_data"
    }
   ],
   "source": [
    "left_join(df_receipt, df_product, by = \"product_cd\") %>%\n",
    "    group_by(customer_id) %>%\n",
    "    mutate(amount07 = amount * (category_major_cd == \"07\")) %>%\n",
    "    summarize(Sum = sum(amount), Sum07 = sum(amount07)) %>%\n",
    "    filter(Sum07 != 0) %>%\n",
    "    mutate(percentage07 = Sum07 / Sum) %>%\n",
    "    head(10)"
   ]
  },
  {
   "cell_type": "markdown",
   "metadata": {},
   "source": [
    "---\n",
    "> R-070: レシート明細データ（df_receipt）の売上日（sales_ymd）に対し、顧客データ（df_customer）の会員申込日（application_date）からの経過日数を計算し、顧客ID（customer_id）、売上日、会員申込日とともに10件表示せよ（sales_ymdは数値、application_dateは文字列でデータを保持している点に注意）。"
   ]
  },
  {
   "cell_type": "code",
   "execution_count": 72,
   "metadata": {},
   "outputs": [
    {
     "data": {
      "text/html": [
       "<table class=\"dataframe\">\n",
       "<caption>A data.frame: 10 × 4</caption>\n",
       "<thead>\n",
       "\t<tr><th></th><th scope=col>customer_id</th><th scope=col>sales_ymd</th><th scope=col>application_date</th><th scope=col>since_applied</th></tr>\n",
       "\t<tr><th></th><th scope=col>&lt;chr&gt;</th><th scope=col>&lt;int&gt;</th><th scope=col>&lt;chr&gt;</th><th scope=col>&lt;drtn&gt;</th></tr>\n",
       "</thead>\n",
       "<tbody>\n",
       "\t<tr><th scope=row>1</th><td>CS006214000001</td><td>20181103</td><td>20150201</td><td>1371 days</td></tr>\n",
       "\t<tr><th scope=row>2</th><td>CS008415000097</td><td>20181118</td><td>20150322</td><td>1337 days</td></tr>\n",
       "\t<tr><th scope=row>3</th><td>CS028414000014</td><td>20170712</td><td>20150711</td><td> 732 days</td></tr>\n",
       "\t<tr><th scope=row>4</th><td>ZZ000000000000</td><td>20190205</td><td>NA      </td><td>  NA days</td></tr>\n",
       "\t<tr><th scope=row>5</th><td>CS025415000050</td><td>20180821</td><td>20160131</td><td> 933 days</td></tr>\n",
       "\t<tr><th scope=row>6</th><td>CS003515000195</td><td>20190605</td><td>20150306</td><td>1552 days</td></tr>\n",
       "\t<tr><th scope=row>7</th><td>CS024514000042</td><td>20181205</td><td>20151010</td><td>1152 days</td></tr>\n",
       "\t<tr><th scope=row>8</th><td>CS040415000178</td><td>20190922</td><td>20150627</td><td>1548 days</td></tr>\n",
       "\t<tr><th scope=row>9</th><td>ZZ000000000000</td><td>20170504</td><td>NA      </td><td>  NA days</td></tr>\n",
       "\t<tr><th scope=row>10</th><td>CS027514000015</td><td>20191010</td><td>20151101</td><td>1439 days</td></tr>\n",
       "</tbody>\n",
       "</table>\n"
      ],
      "text/latex": [
       "A data.frame: 10 × 4\n",
       "\\begin{tabular}{r|llll}\n",
       "  & customer\\_id & sales\\_ymd & application\\_date & since\\_applied\\\\\n",
       "  & <chr> & <int> & <chr> & <drtn>\\\\\n",
       "\\hline\n",
       "\t1 & CS006214000001 & 20181103 & 20150201 & 1371 days\\\\\n",
       "\t2 & CS008415000097 & 20181118 & 20150322 & 1337 days\\\\\n",
       "\t3 & CS028414000014 & 20170712 & 20150711 &  732 days\\\\\n",
       "\t4 & ZZ000000000000 & 20190205 & NA       &   NA days\\\\\n",
       "\t5 & CS025415000050 & 20180821 & 20160131 &  933 days\\\\\n",
       "\t6 & CS003515000195 & 20190605 & 20150306 & 1552 days\\\\\n",
       "\t7 & CS024514000042 & 20181205 & 20151010 & 1152 days\\\\\n",
       "\t8 & CS040415000178 & 20190922 & 20150627 & 1548 days\\\\\n",
       "\t9 & ZZ000000000000 & 20170504 & NA       &   NA days\\\\\n",
       "\t10 & CS027514000015 & 20191010 & 20151101 & 1439 days\\\\\n",
       "\\end{tabular}\n"
      ],
      "text/markdown": [
       "\n",
       "A data.frame: 10 × 4\n",
       "\n",
       "| <!--/--> | customer_id &lt;chr&gt; | sales_ymd &lt;int&gt; | application_date &lt;chr&gt; | since_applied &lt;drtn&gt; |\n",
       "|---|---|---|---|---|\n",
       "| 1 | CS006214000001 | 20181103 | 20150201 | 1371 days |\n",
       "| 2 | CS008415000097 | 20181118 | 20150322 | 1337 days |\n",
       "| 3 | CS028414000014 | 20170712 | 20150711 |  732 days |\n",
       "| 4 | ZZ000000000000 | 20190205 | NA       |   NA days |\n",
       "| 5 | CS025415000050 | 20180821 | 20160131 |  933 days |\n",
       "| 6 | CS003515000195 | 20190605 | 20150306 | 1552 days |\n",
       "| 7 | CS024514000042 | 20181205 | 20151010 | 1152 days |\n",
       "| 8 | CS040415000178 | 20190922 | 20150627 | 1548 days |\n",
       "| 9 | ZZ000000000000 | 20170504 | NA       |   NA days |\n",
       "| 10 | CS027514000015 | 20191010 | 20151101 | 1439 days |\n",
       "\n"
      ],
      "text/plain": [
       "   customer_id    sales_ymd application_date since_applied\n",
       "1  CS006214000001 20181103  20150201         1371 days    \n",
       "2  CS008415000097 20181118  20150322         1337 days    \n",
       "3  CS028414000014 20170712  20150711          732 days    \n",
       "4  ZZ000000000000 20190205  NA                 NA days    \n",
       "5  CS025415000050 20180821  20160131          933 days    \n",
       "6  CS003515000195 20190605  20150306         1552 days    \n",
       "7  CS024514000042 20181205  20151010         1152 days    \n",
       "8  CS040415000178 20190922  20150627         1548 days    \n",
       "9  ZZ000000000000 20170504  NA                 NA days    \n",
       "10 CS027514000015 20191010  20151101         1439 days    "
      ]
     },
     "metadata": {},
     "output_type": "display_data"
    }
   ],
   "source": [
    "left_join(df_receipt, df_customer, by=\"customer_id\") %>%\n",
    "    mutate(since_applied = difftime(ymd(sales_ymd), ymd(application_date))) %>%\n",
    "    select(customer_id, sales_ymd, application_date, since_applied) %>%\n",
    "    head(10)"
   ]
  },
  {
   "cell_type": "markdown",
   "metadata": {},
   "source": [
    "---\n",
    "## R-071 PASS\n",
    "> R-071: レシート明細データ（df_receipt）の売上日（sales_ymd）に対し、顧客データ（df_customer）の会員申込日（application_date）からの経過月数を計算し、顧客ID（customer_id）、売上日、会員申込日とともに10件表示せよ（sales_ymdは数値、application_dateは文字列でデータを保持している点に注意）。1ヶ月未満は切り捨てること。"
   ]
  },
  {
   "cell_type": "code",
   "execution_count": 73,
   "metadata": {},
   "outputs": [
    {
     "ename": "ERROR",
     "evalue": "\u001b[1m\u001b[33mError\u001b[39m in `mutate()`:\u001b[22m\n\u001b[1m\u001b[22m\u001b[36mℹ\u001b[39m In argument: `since_applied = -...`.\n\u001b[1mCaused by error in `seq.Date()`:\u001b[22m\n\u001b[33m!\u001b[39m 'from' must be of length 1\n",
     "output_type": "error",
     "traceback": [
      "\u001b[1m\u001b[33mError\u001b[39m in `mutate()`:\u001b[22m\n\u001b[1m\u001b[22m\u001b[36mℹ\u001b[39m In argument: `since_applied = -...`.\n\u001b[1mCaused by error in `seq.Date()`:\u001b[22m\n\u001b[33m!\u001b[39m 'from' must be of length 1\nTraceback:\n",
      "1. left_join(df_receipt, df_customer, by = \"customer_id\") %>% mutate(since_applied = length(seq(ymd(application_date), \n .     ymd(sales_ymd), \"month\")) - 1) %>% select(customer_id, sales_ymd, \n .     application_date, since_applied) %>% head(10)",
      "2. head(., 10)",
      "3. select(., customer_id, sales_ymd, application_date, since_applied)",
      "4. mutate(., since_applied = length(seq(ymd(application_date), ymd(sales_ymd), \n .     \"month\")) - 1)",
      "5. mutate.data.frame(., since_applied = length(seq(ymd(application_date), \n .     ymd(sales_ymd), \"month\")) - 1)",
      "6. mutate_cols(.data, dplyr_quosures(...), by)",
      "7. withCallingHandlers(for (i in seq_along(dots)) {\n .     poke_error_context(dots, i, mask = mask)\n .     context_poke(\"column\", old_current_column)\n .     new_columns <- mutate_col(dots[[i]], data, mask, new_columns)\n . }, error = dplyr_error_handler(dots = dots, mask = mask, bullets = mutate_bullets, \n .     error_call = error_call, error_class = \"dplyr:::mutate_error\"), \n .     warning = dplyr_warning_handler(state = warnings_state, mask = mask, \n .         error_call = error_call))",
      "8. mutate_col(dots[[i]], data, mask, new_columns)",
      "9. mask$eval_all_mutate(quo)",
      "10. eval()",
      "11. seq(ymd(application_date), ymd(sales_ymd), \"month\")",
      "12. seq.Date(ymd(application_date), ymd(sales_ymd), \"month\")",
      "13. stop(\"'from' must be of length 1\")",
      "14. .handleSimpleError(function (cnd) \n  . {\n  .     local_error_context(dots, i = frame[[i_sym]], mask = mask)\n  .     if (inherits(cnd, \"dplyr:::internal_error\")) {\n  .         parent <- error_cnd(message = bullets(cnd))\n  .     }\n  .     else {\n  .         parent <- cnd\n  .     }\n  .     message <- c(cnd_bullet_header(action), i = if (has_active_group_context(mask)) cnd_bullet_cur_group_label())\n  .     abort(message, class = error_class, parent = parent, call = error_call)\n  . }, \"'from' must be of length 1\", base::quote(seq.Date(ymd(application_date), \n  .     ymd(sales_ymd), \"month\")))",
      "15. h(simpleError(msg, call))",
      "16. abort(message, class = error_class, parent = parent, call = error_call)",
      "17. signal_abort(cnd, .file)"
     ]
    }
   ],
   "source": [
    "left_join(df_receipt, df_customer, by=\"customer_id\") %>%\n",
    "    mutate(since_applied = length(seq(ymd(application_date), ymd(sales_ymd), \"month\"))-1) %>%\n",
    "    select(customer_id, sales_ymd, application_date, since_applied) %>%\n",
    "    head(10)\n",
    "# PASS\n",
    "\n"
   ]
  },
  {
   "cell_type": "markdown",
   "metadata": {},
   "source": [
    "---\n",
    "> R-072: レシート明細データ（df_receipt）の売上日（df_customer）に対し、顧客データ（df_customer）の会員申込日（application_date）からの経過年数を計算し、顧客ID（customer_id）、売上日、会員申込日とともに10件表示せよ（sales_ymdは数値、application_dateは文字列でデータを保持している点に注意）。1年未満は切り捨てること。"
   ]
  },
  {
   "cell_type": "code",
   "execution_count": 74,
   "metadata": {},
   "outputs": [
    {
     "data": {
      "text/html": [
       "<table class=\"dataframe\">\n",
       "<caption>A data.frame: 10 × 4</caption>\n",
       "<thead>\n",
       "\t<tr><th></th><th scope=col>customer_id</th><th scope=col>sales_ymd</th><th scope=col>application_date</th><th scope=col>since_applied</th></tr>\n",
       "\t<tr><th></th><th scope=col>&lt;chr&gt;</th><th scope=col>&lt;int&gt;</th><th scope=col>&lt;chr&gt;</th><th scope=col>&lt;dbl&gt;</th></tr>\n",
       "</thead>\n",
       "<tbody>\n",
       "\t<tr><th scope=row>1</th><td>CS006214000001</td><td>20181103</td><td>20150201</td><td> 3</td></tr>\n",
       "\t<tr><th scope=row>2</th><td>CS008415000097</td><td>20181118</td><td>20150322</td><td> 3</td></tr>\n",
       "\t<tr><th scope=row>3</th><td>CS028414000014</td><td>20170712</td><td>20150711</td><td> 2</td></tr>\n",
       "\t<tr><th scope=row>4</th><td>ZZ000000000000</td><td>20190205</td><td>NA      </td><td>NA</td></tr>\n",
       "\t<tr><th scope=row>5</th><td>CS025415000050</td><td>20180821</td><td>20160131</td><td> 2</td></tr>\n",
       "\t<tr><th scope=row>6</th><td>CS003515000195</td><td>20190605</td><td>20150306</td><td> 4</td></tr>\n",
       "\t<tr><th scope=row>7</th><td>CS024514000042</td><td>20181205</td><td>20151010</td><td> 3</td></tr>\n",
       "\t<tr><th scope=row>8</th><td>CS040415000178</td><td>20190922</td><td>20150627</td><td> 4</td></tr>\n",
       "\t<tr><th scope=row>9</th><td>ZZ000000000000</td><td>20170504</td><td>NA      </td><td>NA</td></tr>\n",
       "\t<tr><th scope=row>10</th><td>CS027514000015</td><td>20191010</td><td>20151101</td><td> 3</td></tr>\n",
       "</tbody>\n",
       "</table>\n"
      ],
      "text/latex": [
       "A data.frame: 10 × 4\n",
       "\\begin{tabular}{r|llll}\n",
       "  & customer\\_id & sales\\_ymd & application\\_date & since\\_applied\\\\\n",
       "  & <chr> & <int> & <chr> & <dbl>\\\\\n",
       "\\hline\n",
       "\t1 & CS006214000001 & 20181103 & 20150201 &  3\\\\\n",
       "\t2 & CS008415000097 & 20181118 & 20150322 &  3\\\\\n",
       "\t3 & CS028414000014 & 20170712 & 20150711 &  2\\\\\n",
       "\t4 & ZZ000000000000 & 20190205 & NA       & NA\\\\\n",
       "\t5 & CS025415000050 & 20180821 & 20160131 &  2\\\\\n",
       "\t6 & CS003515000195 & 20190605 & 20150306 &  4\\\\\n",
       "\t7 & CS024514000042 & 20181205 & 20151010 &  3\\\\\n",
       "\t8 & CS040415000178 & 20190922 & 20150627 &  4\\\\\n",
       "\t9 & ZZ000000000000 & 20170504 & NA       & NA\\\\\n",
       "\t10 & CS027514000015 & 20191010 & 20151101 &  3\\\\\n",
       "\\end{tabular}\n"
      ],
      "text/markdown": [
       "\n",
       "A data.frame: 10 × 4\n",
       "\n",
       "| <!--/--> | customer_id &lt;chr&gt; | sales_ymd &lt;int&gt; | application_date &lt;chr&gt; | since_applied &lt;dbl&gt; |\n",
       "|---|---|---|---|---|\n",
       "| 1 | CS006214000001 | 20181103 | 20150201 |  3 |\n",
       "| 2 | CS008415000097 | 20181118 | 20150322 |  3 |\n",
       "| 3 | CS028414000014 | 20170712 | 20150711 |  2 |\n",
       "| 4 | ZZ000000000000 | 20190205 | NA       | NA |\n",
       "| 5 | CS025415000050 | 20180821 | 20160131 |  2 |\n",
       "| 6 | CS003515000195 | 20190605 | 20150306 |  4 |\n",
       "| 7 | CS024514000042 | 20181205 | 20151010 |  3 |\n",
       "| 8 | CS040415000178 | 20190922 | 20150627 |  4 |\n",
       "| 9 | ZZ000000000000 | 20170504 | NA       | NA |\n",
       "| 10 | CS027514000015 | 20191010 | 20151101 |  3 |\n",
       "\n"
      ],
      "text/plain": [
       "   customer_id    sales_ymd application_date since_applied\n",
       "1  CS006214000001 20181103  20150201          3           \n",
       "2  CS008415000097 20181118  20150322          3           \n",
       "3  CS028414000014 20170712  20150711          2           \n",
       "4  ZZ000000000000 20190205  NA               NA           \n",
       "5  CS025415000050 20180821  20160131          2           \n",
       "6  CS003515000195 20190605  20150306          4           \n",
       "7  CS024514000042 20181205  20151010          3           \n",
       "8  CS040415000178 20190922  20150627          4           \n",
       "9  ZZ000000000000 20170504  NA               NA           \n",
       "10 CS027514000015 20191010  20151101          3           "
      ]
     },
     "metadata": {},
     "output_type": "display_data"
    }
   ],
   "source": [
    "left_join(df_receipt, df_customer, by=\"customer_id\") %>%\n",
    "    mutate(since_applied = floor(time_length(difftime(ymd(sales_ymd), ymd(application_date)), \"year\"))) %>%\n",
    "    select(customer_id, sales_ymd, application_date, since_applied) %>%\n",
    "    head(10)"
   ]
  },
  {
   "cell_type": "markdown",
   "metadata": {},
   "source": [
    "---\n",
    "> R-073: レシート明細データ（df_receipt）の売上日（sales_ymd）に対し、顧客データ（df_customer）の会員申込日（application_date）からのエポック秒による経過時間を計算し、顧客ID（customer_id）、売上日、会員申込日とともに10件表示せよ（なお、sales_ymdは数値、application_dateは文字列でデータを保持している点に注意）。なお、時間情報は保有していないため各日付は0時0分0秒を表すものとする。"
   ]
  },
  {
   "cell_type": "code",
   "execution_count": 75,
   "metadata": {},
   "outputs": [
    {
     "data": {
      "text/html": [
       "<table class=\"dataframe\">\n",
       "<caption>A data.frame: 10 × 4</caption>\n",
       "<thead>\n",
       "\t<tr><th></th><th scope=col>customer_id</th><th scope=col>sales_ymd</th><th scope=col>application_date</th><th scope=col>since_applied</th></tr>\n",
       "\t<tr><th></th><th scope=col>&lt;chr&gt;</th><th scope=col>&lt;int&gt;</th><th scope=col>&lt;chr&gt;</th><th scope=col>&lt;dbl&gt;</th></tr>\n",
       "</thead>\n",
       "<tbody>\n",
       "\t<tr><th scope=row>1</th><td>CS006214000001</td><td>20181103</td><td>20150201</td><td>118454400</td></tr>\n",
       "\t<tr><th scope=row>2</th><td>CS008415000097</td><td>20181118</td><td>20150322</td><td>115516800</td></tr>\n",
       "\t<tr><th scope=row>3</th><td>CS028414000014</td><td>20170712</td><td>20150711</td><td> 63244800</td></tr>\n",
       "\t<tr><th scope=row>4</th><td>ZZ000000000000</td><td>20190205</td><td>NA      </td><td>       NA</td></tr>\n",
       "\t<tr><th scope=row>5</th><td>CS025415000050</td><td>20180821</td><td>20160131</td><td> 80611200</td></tr>\n",
       "\t<tr><th scope=row>6</th><td>CS003515000195</td><td>20190605</td><td>20150306</td><td>134092800</td></tr>\n",
       "\t<tr><th scope=row>7</th><td>CS024514000042</td><td>20181205</td><td>20151010</td><td> 99532800</td></tr>\n",
       "\t<tr><th scope=row>8</th><td>CS040415000178</td><td>20190922</td><td>20150627</td><td>133747200</td></tr>\n",
       "\t<tr><th scope=row>9</th><td>ZZ000000000000</td><td>20170504</td><td>NA      </td><td>       NA</td></tr>\n",
       "\t<tr><th scope=row>10</th><td>CS027514000015</td><td>20191010</td><td>20151101</td><td>124329600</td></tr>\n",
       "</tbody>\n",
       "</table>\n"
      ],
      "text/latex": [
       "A data.frame: 10 × 4\n",
       "\\begin{tabular}{r|llll}\n",
       "  & customer\\_id & sales\\_ymd & application\\_date & since\\_applied\\\\\n",
       "  & <chr> & <int> & <chr> & <dbl>\\\\\n",
       "\\hline\n",
       "\t1 & CS006214000001 & 20181103 & 20150201 & 118454400\\\\\n",
       "\t2 & CS008415000097 & 20181118 & 20150322 & 115516800\\\\\n",
       "\t3 & CS028414000014 & 20170712 & 20150711 &  63244800\\\\\n",
       "\t4 & ZZ000000000000 & 20190205 & NA       &        NA\\\\\n",
       "\t5 & CS025415000050 & 20180821 & 20160131 &  80611200\\\\\n",
       "\t6 & CS003515000195 & 20190605 & 20150306 & 134092800\\\\\n",
       "\t7 & CS024514000042 & 20181205 & 20151010 &  99532800\\\\\n",
       "\t8 & CS040415000178 & 20190922 & 20150627 & 133747200\\\\\n",
       "\t9 & ZZ000000000000 & 20170504 & NA       &        NA\\\\\n",
       "\t10 & CS027514000015 & 20191010 & 20151101 & 124329600\\\\\n",
       "\\end{tabular}\n"
      ],
      "text/markdown": [
       "\n",
       "A data.frame: 10 × 4\n",
       "\n",
       "| <!--/--> | customer_id &lt;chr&gt; | sales_ymd &lt;int&gt; | application_date &lt;chr&gt; | since_applied &lt;dbl&gt; |\n",
       "|---|---|---|---|---|\n",
       "| 1 | CS006214000001 | 20181103 | 20150201 | 118454400 |\n",
       "| 2 | CS008415000097 | 20181118 | 20150322 | 115516800 |\n",
       "| 3 | CS028414000014 | 20170712 | 20150711 |  63244800 |\n",
       "| 4 | ZZ000000000000 | 20190205 | NA       |        NA |\n",
       "| 5 | CS025415000050 | 20180821 | 20160131 |  80611200 |\n",
       "| 6 | CS003515000195 | 20190605 | 20150306 | 134092800 |\n",
       "| 7 | CS024514000042 | 20181205 | 20151010 |  99532800 |\n",
       "| 8 | CS040415000178 | 20190922 | 20150627 | 133747200 |\n",
       "| 9 | ZZ000000000000 | 20170504 | NA       |        NA |\n",
       "| 10 | CS027514000015 | 20191010 | 20151101 | 124329600 |\n",
       "\n"
      ],
      "text/plain": [
       "   customer_id    sales_ymd application_date since_applied\n",
       "1  CS006214000001 20181103  20150201         118454400    \n",
       "2  CS008415000097 20181118  20150322         115516800    \n",
       "3  CS028414000014 20170712  20150711          63244800    \n",
       "4  ZZ000000000000 20190205  NA                      NA    \n",
       "5  CS025415000050 20180821  20160131          80611200    \n",
       "6  CS003515000195 20190605  20150306         134092800    \n",
       "7  CS024514000042 20181205  20151010          99532800    \n",
       "8  CS040415000178 20190922  20150627         133747200    \n",
       "9  ZZ000000000000 20170504  NA                      NA    \n",
       "10 CS027514000015 20191010  20151101         124329600    "
      ]
     },
     "metadata": {},
     "output_type": "display_data"
    }
   ],
   "source": [
    "left_join(df_receipt, df_customer, by=\"customer_id\") %>%\n",
    "    mutate(since_applied = int_length(interval(ymd(application_date), ymd(sales_ymd)))) %>%\n",
    "    select(customer_id, sales_ymd, application_date, since_applied) %>%\n",
    "    head(10)"
   ]
  },
  {
   "cell_type": "markdown",
   "metadata": {},
   "source": [
    "---\n",
    "> R-074: レシート明細データ（df_receipt）の売上日（sales_ymd）に対し、当該週の月曜日からの経過日数を計算し、売上日、直前の月曜日付とともに10件表示せよ（sales_ymdは数値でデータを保持している点に注意）。"
   ]
  },
  {
   "cell_type": "code",
   "execution_count": 76,
   "metadata": {},
   "outputs": [
    {
     "data": {
      "text/html": [
       "<table class=\"dataframe\">\n",
       "<caption>A data.frame: 10 × 3</caption>\n",
       "<thead>\n",
       "\t<tr><th></th><th scope=col>sales_ymd</th><th scope=col>last_Monday</th><th scope=col>since_Monday</th></tr>\n",
       "\t<tr><th></th><th scope=col>&lt;int&gt;</th><th scope=col>&lt;date&gt;</th><th scope=col>&lt;dbl&gt;</th></tr>\n",
       "</thead>\n",
       "<tbody>\n",
       "\t<tr><th scope=row>1</th><td>20181103</td><td>2018-10-29</td><td>5</td></tr>\n",
       "\t<tr><th scope=row>2</th><td>20181118</td><td>2018-11-12</td><td>6</td></tr>\n",
       "\t<tr><th scope=row>3</th><td>20170712</td><td>2017-07-10</td><td>2</td></tr>\n",
       "\t<tr><th scope=row>4</th><td>20190205</td><td>2019-02-04</td><td>1</td></tr>\n",
       "\t<tr><th scope=row>5</th><td>20180821</td><td>2018-08-20</td><td>1</td></tr>\n",
       "\t<tr><th scope=row>6</th><td>20190605</td><td>2019-06-03</td><td>2</td></tr>\n",
       "\t<tr><th scope=row>7</th><td>20181205</td><td>2018-12-03</td><td>2</td></tr>\n",
       "\t<tr><th scope=row>8</th><td>20190922</td><td>2019-09-16</td><td>6</td></tr>\n",
       "\t<tr><th scope=row>9</th><td>20170504</td><td>2017-05-01</td><td>3</td></tr>\n",
       "\t<tr><th scope=row>10</th><td>20191010</td><td>2019-10-07</td><td>3</td></tr>\n",
       "</tbody>\n",
       "</table>\n"
      ],
      "text/latex": [
       "A data.frame: 10 × 3\n",
       "\\begin{tabular}{r|lll}\n",
       "  & sales\\_ymd & last\\_Monday & since\\_Monday\\\\\n",
       "  & <int> & <date> & <dbl>\\\\\n",
       "\\hline\n",
       "\t1 & 20181103 & 2018-10-29 & 5\\\\\n",
       "\t2 & 20181118 & 2018-11-12 & 6\\\\\n",
       "\t3 & 20170712 & 2017-07-10 & 2\\\\\n",
       "\t4 & 20190205 & 2019-02-04 & 1\\\\\n",
       "\t5 & 20180821 & 2018-08-20 & 1\\\\\n",
       "\t6 & 20190605 & 2019-06-03 & 2\\\\\n",
       "\t7 & 20181205 & 2018-12-03 & 2\\\\\n",
       "\t8 & 20190922 & 2019-09-16 & 6\\\\\n",
       "\t9 & 20170504 & 2017-05-01 & 3\\\\\n",
       "\t10 & 20191010 & 2019-10-07 & 3\\\\\n",
       "\\end{tabular}\n"
      ],
      "text/markdown": [
       "\n",
       "A data.frame: 10 × 3\n",
       "\n",
       "| <!--/--> | sales_ymd &lt;int&gt; | last_Monday &lt;date&gt; | since_Monday &lt;dbl&gt; |\n",
       "|---|---|---|---|\n",
       "| 1 | 20181103 | 2018-10-29 | 5 |\n",
       "| 2 | 20181118 | 2018-11-12 | 6 |\n",
       "| 3 | 20170712 | 2017-07-10 | 2 |\n",
       "| 4 | 20190205 | 2019-02-04 | 1 |\n",
       "| 5 | 20180821 | 2018-08-20 | 1 |\n",
       "| 6 | 20190605 | 2019-06-03 | 2 |\n",
       "| 7 | 20181205 | 2018-12-03 | 2 |\n",
       "| 8 | 20190922 | 2019-09-16 | 6 |\n",
       "| 9 | 20170504 | 2017-05-01 | 3 |\n",
       "| 10 | 20191010 | 2019-10-07 | 3 |\n",
       "\n"
      ],
      "text/plain": [
       "   sales_ymd last_Monday since_Monday\n",
       "1  20181103  2018-10-29  5           \n",
       "2  20181118  2018-11-12  6           \n",
       "3  20170712  2017-07-10  2           \n",
       "4  20190205  2019-02-04  1           \n",
       "5  20180821  2018-08-20  1           \n",
       "6  20190605  2019-06-03  2           \n",
       "7  20181205  2018-12-03  2           \n",
       "8  20190922  2019-09-16  6           \n",
       "9  20170504  2017-05-01  3           \n",
       "10 20191010  2019-10-07  3           "
      ]
     },
     "metadata": {},
     "output_type": "display_data"
    }
   ],
   "source": [
    "df_receipt %>%\n",
    "    mutate(since_Monday = wday(ymd(sales_ymd)+ 5) %% 7) %>%\n",
    "    mutate(last_Monday = ymd(sales_ymd) - since_Monday) %>%\n",
    "    select(sales_ymd, last_Monday, since_Monday) %>%\n",
    "    head(10)"
   ]
  },
  {
   "cell_type": "markdown",
   "metadata": {},
   "source": [
    "---\n",
    "> R-075: 顧客データ（df_customer）からランダムに1%のデータを抽出し、先頭から10件表示せよ。"
   ]
  },
  {
   "cell_type": "code",
   "execution_count": 80,
   "metadata": {},
   "outputs": [
    {
     "data": {
      "text/html": [
       "<table class=\"dataframe\">\n",
       "<caption>A data.frame: 10 × 11</caption>\n",
       "<thead>\n",
       "\t<tr><th></th><th scope=col>customer_id</th><th scope=col>customer_name</th><th scope=col>gender_cd</th><th scope=col>gender</th><th scope=col>birth_day</th><th scope=col>age</th><th scope=col>postal_cd</th><th scope=col>address</th><th scope=col>application_store_cd</th><th scope=col>application_date</th><th scope=col>status_cd</th></tr>\n",
       "\t<tr><th></th><th scope=col>&lt;chr&gt;</th><th scope=col>&lt;chr&gt;</th><th scope=col>&lt;chr&gt;</th><th scope=col>&lt;chr&gt;</th><th scope=col>&lt;date&gt;</th><th scope=col>&lt;int&gt;</th><th scope=col>&lt;chr&gt;</th><th scope=col>&lt;chr&gt;</th><th scope=col>&lt;chr&gt;</th><th scope=col>&lt;chr&gt;</th><th scope=col>&lt;chr&gt;</th></tr>\n",
       "</thead>\n",
       "<tbody>\n",
       "\t<tr><th scope=row>1</th><td>CS008315000158</td><td>浜本 真悠子</td><td>1</td><td>女性</td><td>1986-06-10</td><td>32</td><td>157-0067</td><td>東京都世田谷区喜多見**********        </td><td>S13008</td><td>20160802</td><td>0-00000000-0</td></tr>\n",
       "\t<tr><th scope=row>2</th><td>CS014411000019</td><td>板倉 結子  </td><td>1</td><td>女性</td><td>1977-02-15</td><td>42</td><td>264-0007</td><td>千葉県千葉市若葉区小倉町**********    </td><td>S12014</td><td>20150629</td><td>9-20100508-B</td></tr>\n",
       "\t<tr><th scope=row>3</th><td>CS023313000005</td><td>榊原 育子  </td><td>1</td><td>女性</td><td>1982-01-09</td><td>37</td><td>212-0011</td><td>神奈川県川崎市幸区幸町**********      </td><td>S14023</td><td>20150930</td><td>0-00000000-0</td></tr>\n",
       "\t<tr><th scope=row>4</th><td>CS021513000116</td><td>神戸 はるみ</td><td>1</td><td>女性</td><td>1960-07-19</td><td>58</td><td>259-1143</td><td>神奈川県伊勢原市下糟屋**********      </td><td>S14021</td><td>20150824</td><td>0-00000000-0</td></tr>\n",
       "\t<tr><th scope=row>5</th><td>CS031315000138</td><td>岡野 未來  </td><td>1</td><td>女性</td><td>1985-04-02</td><td>33</td><td>151-0053</td><td>東京都渋谷区代々木**********          </td><td>S13031</td><td>20150613</td><td>0-00000000-0</td></tr>\n",
       "\t<tr><th scope=row>6</th><td>CS019614000065</td><td>児島 獅童  </td><td>0</td><td>男性</td><td>1982-09-08</td><td>36</td><td>134-0085</td><td>東京都江戸川区南葛西**********        </td><td>S13019</td><td>20170413</td><td>0-00000000-0</td></tr>\n",
       "\t<tr><th scope=row>7</th><td>CS003412000408</td><td>亀井 まひる</td><td>1</td><td>女性</td><td>1975-05-03</td><td>43</td><td>182-0025</td><td>東京都調布市多摩川**********          </td><td>S13003</td><td>20160729</td><td>0-00000000-0</td></tr>\n",
       "\t<tr><th scope=row>8</th><td>CS014503000012</td><td>堀 雅之    </td><td>0</td><td>男性</td><td>1964-09-09</td><td>54</td><td>264-0037</td><td>千葉県千葉市若葉区源町**********      </td><td>S12014</td><td>20150602</td><td>0-00000000-0</td></tr>\n",
       "\t<tr><th scope=row>9</th><td>CS011502000033</td><td>松谷 耕司  </td><td>0</td><td>男性</td><td>1965-12-12</td><td>53</td><td>211-0065</td><td>神奈川県川崎市中原区今井仲町**********</td><td>S14011</td><td>20151009</td><td>0-00000000-0</td></tr>\n",
       "\t<tr><th scope=row>10</th><td>CS023313000017</td><td>山上 美帆  </td><td>1</td><td>女性</td><td>1981-03-14</td><td>38</td><td>212-0005</td><td>神奈川県川崎市幸区戸手**********      </td><td>S14023</td><td>20150225</td><td>0-00000000-0</td></tr>\n",
       "</tbody>\n",
       "</table>\n"
      ],
      "text/latex": [
       "A data.frame: 10 × 11\n",
       "\\begin{tabular}{r|lllllllllll}\n",
       "  & customer\\_id & customer\\_name & gender\\_cd & gender & birth\\_day & age & postal\\_cd & address & application\\_store\\_cd & application\\_date & status\\_cd\\\\\n",
       "  & <chr> & <chr> & <chr> & <chr> & <date> & <int> & <chr> & <chr> & <chr> & <chr> & <chr>\\\\\n",
       "\\hline\n",
       "\t1 & CS008315000158 & 浜本 真悠子 & 1 & 女性 & 1986-06-10 & 32 & 157-0067 & 東京都世田谷区喜多見**********         & S13008 & 20160802 & 0-00000000-0\\\\\n",
       "\t2 & CS014411000019 & 板倉 結子   & 1 & 女性 & 1977-02-15 & 42 & 264-0007 & 千葉県千葉市若葉区小倉町**********     & S12014 & 20150629 & 9-20100508-B\\\\\n",
       "\t3 & CS023313000005 & 榊原 育子   & 1 & 女性 & 1982-01-09 & 37 & 212-0011 & 神奈川県川崎市幸区幸町**********       & S14023 & 20150930 & 0-00000000-0\\\\\n",
       "\t4 & CS021513000116 & 神戸 はるみ & 1 & 女性 & 1960-07-19 & 58 & 259-1143 & 神奈川県伊勢原市下糟屋**********       & S14021 & 20150824 & 0-00000000-0\\\\\n",
       "\t5 & CS031315000138 & 岡野 未來   & 1 & 女性 & 1985-04-02 & 33 & 151-0053 & 東京都渋谷区代々木**********           & S13031 & 20150613 & 0-00000000-0\\\\\n",
       "\t6 & CS019614000065 & 児島 獅童   & 0 & 男性 & 1982-09-08 & 36 & 134-0085 & 東京都江戸川区南葛西**********         & S13019 & 20170413 & 0-00000000-0\\\\\n",
       "\t7 & CS003412000408 & 亀井 まひる & 1 & 女性 & 1975-05-03 & 43 & 182-0025 & 東京都調布市多摩川**********           & S13003 & 20160729 & 0-00000000-0\\\\\n",
       "\t8 & CS014503000012 & 堀 雅之     & 0 & 男性 & 1964-09-09 & 54 & 264-0037 & 千葉県千葉市若葉区源町**********       & S12014 & 20150602 & 0-00000000-0\\\\\n",
       "\t9 & CS011502000033 & 松谷 耕司   & 0 & 男性 & 1965-12-12 & 53 & 211-0065 & 神奈川県川崎市中原区今井仲町********** & S14011 & 20151009 & 0-00000000-0\\\\\n",
       "\t10 & CS023313000017 & 山上 美帆   & 1 & 女性 & 1981-03-14 & 38 & 212-0005 & 神奈川県川崎市幸区戸手**********       & S14023 & 20150225 & 0-00000000-0\\\\\n",
       "\\end{tabular}\n"
      ],
      "text/markdown": [
       "\n",
       "A data.frame: 10 × 11\n",
       "\n",
       "| <!--/--> | customer_id &lt;chr&gt; | customer_name &lt;chr&gt; | gender_cd &lt;chr&gt; | gender &lt;chr&gt; | birth_day &lt;date&gt; | age &lt;int&gt; | postal_cd &lt;chr&gt; | address &lt;chr&gt; | application_store_cd &lt;chr&gt; | application_date &lt;chr&gt; | status_cd &lt;chr&gt; |\n",
       "|---|---|---|---|---|---|---|---|---|---|---|---|\n",
       "| 1 | CS008315000158 | 浜本 真悠子 | 1 | 女性 | 1986-06-10 | 32 | 157-0067 | 東京都世田谷区喜多見**********         | S13008 | 20160802 | 0-00000000-0 |\n",
       "| 2 | CS014411000019 | 板倉 結子   | 1 | 女性 | 1977-02-15 | 42 | 264-0007 | 千葉県千葉市若葉区小倉町**********     | S12014 | 20150629 | 9-20100508-B |\n",
       "| 3 | CS023313000005 | 榊原 育子   | 1 | 女性 | 1982-01-09 | 37 | 212-0011 | 神奈川県川崎市幸区幸町**********       | S14023 | 20150930 | 0-00000000-0 |\n",
       "| 4 | CS021513000116 | 神戸 はるみ | 1 | 女性 | 1960-07-19 | 58 | 259-1143 | 神奈川県伊勢原市下糟屋**********       | S14021 | 20150824 | 0-00000000-0 |\n",
       "| 5 | CS031315000138 | 岡野 未來   | 1 | 女性 | 1985-04-02 | 33 | 151-0053 | 東京都渋谷区代々木**********           | S13031 | 20150613 | 0-00000000-0 |\n",
       "| 6 | CS019614000065 | 児島 獅童   | 0 | 男性 | 1982-09-08 | 36 | 134-0085 | 東京都江戸川区南葛西**********         | S13019 | 20170413 | 0-00000000-0 |\n",
       "| 7 | CS003412000408 | 亀井 まひる | 1 | 女性 | 1975-05-03 | 43 | 182-0025 | 東京都調布市多摩川**********           | S13003 | 20160729 | 0-00000000-0 |\n",
       "| 8 | CS014503000012 | 堀 雅之     | 0 | 男性 | 1964-09-09 | 54 | 264-0037 | 千葉県千葉市若葉区源町**********       | S12014 | 20150602 | 0-00000000-0 |\n",
       "| 9 | CS011502000033 | 松谷 耕司   | 0 | 男性 | 1965-12-12 | 53 | 211-0065 | 神奈川県川崎市中原区今井仲町********** | S14011 | 20151009 | 0-00000000-0 |\n",
       "| 10 | CS023313000017 | 山上 美帆   | 1 | 女性 | 1981-03-14 | 38 | 212-0005 | 神奈川県川崎市幸区戸手**********       | S14023 | 20150225 | 0-00000000-0 |\n",
       "\n"
      ],
      "text/plain": [
       "   customer_id    customer_name gender_cd gender birth_day  age postal_cd\n",
       "1  CS008315000158 浜本 真悠子   1         女性   1986-06-10 32  157-0067 \n",
       "2  CS014411000019 板倉 結子     1         女性   1977-02-15 42  264-0007 \n",
       "3  CS023313000005 榊原 育子     1         女性   1982-01-09 37  212-0011 \n",
       "4  CS021513000116 神戸 はるみ   1         女性   1960-07-19 58  259-1143 \n",
       "5  CS031315000138 岡野 未來     1         女性   1985-04-02 33  151-0053 \n",
       "6  CS019614000065 児島 獅童     0         男性   1982-09-08 36  134-0085 \n",
       "7  CS003412000408 亀井 まひる   1         女性   1975-05-03 43  182-0025 \n",
       "8  CS014503000012 堀 雅之       0         男性   1964-09-09 54  264-0037 \n",
       "9  CS011502000033 松谷 耕司     0         男性   1965-12-12 53  211-0065 \n",
       "10 CS023313000017 山上 美帆     1         女性   1981-03-14 38  212-0005 \n",
       "   address                                application_store_cd application_date\n",
       "1  東京都世田谷区喜多見**********         S13008               20160802        \n",
       "2  千葉県千葉市若葉区小倉町**********     S12014               20150629        \n",
       "3  神奈川県川崎市幸区幸町**********       S14023               20150930        \n",
       "4  神奈川県伊勢原市下糟屋**********       S14021               20150824        \n",
       "5  東京都渋谷区代々木**********           S13031               20150613        \n",
       "6  東京都江戸川区南葛西**********         S13019               20170413        \n",
       "7  東京都調布市多摩川**********           S13003               20160729        \n",
       "8  千葉県千葉市若葉区源町**********       S12014               20150602        \n",
       "9  神奈川県川崎市中原区今井仲町********** S14011               20151009        \n",
       "10 神奈川県川崎市幸区戸手**********       S14023               20150225        \n",
       "   status_cd   \n",
       "1  0-00000000-0\n",
       "2  9-20100508-B\n",
       "3  0-00000000-0\n",
       "4  0-00000000-0\n",
       "5  0-00000000-0\n",
       "6  0-00000000-0\n",
       "7  0-00000000-0\n",
       "8  0-00000000-0\n",
       "9  0-00000000-0\n",
       "10 0-00000000-0"
      ]
     },
     "metadata": {},
     "output_type": "display_data"
    }
   ],
   "source": [
    "sample_frac(tbl = df_customer, size = 0.01) %>% head(10)"
   ]
  },
  {
   "cell_type": "markdown",
   "metadata": {},
   "source": [
    "---\n",
    "> R-076: 顧客データ（df_customer）から性別コード（gender_cd）の割合に基づきランダムに10%のデータを層化抽出し、性別コードごとに件数を集計せよ。"
   ]
  },
  {
   "cell_type": "code",
   "execution_count": 88,
   "metadata": {},
   "outputs": [
    {
     "data": {
      "text/html": [
       "<table class=\"dataframe\">\n",
       "<caption>A grouped_df: 3 × 2</caption>\n",
       "<thead>\n",
       "\t<tr><th scope=col>gender_cd</th><th scope=col>n</th></tr>\n",
       "\t<tr><th scope=col>&lt;chr&gt;</th><th scope=col>&lt;int&gt;</th></tr>\n",
       "</thead>\n",
       "<tbody>\n",
       "\t<tr><td>0</td><td> 298</td></tr>\n",
       "\t<tr><td>1</td><td>1792</td></tr>\n",
       "\t<tr><td>9</td><td> 107</td></tr>\n",
       "</tbody>\n",
       "</table>\n"
      ],
      "text/latex": [
       "A grouped\\_df: 3 × 2\n",
       "\\begin{tabular}{ll}\n",
       " gender\\_cd & n\\\\\n",
       " <chr> & <int>\\\\\n",
       "\\hline\n",
       "\t 0 &  298\\\\\n",
       "\t 1 & 1792\\\\\n",
       "\t 9 &  107\\\\\n",
       "\\end{tabular}\n"
      ],
      "text/markdown": [
       "\n",
       "A grouped_df: 3 × 2\n",
       "\n",
       "| gender_cd &lt;chr&gt; | n &lt;int&gt; |\n",
       "|---|---|\n",
       "| 0 |  298 |\n",
       "| 1 | 1792 |\n",
       "| 9 |  107 |\n",
       "\n"
      ],
      "text/plain": [
       "  gender_cd n   \n",
       "1 0          298\n",
       "2 1         1792\n",
       "3 9          107"
      ]
     },
     "metadata": {},
     "output_type": "display_data"
    }
   ],
   "source": [
    "df_customer %>% group_by(gender_cd) %>% mutate(num_rows = n()) %>% sample_frac(0.1, weight=num_rows) %>% count()"
   ]
  },
  {
   "cell_type": "markdown",
   "metadata": {},
   "source": [
    "---\n",
    "> R-077: レシート明細データ（df_receipt）の売上金額を顧客単位に合計し、合計した売上金額の外れ値を抽出せよ。なお、外れ値は売上金額合計を対数化したうえで平均と標準偏差を計算し、その平均から3σを超えて離れたものとする（自然対数と常用対数のどちらでも可）。結果は10件表示せよ。"
   ]
  },
  {
   "cell_type": "code",
   "execution_count": 95,
   "metadata": {},
   "outputs": [
    {
     "data": {
      "text/html": [
       "<table class=\"dataframe\">\n",
       "<caption>A grouped_df: 10 × 10</caption>\n",
       "<thead>\n",
       "\t<tr><th scope=col>sales_ymd</th><th scope=col>sales_epoch</th><th scope=col>store_cd</th><th scope=col>receipt_no</th><th scope=col>receipt_sub_no</th><th scope=col>customer_id</th><th scope=col>product_cd</th><th scope=col>quantity</th><th scope=col>amount</th><th scope=col>amount_log</th></tr>\n",
       "\t<tr><th scope=col>&lt;int&gt;</th><th scope=col>&lt;int&gt;</th><th scope=col>&lt;chr&gt;</th><th scope=col>&lt;int&gt;</th><th scope=col>&lt;int&gt;</th><th scope=col>&lt;chr&gt;</th><th scope=col>&lt;chr&gt;</th><th scope=col>&lt;int&gt;</th><th scope=col>&lt;int&gt;</th><th scope=col>&lt;dbl&gt;</th></tr>\n",
       "</thead>\n",
       "<tbody>\n",
       "\t<tr><td>20181025</td><td>1540425600</td><td>S14036</td><td>1142</td><td>2</td><td>ZZ000000000000</td><td>P040102023</td><td>1</td><td> 5000</td><td>8.517193</td></tr>\n",
       "\t<tr><td>20171010</td><td>1507593600</td><td>S13017</td><td>1172</td><td>2</td><td>CS017415000158</td><td>P080102003</td><td>1</td><td>   10</td><td>2.302585</td></tr>\n",
       "\t<tr><td>20180907</td><td>1536278400</td><td>S14036</td><td> 112</td><td>1</td><td>ZZ000000000000</td><td>P071301004</td><td>1</td><td> 2680</td><td>7.893572</td></tr>\n",
       "\t<tr><td>20181219</td><td>1545177600</td><td>S13015</td><td>1132</td><td>1</td><td>CS015515000083</td><td>P071301009</td><td>1</td><td> 5280</td><td>8.571681</td></tr>\n",
       "\t<tr><td>20190903</td><td>1567468800</td><td>S14011</td><td>1192</td><td>2</td><td>CS011415000006</td><td>P080104055</td><td>1</td><td>10925</td><td>9.298809</td></tr>\n",
       "\t<tr><td>20181123</td><td>1542931200</td><td>S14045</td><td>1142</td><td>1</td><td>ZZ000000000000</td><td>P071301006</td><td>1</td><td> 4760</td><td>8.468003</td></tr>\n",
       "\t<tr><td>20180409</td><td>1523232000</td><td>S14026</td><td>1192</td><td>2</td><td>CS026414000060</td><td>P080102001</td><td>1</td><td>   10</td><td>2.302585</td></tr>\n",
       "\t<tr><td>20181025</td><td>1540425600</td><td>S13004</td><td>1142</td><td>1</td><td>ZZ000000000000</td><td>P040102023</td><td>1</td><td> 5000</td><td>8.517193</td></tr>\n",
       "\t<tr><td>20180622</td><td>1529625600</td><td>S14027</td><td>1132</td><td>2</td><td>CS027513000078</td><td>P080102003</td><td>1</td><td>   10</td><td>2.302585</td></tr>\n",
       "\t<tr><td>20180708</td><td>1531008000</td><td>S14042</td><td>1122</td><td>2</td><td>ZZ000000000000</td><td>P080102009</td><td>1</td><td>   10</td><td>2.302585</td></tr>\n",
       "</tbody>\n",
       "</table>\n"
      ],
      "text/latex": [
       "A grouped\\_df: 10 × 10\n",
       "\\begin{tabular}{llllllllll}\n",
       " sales\\_ymd & sales\\_epoch & store\\_cd & receipt\\_no & receipt\\_sub\\_no & customer\\_id & product\\_cd & quantity & amount & amount\\_log\\\\\n",
       " <int> & <int> & <chr> & <int> & <int> & <chr> & <chr> & <int> & <int> & <dbl>\\\\\n",
       "\\hline\n",
       "\t 20181025 & 1540425600 & S14036 & 1142 & 2 & ZZ000000000000 & P040102023 & 1 &  5000 & 8.517193\\\\\n",
       "\t 20171010 & 1507593600 & S13017 & 1172 & 2 & CS017415000158 & P080102003 & 1 &    10 & 2.302585\\\\\n",
       "\t 20180907 & 1536278400 & S14036 &  112 & 1 & ZZ000000000000 & P071301004 & 1 &  2680 & 7.893572\\\\\n",
       "\t 20181219 & 1545177600 & S13015 & 1132 & 1 & CS015515000083 & P071301009 & 1 &  5280 & 8.571681\\\\\n",
       "\t 20190903 & 1567468800 & S14011 & 1192 & 2 & CS011415000006 & P080104055 & 1 & 10925 & 9.298809\\\\\n",
       "\t 20181123 & 1542931200 & S14045 & 1142 & 1 & ZZ000000000000 & P071301006 & 1 &  4760 & 8.468003\\\\\n",
       "\t 20180409 & 1523232000 & S14026 & 1192 & 2 & CS026414000060 & P080102001 & 1 &    10 & 2.302585\\\\\n",
       "\t 20181025 & 1540425600 & S13004 & 1142 & 1 & ZZ000000000000 & P040102023 & 1 &  5000 & 8.517193\\\\\n",
       "\t 20180622 & 1529625600 & S14027 & 1132 & 2 & CS027513000078 & P080102003 & 1 &    10 & 2.302585\\\\\n",
       "\t 20180708 & 1531008000 & S14042 & 1122 & 2 & ZZ000000000000 & P080102009 & 1 &    10 & 2.302585\\\\\n",
       "\\end{tabular}\n"
      ],
      "text/markdown": [
       "\n",
       "A grouped_df: 10 × 10\n",
       "\n",
       "| sales_ymd &lt;int&gt; | sales_epoch &lt;int&gt; | store_cd &lt;chr&gt; | receipt_no &lt;int&gt; | receipt_sub_no &lt;int&gt; | customer_id &lt;chr&gt; | product_cd &lt;chr&gt; | quantity &lt;int&gt; | amount &lt;int&gt; | amount_log &lt;dbl&gt; |\n",
       "|---|---|---|---|---|---|---|---|---|---|\n",
       "| 20181025 | 1540425600 | S14036 | 1142 | 2 | ZZ000000000000 | P040102023 | 1 |  5000 | 8.517193 |\n",
       "| 20171010 | 1507593600 | S13017 | 1172 | 2 | CS017415000158 | P080102003 | 1 |    10 | 2.302585 |\n",
       "| 20180907 | 1536278400 | S14036 |  112 | 1 | ZZ000000000000 | P071301004 | 1 |  2680 | 7.893572 |\n",
       "| 20181219 | 1545177600 | S13015 | 1132 | 1 | CS015515000083 | P071301009 | 1 |  5280 | 8.571681 |\n",
       "| 20190903 | 1567468800 | S14011 | 1192 | 2 | CS011415000006 | P080104055 | 1 | 10925 | 9.298809 |\n",
       "| 20181123 | 1542931200 | S14045 | 1142 | 1 | ZZ000000000000 | P071301006 | 1 |  4760 | 8.468003 |\n",
       "| 20180409 | 1523232000 | S14026 | 1192 | 2 | CS026414000060 | P080102001 | 1 |    10 | 2.302585 |\n",
       "| 20181025 | 1540425600 | S13004 | 1142 | 1 | ZZ000000000000 | P040102023 | 1 |  5000 | 8.517193 |\n",
       "| 20180622 | 1529625600 | S14027 | 1132 | 2 | CS027513000078 | P080102003 | 1 |    10 | 2.302585 |\n",
       "| 20180708 | 1531008000 | S14042 | 1122 | 2 | ZZ000000000000 | P080102009 | 1 |    10 | 2.302585 |\n",
       "\n"
      ],
      "text/plain": [
       "   sales_ymd sales_epoch store_cd receipt_no receipt_sub_no customer_id   \n",
       "1  20181025  1540425600  S14036   1142       2              ZZ000000000000\n",
       "2  20171010  1507593600  S13017   1172       2              CS017415000158\n",
       "3  20180907  1536278400  S14036    112       1              ZZ000000000000\n",
       "4  20181219  1545177600  S13015   1132       1              CS015515000083\n",
       "5  20190903  1567468800  S14011   1192       2              CS011415000006\n",
       "6  20181123  1542931200  S14045   1142       1              ZZ000000000000\n",
       "7  20180409  1523232000  S14026   1192       2              CS026414000060\n",
       "8  20181025  1540425600  S13004   1142       1              ZZ000000000000\n",
       "9  20180622  1529625600  S14027   1132       2              CS027513000078\n",
       "10 20180708  1531008000  S14042   1122       2              ZZ000000000000\n",
       "   product_cd quantity amount amount_log\n",
       "1  P040102023 1         5000  8.517193  \n",
       "2  P080102003 1           10  2.302585  \n",
       "3  P071301004 1         2680  7.893572  \n",
       "4  P071301009 1         5280  8.571681  \n",
       "5  P080104055 1        10925  9.298809  \n",
       "6  P071301006 1         4760  8.468003  \n",
       "7  P080102001 1           10  2.302585  \n",
       "8  P040102023 1         5000  8.517193  \n",
       "9  P080102003 1           10  2.302585  \n",
       "10 P080102009 1           10  2.302585  "
      ]
     },
     "metadata": {},
     "output_type": "display_data"
    }
   ],
   "source": [
    "m <- df_receipt %>% summarise(mean(log(amount))) %>% pull()\n",
    "sigma <- df_receipt %>% summarise(sd(log(amount))) %>% pull()\n",
    "df_receipt %>% mutate(amount_log = log(amount)) %>% group_by(customer_id) %>% filter(amount_log < m - 3*sigma | m + 3*sigma < amount_log) %>% head(10)"
   ]
  },
  {
   "cell_type": "markdown",
   "metadata": {},
   "source": [
    "---\n",
    "> R-078: レシート明細データ（df_receipt）の売上金額（amount）を顧客単位に合計し、合計した売上金額の外れ値を抽出せよ。ただし、顧客IDが\"Z\"から始まるのものは非会員を表すため、除外して計算すること。なお、ここでは外れ値を第1四分位と第3四分位の差であるIQRを用いて、「第1四分位数-1.5×IQR」を下回るもの、または「第3四分位数+1.5×IQR」を超えるものとする。結果は10件表示せよ。"
   ]
  },
  {
   "cell_type": "code",
   "execution_count": 105,
   "metadata": {},
   "outputs": [
    {
     "name": "stderr",
     "output_type": "stream",
     "text": [
      "Warning message:\n",
      "“\u001b[1m\u001b[22mReturning more (or less) than 1 row per `summarise()` group was deprecated in\n",
      "dplyr 1.1.0.\n",
      "\u001b[36mℹ\u001b[39m Please use `reframe()` instead.\n",
      "\u001b[36mℹ\u001b[39m When switching from `summarise()` to `reframe()`, remember that `reframe()`\n",
      "  always returns an ungrouped data frame and adjust accordingly.”\n"
     ]
    },
    {
     "data": {
      "text/html": [
       "<table class=\"dataframe\">\n",
       "<caption>A tibble: 10 × 2</caption>\n",
       "<thead>\n",
       "\t<tr><th scope=col>customer_id</th><th scope=col>sum</th></tr>\n",
       "\t<tr><th scope=col>&lt;chr&gt;</th><th scope=col>&lt;int&gt;</th></tr>\n",
       "</thead>\n",
       "<tbody>\n",
       "\t<tr><td>CS001414000048</td><td> 8584</td></tr>\n",
       "\t<tr><td>CS001605000009</td><td>18925</td></tr>\n",
       "\t<tr><td>CS002415000594</td><td> 9568</td></tr>\n",
       "\t<tr><td>CS004414000181</td><td> 9584</td></tr>\n",
       "\t<tr><td>CS005415000137</td><td> 8734</td></tr>\n",
       "\t<tr><td>CS006414000001</td><td> 9156</td></tr>\n",
       "\t<tr><td>CS006414000029</td><td> 9179</td></tr>\n",
       "\t<tr><td>CS006415000105</td><td>10042</td></tr>\n",
       "\t<tr><td>CS006415000147</td><td>12723</td></tr>\n",
       "\t<tr><td>CS006415000157</td><td>10648</td></tr>\n",
       "</tbody>\n",
       "</table>\n"
      ],
      "text/latex": [
       "A tibble: 10 × 2\n",
       "\\begin{tabular}{ll}\n",
       " customer\\_id & sum\\\\\n",
       " <chr> & <int>\\\\\n",
       "\\hline\n",
       "\t CS001414000048 &  8584\\\\\n",
       "\t CS001605000009 & 18925\\\\\n",
       "\t CS002415000594 &  9568\\\\\n",
       "\t CS004414000181 &  9584\\\\\n",
       "\t CS005415000137 &  8734\\\\\n",
       "\t CS006414000001 &  9156\\\\\n",
       "\t CS006414000029 &  9179\\\\\n",
       "\t CS006415000105 & 10042\\\\\n",
       "\t CS006415000147 & 12723\\\\\n",
       "\t CS006415000157 & 10648\\\\\n",
       "\\end{tabular}\n"
      ],
      "text/markdown": [
       "\n",
       "A tibble: 10 × 2\n",
       "\n",
       "| customer_id &lt;chr&gt; | sum &lt;int&gt; |\n",
       "|---|---|\n",
       "| CS001414000048 |  8584 |\n",
       "| CS001605000009 | 18925 |\n",
       "| CS002415000594 |  9568 |\n",
       "| CS004414000181 |  9584 |\n",
       "| CS005415000137 |  8734 |\n",
       "| CS006414000001 |  9156 |\n",
       "| CS006414000029 |  9179 |\n",
       "| CS006415000105 | 10042 |\n",
       "| CS006415000147 | 12723 |\n",
       "| CS006415000157 | 10648 |\n",
       "\n"
      ],
      "text/plain": [
       "   customer_id    sum  \n",
       "1  CS001414000048  8584\n",
       "2  CS001605000009 18925\n",
       "3  CS002415000594  9568\n",
       "4  CS004414000181  9584\n",
       "5  CS005415000137  8734\n",
       "6  CS006414000001  9156\n",
       "7  CS006414000029  9179\n",
       "8  CS006415000105 10042\n",
       "9  CS006415000147 12723\n",
       "10 CS006415000157 10648"
      ]
     },
     "metadata": {},
     "output_type": "display_data"
    }
   ],
   "source": [
    "quantiles <- df_receipt %>%\n",
    "    filter(!str_detect(customer_id, \"^Z\")) %>%\n",
    "    group_by(customer_id) %>%\n",
    "    summarize(Sum = sum(amount)) %>%\n",
    "    summarize(quantiles = quantile(Sum)) %>%\n",
    "    pull()\n",
    "iqr <- quantiles[\"75%\"] - quantiles[\"25%\"]\n",
    "df_receipt %>% filter(!str_detect(customer_id, \"^Z\")) %>% group_by(customer_id) %>% summarise(sum = sum(amount)) %>% filter(sum < quantiles[\"25%\"] - 1.5 * iqr | quantiles[\"75%\"] + 1.5 * iqr < sum) %>% head(10)"
   ]
  },
  {
   "cell_type": "markdown",
   "metadata": {},
   "source": [
    "---\n",
    "> R-079: 商品データ（df_product）の各項目に対し、欠損数を確認せよ。"
   ]
  },
  {
   "cell_type": "code",
   "execution_count": 116,
   "metadata": {},
   "outputs": [
    {
     "data": {
      "text/plain": [
       "  product_cd        category_major_cd  category_medium_cd category_small_cd \n",
       " Length:10030       Length:10030       Length:10030       Length:10030      \n",
       " Class :character   Class :character   Class :character   Class :character  \n",
       " Mode  :character   Mode  :character   Mode  :character   Mode  :character  \n",
       "                                                                            \n",
       "                                                                            \n",
       "                                                                            \n",
       "                                                                            \n",
       "   unit_price        unit_cost     \n",
       " Min.   :   10.0   Min.   :   7.0  \n",
       " 1st Qu.:  155.0   1st Qu.: 116.0  \n",
       " Median :  252.0   Median : 189.0  \n",
       " Mean   :  402.6   Mean   : 302.2  \n",
       " 3rd Qu.:  428.0   3rd Qu.: 321.0  \n",
       " Max.   :10925.0   Max.   :8604.0  \n",
       " NA's   :7         NA's   :7       "
      ]
     },
     "metadata": {},
     "output_type": "display_data"
    }
   ],
   "source": [
    "df_product %>% summary()"
   ]
  },
  {
   "cell_type": "markdown",
   "metadata": {},
   "source": [
    "---\n",
    "> R-080: 商品データ（df_product）のいずれかの項目に欠損が発生しているレコードを全て削除した新たな商品データを作成せよ。なお、削除前後の件数を表示させ、079で確認した件数だけ減少していることも確認すること。"
   ]
  },
  {
   "cell_type": "code",
   "execution_count": 117,
   "metadata": {},
   "outputs": [
    {
     "data": {
      "text/html": [
       "10030"
      ],
      "text/latex": [
       "10030"
      ],
      "text/markdown": [
       "10030"
      ],
      "text/plain": [
       "[1] 10030"
      ]
     },
     "metadata": {},
     "output_type": "display_data"
    },
    {
     "data": {
      "text/html": [
       "10023"
      ],
      "text/latex": [
       "10023"
      ],
      "text/markdown": [
       "10023"
      ],
      "text/plain": [
       "[1] 10023"
      ]
     },
     "metadata": {},
     "output_type": "display_data"
    }
   ],
   "source": [
    "df_product %>% count() %>% pull()\n",
    "df_product %>% drop_na(everything()) %>% count() %>% pull()"
   ]
  },
  {
   "cell_type": "markdown",
   "metadata": {},
   "source": [
    "---\n",
    "> R-081: 単価（unit_price）と原価（unit_cost）の欠損値について、それぞれの平均値で補完した新たな商品データを作成せよ。なお、平均値については1円未満を丸めること（四捨五入または偶数への丸めで良い）。補完実施後、各項目について欠損が生じていないことも確認すること。"
   ]
  },
  {
   "cell_type": "code",
   "execution_count": 129,
   "metadata": {},
   "outputs": [
    {
     "data": {
      "text/plain": [
       "  product_cd        category_major_cd  category_medium_cd category_small_cd \n",
       " Length:10030       Length:10030       Length:10030       Length:10030      \n",
       " Class :character   Class :character   Class :character   Class :character  \n",
       " Mode  :character   Mode  :character   Mode  :character   Mode  :character  \n",
       "                                                                            \n",
       "                                                                            \n",
       "                                                                            \n",
       "   unit_price        unit_cost     \n",
       " Min.   :   10.0   Min.   :   7.0  \n",
       " 1st Qu.:  155.0   1st Qu.: 116.0  \n",
       " Median :  252.0   Median : 189.0  \n",
       " Mean   :  402.6   Mean   : 302.2  \n",
       " 3rd Qu.:  428.0   3rd Qu.: 321.0  \n",
       " Max.   :10925.0   Max.   :8604.0  "
      ]
     },
     "metadata": {},
     "output_type": "display_data"
    }
   ],
   "source": [
    "df_product %>% replace_na(replace = list(unit_price = floor(mean(.$unit_price, na.rm = TRUE)), unit_cost = floor(mean(.$unit_cost, na.rm = TRUE)))) %>% summary()"
   ]
  },
  {
   "cell_type": "markdown",
   "metadata": {},
   "source": [
    "---\n",
    "> R-082: 単価（unit_price）と原価（unit_cost）の欠損値について、それぞれの中央値で補完した新たな商品データを作成せよ。なお、中央値については1円未満を丸めること（四捨五入または偶数への丸めで良い）。補完実施後、各項目について欠損が生じていないことも確認すること。"
   ]
  },
  {
   "cell_type": "code",
   "execution_count": 145,
   "metadata": {},
   "outputs": [
    {
     "data": {
      "text/plain": [
       "  product_cd        category_major_cd  category_medium_cd category_small_cd \n",
       " Length:10030       Length:10030       Length:10030       Length:10030      \n",
       " Class :character   Class :character   Class :character   Class :character  \n",
       " Mode  :character   Mode  :character   Mode  :character   Mode  :character  \n",
       "                                                                            \n",
       "                                                                            \n",
       "                                                                            \n",
       "   unit_price        unit_cost     \n",
       " Min.   :   10.0   Min.   :   7.0  \n",
       " 1st Qu.:  155.0   1st Qu.: 116.0  \n",
       " Median :  252.0   Median : 189.0  \n",
       " Mean   :  402.5   Mean   : 302.1  \n",
       " 3rd Qu.:  428.0   3rd Qu.: 321.0  \n",
       " Max.   :10925.0   Max.   :8604.0  "
      ]
     },
     "metadata": {},
     "output_type": "display_data"
    },
    {
     "data": {
      "text/html": [
       "<table class=\"dataframe\">\n",
       "<caption>A data.frame: 2 × 6</caption>\n",
       "<thead>\n",
       "\t<tr><th scope=col>product_cd</th><th scope=col>category_major_cd</th><th scope=col>category_medium_cd</th><th scope=col>category_small_cd</th><th scope=col>unit_price</th><th scope=col>unit_cost</th></tr>\n",
       "\t<tr><th scope=col>&lt;chr&gt;</th><th scope=col>&lt;chr&gt;</th><th scope=col>&lt;chr&gt;</th><th scope=col>&lt;chr&gt;</th><th scope=col>&lt;int&gt;</th><th scope=col>&lt;int&gt;</th></tr>\n",
       "</thead>\n",
       "<tbody>\n",
       "\t<tr><td>P040802007</td><td>04</td><td>0408</td><td>040802</td><td>252</td><td>189</td></tr>\n",
       "\t<tr><td>P050103021</td><td>05</td><td>0501</td><td>050103</td><td>252</td><td>189</td></tr>\n",
       "</tbody>\n",
       "</table>\n"
      ],
      "text/latex": [
       "A data.frame: 2 × 6\n",
       "\\begin{tabular}{llllll}\n",
       " product\\_cd & category\\_major\\_cd & category\\_medium\\_cd & category\\_small\\_cd & unit\\_price & unit\\_cost\\\\\n",
       " <chr> & <chr> & <chr> & <chr> & <int> & <int>\\\\\n",
       "\\hline\n",
       "\t P040802007 & 04 & 0408 & 040802 & 252 & 189\\\\\n",
       "\t P050103021 & 05 & 0501 & 050103 & 252 & 189\\\\\n",
       "\\end{tabular}\n"
      ],
      "text/markdown": [
       "\n",
       "A data.frame: 2 × 6\n",
       "\n",
       "| product_cd &lt;chr&gt; | category_major_cd &lt;chr&gt; | category_medium_cd &lt;chr&gt; | category_small_cd &lt;chr&gt; | unit_price &lt;int&gt; | unit_cost &lt;int&gt; |\n",
       "|---|---|---|---|---|---|\n",
       "| P040802007 | 04 | 0408 | 040802 | 252 | 189 |\n",
       "| P050103021 | 05 | 0501 | 050103 | 252 | 189 |\n",
       "\n"
      ],
      "text/plain": [
       "  product_cd category_major_cd category_medium_cd category_small_cd unit_price\n",
       "1 P040802007 04                0408               040802            252       \n",
       "2 P050103021 05                0501               050103            252       \n",
       "  unit_cost\n",
       "1 189      \n",
       "2 189      "
      ]
     },
     "metadata": {},
     "output_type": "display_data"
    }
   ],
   "source": [
    "df_product %>% replace_na(replace = list(unit_price = median(.$unit_price, na.rm = TRUE), unit_cost = median(.$unit_cost, na.rm = TRUE))) %>% summary()\n",
    "\n",
    "df_product %>% replace_na(replace = list(unit_price = median(.$unit_price, na.rm = TRUE), unit_cost = median(.$unit_cost, na.rm = TRUE))) %>% filter(product_cd == \"P040802007\" | product_cd == \"P050103021\")"
   ]
  },
  {
   "cell_type": "markdown",
   "metadata": {},
   "source": [
    "---\n",
    "## R-083 PASS\n",
    "> R-083: 単価（unit_price）と原価（unit_cost）の欠損値について、各商品のカテゴリ小区分コード（category_small_cd）ごとに算出した中央値で補完した新たな商品データを作成せよ。なお、中央値については1円未満を丸めること（四捨五入または偶数への丸めで良い）。補完実施後、各項目について欠損が生じていないことも確認すること。"
   ]
  },
  {
   "cell_type": "code",
   "execution_count": 180,
   "metadata": {},
   "outputs": [
    {
     "data": {
      "text/html": [
       "<table class=\"dataframe\">\n",
       "<caption>A grouped_df: 6 × 19</caption>\n",
       "<thead>\n",
       "\t<tr><th scope=col>customer_id</th><th scope=col>customer_name</th><th scope=col>gender_cd</th><th scope=col>gender</th><th scope=col>birth_day</th><th scope=col>age</th><th scope=col>postal_cd</th><th scope=col>address</th><th scope=col>application_store_cd</th><th scope=col>application_date</th><th scope=col>status_cd</th><th scope=col>sales_ymd</th><th scope=col>sales_epoch</th><th scope=col>store_cd</th><th scope=col>receipt_no</th><th scope=col>receipt_sub_no</th><th scope=col>product_cd</th><th scope=col>quantity</th><th scope=col>amount</th></tr>\n",
       "\t<tr><th scope=col>&lt;chr&gt;</th><th scope=col>&lt;chr&gt;</th><th scope=col>&lt;chr&gt;</th><th scope=col>&lt;chr&gt;</th><th scope=col>&lt;date&gt;</th><th scope=col>&lt;int&gt;</th><th scope=col>&lt;chr&gt;</th><th scope=col>&lt;chr&gt;</th><th scope=col>&lt;chr&gt;</th><th scope=col>&lt;chr&gt;</th><th scope=col>&lt;chr&gt;</th><th scope=col>&lt;int&gt;</th><th scope=col>&lt;int&gt;</th><th scope=col>&lt;chr&gt;</th><th scope=col>&lt;int&gt;</th><th scope=col>&lt;int&gt;</th><th scope=col>&lt;chr&gt;</th><th scope=col>&lt;int&gt;</th><th scope=col>&lt;int&gt;</th></tr>\n",
       "</thead>\n",
       "<tbody>\n",
       "\t<tr><td>CS021313000114</td><td>大野 あや子  </td><td>1</td><td>女性</td><td>1981-04-29</td><td>37</td><td>259-1113</td><td>神奈川県伊勢原市粟窪**********</td><td>S14021</td><td>20150905</td><td>0-00000000-0</td><td>      NA</td><td>        NA</td><td>NA    </td><td>  NA</td><td>NA</td><td>NA        </td><td>NA</td><td>  NA</td></tr>\n",
       "\t<tr><td>CS037613000071</td><td>六角 雅彦    </td><td>9</td><td>不明</td><td>1952-04-01</td><td>66</td><td>136-0076</td><td>東京都江東区南砂**********    </td><td>S13037</td><td>20150414</td><td>0-00000000-0</td><td>      NA</td><td>        NA</td><td>NA    </td><td>  NA</td><td>NA</td><td>NA        </td><td>NA</td><td>  NA</td></tr>\n",
       "\t<tr><td>CS031415000172</td><td>宇多田 貴美子</td><td>1</td><td>女性</td><td>1976-10-04</td><td>42</td><td>151-0053</td><td>東京都渋谷区代々木**********  </td><td>S13031</td><td>20150529</td><td>D-20100325-C</td><td>20170507</td><td>1494115200</td><td>S13031</td><td>1102</td><td> 1</td><td>P060103001</td><td> 1</td><td> 100</td></tr>\n",
       "\t<tr><td>CS031415000172</td><td>宇多田 貴美子</td><td>1</td><td>女性</td><td>1976-10-04</td><td>42</td><td>151-0053</td><td>東京都渋谷区代々木**********  </td><td>S13031</td><td>20150529</td><td>D-20100325-C</td><td>20171026</td><td>1508976000</td><td>S13031</td><td>1182</td><td> 1</td><td>P090203004</td><td> 1</td><td> 320</td></tr>\n",
       "\t<tr><td>CS031415000172</td><td>宇多田 貴美子</td><td>1</td><td>女性</td><td>1976-10-04</td><td>42</td><td>151-0053</td><td>東京都渋谷区代々木**********  </td><td>S13031</td><td>20150529</td><td>D-20100325-C</td><td>20190325</td><td>1553472000</td><td>S13031</td><td>1192</td><td> 1</td><td>P071401025</td><td> 1</td><td>2400</td></tr>\n",
       "\t<tr><td>CS031415000172</td><td>宇多田 貴美子</td><td>1</td><td>女性</td><td>1976-10-04</td><td>42</td><td>151-0053</td><td>東京都渋谷区代々木**********  </td><td>S13031</td><td>20150529</td><td>D-20100325-C</td><td>20170111</td><td>1484092800</td><td>S13031</td><td>1132</td><td> 2</td><td>P071203007</td><td> 1</td><td> 448</td></tr>\n",
       "</tbody>\n",
       "</table>\n"
      ],
      "text/latex": [
       "A grouped\\_df: 6 × 19\n",
       "\\begin{tabular}{lllllllllllllllllll}\n",
       " customer\\_id & customer\\_name & gender\\_cd & gender & birth\\_day & age & postal\\_cd & address & application\\_store\\_cd & application\\_date & status\\_cd & sales\\_ymd & sales\\_epoch & store\\_cd & receipt\\_no & receipt\\_sub\\_no & product\\_cd & quantity & amount\\\\\n",
       " <chr> & <chr> & <chr> & <chr> & <date> & <int> & <chr> & <chr> & <chr> & <chr> & <chr> & <int> & <int> & <chr> & <int> & <int> & <chr> & <int> & <int>\\\\\n",
       "\\hline\n",
       "\t CS021313000114 & 大野 あや子   & 1 & 女性 & 1981-04-29 & 37 & 259-1113 & 神奈川県伊勢原市粟窪********** & S14021 & 20150905 & 0-00000000-0 &       NA &         NA & NA     &   NA & NA & NA         & NA &   NA\\\\\n",
       "\t CS037613000071 & 六角 雅彦     & 9 & 不明 & 1952-04-01 & 66 & 136-0076 & 東京都江東区南砂**********     & S13037 & 20150414 & 0-00000000-0 &       NA &         NA & NA     &   NA & NA & NA         & NA &   NA\\\\\n",
       "\t CS031415000172 & 宇多田 貴美子 & 1 & 女性 & 1976-10-04 & 42 & 151-0053 & 東京都渋谷区代々木**********   & S13031 & 20150529 & D-20100325-C & 20170507 & 1494115200 & S13031 & 1102 &  1 & P060103001 &  1 &  100\\\\\n",
       "\t CS031415000172 & 宇多田 貴美子 & 1 & 女性 & 1976-10-04 & 42 & 151-0053 & 東京都渋谷区代々木**********   & S13031 & 20150529 & D-20100325-C & 20171026 & 1508976000 & S13031 & 1182 &  1 & P090203004 &  1 &  320\\\\\n",
       "\t CS031415000172 & 宇多田 貴美子 & 1 & 女性 & 1976-10-04 & 42 & 151-0053 & 東京都渋谷区代々木**********   & S13031 & 20150529 & D-20100325-C & 20190325 & 1553472000 & S13031 & 1192 &  1 & P071401025 &  1 & 2400\\\\\n",
       "\t CS031415000172 & 宇多田 貴美子 & 1 & 女性 & 1976-10-04 & 42 & 151-0053 & 東京都渋谷区代々木**********   & S13031 & 20150529 & D-20100325-C & 20170111 & 1484092800 & S13031 & 1132 &  2 & P071203007 &  1 &  448\\\\\n",
       "\\end{tabular}\n"
      ],
      "text/markdown": [
       "\n",
       "A grouped_df: 6 × 19\n",
       "\n",
       "| customer_id &lt;chr&gt; | customer_name &lt;chr&gt; | gender_cd &lt;chr&gt; | gender &lt;chr&gt; | birth_day &lt;date&gt; | age &lt;int&gt; | postal_cd &lt;chr&gt; | address &lt;chr&gt; | application_store_cd &lt;chr&gt; | application_date &lt;chr&gt; | status_cd &lt;chr&gt; | sales_ymd &lt;int&gt; | sales_epoch &lt;int&gt; | store_cd &lt;chr&gt; | receipt_no &lt;int&gt; | receipt_sub_no &lt;int&gt; | product_cd &lt;chr&gt; | quantity &lt;int&gt; | amount &lt;int&gt; |\n",
       "|---|---|---|---|---|---|---|---|---|---|---|---|---|---|---|---|---|---|---|\n",
       "| CS021313000114 | 大野 あや子   | 1 | 女性 | 1981-04-29 | 37 | 259-1113 | 神奈川県伊勢原市粟窪********** | S14021 | 20150905 | 0-00000000-0 |       NA |         NA | NA     |   NA | NA | NA         | NA |   NA |\n",
       "| CS037613000071 | 六角 雅彦     | 9 | 不明 | 1952-04-01 | 66 | 136-0076 | 東京都江東区南砂**********     | S13037 | 20150414 | 0-00000000-0 |       NA |         NA | NA     |   NA | NA | NA         | NA |   NA |\n",
       "| CS031415000172 | 宇多田 貴美子 | 1 | 女性 | 1976-10-04 | 42 | 151-0053 | 東京都渋谷区代々木**********   | S13031 | 20150529 | D-20100325-C | 20170507 | 1494115200 | S13031 | 1102 |  1 | P060103001 |  1 |  100 |\n",
       "| CS031415000172 | 宇多田 貴美子 | 1 | 女性 | 1976-10-04 | 42 | 151-0053 | 東京都渋谷区代々木**********   | S13031 | 20150529 | D-20100325-C | 20171026 | 1508976000 | S13031 | 1182 |  1 | P090203004 |  1 |  320 |\n",
       "| CS031415000172 | 宇多田 貴美子 | 1 | 女性 | 1976-10-04 | 42 | 151-0053 | 東京都渋谷区代々木**********   | S13031 | 20150529 | D-20100325-C | 20190325 | 1553472000 | S13031 | 1192 |  1 | P071401025 |  1 | 2400 |\n",
       "| CS031415000172 | 宇多田 貴美子 | 1 | 女性 | 1976-10-04 | 42 | 151-0053 | 東京都渋谷区代々木**********   | S13031 | 20150529 | D-20100325-C | 20170111 | 1484092800 | S13031 | 1132 |  2 | P071203007 |  1 |  448 |\n",
       "\n"
      ],
      "text/plain": [
       "  customer_id    customer_name gender_cd gender birth_day  age postal_cd\n",
       "1 CS021313000114 大野 あや子   1         女性   1981-04-29 37  259-1113 \n",
       "2 CS037613000071 六角 雅彦     9         不明   1952-04-01 66  136-0076 \n",
       "3 CS031415000172 宇多田 貴美子 1         女性   1976-10-04 42  151-0053 \n",
       "4 CS031415000172 宇多田 貴美子 1         女性   1976-10-04 42  151-0053 \n",
       "5 CS031415000172 宇多田 貴美子 1         女性   1976-10-04 42  151-0053 \n",
       "6 CS031415000172 宇多田 貴美子 1         女性   1976-10-04 42  151-0053 \n",
       "  address                        application_store_cd application_date\n",
       "1 神奈川県伊勢原市粟窪********** S14021               20150905        \n",
       "2 東京都江東区南砂**********     S13037               20150414        \n",
       "3 東京都渋谷区代々木**********   S13031               20150529        \n",
       "4 東京都渋谷区代々木**********   S13031               20150529        \n",
       "5 東京都渋谷区代々木**********   S13031               20150529        \n",
       "6 東京都渋谷区代々木**********   S13031               20150529        \n",
       "  status_cd    sales_ymd sales_epoch store_cd receipt_no receipt_sub_no\n",
       "1 0-00000000-0       NA          NA  NA         NA       NA            \n",
       "2 0-00000000-0       NA          NA  NA         NA       NA            \n",
       "3 D-20100325-C 20170507  1494115200  S13031   1102        1            \n",
       "4 D-20100325-C 20171026  1508976000  S13031   1182        1            \n",
       "5 D-20100325-C 20190325  1553472000  S13031   1192        1            \n",
       "6 D-20100325-C 20170111  1484092800  S13031   1132        2            \n",
       "  product_cd quantity amount\n",
       "1 NA         NA         NA  \n",
       "2 NA         NA         NA  \n",
       "3 P060103001  1        100  \n",
       "4 P090203004  1        320  \n",
       "5 P071401025  1       2400  \n",
       "6 P071203007  1        448  "
      ]
     },
     "metadata": {},
     "output_type": "display_data"
    }
   ],
   "source": [
    "left_join(df_customer, df_receipt, by = \"customer_id\") %>% group_by(customer_id) %>% head()"
   ]
  },
  {
   "cell_type": "markdown",
   "metadata": {},
   "source": [
    "---\n",
    "> R-084: 顧客データ（df_customer）の全顧客に対して全期間の売上金額に占める2019年売上金額の割合を計算し、新たなデータを作成せよ。ただし、売上実績がない場合は0として扱うこと。そして計算した割合が0超のものを抽出し、結果を10件表示せよ。また、作成したデータに欠損が存在しないことを確認せよ。"
   ]
  },
  {
   "cell_type": "code",
   "execution_count": 194,
   "metadata": {},
   "outputs": [
    {
     "name": "stdout",
     "output_type": "stream",
     "text": [
      "\u001b[90m# A\n",
      "#   tibble:\n",
      "#   21,971\n",
      "#   ×\n",
      "#   2\u001b[39m\n",
      "\u001b[90m# ℹ 21,961 more rows\u001b[39m\n",
      "\u001b[90m# ℹ 2 more variables: customer_id <chr>, prop_2019 <dbl>\u001b[39m\n"
     ]
    },
    {
     "data": {
      "text/html": [
       "<table class=\"dataframe\">\n",
       "<caption>A tibble: 10 × 2</caption>\n",
       "<thead>\n",
       "\t<tr><th scope=col>customer_id</th><th scope=col>prop_2019</th></tr>\n",
       "\t<tr><th scope=col>&lt;chr&gt;</th><th scope=col>&lt;dbl&gt;</th></tr>\n",
       "</thead>\n",
       "<tbody>\n",
       "\t<tr><td>CS001113000004</td><td>1.0000000</td></tr>\n",
       "\t<tr><td>CS001114000005</td><td>0.3003195</td></tr>\n",
       "\t<tr><td>CS001115000010</td><td>0.1898817</td></tr>\n",
       "\t<tr><td>CS001205000004</td><td>0.3531187</td></tr>\n",
       "\t<tr><td>CS001205000006</td><td>0.1456398</td></tr>\n",
       "\t<tr><td>CS001211000025</td><td>1.0000000</td></tr>\n",
       "\t<tr><td>CS001212000070</td><td>1.0000000</td></tr>\n",
       "\t<tr><td>CS001214000009</td><td>0.1417289</td></tr>\n",
       "\t<tr><td>CS001214000017</td><td>0.7168441</td></tr>\n",
       "\t<tr><td>CS001214000048</td><td>0.7957035</td></tr>\n",
       "</tbody>\n",
       "</table>\n"
      ],
      "text/latex": [
       "A tibble: 10 × 2\n",
       "\\begin{tabular}{ll}\n",
       " customer\\_id & prop\\_2019\\\\\n",
       " <chr> & <dbl>\\\\\n",
       "\\hline\n",
       "\t CS001113000004 & 1.0000000\\\\\n",
       "\t CS001114000005 & 0.3003195\\\\\n",
       "\t CS001115000010 & 0.1898817\\\\\n",
       "\t CS001205000004 & 0.3531187\\\\\n",
       "\t CS001205000006 & 0.1456398\\\\\n",
       "\t CS001211000025 & 1.0000000\\\\\n",
       "\t CS001212000070 & 1.0000000\\\\\n",
       "\t CS001214000009 & 0.1417289\\\\\n",
       "\t CS001214000017 & 0.7168441\\\\\n",
       "\t CS001214000048 & 0.7957035\\\\\n",
       "\\end{tabular}\n"
      ],
      "text/markdown": [
       "\n",
       "A tibble: 10 × 2\n",
       "\n",
       "| customer_id &lt;chr&gt; | prop_2019 &lt;dbl&gt; |\n",
       "|---|---|\n",
       "| CS001113000004 | 1.0000000 |\n",
       "| CS001114000005 | 0.3003195 |\n",
       "| CS001115000010 | 0.1898817 |\n",
       "| CS001205000004 | 0.3531187 |\n",
       "| CS001205000006 | 0.1456398 |\n",
       "| CS001211000025 | 1.0000000 |\n",
       "| CS001212000070 | 1.0000000 |\n",
       "| CS001214000009 | 0.1417289 |\n",
       "| CS001214000017 | 0.7168441 |\n",
       "| CS001214000048 | 0.7957035 |\n",
       "\n"
      ],
      "text/plain": [
       "   customer_id    prop_2019\n",
       "1  CS001113000004 1.0000000\n",
       "2  CS001114000005 0.3003195\n",
       "3  CS001115000010 0.1898817\n",
       "4  CS001205000004 0.3531187\n",
       "5  CS001205000006 0.1456398\n",
       "6  CS001211000025 1.0000000\n",
       "7  CS001212000070 1.0000000\n",
       "8  CS001214000009 0.1417289\n",
       "9  CS001214000017 0.7168441\n",
       "10 CS001214000048 0.7957035"
      ]
     },
     "metadata": {},
     "output_type": "display_data"
    },
    {
     "data": {
      "text/html": [
       "<table class=\"dataframe\">\n",
       "<caption>A data.frame: 1 × 1</caption>\n",
       "<thead>\n",
       "\t<tr><th scope=col>n</th></tr>\n",
       "\t<tr><th scope=col>&lt;int&gt;</th></tr>\n",
       "</thead>\n",
       "<tbody>\n",
       "\t<tr><td>21971</td></tr>\n",
       "</tbody>\n",
       "</table>\n"
      ],
      "text/latex": [
       "A data.frame: 1 × 1\n",
       "\\begin{tabular}{l}\n",
       " n\\\\\n",
       " <int>\\\\\n",
       "\\hline\n",
       "\t 21971\\\\\n",
       "\\end{tabular}\n"
      ],
      "text/markdown": [
       "\n",
       "A data.frame: 1 × 1\n",
       "\n",
       "| n &lt;int&gt; |\n",
       "|---|\n",
       "| 21971 |\n",
       "\n"
      ],
      "text/plain": [
       "  n    \n",
       "1 21971"
      ]
     },
     "metadata": {},
     "output_type": "display_data"
    }
   ],
   "source": [
    "left_join(df_customer, df_receipt, by = \"customer_id\") %>%\n",
    "    group_by(customer_id) %>%\n",
    "    mutate(amount_2019 = ifelse(str_detect(sales_ymd, \"^2019\"), amount, 0)) %>%\n",
    "    summarise(prop_2019 = sum(amount_2019) / sum(amount)) %>%\n",
    "    replace_na(replace = list(prop_2019 = 0)) %>%\n",
    "    print(length(.)) %>%\n",
    "    filter(prop_2019 > 0) %>%\n",
    "    head(10)\n",
    "\n",
    "df_customer %>% count()"
   ]
  },
  {
   "cell_type": "markdown",
   "metadata": {},
   "source": [
    "---\n",
    "> R-085: 顧客データ（df_customer）の全顧客に対し、郵便番号（postal_cd）を用いてジオコードデータ（df_geocode）を紐付け、新たな顧客データを作成せよ。ただし、1つの郵便番号（postal_cd）に複数の経度（longitude）、緯度（latitude）情報が紐づく場合は、経度（longitude）、緯度（latitude）の平均値を算出して使用すること。また、作成結果を確認するために結果を10件表示せよ。"
   ]
  },
  {
   "cell_type": "code",
   "execution_count": 202,
   "metadata": {},
   "outputs": [
    {
     "data": {
      "text/html": [
       "<table class=\"dataframe\">\n",
       "<caption>A data.frame: 10 × 13</caption>\n",
       "<thead>\n",
       "\t<tr><th></th><th scope=col>customer_id</th><th scope=col>customer_name</th><th scope=col>gender_cd</th><th scope=col>gender</th><th scope=col>birth_day</th><th scope=col>age</th><th scope=col>postal_cd</th><th scope=col>address</th><th scope=col>application_store_cd</th><th scope=col>application_date</th><th scope=col>status_cd</th><th scope=col>longitude</th><th scope=col>latitude</th></tr>\n",
       "\t<tr><th></th><th scope=col>&lt;chr&gt;</th><th scope=col>&lt;chr&gt;</th><th scope=col>&lt;chr&gt;</th><th scope=col>&lt;chr&gt;</th><th scope=col>&lt;date&gt;</th><th scope=col>&lt;int&gt;</th><th scope=col>&lt;chr&gt;</th><th scope=col>&lt;chr&gt;</th><th scope=col>&lt;chr&gt;</th><th scope=col>&lt;chr&gt;</th><th scope=col>&lt;chr&gt;</th><th scope=col>&lt;dbl&gt;</th><th scope=col>&lt;dbl&gt;</th></tr>\n",
       "</thead>\n",
       "<tbody>\n",
       "\t<tr><th scope=row>1</th><td>CS021313000114</td><td>大野 あや子  </td><td>1</td><td>女性</td><td>1981-04-29</td><td>37</td><td>259-1113</td><td>神奈川県伊勢原市粟窪**********    </td><td>S14021</td><td>20150905</td><td>0-00000000-0</td><td>139.3178</td><td>35.41358</td></tr>\n",
       "\t<tr><th scope=row>2</th><td>CS037613000071</td><td>六角 雅彦    </td><td>9</td><td>不明</td><td>1952-04-01</td><td>66</td><td>136-0076</td><td>東京都江東区南砂**********        </td><td>S13037</td><td>20150414</td><td>0-00000000-0</td><td>139.8350</td><td>35.67193</td></tr>\n",
       "\t<tr><th scope=row>3</th><td>CS031415000172</td><td>宇多田 貴美子</td><td>1</td><td>女性</td><td>1976-10-04</td><td>42</td><td>151-0053</td><td>東京都渋谷区代々木**********      </td><td>S13031</td><td>20150529</td><td>D-20100325-C</td><td>139.6897</td><td>35.67374</td></tr>\n",
       "\t<tr><th scope=row>4</th><td>CS028811000001</td><td>堀井 かおり  </td><td>1</td><td>女性</td><td>1933-03-27</td><td>86</td><td>245-0016</td><td>神奈川県横浜市泉区和泉町**********</td><td>S14028</td><td>20160115</td><td>0-00000000-0</td><td>139.4836</td><td>35.39125</td></tr>\n",
       "\t<tr><th scope=row>5</th><td>CS001215000145</td><td>田崎 美紀    </td><td>1</td><td>女性</td><td>1995-03-29</td><td>24</td><td>144-0055</td><td>東京都大田区仲六郷**********      </td><td>S13001</td><td>20170605</td><td>6-20090929-2</td><td>139.7078</td><td>35.54084</td></tr>\n",
       "\t<tr><th scope=row>6</th><td>CS020401000016</td><td>宮下 達士    </td><td>0</td><td>男性</td><td>1974-09-15</td><td>44</td><td>174-0065</td><td>東京都板橋区若木**********        </td><td>S13020</td><td>20150225</td><td>0-00000000-0</td><td>139.6724</td><td>35.77073</td></tr>\n",
       "\t<tr><th scope=row>7</th><td>CS015414000103</td><td>奥野 陽子    </td><td>1</td><td>女性</td><td>1977-08-09</td><td>41</td><td>136-0073</td><td>東京都江東区北砂**********        </td><td>S13015</td><td>20150722</td><td>B-20100609-B</td><td>139.8360</td><td>35.67818</td></tr>\n",
       "\t<tr><th scope=row>8</th><td>CS029403000008</td><td>釈 人志      </td><td>0</td><td>男性</td><td>1973-08-17</td><td>45</td><td>279-0003</td><td>千葉県浦安市海楽**********        </td><td>S12029</td><td>20150515</td><td>0-00000000-0</td><td>139.9047</td><td>35.65422</td></tr>\n",
       "\t<tr><th scope=row>9</th><td>CS015804000004</td><td>松谷 米蔵    </td><td>0</td><td>男性</td><td>1931-05-02</td><td>87</td><td>136-0073</td><td>東京都江東区北砂**********        </td><td>S13015</td><td>20150607</td><td>0-00000000-0</td><td>139.8360</td><td>35.67818</td></tr>\n",
       "\t<tr><th scope=row>10</th><td>CS033513000180</td><td>安斎 遥      </td><td>1</td><td>女性</td><td>1962-07-11</td><td>56</td><td>241-0823</td><td>神奈川県横浜市旭区善部町**********</td><td>S14033</td><td>20150728</td><td>6-20080506-5</td><td>139.5146</td><td>35.45013</td></tr>\n",
       "</tbody>\n",
       "</table>\n"
      ],
      "text/latex": [
       "A data.frame: 10 × 13\n",
       "\\begin{tabular}{r|lllllllllllll}\n",
       "  & customer\\_id & customer\\_name & gender\\_cd & gender & birth\\_day & age & postal\\_cd & address & application\\_store\\_cd & application\\_date & status\\_cd & longitude & latitude\\\\\n",
       "  & <chr> & <chr> & <chr> & <chr> & <date> & <int> & <chr> & <chr> & <chr> & <chr> & <chr> & <dbl> & <dbl>\\\\\n",
       "\\hline\n",
       "\t1 & CS021313000114 & 大野 あや子   & 1 & 女性 & 1981-04-29 & 37 & 259-1113 & 神奈川県伊勢原市粟窪**********     & S14021 & 20150905 & 0-00000000-0 & 139.3178 & 35.41358\\\\\n",
       "\t2 & CS037613000071 & 六角 雅彦     & 9 & 不明 & 1952-04-01 & 66 & 136-0076 & 東京都江東区南砂**********         & S13037 & 20150414 & 0-00000000-0 & 139.8350 & 35.67193\\\\\n",
       "\t3 & CS031415000172 & 宇多田 貴美子 & 1 & 女性 & 1976-10-04 & 42 & 151-0053 & 東京都渋谷区代々木**********       & S13031 & 20150529 & D-20100325-C & 139.6897 & 35.67374\\\\\n",
       "\t4 & CS028811000001 & 堀井 かおり   & 1 & 女性 & 1933-03-27 & 86 & 245-0016 & 神奈川県横浜市泉区和泉町********** & S14028 & 20160115 & 0-00000000-0 & 139.4836 & 35.39125\\\\\n",
       "\t5 & CS001215000145 & 田崎 美紀     & 1 & 女性 & 1995-03-29 & 24 & 144-0055 & 東京都大田区仲六郷**********       & S13001 & 20170605 & 6-20090929-2 & 139.7078 & 35.54084\\\\\n",
       "\t6 & CS020401000016 & 宮下 達士     & 0 & 男性 & 1974-09-15 & 44 & 174-0065 & 東京都板橋区若木**********         & S13020 & 20150225 & 0-00000000-0 & 139.6724 & 35.77073\\\\\n",
       "\t7 & CS015414000103 & 奥野 陽子     & 1 & 女性 & 1977-08-09 & 41 & 136-0073 & 東京都江東区北砂**********         & S13015 & 20150722 & B-20100609-B & 139.8360 & 35.67818\\\\\n",
       "\t8 & CS029403000008 & 釈 人志       & 0 & 男性 & 1973-08-17 & 45 & 279-0003 & 千葉県浦安市海楽**********         & S12029 & 20150515 & 0-00000000-0 & 139.9047 & 35.65422\\\\\n",
       "\t9 & CS015804000004 & 松谷 米蔵     & 0 & 男性 & 1931-05-02 & 87 & 136-0073 & 東京都江東区北砂**********         & S13015 & 20150607 & 0-00000000-0 & 139.8360 & 35.67818\\\\\n",
       "\t10 & CS033513000180 & 安斎 遥       & 1 & 女性 & 1962-07-11 & 56 & 241-0823 & 神奈川県横浜市旭区善部町********** & S14033 & 20150728 & 6-20080506-5 & 139.5146 & 35.45013\\\\\n",
       "\\end{tabular}\n"
      ],
      "text/markdown": [
       "\n",
       "A data.frame: 10 × 13\n",
       "\n",
       "| <!--/--> | customer_id &lt;chr&gt; | customer_name &lt;chr&gt; | gender_cd &lt;chr&gt; | gender &lt;chr&gt; | birth_day &lt;date&gt; | age &lt;int&gt; | postal_cd &lt;chr&gt; | address &lt;chr&gt; | application_store_cd &lt;chr&gt; | application_date &lt;chr&gt; | status_cd &lt;chr&gt; | longitude &lt;dbl&gt; | latitude &lt;dbl&gt; |\n",
       "|---|---|---|---|---|---|---|---|---|---|---|---|---|---|\n",
       "| 1 | CS021313000114 | 大野 あや子   | 1 | 女性 | 1981-04-29 | 37 | 259-1113 | 神奈川県伊勢原市粟窪**********     | S14021 | 20150905 | 0-00000000-0 | 139.3178 | 35.41358 |\n",
       "| 2 | CS037613000071 | 六角 雅彦     | 9 | 不明 | 1952-04-01 | 66 | 136-0076 | 東京都江東区南砂**********         | S13037 | 20150414 | 0-00000000-0 | 139.8350 | 35.67193 |\n",
       "| 3 | CS031415000172 | 宇多田 貴美子 | 1 | 女性 | 1976-10-04 | 42 | 151-0053 | 東京都渋谷区代々木**********       | S13031 | 20150529 | D-20100325-C | 139.6897 | 35.67374 |\n",
       "| 4 | CS028811000001 | 堀井 かおり   | 1 | 女性 | 1933-03-27 | 86 | 245-0016 | 神奈川県横浜市泉区和泉町********** | S14028 | 20160115 | 0-00000000-0 | 139.4836 | 35.39125 |\n",
       "| 5 | CS001215000145 | 田崎 美紀     | 1 | 女性 | 1995-03-29 | 24 | 144-0055 | 東京都大田区仲六郷**********       | S13001 | 20170605 | 6-20090929-2 | 139.7078 | 35.54084 |\n",
       "| 6 | CS020401000016 | 宮下 達士     | 0 | 男性 | 1974-09-15 | 44 | 174-0065 | 東京都板橋区若木**********         | S13020 | 20150225 | 0-00000000-0 | 139.6724 | 35.77073 |\n",
       "| 7 | CS015414000103 | 奥野 陽子     | 1 | 女性 | 1977-08-09 | 41 | 136-0073 | 東京都江東区北砂**********         | S13015 | 20150722 | B-20100609-B | 139.8360 | 35.67818 |\n",
       "| 8 | CS029403000008 | 釈 人志       | 0 | 男性 | 1973-08-17 | 45 | 279-0003 | 千葉県浦安市海楽**********         | S12029 | 20150515 | 0-00000000-0 | 139.9047 | 35.65422 |\n",
       "| 9 | CS015804000004 | 松谷 米蔵     | 0 | 男性 | 1931-05-02 | 87 | 136-0073 | 東京都江東区北砂**********         | S13015 | 20150607 | 0-00000000-0 | 139.8360 | 35.67818 |\n",
       "| 10 | CS033513000180 | 安斎 遥       | 1 | 女性 | 1962-07-11 | 56 | 241-0823 | 神奈川県横浜市旭区善部町********** | S14033 | 20150728 | 6-20080506-5 | 139.5146 | 35.45013 |\n",
       "\n"
      ],
      "text/plain": [
       "   customer_id    customer_name gender_cd gender birth_day  age postal_cd\n",
       "1  CS021313000114 大野 あや子   1         女性   1981-04-29 37  259-1113 \n",
       "2  CS037613000071 六角 雅彦     9         不明   1952-04-01 66  136-0076 \n",
       "3  CS031415000172 宇多田 貴美子 1         女性   1976-10-04 42  151-0053 \n",
       "4  CS028811000001 堀井 かおり   1         女性   1933-03-27 86  245-0016 \n",
       "5  CS001215000145 田崎 美紀     1         女性   1995-03-29 24  144-0055 \n",
       "6  CS020401000016 宮下 達士     0         男性   1974-09-15 44  174-0065 \n",
       "7  CS015414000103 奥野 陽子     1         女性   1977-08-09 41  136-0073 \n",
       "8  CS029403000008 釈 人志       0         男性   1973-08-17 45  279-0003 \n",
       "9  CS015804000004 松谷 米蔵     0         男性   1931-05-02 87  136-0073 \n",
       "10 CS033513000180 安斎 遥       1         女性   1962-07-11 56  241-0823 \n",
       "   address                            application_store_cd application_date\n",
       "1  神奈川県伊勢原市粟窪**********     S14021               20150905        \n",
       "2  東京都江東区南砂**********         S13037               20150414        \n",
       "3  東京都渋谷区代々木**********       S13031               20150529        \n",
       "4  神奈川県横浜市泉区和泉町********** S14028               20160115        \n",
       "5  東京都大田区仲六郷**********       S13001               20170605        \n",
       "6  東京都板橋区若木**********         S13020               20150225        \n",
       "7  東京都江東区北砂**********         S13015               20150722        \n",
       "8  千葉県浦安市海楽**********         S12029               20150515        \n",
       "9  東京都江東区北砂**********         S13015               20150607        \n",
       "10 神奈川県横浜市旭区善部町********** S14033               20150728        \n",
       "   status_cd    longitude latitude\n",
       "1  0-00000000-0 139.3178  35.41358\n",
       "2  0-00000000-0 139.8350  35.67193\n",
       "3  D-20100325-C 139.6897  35.67374\n",
       "4  0-00000000-0 139.4836  35.39125\n",
       "5  6-20090929-2 139.7078  35.54084\n",
       "6  0-00000000-0 139.6724  35.77073\n",
       "7  B-20100609-B 139.8360  35.67818\n",
       "8  0-00000000-0 139.9047  35.65422\n",
       "9  0-00000000-0 139.8360  35.67818\n",
       "10 6-20080506-5 139.5146  35.45013"
      ]
     },
     "metadata": {},
     "output_type": "display_data"
    }
   ],
   "source": [
    "df_geocode_average <- df_geocode %>% group_by(postal_cd) %>% summarise(longitude = mean(longitude), latitude = mean(latitude))\n",
    "df_r085 <- left_join(df_customer, df_geocode_average, by = \"postal_cd\")\n",
    "df_r085 %>% head(10)"
   ]
  },
  {
   "cell_type": "markdown",
   "metadata": {},
   "source": [
    "---\n",
    "> R-086: 085で作成した緯度経度つき顧客データに対し、会員申込店舗コード（application_store_cd）をキーに店舗データ（df_store）と結合せよ。そして申込み店舗の緯度（latitude）・経度情報（longitude)と顧客住所（address）の緯度・経度を用いて申込み店舗と顧客住所の距離（単位：km）を求め、顧客ID（customer_id）、顧客住所（address）、店舗住所（address）とともに表示せよ。計算式は以下の簡易式で良いものとするが、その他精度の高い方式を利用したライブラリを利用してもかまわない。結果は10件表示せよ。\n",
    "\n",
    "$$\n",
    "\\mbox{緯度（ラジアン）}：\\phi \\\\\n",
    "\\mbox{経度（ラジアン）}：\\lambda \\\\\n",
    "\\mbox{距離}L = 6371 * \\arccos(\\sin \\phi_1 * \\sin \\phi_2\n",
    "+ \\cos \\phi_1 * \\cos \\phi_2 * \\cos(\\lambda_1 − \\lambda_2))\n",
    "$$"
   ]
  },
  {
   "cell_type": "code",
   "execution_count": 234,
   "metadata": {},
   "outputs": [
    {
     "data": {
      "text/html": [
       "<table class=\"dataframe\">\n",
       "<caption>A data.frame: 21971 × 4</caption>\n",
       "<thead>\n",
       "\t<tr><th scope=col>customer_id</th><th scope=col>address.x</th><th scope=col>address.y</th><th scope=col>dist</th></tr>\n",
       "\t<tr><th scope=col>&lt;chr&gt;</th><th scope=col>&lt;chr&gt;</th><th scope=col>&lt;chr&gt;</th><th scope=col>&lt;dbl&gt;</th></tr>\n",
       "</thead>\n",
       "<tbody>\n",
       "\t<tr><td>CS021313000114</td><td>神奈川県伊勢原市粟窪**********            </td><td>神奈川県伊勢原市伊勢原四丁目          </td><td>1.3944087</td></tr>\n",
       "\t<tr><td>CS037613000071</td><td>東京都江東区南砂**********                </td><td>東京都江東区南砂一丁目                </td><td>1.4511822</td></tr>\n",
       "\t<tr><td>CS031415000172</td><td>東京都渋谷区代々木**********              </td><td>東京都渋谷区初台二丁目                </td><td>0.4117335</td></tr>\n",
       "\t<tr><td>CS028811000001</td><td>神奈川県横浜市泉区和泉町**********        </td><td>神奈川県横浜市瀬谷区二ツ橋町          </td><td>8.0651960</td></tr>\n",
       "\t<tr><td>CS001215000145</td><td>東京都大田区仲六郷**********              </td><td>東京都大田区仲六郷二丁目              </td><td>1.2684210</td></tr>\n",
       "\t<tr><td>CS020401000016</td><td>東京都板橋区若木**********                </td><td>東京都北区十条仲原三丁目              </td><td>4.1859046</td></tr>\n",
       "\t<tr><td>CS015414000103</td><td>東京都江東区北砂**********                </td><td>東京都江東区南砂二丁目                </td><td>1.4496734</td></tr>\n",
       "\t<tr><td>CS029403000008</td><td>千葉県浦安市海楽**********                </td><td>千葉県浦安市東野一丁目                </td><td>0.8048581</td></tr>\n",
       "\t<tr><td>CS015804000004</td><td>東京都江東区北砂**********                </td><td>東京都江東区南砂二丁目                </td><td>1.4496734</td></tr>\n",
       "\t<tr><td>CS033513000180</td><td>神奈川県横浜市旭区善部町**********        </td><td>神奈川県横浜市瀬谷区阿久和西一丁目    </td><td>1.9569470</td></tr>\n",
       "\t<tr><td>CS007403000016</td><td>千葉県八千代市上高野**********            </td><td>千葉県佐倉市上志津                    </td><td>1.9208033</td></tr>\n",
       "\t<tr><td>CS035614000014</td><td>東京都世田谷区桜新町**********            </td><td>東京都世田谷区用賀四丁目              </td><td>1.0214681</td></tr>\n",
       "\t<tr><td>CS011215000048</td><td>神奈川県横浜市港北区日吉本町**********    </td><td>神奈川県横浜市港北区日吉本町四丁目    </td><td>0.8182768</td></tr>\n",
       "\t<tr><td>CS009413000079</td><td>東京都世田谷区上野毛**********            </td><td>東京都世田谷区用賀二丁目              </td><td>2.1029565</td></tr>\n",
       "\t<tr><td>CS040412000191</td><td>神奈川県横浜市緑区北八朔町**********      </td><td>神奈川県横浜市緑区長津田みなみ台五丁目</td><td>3.6641234</td></tr>\n",
       "\t<tr><td>CS029415000023</td><td>千葉県浦安市富士見**********              </td><td>千葉県浦安市東野一丁目                </td><td>0.3845907</td></tr>\n",
       "\t<tr><td>CS009315000023</td><td>東京都世田谷区駒沢**********              </td><td>東京都世田谷区用賀二丁目              </td><td>1.7492738</td></tr>\n",
       "\t<tr><td>CS040702000012</td><td>神奈川県横浜市緑区長津田みなみ台**********</td><td>神奈川県横浜市緑区長津田みなみ台五丁目</td><td>0.7599712</td></tr>\n",
       "\t<tr><td>CS046615000013</td><td>神奈川県横浜市都筑区南山田町**********    </td><td>神奈川県横浜市都筑区北山田一丁目      </td><td>1.1278387</td></tr>\n",
       "\t<tr><td>CS025412000147</td><td>神奈川県大和市下和田**********            </td><td>神奈川県大和市下和田                  </td><td>0.5322098</td></tr>\n",
       "\t<tr><td>CS002613000047</td><td>東京都国分寺市本多**********              </td><td>東京都国分寺市本多二丁目              </td><td>0.5415562</td></tr>\n",
       "\t<tr><td>CS035415000029</td><td>東京都世田谷区玉川台**********            </td><td>東京都世田谷区用賀四丁目              </td><td>0.8066052</td></tr>\n",
       "\t<tr><td>CS015315000033</td><td>東京都江東区塩浜**********                </td><td>東京都江東区南砂二丁目                </td><td>1.3339448</td></tr>\n",
       "\t<tr><td>CS023513000066</td><td>神奈川県川崎市川崎区東田町**********      </td><td>神奈川県川崎市川崎区本町二丁目        </td><td>0.8267178</td></tr>\n",
       "\t<tr><td>CS035513000134</td><td>東京都世田谷区桜**********                </td><td>東京都世田谷区用賀四丁目              </td><td>1.2311232</td></tr>\n",
       "\t<tr><td>CS011312000159</td><td>神奈川県川崎市中原区井田中ノ町**********  </td><td>神奈川県横浜市港北区日吉本町四丁目    </td><td>2.3614074</td></tr>\n",
       "\t<tr><td>CS004613000404</td><td>東京都中野区白鷺**********                </td><td>東京都中野区鷺宮三丁目                </td><td>0.9315913</td></tr>\n",
       "\t<tr><td>CS001515000263</td><td>東京都大田区西蒲田**********              </td><td>東京都大田区仲六郷二丁目              </td><td>1.2981227</td></tr>\n",
       "\t<tr><td>CS040314000027</td><td>神奈川県横浜市緑区長津田**********        </td><td>神奈川県横浜市緑区長津田みなみ台五丁目</td><td>0.5585755</td></tr>\n",
       "\t<tr><td>CS028413000087</td><td>神奈川県横浜市瀬谷区相沢**********        </td><td>神奈川県横浜市瀬谷区二ツ橋町          </td><td>1.7718441</td></tr>\n",
       "\t<tr><td>⋮</td><td>⋮</td><td>⋮</td><td>⋮</td></tr>\n",
       "\t<tr><td>CS017214000035</td><td>東京都杉並区高円寺北**********      </td><td>東京都杉並区高円寺南四丁目            </td><td>0.5386016</td></tr>\n",
       "\t<tr><td>CS007415000061</td><td>千葉県八千代市上高野**********      </td><td>千葉県佐倉市上志津                    </td><td>1.9208033</td></tr>\n",
       "\t<tr><td>CS002515000242</td><td>東京都小金井市貫井北町**********    </td><td>東京都国分寺市本多二丁目              </td><td>1.0556219</td></tr>\n",
       "\t<tr><td>CS021615000081</td><td>神奈川県伊勢原市東大竹**********    </td><td>神奈川県伊勢原市伊勢原四丁目          </td><td>1.0916686</td></tr>\n",
       "\t<tr><td>CS013515000188</td><td>千葉県習志野市袖ケ浦**********      </td><td>千葉県習志野市芝園一丁目              </td><td>1.9216538</td></tr>\n",
       "\t<tr><td>CS034412000010</td><td>神奈川県川崎市高津区向ケ丘**********</td><td>神奈川県川崎市宮前区野川              </td><td>1.9407896</td></tr>\n",
       "\t<tr><td>CS005313000401</td><td>東京都杉並区下井草**********        </td><td>東京都中野区白鷺三丁目                </td><td>0.6665321</td></tr>\n",
       "\t<tr><td>CS015414000107</td><td>東京都江東区南砂**********          </td><td>東京都江東区南砂二丁目                </td><td>1.1038946</td></tr>\n",
       "\t<tr><td>CS018313000061</td><td>東京都東久留米市小山**********      </td><td>東京都清瀬市松山一丁目                </td><td>1.0348754</td></tr>\n",
       "\t<tr><td>CS014612000003</td><td>千葉県千葉市稲毛区黒砂**********    </td><td>千葉県千葉市稲毛区千草台一丁目        </td><td>2.3511309</td></tr>\n",
       "\t<tr><td>CS003812000014</td><td>東京都狛江市西野川**********        </td><td>東京都狛江市和泉本町四丁目            </td><td>0.3767336</td></tr>\n",
       "\t<tr><td>CS002513000310</td><td>東京都小平市上水本町**********      </td><td>東京都国分寺市本多二丁目              </td><td>1.2200681</td></tr>\n",
       "\t<tr><td>CS005415000024</td><td>東京都杉並区下井草**********        </td><td>東京都中野区白鷺三丁目                </td><td>0.6665321</td></tr>\n",
       "\t<tr><td>CS037701000008</td><td>東京都江東区大島**********          </td><td>東京都江東区南砂一丁目                </td><td>1.6026667</td></tr>\n",
       "\t<tr><td>CS001413000156</td><td>東京都大田区西六郷**********        </td><td>東京都大田区仲六郷二丁目              </td><td>1.4797890</td></tr>\n",
       "\t<tr><td>CS040314000065</td><td>神奈川県横浜市緑区長津田**********  </td><td>神奈川県横浜市緑区長津田みなみ台五丁目</td><td>0.5585755</td></tr>\n",
       "\t<tr><td>CS016404000007</td><td>東京都小金井市本町**********        </td><td>東京都小金井市本町一丁目              </td><td>0.5643910</td></tr>\n",
       "\t<tr><td>CS003715000199</td><td>東京都狛江市中和泉**********        </td><td>東京都狛江市和泉本町四丁目            </td><td>1.2772651</td></tr>\n",
       "\t<tr><td>CS008513000185</td><td>東京都世田谷区砧**********          </td><td>東京都世田谷区成城三丁目              </td><td>1.9237259</td></tr>\n",
       "\t<tr><td>CS004502000002</td><td>東京都杉並区井草**********          </td><td>東京都中野区鷺宮三丁目                </td><td>2.0918484</td></tr>\n",
       "\t<tr><td>CS012415000309</td><td>神奈川県横浜市中区矢口台**********  </td><td>神奈川県横浜市中区本牧和田            </td><td>0.9382745</td></tr>\n",
       "\t<tr><td>CS040213000013</td><td>東京都町田市つくし野**********      </td><td>神奈川県横浜市緑区長津田みなみ台五丁目</td><td>1.6854767</td></tr>\n",
       "\t<tr><td>CS001315000402</td><td>東京都大田区蒲田**********          </td><td>東京都大田区仲六郷二丁目              </td><td>1.2264722</td></tr>\n",
       "\t<tr><td>CS039313000173</td><td>東京都杉並区天沼**********          </td><td>東京都杉並区南荻窪四丁目              </td><td>0.9255364</td></tr>\n",
       "\t<tr><td>CS042513000030</td><td>神奈川県横浜市中区北方町**********  </td><td>神奈川県横浜市中区新山下二丁目        </td><td>0.8425757</td></tr>\n",
       "\t<tr><td>CS002512000474</td><td>東京都国分寺市光町**********        </td><td>東京都国分寺市本多二丁目              </td><td>3.5303490</td></tr>\n",
       "\t<tr><td>CS029414000065</td><td>千葉県浦安市富士見**********        </td><td>千葉県浦安市東野一丁目                </td><td>0.3845907</td></tr>\n",
       "\t<tr><td>CS012403000043</td><td>神奈川県横浜市中区本牧間門**********</td><td>神奈川県横浜市中区本牧和田            </td><td>0.4775804</td></tr>\n",
       "\t<tr><td>CS033512000184</td><td>神奈川県横浜市泉区和泉町**********  </td><td>神奈川県横浜市瀬谷区阿久和西一丁目    </td><td>7.6379160</td></tr>\n",
       "\t<tr><td>CS009213000022</td><td>東京都世田谷区駒沢**********        </td><td>東京都世田谷区用賀二丁目              </td><td>1.7492738</td></tr>\n",
       "</tbody>\n",
       "</table>\n"
      ],
      "text/latex": [
       "A data.frame: 21971 × 4\n",
       "\\begin{tabular}{llll}\n",
       " customer\\_id & address.x & address.y & dist\\\\\n",
       " <chr> & <chr> & <chr> & <dbl>\\\\\n",
       "\\hline\n",
       "\t CS021313000114 & 神奈川県伊勢原市粟窪**********             & 神奈川県伊勢原市伊勢原四丁目           & 1.3944087\\\\\n",
       "\t CS037613000071 & 東京都江東区南砂**********                 & 東京都江東区南砂一丁目                 & 1.4511822\\\\\n",
       "\t CS031415000172 & 東京都渋谷区代々木**********               & 東京都渋谷区初台二丁目                 & 0.4117335\\\\\n",
       "\t CS028811000001 & 神奈川県横浜市泉区和泉町**********         & 神奈川県横浜市瀬谷区二ツ橋町           & 8.0651960\\\\\n",
       "\t CS001215000145 & 東京都大田区仲六郷**********               & 東京都大田区仲六郷二丁目               & 1.2684210\\\\\n",
       "\t CS020401000016 & 東京都板橋区若木**********                 & 東京都北区十条仲原三丁目               & 4.1859046\\\\\n",
       "\t CS015414000103 & 東京都江東区北砂**********                 & 東京都江東区南砂二丁目                 & 1.4496734\\\\\n",
       "\t CS029403000008 & 千葉県浦安市海楽**********                 & 千葉県浦安市東野一丁目                 & 0.8048581\\\\\n",
       "\t CS015804000004 & 東京都江東区北砂**********                 & 東京都江東区南砂二丁目                 & 1.4496734\\\\\n",
       "\t CS033513000180 & 神奈川県横浜市旭区善部町**********         & 神奈川県横浜市瀬谷区阿久和西一丁目     & 1.9569470\\\\\n",
       "\t CS007403000016 & 千葉県八千代市上高野**********             & 千葉県佐倉市上志津                     & 1.9208033\\\\\n",
       "\t CS035614000014 & 東京都世田谷区桜新町**********             & 東京都世田谷区用賀四丁目               & 1.0214681\\\\\n",
       "\t CS011215000048 & 神奈川県横浜市港北区日吉本町**********     & 神奈川県横浜市港北区日吉本町四丁目     & 0.8182768\\\\\n",
       "\t CS009413000079 & 東京都世田谷区上野毛**********             & 東京都世田谷区用賀二丁目               & 2.1029565\\\\\n",
       "\t CS040412000191 & 神奈川県横浜市緑区北八朔町**********       & 神奈川県横浜市緑区長津田みなみ台五丁目 & 3.6641234\\\\\n",
       "\t CS029415000023 & 千葉県浦安市富士見**********               & 千葉県浦安市東野一丁目                 & 0.3845907\\\\\n",
       "\t CS009315000023 & 東京都世田谷区駒沢**********               & 東京都世田谷区用賀二丁目               & 1.7492738\\\\\n",
       "\t CS040702000012 & 神奈川県横浜市緑区長津田みなみ台********** & 神奈川県横浜市緑区長津田みなみ台五丁目 & 0.7599712\\\\\n",
       "\t CS046615000013 & 神奈川県横浜市都筑区南山田町**********     & 神奈川県横浜市都筑区北山田一丁目       & 1.1278387\\\\\n",
       "\t CS025412000147 & 神奈川県大和市下和田**********             & 神奈川県大和市下和田                   & 0.5322098\\\\\n",
       "\t CS002613000047 & 東京都国分寺市本多**********               & 東京都国分寺市本多二丁目               & 0.5415562\\\\\n",
       "\t CS035415000029 & 東京都世田谷区玉川台**********             & 東京都世田谷区用賀四丁目               & 0.8066052\\\\\n",
       "\t CS015315000033 & 東京都江東区塩浜**********                 & 東京都江東区南砂二丁目                 & 1.3339448\\\\\n",
       "\t CS023513000066 & 神奈川県川崎市川崎区東田町**********       & 神奈川県川崎市川崎区本町二丁目         & 0.8267178\\\\\n",
       "\t CS035513000134 & 東京都世田谷区桜**********                 & 東京都世田谷区用賀四丁目               & 1.2311232\\\\\n",
       "\t CS011312000159 & 神奈川県川崎市中原区井田中ノ町**********   & 神奈川県横浜市港北区日吉本町四丁目     & 2.3614074\\\\\n",
       "\t CS004613000404 & 東京都中野区白鷺**********                 & 東京都中野区鷺宮三丁目                 & 0.9315913\\\\\n",
       "\t CS001515000263 & 東京都大田区西蒲田**********               & 東京都大田区仲六郷二丁目               & 1.2981227\\\\\n",
       "\t CS040314000027 & 神奈川県横浜市緑区長津田**********         & 神奈川県横浜市緑区長津田みなみ台五丁目 & 0.5585755\\\\\n",
       "\t CS028413000087 & 神奈川県横浜市瀬谷区相沢**********         & 神奈川県横浜市瀬谷区二ツ橋町           & 1.7718441\\\\\n",
       "\t ⋮ & ⋮ & ⋮ & ⋮\\\\\n",
       "\t CS017214000035 & 東京都杉並区高円寺北**********       & 東京都杉並区高円寺南四丁目             & 0.5386016\\\\\n",
       "\t CS007415000061 & 千葉県八千代市上高野**********       & 千葉県佐倉市上志津                     & 1.9208033\\\\\n",
       "\t CS002515000242 & 東京都小金井市貫井北町**********     & 東京都国分寺市本多二丁目               & 1.0556219\\\\\n",
       "\t CS021615000081 & 神奈川県伊勢原市東大竹**********     & 神奈川県伊勢原市伊勢原四丁目           & 1.0916686\\\\\n",
       "\t CS013515000188 & 千葉県習志野市袖ケ浦**********       & 千葉県習志野市芝園一丁目               & 1.9216538\\\\\n",
       "\t CS034412000010 & 神奈川県川崎市高津区向ケ丘********** & 神奈川県川崎市宮前区野川               & 1.9407896\\\\\n",
       "\t CS005313000401 & 東京都杉並区下井草**********         & 東京都中野区白鷺三丁目                 & 0.6665321\\\\\n",
       "\t CS015414000107 & 東京都江東区南砂**********           & 東京都江東区南砂二丁目                 & 1.1038946\\\\\n",
       "\t CS018313000061 & 東京都東久留米市小山**********       & 東京都清瀬市松山一丁目                 & 1.0348754\\\\\n",
       "\t CS014612000003 & 千葉県千葉市稲毛区黒砂**********     & 千葉県千葉市稲毛区千草台一丁目         & 2.3511309\\\\\n",
       "\t CS003812000014 & 東京都狛江市西野川**********         & 東京都狛江市和泉本町四丁目             & 0.3767336\\\\\n",
       "\t CS002513000310 & 東京都小平市上水本町**********       & 東京都国分寺市本多二丁目               & 1.2200681\\\\\n",
       "\t CS005415000024 & 東京都杉並区下井草**********         & 東京都中野区白鷺三丁目                 & 0.6665321\\\\\n",
       "\t CS037701000008 & 東京都江東区大島**********           & 東京都江東区南砂一丁目                 & 1.6026667\\\\\n",
       "\t CS001413000156 & 東京都大田区西六郷**********         & 東京都大田区仲六郷二丁目               & 1.4797890\\\\\n",
       "\t CS040314000065 & 神奈川県横浜市緑区長津田**********   & 神奈川県横浜市緑区長津田みなみ台五丁目 & 0.5585755\\\\\n",
       "\t CS016404000007 & 東京都小金井市本町**********         & 東京都小金井市本町一丁目               & 0.5643910\\\\\n",
       "\t CS003715000199 & 東京都狛江市中和泉**********         & 東京都狛江市和泉本町四丁目             & 1.2772651\\\\\n",
       "\t CS008513000185 & 東京都世田谷区砧**********           & 東京都世田谷区成城三丁目               & 1.9237259\\\\\n",
       "\t CS004502000002 & 東京都杉並区井草**********           & 東京都中野区鷺宮三丁目                 & 2.0918484\\\\\n",
       "\t CS012415000309 & 神奈川県横浜市中区矢口台**********   & 神奈川県横浜市中区本牧和田             & 0.9382745\\\\\n",
       "\t CS040213000013 & 東京都町田市つくし野**********       & 神奈川県横浜市緑区長津田みなみ台五丁目 & 1.6854767\\\\\n",
       "\t CS001315000402 & 東京都大田区蒲田**********           & 東京都大田区仲六郷二丁目               & 1.2264722\\\\\n",
       "\t CS039313000173 & 東京都杉並区天沼**********           & 東京都杉並区南荻窪四丁目               & 0.9255364\\\\\n",
       "\t CS042513000030 & 神奈川県横浜市中区北方町**********   & 神奈川県横浜市中区新山下二丁目         & 0.8425757\\\\\n",
       "\t CS002512000474 & 東京都国分寺市光町**********         & 東京都国分寺市本多二丁目               & 3.5303490\\\\\n",
       "\t CS029414000065 & 千葉県浦安市富士見**********         & 千葉県浦安市東野一丁目                 & 0.3845907\\\\\n",
       "\t CS012403000043 & 神奈川県横浜市中区本牧間門********** & 神奈川県横浜市中区本牧和田             & 0.4775804\\\\\n",
       "\t CS033512000184 & 神奈川県横浜市泉区和泉町**********   & 神奈川県横浜市瀬谷区阿久和西一丁目     & 7.6379160\\\\\n",
       "\t CS009213000022 & 東京都世田谷区駒沢**********         & 東京都世田谷区用賀二丁目               & 1.7492738\\\\\n",
       "\\end{tabular}\n"
      ],
      "text/markdown": [
       "\n",
       "A data.frame: 21971 × 4\n",
       "\n",
       "| customer_id &lt;chr&gt; | address.x &lt;chr&gt; | address.y &lt;chr&gt; | dist &lt;dbl&gt; |\n",
       "|---|---|---|---|\n",
       "| CS021313000114 | 神奈川県伊勢原市粟窪**********             | 神奈川県伊勢原市伊勢原四丁目           | 1.3944087 |\n",
       "| CS037613000071 | 東京都江東区南砂**********                 | 東京都江東区南砂一丁目                 | 1.4511822 |\n",
       "| CS031415000172 | 東京都渋谷区代々木**********               | 東京都渋谷区初台二丁目                 | 0.4117335 |\n",
       "| CS028811000001 | 神奈川県横浜市泉区和泉町**********         | 神奈川県横浜市瀬谷区二ツ橋町           | 8.0651960 |\n",
       "| CS001215000145 | 東京都大田区仲六郷**********               | 東京都大田区仲六郷二丁目               | 1.2684210 |\n",
       "| CS020401000016 | 東京都板橋区若木**********                 | 東京都北区十条仲原三丁目               | 4.1859046 |\n",
       "| CS015414000103 | 東京都江東区北砂**********                 | 東京都江東区南砂二丁目                 | 1.4496734 |\n",
       "| CS029403000008 | 千葉県浦安市海楽**********                 | 千葉県浦安市東野一丁目                 | 0.8048581 |\n",
       "| CS015804000004 | 東京都江東区北砂**********                 | 東京都江東区南砂二丁目                 | 1.4496734 |\n",
       "| CS033513000180 | 神奈川県横浜市旭区善部町**********         | 神奈川県横浜市瀬谷区阿久和西一丁目     | 1.9569470 |\n",
       "| CS007403000016 | 千葉県八千代市上高野**********             | 千葉県佐倉市上志津                     | 1.9208033 |\n",
       "| CS035614000014 | 東京都世田谷区桜新町**********             | 東京都世田谷区用賀四丁目               | 1.0214681 |\n",
       "| CS011215000048 | 神奈川県横浜市港北区日吉本町**********     | 神奈川県横浜市港北区日吉本町四丁目     | 0.8182768 |\n",
       "| CS009413000079 | 東京都世田谷区上野毛**********             | 東京都世田谷区用賀二丁目               | 2.1029565 |\n",
       "| CS040412000191 | 神奈川県横浜市緑区北八朔町**********       | 神奈川県横浜市緑区長津田みなみ台五丁目 | 3.6641234 |\n",
       "| CS029415000023 | 千葉県浦安市富士見**********               | 千葉県浦安市東野一丁目                 | 0.3845907 |\n",
       "| CS009315000023 | 東京都世田谷区駒沢**********               | 東京都世田谷区用賀二丁目               | 1.7492738 |\n",
       "| CS040702000012 | 神奈川県横浜市緑区長津田みなみ台********** | 神奈川県横浜市緑区長津田みなみ台五丁目 | 0.7599712 |\n",
       "| CS046615000013 | 神奈川県横浜市都筑区南山田町**********     | 神奈川県横浜市都筑区北山田一丁目       | 1.1278387 |\n",
       "| CS025412000147 | 神奈川県大和市下和田**********             | 神奈川県大和市下和田                   | 0.5322098 |\n",
       "| CS002613000047 | 東京都国分寺市本多**********               | 東京都国分寺市本多二丁目               | 0.5415562 |\n",
       "| CS035415000029 | 東京都世田谷区玉川台**********             | 東京都世田谷区用賀四丁目               | 0.8066052 |\n",
       "| CS015315000033 | 東京都江東区塩浜**********                 | 東京都江東区南砂二丁目                 | 1.3339448 |\n",
       "| CS023513000066 | 神奈川県川崎市川崎区東田町**********       | 神奈川県川崎市川崎区本町二丁目         | 0.8267178 |\n",
       "| CS035513000134 | 東京都世田谷区桜**********                 | 東京都世田谷区用賀四丁目               | 1.2311232 |\n",
       "| CS011312000159 | 神奈川県川崎市中原区井田中ノ町**********   | 神奈川県横浜市港北区日吉本町四丁目     | 2.3614074 |\n",
       "| CS004613000404 | 東京都中野区白鷺**********                 | 東京都中野区鷺宮三丁目                 | 0.9315913 |\n",
       "| CS001515000263 | 東京都大田区西蒲田**********               | 東京都大田区仲六郷二丁目               | 1.2981227 |\n",
       "| CS040314000027 | 神奈川県横浜市緑区長津田**********         | 神奈川県横浜市緑区長津田みなみ台五丁目 | 0.5585755 |\n",
       "| CS028413000087 | 神奈川県横浜市瀬谷区相沢**********         | 神奈川県横浜市瀬谷区二ツ橋町           | 1.7718441 |\n",
       "| ⋮ | ⋮ | ⋮ | ⋮ |\n",
       "| CS017214000035 | 東京都杉並区高円寺北**********       | 東京都杉並区高円寺南四丁目             | 0.5386016 |\n",
       "| CS007415000061 | 千葉県八千代市上高野**********       | 千葉県佐倉市上志津                     | 1.9208033 |\n",
       "| CS002515000242 | 東京都小金井市貫井北町**********     | 東京都国分寺市本多二丁目               | 1.0556219 |\n",
       "| CS021615000081 | 神奈川県伊勢原市東大竹**********     | 神奈川県伊勢原市伊勢原四丁目           | 1.0916686 |\n",
       "| CS013515000188 | 千葉県習志野市袖ケ浦**********       | 千葉県習志野市芝園一丁目               | 1.9216538 |\n",
       "| CS034412000010 | 神奈川県川崎市高津区向ケ丘********** | 神奈川県川崎市宮前区野川               | 1.9407896 |\n",
       "| CS005313000401 | 東京都杉並区下井草**********         | 東京都中野区白鷺三丁目                 | 0.6665321 |\n",
       "| CS015414000107 | 東京都江東区南砂**********           | 東京都江東区南砂二丁目                 | 1.1038946 |\n",
       "| CS018313000061 | 東京都東久留米市小山**********       | 東京都清瀬市松山一丁目                 | 1.0348754 |\n",
       "| CS014612000003 | 千葉県千葉市稲毛区黒砂**********     | 千葉県千葉市稲毛区千草台一丁目         | 2.3511309 |\n",
       "| CS003812000014 | 東京都狛江市西野川**********         | 東京都狛江市和泉本町四丁目             | 0.3767336 |\n",
       "| CS002513000310 | 東京都小平市上水本町**********       | 東京都国分寺市本多二丁目               | 1.2200681 |\n",
       "| CS005415000024 | 東京都杉並区下井草**********         | 東京都中野区白鷺三丁目                 | 0.6665321 |\n",
       "| CS037701000008 | 東京都江東区大島**********           | 東京都江東区南砂一丁目                 | 1.6026667 |\n",
       "| CS001413000156 | 東京都大田区西六郷**********         | 東京都大田区仲六郷二丁目               | 1.4797890 |\n",
       "| CS040314000065 | 神奈川県横浜市緑区長津田**********   | 神奈川県横浜市緑区長津田みなみ台五丁目 | 0.5585755 |\n",
       "| CS016404000007 | 東京都小金井市本町**********         | 東京都小金井市本町一丁目               | 0.5643910 |\n",
       "| CS003715000199 | 東京都狛江市中和泉**********         | 東京都狛江市和泉本町四丁目             | 1.2772651 |\n",
       "| CS008513000185 | 東京都世田谷区砧**********           | 東京都世田谷区成城三丁目               | 1.9237259 |\n",
       "| CS004502000002 | 東京都杉並区井草**********           | 東京都中野区鷺宮三丁目                 | 2.0918484 |\n",
       "| CS012415000309 | 神奈川県横浜市中区矢口台**********   | 神奈川県横浜市中区本牧和田             | 0.9382745 |\n",
       "| CS040213000013 | 東京都町田市つくし野**********       | 神奈川県横浜市緑区長津田みなみ台五丁目 | 1.6854767 |\n",
       "| CS001315000402 | 東京都大田区蒲田**********           | 東京都大田区仲六郷二丁目               | 1.2264722 |\n",
       "| CS039313000173 | 東京都杉並区天沼**********           | 東京都杉並区南荻窪四丁目               | 0.9255364 |\n",
       "| CS042513000030 | 神奈川県横浜市中区北方町**********   | 神奈川県横浜市中区新山下二丁目         | 0.8425757 |\n",
       "| CS002512000474 | 東京都国分寺市光町**********         | 東京都国分寺市本多二丁目               | 3.5303490 |\n",
       "| CS029414000065 | 千葉県浦安市富士見**********         | 千葉県浦安市東野一丁目                 | 0.3845907 |\n",
       "| CS012403000043 | 神奈川県横浜市中区本牧間門********** | 神奈川県横浜市中区本牧和田             | 0.4775804 |\n",
       "| CS033512000184 | 神奈川県横浜市泉区和泉町**********   | 神奈川県横浜市瀬谷区阿久和西一丁目     | 7.6379160 |\n",
       "| CS009213000022 | 東京都世田谷区駒沢**********         | 東京都世田谷区用賀二丁目               | 1.7492738 |\n",
       "\n"
      ],
      "text/plain": [
       "      customer_id    address.x                                 \n",
       "1     CS021313000114 神奈川県伊勢原市粟窪**********            \n",
       "2     CS037613000071 東京都江東区南砂**********                \n",
       "3     CS031415000172 東京都渋谷区代々木**********              \n",
       "4     CS028811000001 神奈川県横浜市泉区和泉町**********        \n",
       "5     CS001215000145 東京都大田区仲六郷**********              \n",
       "6     CS020401000016 東京都板橋区若木**********                \n",
       "7     CS015414000103 東京都江東区北砂**********                \n",
       "8     CS029403000008 千葉県浦安市海楽**********                \n",
       "9     CS015804000004 東京都江東区北砂**********                \n",
       "10    CS033513000180 神奈川県横浜市旭区善部町**********        \n",
       "11    CS007403000016 千葉県八千代市上高野**********            \n",
       "12    CS035614000014 東京都世田谷区桜新町**********            \n",
       "13    CS011215000048 神奈川県横浜市港北区日吉本町**********    \n",
       "14    CS009413000079 東京都世田谷区上野毛**********            \n",
       "15    CS040412000191 神奈川県横浜市緑区北八朔町**********      \n",
       "16    CS029415000023 千葉県浦安市富士見**********              \n",
       "17    CS009315000023 東京都世田谷区駒沢**********              \n",
       "18    CS040702000012 神奈川県横浜市緑区長津田みなみ台**********\n",
       "19    CS046615000013 神奈川県横浜市都筑区南山田町**********    \n",
       "20    CS025412000147 神奈川県大和市下和田**********            \n",
       "21    CS002613000047 東京都国分寺市本多**********              \n",
       "22    CS035415000029 東京都世田谷区玉川台**********            \n",
       "23    CS015315000033 東京都江東区塩浜**********                \n",
       "24    CS023513000066 神奈川県川崎市川崎区東田町**********      \n",
       "25    CS035513000134 東京都世田谷区桜**********                \n",
       "26    CS011312000159 神奈川県川崎市中原区井田中ノ町**********  \n",
       "27    CS004613000404 東京都中野区白鷺**********                \n",
       "28    CS001515000263 東京都大田区西蒲田**********              \n",
       "29    CS040314000027 神奈川県横浜市緑区長津田**********        \n",
       "30    CS028413000087 神奈川県横浜市瀬谷区相沢**********        \n",
       "⋮     ⋮              ⋮                                         \n",
       "21942 CS017214000035 東京都杉並区高円寺北**********            \n",
       "21943 CS007415000061 千葉県八千代市上高野**********            \n",
       "21944 CS002515000242 東京都小金井市貫井北町**********          \n",
       "21945 CS021615000081 神奈川県伊勢原市東大竹**********          \n",
       "21946 CS013515000188 千葉県習志野市袖ケ浦**********            \n",
       "21947 CS034412000010 神奈川県川崎市高津区向ケ丘**********      \n",
       "21948 CS005313000401 東京都杉並区下井草**********              \n",
       "21949 CS015414000107 東京都江東区南砂**********                \n",
       "21950 CS018313000061 東京都東久留米市小山**********            \n",
       "21951 CS014612000003 千葉県千葉市稲毛区黒砂**********          \n",
       "21952 CS003812000014 東京都狛江市西野川**********              \n",
       "21953 CS002513000310 東京都小平市上水本町**********            \n",
       "21954 CS005415000024 東京都杉並区下井草**********              \n",
       "21955 CS037701000008 東京都江東区大島**********                \n",
       "21956 CS001413000156 東京都大田区西六郷**********              \n",
       "21957 CS040314000065 神奈川県横浜市緑区長津田**********        \n",
       "21958 CS016404000007 東京都小金井市本町**********              \n",
       "21959 CS003715000199 東京都狛江市中和泉**********              \n",
       "21960 CS008513000185 東京都世田谷区砧**********                \n",
       "21961 CS004502000002 東京都杉並区井草**********                \n",
       "21962 CS012415000309 神奈川県横浜市中区矢口台**********        \n",
       "21963 CS040213000013 東京都町田市つくし野**********            \n",
       "21964 CS001315000402 東京都大田区蒲田**********                \n",
       "21965 CS039313000173 東京都杉並区天沼**********                \n",
       "21966 CS042513000030 神奈川県横浜市中区北方町**********        \n",
       "21967 CS002512000474 東京都国分寺市光町**********              \n",
       "21968 CS029414000065 千葉県浦安市富士見**********              \n",
       "21969 CS012403000043 神奈川県横浜市中区本牧間門**********      \n",
       "21970 CS033512000184 神奈川県横浜市泉区和泉町**********        \n",
       "21971 CS009213000022 東京都世田谷区駒沢**********              \n",
       "      address.y                              dist     \n",
       "1     神奈川県伊勢原市伊勢原四丁目           1.3944087\n",
       "2     東京都江東区南砂一丁目                 1.4511822\n",
       "3     東京都渋谷区初台二丁目                 0.4117335\n",
       "4     神奈川県横浜市瀬谷区二ツ橋町           8.0651960\n",
       "5     東京都大田区仲六郷二丁目               1.2684210\n",
       "6     東京都北区十条仲原三丁目               4.1859046\n",
       "7     東京都江東区南砂二丁目                 1.4496734\n",
       "8     千葉県浦安市東野一丁目                 0.8048581\n",
       "9     東京都江東区南砂二丁目                 1.4496734\n",
       "10    神奈川県横浜市瀬谷区阿久和西一丁目     1.9569470\n",
       "11    千葉県佐倉市上志津                     1.9208033\n",
       "12    東京都世田谷区用賀四丁目               1.0214681\n",
       "13    神奈川県横浜市港北区日吉本町四丁目     0.8182768\n",
       "14    東京都世田谷区用賀二丁目               2.1029565\n",
       "15    神奈川県横浜市緑区長津田みなみ台五丁目 3.6641234\n",
       "16    千葉県浦安市東野一丁目                 0.3845907\n",
       "17    東京都世田谷区用賀二丁目               1.7492738\n",
       "18    神奈川県横浜市緑区長津田みなみ台五丁目 0.7599712\n",
       "19    神奈川県横浜市都筑区北山田一丁目       1.1278387\n",
       "20    神奈川県大和市下和田                   0.5322098\n",
       "21    東京都国分寺市本多二丁目               0.5415562\n",
       "22    東京都世田谷区用賀四丁目               0.8066052\n",
       "23    東京都江東区南砂二丁目                 1.3339448\n",
       "24    神奈川県川崎市川崎区本町二丁目         0.8267178\n",
       "25    東京都世田谷区用賀四丁目               1.2311232\n",
       "26    神奈川県横浜市港北区日吉本町四丁目     2.3614074\n",
       "27    東京都中野区鷺宮三丁目                 0.9315913\n",
       "28    東京都大田区仲六郷二丁目               1.2981227\n",
       "29    神奈川県横浜市緑区長津田みなみ台五丁目 0.5585755\n",
       "30    神奈川県横浜市瀬谷区二ツ橋町           1.7718441\n",
       "⋮     ⋮                                      ⋮        \n",
       "21942 東京都杉並区高円寺南四丁目             0.5386016\n",
       "21943 千葉県佐倉市上志津                     1.9208033\n",
       "21944 東京都国分寺市本多二丁目               1.0556219\n",
       "21945 神奈川県伊勢原市伊勢原四丁目           1.0916686\n",
       "21946 千葉県習志野市芝園一丁目               1.9216538\n",
       "21947 神奈川県川崎市宮前区野川               1.9407896\n",
       "21948 東京都中野区白鷺三丁目                 0.6665321\n",
       "21949 東京都江東区南砂二丁目                 1.1038946\n",
       "21950 東京都清瀬市松山一丁目                 1.0348754\n",
       "21951 千葉県千葉市稲毛区千草台一丁目         2.3511309\n",
       "21952 東京都狛江市和泉本町四丁目             0.3767336\n",
       "21953 東京都国分寺市本多二丁目               1.2200681\n",
       "21954 東京都中野区白鷺三丁目                 0.6665321\n",
       "21955 東京都江東区南砂一丁目                 1.6026667\n",
       "21956 東京都大田区仲六郷二丁目               1.4797890\n",
       "21957 神奈川県横浜市緑区長津田みなみ台五丁目 0.5585755\n",
       "21958 東京都小金井市本町一丁目               0.5643910\n",
       "21959 東京都狛江市和泉本町四丁目             1.2772651\n",
       "21960 東京都世田谷区成城三丁目               1.9237259\n",
       "21961 東京都中野区鷺宮三丁目                 2.0918484\n",
       "21962 神奈川県横浜市中区本牧和田             0.9382745\n",
       "21963 神奈川県横浜市緑区長津田みなみ台五丁目 1.6854767\n",
       "21964 東京都大田区仲六郷二丁目               1.2264722\n",
       "21965 東京都杉並区南荻窪四丁目               0.9255364\n",
       "21966 神奈川県横浜市中区新山下二丁目         0.8425757\n",
       "21967 東京都国分寺市本多二丁目               3.5303490\n",
       "21968 千葉県浦安市東野一丁目                 0.3845907\n",
       "21969 神奈川県横浜市中区本牧和田             0.4775804\n",
       "21970 神奈川県横浜市瀬谷区阿久和西一丁目     7.6379160\n",
       "21971 東京都世田谷区用賀二丁目               1.7492738"
      ]
     },
     "metadata": {},
     "output_type": "display_data"
    }
   ],
   "source": [
    "distance <- function(phi_1, phi_2, lambda_1, lambda_2) {\n",
    "    a <- 6371 * acos(sin(phi_1*pi/180) * sin(phi_2*pi/180) + cos(phi_1*pi/180) * cos(phi_2*pi/180) * cos(lambda_2*pi/180 - lambda_1*pi/180))\n",
    "    return(a)\n",
    "    }\n",
    "\n",
    "left_join(df_r085, df_store, by = c(\"application_store_cd\" = \"store_cd\")) %>% mutate(dist = distance(latitude.x, latitude.y, longitude.x, longitude.y)) %>% select(customer_id, address.x, address.y, dist)\n",
    "#left_join(df_r085, df_store, by = c(\"application_store_cd\" = \"store_cd\")) %>% select(-customer_name, -gender_cd, -gender, -birth_day)\n",
    "\n"
   ]
  },
  {
   "cell_type": "markdown",
   "metadata": {},
   "source": [
    "---\n",
    "> R-087: 顧客データ（df_customer）では、異なる店舗での申込みなどにより同一顧客が複数登録されている。名前（customer_name）と郵便番号（postal_cd）が同じ顧客は同一顧客とみなして1顧客1レコードとなるように名寄せした名寄顧客データを作成し、顧客データの件数、名寄顧客データの件数、重複数を算出せよ。ただし、同一顧客に対しては売上金額合計が最も高いものを残し、売上金額合計が同一もしくは売上実績がない顧客については顧客ID（customer_id）の番号が小さいものを残すこととする。"
   ]
  },
  {
   "cell_type": "code",
   "execution_count": 291,
   "metadata": {},
   "outputs": [
    {
     "data": {
      "text/html": [
       "21971"
      ],
      "text/latex": [
       "21971"
      ],
      "text/markdown": [
       "21971"
      ],
      "text/plain": [
       "[1] 21971"
      ]
     },
     "metadata": {},
     "output_type": "display_data"
    },
    {
     "name": "stderr",
     "output_type": "stream",
     "text": [
      "Warning message:\n",
      "“\u001b[1m\u001b[22mReturning more (or less) than 1 row per `summarise()` group was deprecated in\n",
      "dplyr 1.1.0.\n",
      "\u001b[36mℹ\u001b[39m Please use `reframe()` instead.\n",
      "\u001b[36mℹ\u001b[39m When switching from `summarise()` to `reframe()`, remember that `reframe()`\n",
      "  always returns an ungrouped data frame and adjust accordingly.”\n",
      "\u001b[1m\u001b[22m`summarise()` has grouped output by 'customer_id'. You can override using the\n",
      "`.groups` argument.\n"
     ]
    },
    {
     "data": {
      "text/html": [
       "21941"
      ],
      "text/latex": [
       "21941"
      ],
      "text/markdown": [
       "21941"
      ],
      "text/plain": [
       "[1] 21941"
      ]
     },
     "metadata": {},
     "output_type": "display_data"
    }
   ],
   "source": [
    "df_customer %>% nrow()\n",
    "df_r087 <- left_join(df_customer, df_receipt, by = \"customer_id\") %>% group_by(customer_id) %>% summarise(sum = sum(amount), customer_name, postal_cd) %>% arrange(desc(sum), customer_id) %>% ungroup() %>% distinct(customer_name, postal_cd, .keep_all=TRUE)\n",
    "df_r087 %>% nrow()"
   ]
  },
  {
   "cell_type": "markdown",
   "metadata": {},
   "source": [
    "---\n",
    "> R-088: 087で作成したデータを元に、顧客データに統合名寄IDを付与したデータを作成せよ。ただし、統合名寄IDは以下の仕様で付与するものとする。\n",
    ">\n",
    "> - 重複していない顧客：顧客ID（customer_id）を設定\n",
    "> - 重複している顧客：前設問で抽出したレコードの顧客IDを設定\n",
    "> \n",
    "> 顧客IDのユニーク件数と、統合名寄IDのユニーク件数の差も確認すること。"
   ]
  },
  {
   "cell_type": "code",
   "execution_count": 307,
   "metadata": {},
   "outputs": [
    {
     "data": {
      "text/html": [
       "<table class=\"dataframe\">\n",
       "<caption>A tibble: 1 × 1</caption>\n",
       "<thead>\n",
       "\t<tr><th scope=col>n</th></tr>\n",
       "\t<tr><th scope=col>&lt;int&gt;</th></tr>\n",
       "</thead>\n",
       "<tbody>\n",
       "\t<tr><td>21941</td></tr>\n",
       "</tbody>\n",
       "</table>\n"
      ],
      "text/latex": [
       "A tibble: 1 × 1\n",
       "\\begin{tabular}{l}\n",
       " n\\\\\n",
       " <int>\\\\\n",
       "\\hline\n",
       "\t 21941\\\\\n",
       "\\end{tabular}\n"
      ],
      "text/markdown": [
       "\n",
       "A tibble: 1 × 1\n",
       "\n",
       "| n &lt;int&gt; |\n",
       "|---|\n",
       "| 21941 |\n",
       "\n"
      ],
      "text/plain": [
       "  n    \n",
       "1 21941"
      ]
     },
     "metadata": {},
     "output_type": "display_data"
    }
   ],
   "source": [
    "left_join(df_r087, df_customer, by = \"customer_id\") %>% count()"
   ]
  },
  {
   "cell_type": "markdown",
   "metadata": {},
   "source": [
    "---\n",
    "> R-089: 売上実績がある顧客を、予測モデル構築のため学習用データとテスト用データに分割したい。それぞれ8:2の割合でランダムにデータを分割せよ。"
   ]
  },
  {
   "cell_type": "code",
   "execution_count": 314,
   "metadata": {},
   "outputs": [
    {
     "data": {
      "text/html": [
       "<table class=\"dataframe\">\n",
       "<caption>A tibble: 1 × 1</caption>\n",
       "<thead>\n",
       "\t<tr><th scope=col>n</th></tr>\n",
       "\t<tr><th scope=col>&lt;int&gt;</th></tr>\n",
       "</thead>\n",
       "<tbody>\n",
       "\t<tr><td>17553</td></tr>\n",
       "</tbody>\n",
       "</table>\n"
      ],
      "text/latex": [
       "A tibble: 1 × 1\n",
       "\\begin{tabular}{l}\n",
       " n\\\\\n",
       " <int>\\\\\n",
       "\\hline\n",
       "\t 17553\\\\\n",
       "\\end{tabular}\n"
      ],
      "text/markdown": [
       "\n",
       "A tibble: 1 × 1\n",
       "\n",
       "| n &lt;int&gt; |\n",
       "|---|\n",
       "| 17553 |\n",
       "\n"
      ],
      "text/plain": [
       "  n    \n",
       "1 17553"
      ]
     },
     "metadata": {},
     "output_type": "display_data"
    },
    {
     "data": {
      "text/html": [
       "<table class=\"dataframe\">\n",
       "<caption>A tibble: 1 × 1</caption>\n",
       "<thead>\n",
       "\t<tr><th scope=col>n</th></tr>\n",
       "\t<tr><th scope=col>&lt;int&gt;</th></tr>\n",
       "</thead>\n",
       "<tbody>\n",
       "\t<tr><td>4388</td></tr>\n",
       "</tbody>\n",
       "</table>\n"
      ],
      "text/latex": [
       "A tibble: 1 × 1\n",
       "\\begin{tabular}{l}\n",
       " n\\\\\n",
       " <int>\\\\\n",
       "\\hline\n",
       "\t 4388\\\\\n",
       "\\end{tabular}\n"
      ],
      "text/markdown": [
       "\n",
       "A tibble: 1 × 1\n",
       "\n",
       "| n &lt;int&gt; |\n",
       "|---|\n",
       "| 4388 |\n",
       "\n"
      ],
      "text/plain": [
       "  n   \n",
       "1 4388"
      ]
     },
     "metadata": {},
     "output_type": "display_data"
    }
   ],
   "source": [
    "train <- df_r087 %>% sample_frac(size = 0.8, replace = FALSE)\n",
    "test <- df_r087 %>% anti_join(train, by = c(\"customer_id\"))\n",
    "\n",
    "train %>% count()\n",
    "test %>% count()"
   ]
  },
  {
   "cell_type": "markdown",
   "metadata": {},
   "source": [
    "---\n",
    "> R-090: レシート明細データ（df_receipt）は2017年1月1日〜2019年10月31日までのデータを有している。売上金額（amount）を月次で集計し、学習用に12ヶ月、テスト用に6ヶ月の時系列モデル構築用データを3セット作成せよ。"
   ]
  },
  {
   "cell_type": "code",
   "execution_count": 320,
   "metadata": {},
   "outputs": [],
   "source": [
    "df_receipt %>% mutate(sales_ym = str_sub(sales_ymd, start = 1, end = 6)) %>% group_by(sales_ym) %>% rolling_origin(initial = 12, assess = 6, skip = 6, cumulative = FALSE)"
   ]
  },
  {
   "cell_type": "markdown",
   "metadata": {},
   "source": [
    "---\n",
    "> R-091: 顧客データ（df_customer）の各顧客に対し、売上実績がある顧客数と売上実績がない顧客数が1:1となるようにアンダーサンプリングで抽出せよ。"
   ]
  },
  {
   "cell_type": "code",
   "execution_count": 318,
   "metadata": {},
   "outputs": [
    {
     "data": {
      "text/html": [
       "'tes'"
      ],
      "text/latex": [
       "'tes'"
      ],
      "text/markdown": [
       "'tes'"
      ],
      "text/plain": [
       "[1] \"tes\""
      ]
     },
     "metadata": {},
     "output_type": "display_data"
    }
   ],
   "source": [
    "str_sub(\"test\", start = 1, end = 3)"
   ]
  },
  {
   "cell_type": "markdown",
   "metadata": {},
   "source": [
    "---\n",
    "> R-092: 顧客データ（df_customer）の性別について、第三正規形へと正規化せよ。"
   ]
  },
  {
   "cell_type": "code",
   "execution_count": null,
   "metadata": {},
   "outputs": [],
   "source": []
  },
  {
   "cell_type": "markdown",
   "metadata": {},
   "source": [
    "---\n",
    "> R-093: 商品データ（df_product）では各カテゴリのコード値だけを保有し、カテゴリ名は保有していない。カテゴリデータ（df_category）と組み合わせて非正規化し、カテゴリ名を保有した新たな商品データを作成せよ。"
   ]
  },
  {
   "cell_type": "code",
   "execution_count": null,
   "metadata": {},
   "outputs": [],
   "source": []
  },
  {
   "cell_type": "markdown",
   "metadata": {},
   "source": [
    "---\n",
    "> R-094: 093で作成したカテゴリ名付き商品データを以下の仕様でファイル出力せよ。\n",
    ">\n",
    "> |ファイル形式|ヘッダ有無|文字エンコーディング|\n",
    "> |:--:|:--:|:--:|\n",
    "> |CSV（カンマ区切り）|有り|UTF-8|\n",
    "> \n",
    "> ファイル出力先のパスは以下のようにすること\n",
    "> \n",
    "> |出力先|\n",
    "> |:--:|\n",
    "> |./data|"
   ]
  },
  {
   "cell_type": "code",
   "execution_count": null,
   "metadata": {},
   "outputs": [],
   "source": []
  },
  {
   "cell_type": "markdown",
   "metadata": {},
   "source": [
    "---\n",
    "> R-095: 093で作成したカテゴリ名付き商品データを以下の仕様でファイル出力せよ。\n",
    ">\n",
    "> |ファイル形式|ヘッダ有無|文字エンコーディング|\n",
    "> |:--:|:--:|:--:|\n",
    "> |CSV（カンマ区切り）|有り|CP932|\n",
    "> \n",
    "> ファイル出力先のパスは以下のようにすること。\n",
    "> \n",
    "> |出力先|\n",
    "> |:--:|\n",
    "> |./data|"
   ]
  },
  {
   "cell_type": "code",
   "execution_count": null,
   "metadata": {},
   "outputs": [],
   "source": []
  },
  {
   "cell_type": "markdown",
   "metadata": {},
   "source": [
    "---\n",
    "> R-096: 093で作成したカテゴリ名付き商品データを以下の仕様でファイル出力せよ。\n",
    ">\n",
    "> |ファイル形式|ヘッダ有無|文字エンコーディング|\n",
    "> |:--:|:--:|:--:|\n",
    "> |CSV（カンマ区切り）|無し|UTF-8|\n",
    "> \n",
    "> ファイル出力先のパスは以下のようにすること\n",
    "> \n",
    "> |出力先|\n",
    "> |:--:|\n",
    "> |./data|"
   ]
  },
  {
   "cell_type": "code",
   "execution_count": null,
   "metadata": {},
   "outputs": [],
   "source": []
  },
  {
   "cell_type": "markdown",
   "metadata": {},
   "source": [
    "---\n",
    "> R-097: 094で作成した以下形式のファイルを読み込み、データを3件を表示させて正しく取り込まれていることを確認せよ。\n",
    "> \n",
    "> |ファイル形式|ヘッダ有無|文字エンコーディング|\n",
    "> |:--:|:--:|:--:|\n",
    "> |CSV（カンマ区切り）|有り|UTF-8|"
   ]
  },
  {
   "cell_type": "code",
   "execution_count": null,
   "metadata": {},
   "outputs": [],
   "source": []
  },
  {
   "cell_type": "markdown",
   "metadata": {},
   "source": [
    "---\n",
    "> R-098: 096で作成した以下形式のファイルを読み込み、データを3件を表示させて正しく取り込まれていることを確認せよ。\n",
    "> \n",
    "> |ファイル形式|ヘッダ有無|文字エンコーディング|\n",
    "> |:--:|:--:|:--:|\n",
    "> |CSV（カンマ区切り）|ヘッダ無し|UTF-8|"
   ]
  },
  {
   "cell_type": "code",
   "execution_count": null,
   "metadata": {},
   "outputs": [],
   "source": []
  },
  {
   "cell_type": "markdown",
   "metadata": {},
   "source": [
    "---\n",
    "> R-099: 093で作成したカテゴリ名付き商品データを以下の仕様でファイル出力せよ。\n",
    ">\n",
    "> |ファイル形式|ヘッダ有無|文字エンコーディング|\n",
    "> |:--:|:--:|:--:|\n",
    "> |TSV（タブ区切り）|有り|UTF-8|\n",
    "> \n",
    "> ファイル出力先のパスは以下のようにすること\n",
    "> \n",
    "> |出力先|\n",
    "> |:--:|\n",
    "> |./data|"
   ]
  },
  {
   "cell_type": "code",
   "execution_count": null,
   "metadata": {},
   "outputs": [],
   "source": []
  },
  {
   "cell_type": "markdown",
   "metadata": {},
   "source": [
    "---\n",
    "> R-100: 099で作成した以下形式のファイルを読み込み、データを3件を表示させて正しく取り込まれていることを確認せよ。\n",
    "> \n",
    "> |ファイル形式|ヘッダ有無|文字エンコーディング|\n",
    "> |:--:|:--:|:--:|\n",
    "> |TSV（タブ区切り）|有り|UTF-8|"
   ]
  },
  {
   "cell_type": "code",
   "execution_count": null,
   "metadata": {},
   "outputs": [],
   "source": []
  },
  {
   "cell_type": "markdown",
   "metadata": {},
   "source": [
    "# これで１００本終わりです。おつかれさまでした！"
   ]
  }
 ],
 "metadata": {
  "kernelspec": {
   "display_name": "R",
   "language": "R",
   "name": "ir"
  },
  "language_info": {
   "codemirror_mode": "r",
   "file_extension": ".r",
   "mimetype": "text/x-r-source",
   "name": "R",
   "pygments_lexer": "r",
   "version": "4.3.1"
  }
 },
 "nbformat": 4,
 "nbformat_minor": 4
}
